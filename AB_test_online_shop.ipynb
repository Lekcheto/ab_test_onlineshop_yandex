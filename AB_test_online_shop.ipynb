{
 "cells": [
  {
   "cell_type": "markdown",
   "metadata": {},
   "source": [
    "<div style=\"background:#e5e5e5; color:#000; padding:10px\">\n",
    "\n",
    "Привет еще раз!\\\n",
    "    Все замечания устранены, отличная работа! Проект принят, ты молодец!\n",
    "    \n",
    "Обрати, пожалуйста, внимание на мой комментарий про  пользователей попавших в обе группы теста.\n",
    "    \n",
    "Желаю тебе успехов во всех будущих начинаниях! 🙂\n",
    "</div> "
   ]
  },
  {
   "cell_type": "markdown",
   "metadata": {},
   "source": [
    "<div style=\"border:solid black 2px; padding: 20px\">\n",
    "Дмитрий, привет!\n",
    "\n",
    "Меня зовут Сергей Кулешин, и я буду делать ревью твоего проекта. Давай будем общаться на «ты». Но если тебе комфортнее на «вы», обязательно сообщи мне об этом. Моя основная цель - не указать тебе на совершенные тобой ошибки, а поделиться своим опытом и помочь тебе стать аналитиком данных.\n",
    "    \n",
    "Свои комментарии я буду выделять следующим образом:\n",
    "<div class=\"alert alert-danger\">\n",
    "    \n",
    "  <b>Комментарий ревьюера</b>\n",
    "    \n",
    "  ❌ Так выделено то, что необходимо исправить, прежде чем я смогу принять твой проект.\n",
    "</div>\n",
    "    \n",
    "    \n",
    "<div class=\"alert alert-warning\">\n",
    "    \n",
    "  <b>Комментарий ревьюера</b>\n",
    "    \n",
    "  ⚠️ Так отмечены не обязательные к доработке моменты. Mожешь учесть их при редактировании проекта. На твое усмотрение.\n",
    "</div>\n",
    "    \n",
    "    \n",
    "<div class=\"alert alert-success\">\n",
    "  \n",
    "  <b>Комментарий ревьюера</b>\n",
    "    \n",
    "  ✔️ А так удачные решения и подходы, на которые стоит опираться в будущих проектах.\n",
    "</div>\n",
    "    \n",
    "    \n",
    "<div style=\"border:solid black 2px; padding: 20px\">\n",
    "  \n",
    "    \n",
    "  <b>Чек-лист доработок</b>\n",
    "    \n",
    "  📃 Такой комментарий будет в конце тетрадки. В нем будут еще раз указаны нюансы, требующие обязательного исправления.\n",
    "</div>\n",
    "\n",
    "Предлагаю работать над проектом в форме диалога: если ты <b>что-то меняешь</b> в работе по моим рекомендациям — <b>напиши об этом</b> в ячейке `Markdown` и помечай комментарий каким-то заметным цветом, например так:\n",
    "    \n",
    "    \n",
    "```\n",
    "<div class=\"alert alert-block alert-info\">\n",
    "  \n",
    "  <b>Комментарий cтудента</b>\n",
    "    \n",
    "  Текст комментария.\n",
    "</div>\n",
    "```\n",
    "    \n",
    "<div class=\"alert alert-block alert-info\">\n",
    "  \n",
    "  <b>Комментарий cтудента</b>\n",
    "    \n",
    "  Текст комментария.\n",
    "</div>\n",
    "    \n",
    "Пожалуйста, <b>не перемещай, не изменяй и не удаляй мои комментарии</b>. Такой формат работы поможет выполнить повторную проверку твоего проекта оперативнее.\n",
    "\n",
    "<div style=\"background:#e5e5e5; color:#000; padding:10px\">\n",
    "    <b>Общее впечатление о проекте</b>\n",
    "    \n",
    "Ты верно провел приоритезацию гипотез и проанализировал результаты A/B-теста. Но в проекте есть моменты, которые требуют твоего внимания и доработки. \n",
    "</div>"
   ]
  },
  {
   "cell_type": "markdown",
   "metadata": {},
   "source": [
    "<h1>Содержание<span class=\"tocSkip\"></span></h1>\n",
    "<div class=\"toc\"><ul class=\"toc-item\"><li><span><a href=\"#Приоритизация-гипотез\" data-toc-modified-id=\"Приоритизация-гипотез-1\"><span class=\"toc-item-num\">1&nbsp;&nbsp;</span>Приоритизация гипотез</a></span></li><li><span><a href=\"#Анализ-A/B-теста\" data-toc-modified-id=\"Анализ-A/B-теста-2\"><span class=\"toc-item-num\">2&nbsp;&nbsp;</span>Анализ A/B-теста</a></span></li><li><span><a href=\"#Общий-вывод\" data-toc-modified-id=\"Общий-вывод-3\"><span class=\"toc-item-num\">3&nbsp;&nbsp;</span>Общий вывод</a></span></li></ul></div>"
   ]
  },
  {
   "cell_type": "markdown",
   "metadata": {},
   "source": [
    "# Проверка гипотез для увеличения выручки интернет-магазина\n",
    "\n",
    "Вы — аналитик крупного интернет-магазина. Вместе с отделом маркетинга вы подготовили список гипотез для увеличения выручки.\n",
    "Приоритизируйте гипотезы, запустите A/B-тест и проанализируйте результаты. В вашем распоряжении датафрейм hypothesis.csv, в котором содержатся 9 гипотез по увеличению выручки интернет-магазина с параметрами Reach, Impact, Confidence, Effort. Примените фреймворки ICE и RICE для приоритизации гипотез. Объясните, как изменилась приоритизация при применении RICE вместо ICE.\n",
    "Также в вашем распоряжении датафреймы orders.csv и visitors.csv, в которых содержится информация о заказах и посетителях приложения в распределении по группам A и B. Проанализируйте графики метрик, выбросы и всплески, посчитайте статистическую значимость различий в метриках и примите решение по результатам проведенного A/B-теста."
   ]
  },
  {
   "cell_type": "markdown",
   "metadata": {},
   "source": [
    "<div class=\"alert alert-warning\">\n",
    "    \n",
    "  <b>Комментарий ревьюера</b>\n",
    "    \n",
    "  ⚠️ Хорошо, что есть описание цели проекта, но можно чуть более подробно. Каждый аналитический проект должен начинаться, например с: названия, краткого описания проекта, целей и задач, описания исходных данных, плана (декомпозиции) анализа данных и др информации.\n",
    "</div>\n",
    "<div class=\"alert alert-block alert-info\">\n",
    "  \n",
    "  <b>Комментарий cтудента</b>\n",
    "    \n",
    "  Привет, дополнил.\n",
    "</div>\n",
    "<div class=\"alert alert-success\">\n",
    "  \n",
    " <b>Комментарий ревьюера v.2</b>\n",
    "    \n",
    "  ✔️ Отлично!\n",
    "\n",
    "</div>"
   ]
  },
  {
   "cell_type": "markdown",
   "metadata": {},
   "source": [
    "### Приоритизация гипотез"
   ]
  },
  {
   "cell_type": "code",
   "execution_count": 1,
   "metadata": {},
   "outputs": [],
   "source": [
    "# 1. Импортируем библиотеки:\n",
    "\n",
    "import pandas as pd\n",
    "import datetime as dt\n",
    "import numpy as np\n",
    "import matplotlib.pyplot as plt\n",
    "import seaborn as sns\n",
    "from scipy import stats as stats\n",
    "from pandas.plotting import register_matplotlib_converters\n",
    "import warnings\n",
    "pd.options.display.max_colwidth = 400"
   ]
  },
  {
   "cell_type": "code",
   "execution_count": 2,
   "metadata": {},
   "outputs": [
    {
     "data": {
      "text/html": [
       "<div>\n",
       "<style scoped>\n",
       "    .dataframe tbody tr th:only-of-type {\n",
       "        vertical-align: middle;\n",
       "    }\n",
       "\n",
       "    .dataframe tbody tr th {\n",
       "        vertical-align: top;\n",
       "    }\n",
       "\n",
       "    .dataframe thead th {\n",
       "        text-align: right;\n",
       "    }\n",
       "</style>\n",
       "<table border=\"1\" class=\"dataframe\">\n",
       "  <thead>\n",
       "    <tr style=\"text-align: right;\">\n",
       "      <th></th>\n",
       "      <th>Hypothesis</th>\n",
       "      <th>Reach</th>\n",
       "      <th>Impact</th>\n",
       "      <th>Confidence</th>\n",
       "      <th>Efforts</th>\n",
       "    </tr>\n",
       "  </thead>\n",
       "  <tbody>\n",
       "    <tr>\n",
       "      <th>0</th>\n",
       "      <td>Добавить два новых канала привлечения трафика, что позволит привлекать на 30% больше пользователей</td>\n",
       "      <td>3</td>\n",
       "      <td>10</td>\n",
       "      <td>8</td>\n",
       "      <td>6</td>\n",
       "    </tr>\n",
       "    <tr>\n",
       "      <th>1</th>\n",
       "      <td>Запустить собственную службу доставки, что сократит срок доставки заказов</td>\n",
       "      <td>2</td>\n",
       "      <td>5</td>\n",
       "      <td>4</td>\n",
       "      <td>10</td>\n",
       "    </tr>\n",
       "    <tr>\n",
       "      <th>2</th>\n",
       "      <td>Добавить блоки рекомендаций товаров на сайт интернет магазина, чтобы повысить конверсию и средний чек заказа</td>\n",
       "      <td>8</td>\n",
       "      <td>3</td>\n",
       "      <td>7</td>\n",
       "      <td>3</td>\n",
       "    </tr>\n",
       "    <tr>\n",
       "      <th>3</th>\n",
       "      <td>Изменить структура категорий, что увеличит конверсию, т.к. пользователи быстрее найдут нужный товар</td>\n",
       "      <td>8</td>\n",
       "      <td>3</td>\n",
       "      <td>3</td>\n",
       "      <td>8</td>\n",
       "    </tr>\n",
       "    <tr>\n",
       "      <th>4</th>\n",
       "      <td>Изменить цвет фона главной страницы, чтобы увеличить вовлеченность пользователей</td>\n",
       "      <td>3</td>\n",
       "      <td>1</td>\n",
       "      <td>1</td>\n",
       "      <td>1</td>\n",
       "    </tr>\n",
       "    <tr>\n",
       "      <th>5</th>\n",
       "      <td>Добавить страницу отзывов клиентов о магазине, что позволит увеличить количество заказов</td>\n",
       "      <td>3</td>\n",
       "      <td>2</td>\n",
       "      <td>2</td>\n",
       "      <td>3</td>\n",
       "    </tr>\n",
       "    <tr>\n",
       "      <th>6</th>\n",
       "      <td>Показать на главной странице баннеры с актуальными акциями и распродажами, чтобы увеличить конверсию</td>\n",
       "      <td>5</td>\n",
       "      <td>3</td>\n",
       "      <td>8</td>\n",
       "      <td>3</td>\n",
       "    </tr>\n",
       "    <tr>\n",
       "      <th>7</th>\n",
       "      <td>Добавить форму подписки на все основные страницы, чтобы собрать базу клиентов для email-рассылок</td>\n",
       "      <td>10</td>\n",
       "      <td>7</td>\n",
       "      <td>8</td>\n",
       "      <td>5</td>\n",
       "    </tr>\n",
       "    <tr>\n",
       "      <th>8</th>\n",
       "      <td>Запустить акцию, дающую скидку на товар в день рождения</td>\n",
       "      <td>1</td>\n",
       "      <td>9</td>\n",
       "      <td>9</td>\n",
       "      <td>5</td>\n",
       "    </tr>\n",
       "  </tbody>\n",
       "</table>\n",
       "</div>"
      ],
      "text/plain": [
       "                                                                                                     Hypothesis  \\\n",
       "0            Добавить два новых канала привлечения трафика, что позволит привлекать на 30% больше пользователей   \n",
       "1                                     Запустить собственную службу доставки, что сократит срок доставки заказов   \n",
       "2  Добавить блоки рекомендаций товаров на сайт интернет магазина, чтобы повысить конверсию и средний чек заказа   \n",
       "3           Изменить структура категорий, что увеличит конверсию, т.к. пользователи быстрее найдут нужный товар   \n",
       "4                              Изменить цвет фона главной страницы, чтобы увеличить вовлеченность пользователей   \n",
       "5                      Добавить страницу отзывов клиентов о магазине, что позволит увеличить количество заказов   \n",
       "6          Показать на главной странице баннеры с актуальными акциями и распродажами, чтобы увеличить конверсию   \n",
       "7              Добавить форму подписки на все основные страницы, чтобы собрать базу клиентов для email-рассылок   \n",
       "8                                                       Запустить акцию, дающую скидку на товар в день рождения   \n",
       "\n",
       "   Reach  Impact  Confidence  Efforts  \n",
       "0      3      10           8        6  \n",
       "1      2       5           4       10  \n",
       "2      8       3           7        3  \n",
       "3      8       3           3        8  \n",
       "4      3       1           1        1  \n",
       "5      3       2           2        3  \n",
       "6      5       3           8        3  \n",
       "7     10       7           8        5  \n",
       "8      1       9           9        5  "
      ]
     },
     "metadata": {},
     "output_type": "display_data"
    }
   ],
   "source": [
    "# 2. Загрузим данные в датафрейм:\n",
    "\n",
    "data = pd.read_csv('https://code.s3.yandex.net/datasets/hypothesis.csv', sep=',')\n",
    "display(data.head(10))"
   ]
  },
  {
   "cell_type": "markdown",
   "metadata": {},
   "source": [
    "<span style=\"color:blue\">\n",
    "    \n",
    "В рассматриваемом датафрейме 9 гипотез по увеличению выручки интернет-магазина с параметрами:\n",
    "- Reach (скольких пользователей затронет изменение); \n",
    "- Impact (насколько сильно изменение повлияет на пользователей); \n",
    "- Confidence (степень уверенности в оценках других параметров); \n",
    "- Effort (насколько сложно протестировать гипотезу).\n",
    "\n",
    "Согласно общим правилам, гипотеза должна быть:\n",
    "- логически не противоречивой;\n",
    "- проверяемой в процессе эксперимента;\n",
    "- не противоречащей ранее установленным фактам;\n",
    "- эффективной с точки зрения практики или знания;\n",
    "- детализированной;\n",
    "- имеющей описанную область применения.\n",
    "</span>"
   ]
  },
  {
   "cell_type": "code",
   "execution_count": 3,
   "metadata": {},
   "outputs": [
    {
     "data": {
      "text/html": [
       "<div>\n",
       "<style scoped>\n",
       "    .dataframe tbody tr th:only-of-type {\n",
       "        vertical-align: middle;\n",
       "    }\n",
       "\n",
       "    .dataframe tbody tr th {\n",
       "        vertical-align: top;\n",
       "    }\n",
       "\n",
       "    .dataframe thead th {\n",
       "        text-align: right;\n",
       "    }\n",
       "</style>\n",
       "<table border=\"1\" class=\"dataframe\">\n",
       "  <thead>\n",
       "    <tr style=\"text-align: right;\">\n",
       "      <th></th>\n",
       "      <th>hypothesis</th>\n",
       "      <th>reach</th>\n",
       "      <th>impact</th>\n",
       "      <th>confidence</th>\n",
       "      <th>efforts</th>\n",
       "    </tr>\n",
       "  </thead>\n",
       "  <tbody>\n",
       "    <tr>\n",
       "      <th>0</th>\n",
       "      <td>Добавить два новых канала привлечения трафика, что позволит привлекать на 30% больше пользователей</td>\n",
       "      <td>3</td>\n",
       "      <td>10</td>\n",
       "      <td>8</td>\n",
       "      <td>6</td>\n",
       "    </tr>\n",
       "  </tbody>\n",
       "</table>\n",
       "</div>"
      ],
      "text/plain": [
       "                                                                                           hypothesis  \\\n",
       "0  Добавить два новых канала привлечения трафика, что позволит привлекать на 30% больше пользователей   \n",
       "\n",
       "   reach  impact  confidence  efforts  \n",
       "0      3      10           8        6  "
      ]
     },
     "execution_count": 3,
     "metadata": {},
     "output_type": "execute_result"
    }
   ],
   "source": [
    "# 3. Приведем названия колонок к нижнему регистру:\n",
    "\n",
    "data.columns = data.columns.str.lower()\n",
    "data.head(1)"
   ]
  },
  {
   "cell_type": "markdown",
   "metadata": {},
   "source": [
    "<span style=\"color:blue\">Названия колонок приведены к нижнему регистру.</span>"
   ]
  },
  {
   "cell_type": "code",
   "execution_count": 4,
   "metadata": {},
   "outputs": [
    {
     "data": {
      "text/html": [
       "<div>\n",
       "<style scoped>\n",
       "    .dataframe tbody tr th:only-of-type {\n",
       "        vertical-align: middle;\n",
       "    }\n",
       "\n",
       "    .dataframe tbody tr th {\n",
       "        vertical-align: top;\n",
       "    }\n",
       "\n",
       "    .dataframe thead th {\n",
       "        text-align: right;\n",
       "    }\n",
       "</style>\n",
       "<table border=\"1\" class=\"dataframe\">\n",
       "  <thead>\n",
       "    <tr style=\"text-align: right;\">\n",
       "      <th></th>\n",
       "      <th>hypothesis</th>\n",
       "      <th>ICE</th>\n",
       "    </tr>\n",
       "  </thead>\n",
       "  <tbody>\n",
       "    <tr>\n",
       "      <th>8</th>\n",
       "      <td>Запустить акцию, дающую скидку на товар в день рождения</td>\n",
       "      <td>16.200000</td>\n",
       "    </tr>\n",
       "    <tr>\n",
       "      <th>0</th>\n",
       "      <td>Добавить два новых канала привлечения трафика, что позволит привлекать на 30% больше пользователей</td>\n",
       "      <td>13.333333</td>\n",
       "    </tr>\n",
       "    <tr>\n",
       "      <th>7</th>\n",
       "      <td>Добавить форму подписки на все основные страницы, чтобы собрать базу клиентов для email-рассылок</td>\n",
       "      <td>11.200000</td>\n",
       "    </tr>\n",
       "    <tr>\n",
       "      <th>6</th>\n",
       "      <td>Показать на главной странице баннеры с актуальными акциями и распродажами, чтобы увеличить конверсию</td>\n",
       "      <td>8.000000</td>\n",
       "    </tr>\n",
       "    <tr>\n",
       "      <th>2</th>\n",
       "      <td>Добавить блоки рекомендаций товаров на сайт интернет магазина, чтобы повысить конверсию и средний чек заказа</td>\n",
       "      <td>7.000000</td>\n",
       "    </tr>\n",
       "    <tr>\n",
       "      <th>1</th>\n",
       "      <td>Запустить собственную службу доставки, что сократит срок доставки заказов</td>\n",
       "      <td>2.000000</td>\n",
       "    </tr>\n",
       "    <tr>\n",
       "      <th>5</th>\n",
       "      <td>Добавить страницу отзывов клиентов о магазине, что позволит увеличить количество заказов</td>\n",
       "      <td>1.333333</td>\n",
       "    </tr>\n",
       "    <tr>\n",
       "      <th>3</th>\n",
       "      <td>Изменить структура категорий, что увеличит конверсию, т.к. пользователи быстрее найдут нужный товар</td>\n",
       "      <td>1.125000</td>\n",
       "    </tr>\n",
       "    <tr>\n",
       "      <th>4</th>\n",
       "      <td>Изменить цвет фона главной страницы, чтобы увеличить вовлеченность пользователей</td>\n",
       "      <td>1.000000</td>\n",
       "    </tr>\n",
       "  </tbody>\n",
       "</table>\n",
       "</div>"
      ],
      "text/plain": [
       "                                                                                                     hypothesis  \\\n",
       "8                                                       Запустить акцию, дающую скидку на товар в день рождения   \n",
       "0            Добавить два новых канала привлечения трафика, что позволит привлекать на 30% больше пользователей   \n",
       "7              Добавить форму подписки на все основные страницы, чтобы собрать базу клиентов для email-рассылок   \n",
       "6          Показать на главной странице баннеры с актуальными акциями и распродажами, чтобы увеличить конверсию   \n",
       "2  Добавить блоки рекомендаций товаров на сайт интернет магазина, чтобы повысить конверсию и средний чек заказа   \n",
       "1                                     Запустить собственную службу доставки, что сократит срок доставки заказов   \n",
       "5                      Добавить страницу отзывов клиентов о магазине, что позволит увеличить количество заказов   \n",
       "3           Изменить структура категорий, что увеличит конверсию, т.к. пользователи быстрее найдут нужный товар   \n",
       "4                              Изменить цвет фона главной страницы, чтобы увеличить вовлеченность пользователей   \n",
       "\n",
       "         ICE  \n",
       "8  16.200000  \n",
       "0  13.333333  \n",
       "7  11.200000  \n",
       "6   8.000000  \n",
       "2   7.000000  \n",
       "1   2.000000  \n",
       "5   1.333333  \n",
       "3   1.125000  \n",
       "4   1.000000  "
      ]
     },
     "metadata": {},
     "output_type": "display_data"
    }
   ],
   "source": [
    "# 4. Применим фреймворк ICE для приоритизации гипотез. Отсортируем их по убыванию приоритета:\n",
    "\n",
    "data['ICE'] = (data['impact']*data['confidence'])/data['efforts']\n",
    "display(data[['hypothesis', 'ICE']].sort_values(by='ICE', ascending=False))"
   ]
  },
  {
   "cell_type": "markdown",
   "metadata": {},
   "source": [
    "    \n",
    "<div class=\"alert alert-warning\">\n",
    "    \n",
    "  <b>Комментарий ревьюера</b>\n",
    "    \n",
    "  ⚠️ Гипотезы имеют длинные названия, чтобы они полностью отображались  можно установить параметр функции display(): pd.options.display.max_colwidth = число_символов (например, 400).\n",
    "    \n",
    "Или использовать <a href=\"https://pandas.pydata.org/pandas-docs/stable/user_guide/options.html\">опции pandas</a>\n",
    "    \n",
    "  ⚠️ В начале лучше написать небольшой комментарий о том, как рассчитываются гипотезы.\n",
    "\n",
    "</div>\n",
    "<div class=\"alert alert-block alert-info\">\n",
    "  \n",
    "  <b>Комментарий cтудента</b>\n",
    "    \n",
    "  Добавил параметр в п.1 выше \"импорт библиотек\".\n",
    "  Не совсем понял, что значит, как \"рассчитываются\" гипотезы. Написал в выводе к п.2 выше требования к гипотезам.\n",
    "</div>\n",
    "<div class=\"alert alert-success\">\n",
    "  \n",
    "  <b>Комментарий ревьюера v.2</b>\n",
    "    \n",
    "  ✔️ Теперь названия гипотез полностью видны! 👍\n",
    "    \n",
    "Можно формулу добавить, или словами описать, не думаю. что заказчик знает, как считается ICE\n",
    "</div>"
   ]
  },
  {
   "cell_type": "markdown",
   "metadata": {},
   "source": [
    "<span style=\"color:blue\">По методу ICE наиболее перспективные гипотезы 8, 0, 7, 6. У гипотез 8, 0, 7 высокие значения параметров impact и confidence и средние значения параметра efforts. У гипотезы 6 низкий impact, но и низкий efforts, а confidence высокий, поэтому она тоже в лидерах.</span>"
   ]
  },
  {
   "cell_type": "code",
   "execution_count": 5,
   "metadata": {},
   "outputs": [
    {
     "data": {
      "text/html": [
       "<div>\n",
       "<style scoped>\n",
       "    .dataframe tbody tr th:only-of-type {\n",
       "        vertical-align: middle;\n",
       "    }\n",
       "\n",
       "    .dataframe tbody tr th {\n",
       "        vertical-align: top;\n",
       "    }\n",
       "\n",
       "    .dataframe thead th {\n",
       "        text-align: right;\n",
       "    }\n",
       "</style>\n",
       "<table border=\"1\" class=\"dataframe\">\n",
       "  <thead>\n",
       "    <tr style=\"text-align: right;\">\n",
       "      <th></th>\n",
       "      <th>hypothesis</th>\n",
       "      <th>RICE</th>\n",
       "    </tr>\n",
       "  </thead>\n",
       "  <tbody>\n",
       "    <tr>\n",
       "      <th>7</th>\n",
       "      <td>Добавить форму подписки на все основные страницы, чтобы собрать базу клиентов для email-рассылок</td>\n",
       "      <td>112.0</td>\n",
       "    </tr>\n",
       "    <tr>\n",
       "      <th>2</th>\n",
       "      <td>Добавить блоки рекомендаций товаров на сайт интернет магазина, чтобы повысить конверсию и средний чек заказа</td>\n",
       "      <td>56.0</td>\n",
       "    </tr>\n",
       "    <tr>\n",
       "      <th>0</th>\n",
       "      <td>Добавить два новых канала привлечения трафика, что позволит привлекать на 30% больше пользователей</td>\n",
       "      <td>40.0</td>\n",
       "    </tr>\n",
       "    <tr>\n",
       "      <th>6</th>\n",
       "      <td>Показать на главной странице баннеры с актуальными акциями и распродажами, чтобы увеличить конверсию</td>\n",
       "      <td>40.0</td>\n",
       "    </tr>\n",
       "    <tr>\n",
       "      <th>8</th>\n",
       "      <td>Запустить акцию, дающую скидку на товар в день рождения</td>\n",
       "      <td>16.2</td>\n",
       "    </tr>\n",
       "    <tr>\n",
       "      <th>3</th>\n",
       "      <td>Изменить структура категорий, что увеличит конверсию, т.к. пользователи быстрее найдут нужный товар</td>\n",
       "      <td>9.0</td>\n",
       "    </tr>\n",
       "    <tr>\n",
       "      <th>1</th>\n",
       "      <td>Запустить собственную службу доставки, что сократит срок доставки заказов</td>\n",
       "      <td>4.0</td>\n",
       "    </tr>\n",
       "    <tr>\n",
       "      <th>5</th>\n",
       "      <td>Добавить страницу отзывов клиентов о магазине, что позволит увеличить количество заказов</td>\n",
       "      <td>4.0</td>\n",
       "    </tr>\n",
       "    <tr>\n",
       "      <th>4</th>\n",
       "      <td>Изменить цвет фона главной страницы, чтобы увеличить вовлеченность пользователей</td>\n",
       "      <td>3.0</td>\n",
       "    </tr>\n",
       "  </tbody>\n",
       "</table>\n",
       "</div>"
      ],
      "text/plain": [
       "                                                                                                     hypothesis  \\\n",
       "7              Добавить форму подписки на все основные страницы, чтобы собрать базу клиентов для email-рассылок   \n",
       "2  Добавить блоки рекомендаций товаров на сайт интернет магазина, чтобы повысить конверсию и средний чек заказа   \n",
       "0            Добавить два новых канала привлечения трафика, что позволит привлекать на 30% больше пользователей   \n",
       "6          Показать на главной странице баннеры с актуальными акциями и распродажами, чтобы увеличить конверсию   \n",
       "8                                                       Запустить акцию, дающую скидку на товар в день рождения   \n",
       "3           Изменить структура категорий, что увеличит конверсию, т.к. пользователи быстрее найдут нужный товар   \n",
       "1                                     Запустить собственную службу доставки, что сократит срок доставки заказов   \n",
       "5                      Добавить страницу отзывов клиентов о магазине, что позволит увеличить количество заказов   \n",
       "4                              Изменить цвет фона главной страницы, чтобы увеличить вовлеченность пользователей   \n",
       "\n",
       "    RICE  \n",
       "7  112.0  \n",
       "2   56.0  \n",
       "0   40.0  \n",
       "6   40.0  \n",
       "8   16.2  \n",
       "3    9.0  \n",
       "1    4.0  \n",
       "5    4.0  \n",
       "4    3.0  "
      ]
     },
     "metadata": {},
     "output_type": "display_data"
    }
   ],
   "source": [
    "# 5. Применим фреймворк RICE для приоритизации гипотез. Отсортируем их по убыванию приоритета:\n",
    "\n",
    "data['RICE'] = (data['reach']*data['impact']*data['confidence'])/data['efforts']\n",
    "display(data[['hypothesis', 'RICE']].sort_values(by='RICE', ascending=False)) "
   ]
  },
  {
   "cell_type": "markdown",
   "metadata": {},
   "source": [
    "<span style=\"color:blue\">По методу RICE наиболее перспективные гипотезы 7, 2, 0, 6. Гипотезы 7 и 2 лидеры по методу RICE, потому что у них наиболее высокий параметр REACH. В свою очередь, у лидера по методу ICE платформы 8 параметр REACH  равен 1, поэтому она находится лишь на 5-м месте.</span>"
   ]
  },
  {
   "cell_type": "markdown",
   "metadata": {},
   "source": [
    "<div class=\"alert alert-success\">\n",
    "  \n",
    "  <b>Комментарий ревьюера</b>\n",
    "    \n",
    "  ✔️ Хорошая работа, корректно применены фреймворки и проанализированы полученные результаты. \n",
    "        \n",
    "    \n",
    "Еще результаты можно было бы объединить в единой таблице для наглядности. Также их можно было бы проранжировать и выделить цветом: https://pandas.pydata.org/pandas-docs/stable/user_guide/style.html\n",
    "\n",
    "А в качестве визуализации изменения приоритетов можно использовать: <a href=\"https://datayoga.ru/tpost/zh3s62fori-sloupgraf\">slope graph</a>, <a href=\"https://cduvallet.github.io/posts/2018/03/slopegraphs-in-python\">slope graph 2</a>, <a href=\"https://chart-studio.plotly.com/~pcchang/224/slopegraph-spending-and-academic-performance-by-states-doc/#/\">реализация на plotly</a>\n",
    "   \n",
    "</div>"
   ]
  },
  {
   "cell_type": "markdown",
   "metadata": {},
   "source": [
    "### Анализ A/B-теста"
   ]
  },
  {
   "cell_type": "code",
   "execution_count": 6,
   "metadata": {},
   "outputs": [
    {
     "data": {
      "text/html": [
       "<div>\n",
       "<style scoped>\n",
       "    .dataframe tbody tr th:only-of-type {\n",
       "        vertical-align: middle;\n",
       "    }\n",
       "\n",
       "    .dataframe tbody tr th {\n",
       "        vertical-align: top;\n",
       "    }\n",
       "\n",
       "    .dataframe thead th {\n",
       "        text-align: right;\n",
       "    }\n",
       "</style>\n",
       "<table border=\"1\" class=\"dataframe\">\n",
       "  <thead>\n",
       "    <tr style=\"text-align: right;\">\n",
       "      <th></th>\n",
       "      <th>transactionId</th>\n",
       "      <th>visitorId</th>\n",
       "      <th>date</th>\n",
       "      <th>revenue</th>\n",
       "      <th>group</th>\n",
       "    </tr>\n",
       "  </thead>\n",
       "  <tbody>\n",
       "    <tr>\n",
       "      <th>0</th>\n",
       "      <td>3667963787</td>\n",
       "      <td>3312258926</td>\n",
       "      <td>2019-08-15</td>\n",
       "      <td>1650</td>\n",
       "      <td>B</td>\n",
       "    </tr>\n",
       "    <tr>\n",
       "      <th>1</th>\n",
       "      <td>2804400009</td>\n",
       "      <td>3642806036</td>\n",
       "      <td>2019-08-15</td>\n",
       "      <td>730</td>\n",
       "      <td>B</td>\n",
       "    </tr>\n",
       "    <tr>\n",
       "      <th>2</th>\n",
       "      <td>2961555356</td>\n",
       "      <td>4069496402</td>\n",
       "      <td>2019-08-15</td>\n",
       "      <td>400</td>\n",
       "      <td>A</td>\n",
       "    </tr>\n",
       "    <tr>\n",
       "      <th>3</th>\n",
       "      <td>3797467345</td>\n",
       "      <td>1196621759</td>\n",
       "      <td>2019-08-15</td>\n",
       "      <td>9759</td>\n",
       "      <td>B</td>\n",
       "    </tr>\n",
       "    <tr>\n",
       "      <th>4</th>\n",
       "      <td>2282983706</td>\n",
       "      <td>2322279887</td>\n",
       "      <td>2019-08-15</td>\n",
       "      <td>2308</td>\n",
       "      <td>B</td>\n",
       "    </tr>\n",
       "    <tr>\n",
       "      <th>5</th>\n",
       "      <td>182168103</td>\n",
       "      <td>935554773</td>\n",
       "      <td>2019-08-15</td>\n",
       "      <td>2210</td>\n",
       "      <td>B</td>\n",
       "    </tr>\n",
       "    <tr>\n",
       "      <th>6</th>\n",
       "      <td>398296753</td>\n",
       "      <td>2900797465</td>\n",
       "      <td>2019-08-15</td>\n",
       "      <td>1860</td>\n",
       "      <td>B</td>\n",
       "    </tr>\n",
       "    <tr>\n",
       "      <th>7</th>\n",
       "      <td>2626614568</td>\n",
       "      <td>78758296</td>\n",
       "      <td>2019-08-15</td>\n",
       "      <td>1044</td>\n",
       "      <td>A</td>\n",
       "    </tr>\n",
       "    <tr>\n",
       "      <th>8</th>\n",
       "      <td>1576988021</td>\n",
       "      <td>295230930</td>\n",
       "      <td>2019-08-15</td>\n",
       "      <td>13710</td>\n",
       "      <td>A</td>\n",
       "    </tr>\n",
       "    <tr>\n",
       "      <th>9</th>\n",
       "      <td>1506739906</td>\n",
       "      <td>1882260405</td>\n",
       "      <td>2019-08-15</td>\n",
       "      <td>1855</td>\n",
       "      <td>B</td>\n",
       "    </tr>\n",
       "  </tbody>\n",
       "</table>\n",
       "</div>"
      ],
      "text/plain": [
       "   transactionId   visitorId        date  revenue group\n",
       "0     3667963787  3312258926  2019-08-15     1650     B\n",
       "1     2804400009  3642806036  2019-08-15      730     B\n",
       "2     2961555356  4069496402  2019-08-15      400     A\n",
       "3     3797467345  1196621759  2019-08-15     9759     B\n",
       "4     2282983706  2322279887  2019-08-15     2308     B\n",
       "5      182168103   935554773  2019-08-15     2210     B\n",
       "6      398296753  2900797465  2019-08-15     1860     B\n",
       "7     2626614568    78758296  2019-08-15     1044     A\n",
       "8     1576988021   295230930  2019-08-15    13710     A\n",
       "9     1506739906  1882260405  2019-08-15     1855     B"
      ]
     },
     "metadata": {},
     "output_type": "display_data"
    },
    {
     "data": {
      "text/html": [
       "<div>\n",
       "<style scoped>\n",
       "    .dataframe tbody tr th:only-of-type {\n",
       "        vertical-align: middle;\n",
       "    }\n",
       "\n",
       "    .dataframe tbody tr th {\n",
       "        vertical-align: top;\n",
       "    }\n",
       "\n",
       "    .dataframe thead th {\n",
       "        text-align: right;\n",
       "    }\n",
       "</style>\n",
       "<table border=\"1\" class=\"dataframe\">\n",
       "  <thead>\n",
       "    <tr style=\"text-align: right;\">\n",
       "      <th></th>\n",
       "      <th>date</th>\n",
       "      <th>group</th>\n",
       "      <th>visitors</th>\n",
       "    </tr>\n",
       "  </thead>\n",
       "  <tbody>\n",
       "    <tr>\n",
       "      <th>0</th>\n",
       "      <td>2019-08-01</td>\n",
       "      <td>A</td>\n",
       "      <td>719</td>\n",
       "    </tr>\n",
       "    <tr>\n",
       "      <th>1</th>\n",
       "      <td>2019-08-02</td>\n",
       "      <td>A</td>\n",
       "      <td>619</td>\n",
       "    </tr>\n",
       "    <tr>\n",
       "      <th>2</th>\n",
       "      <td>2019-08-03</td>\n",
       "      <td>A</td>\n",
       "      <td>507</td>\n",
       "    </tr>\n",
       "    <tr>\n",
       "      <th>3</th>\n",
       "      <td>2019-08-04</td>\n",
       "      <td>A</td>\n",
       "      <td>717</td>\n",
       "    </tr>\n",
       "    <tr>\n",
       "      <th>4</th>\n",
       "      <td>2019-08-05</td>\n",
       "      <td>A</td>\n",
       "      <td>756</td>\n",
       "    </tr>\n",
       "    <tr>\n",
       "      <th>5</th>\n",
       "      <td>2019-08-06</td>\n",
       "      <td>A</td>\n",
       "      <td>667</td>\n",
       "    </tr>\n",
       "    <tr>\n",
       "      <th>6</th>\n",
       "      <td>2019-08-07</td>\n",
       "      <td>A</td>\n",
       "      <td>644</td>\n",
       "    </tr>\n",
       "    <tr>\n",
       "      <th>7</th>\n",
       "      <td>2019-08-08</td>\n",
       "      <td>A</td>\n",
       "      <td>610</td>\n",
       "    </tr>\n",
       "    <tr>\n",
       "      <th>8</th>\n",
       "      <td>2019-08-09</td>\n",
       "      <td>A</td>\n",
       "      <td>617</td>\n",
       "    </tr>\n",
       "    <tr>\n",
       "      <th>9</th>\n",
       "      <td>2019-08-10</td>\n",
       "      <td>A</td>\n",
       "      <td>406</td>\n",
       "    </tr>\n",
       "  </tbody>\n",
       "</table>\n",
       "</div>"
      ],
      "text/plain": [
       "         date group  visitors\n",
       "0  2019-08-01     A       719\n",
       "1  2019-08-02     A       619\n",
       "2  2019-08-03     A       507\n",
       "3  2019-08-04     A       717\n",
       "4  2019-08-05     A       756\n",
       "5  2019-08-06     A       667\n",
       "6  2019-08-07     A       644\n",
       "7  2019-08-08     A       610\n",
       "8  2019-08-09     A       617\n",
       "9  2019-08-10     A       406"
      ]
     },
     "metadata": {},
     "output_type": "display_data"
    }
   ],
   "source": [
    "# Загрузим данные в датафреймы:\n",
    "\n",
    "orders = pd.read_csv('https://code.s3.yandex.net/datasets/orders.csv', sep=',')\n",
    "display(orders.head(10))\n",
    "visitors = pd.read_csv('https://code.s3.yandex.net/datasets/visitors.csv', sep=',')\n",
    "display(visitors.head(10))"
   ]
  },
  {
   "cell_type": "markdown",
   "metadata": {},
   "source": [
    "<span style=\"color:blue\">В данных представлены результаты проведенного A/B-теста. В датафрейме orders содержатся данные о заказах, а в датафрейме visitors - данные о посетителях мобильного приложения.</span>"
   ]
  },
  {
   "cell_type": "code",
   "execution_count": 7,
   "metadata": {},
   "outputs": [
    {
     "data": {
      "text/html": [
       "<div>\n",
       "<style scoped>\n",
       "    .dataframe tbody tr th:only-of-type {\n",
       "        vertical-align: middle;\n",
       "    }\n",
       "\n",
       "    .dataframe tbody tr th {\n",
       "        vertical-align: top;\n",
       "    }\n",
       "\n",
       "    .dataframe thead th {\n",
       "        text-align: right;\n",
       "    }\n",
       "</style>\n",
       "<table border=\"1\" class=\"dataframe\">\n",
       "  <thead>\n",
       "    <tr style=\"text-align: right;\">\n",
       "      <th></th>\n",
       "      <th>transactionid</th>\n",
       "      <th>visitorid</th>\n",
       "      <th>date</th>\n",
       "      <th>revenue</th>\n",
       "      <th>group</th>\n",
       "    </tr>\n",
       "  </thead>\n",
       "  <tbody>\n",
       "    <tr>\n",
       "      <th>0</th>\n",
       "      <td>3667963787</td>\n",
       "      <td>3312258926</td>\n",
       "      <td>2019-08-15</td>\n",
       "      <td>1650</td>\n",
       "      <td>B</td>\n",
       "    </tr>\n",
       "  </tbody>\n",
       "</table>\n",
       "</div>"
      ],
      "text/plain": [
       "   transactionid   visitorid        date  revenue group\n",
       "0     3667963787  3312258926  2019-08-15     1650     B"
      ]
     },
     "execution_count": 7,
     "metadata": {},
     "output_type": "execute_result"
    }
   ],
   "source": [
    "# Приведем названия колонок в таблице orders к нижнему регистру:\n",
    "\n",
    "orders.columns = orders.columns.str.lower()\n",
    "orders.head(1)"
   ]
  },
  {
   "cell_type": "markdown",
   "metadata": {},
   "source": [
    "<span style=\"color:blue\">Буквы 'I'  в названиях колонок стали маленькими.</span>"
   ]
  },
  {
   "cell_type": "code",
   "execution_count": 8,
   "metadata": {},
   "outputs": [
    {
     "name": "stdout",
     "output_type": "stream",
     "text": [
      "transactionid    0\n",
      "visitorid        0\n",
      "date             0\n",
      "revenue          0\n",
      "group            0\n",
      "dtype: int64\n",
      "date        0\n",
      "group       0\n",
      "visitors    0\n",
      "dtype: int64\n"
     ]
    }
   ],
   "source": [
    "# Проверим датафреймы на пропуски:\n",
    "\n",
    "print(orders.isnull().sum())\n",
    "print(visitors.isnull().sum())"
   ]
  },
  {
   "cell_type": "markdown",
   "metadata": {},
   "source": [
    "<span style=\"color:blue\">Пропусков нет.</span>"
   ]
  },
  {
   "cell_type": "code",
   "execution_count": 9,
   "metadata": {},
   "outputs": [
    {
     "name": "stdout",
     "output_type": "stream",
     "text": [
      "0\n",
      "0\n"
     ]
    }
   ],
   "source": [
    "# Проверим датафреймы на дубликаты:\n",
    "\n",
    "print(orders.duplicated().sum())\n",
    "print(visitors.duplicated().sum())"
   ]
  },
  {
   "cell_type": "markdown",
   "metadata": {},
   "source": [
    "<span style=\"color:blue\">Дубликатов также нет.</span>"
   ]
  },
  {
   "cell_type": "code",
   "execution_count": 10,
   "metadata": {},
   "outputs": [
    {
     "name": "stdout",
     "output_type": "stream",
     "text": [
      "<class 'pandas.core.frame.DataFrame'>\n",
      "RangeIndex: 1197 entries, 0 to 1196\n",
      "Data columns (total 5 columns):\n",
      " #   Column         Non-Null Count  Dtype \n",
      "---  ------         --------------  ----- \n",
      " 0   transactionid  1197 non-null   int64 \n",
      " 1   visitorid      1197 non-null   int64 \n",
      " 2   date           1197 non-null   object\n",
      " 3   revenue        1197 non-null   int64 \n",
      " 4   group          1197 non-null   object\n",
      "dtypes: int64(3), object(2)\n",
      "memory usage: 46.9+ KB\n",
      "\n",
      "Всего уникальных пользователей в столбце orders: 1031\n",
      "Всего уникальных пользователей по группам:\n",
      "group\n",
      "A    503\n",
      "B    586\n",
      "Name: visitorid, dtype: int64\n"
     ]
    }
   ],
   "source": [
    "# Проверим корректность разбиения пользователей на группы,\n",
    "# на случай попадания одного и того же пользователя в обе группы:\n",
    "\n",
    "orders.info()\n",
    "print()\n",
    "print(\"Всего уникальных пользователей в столбце orders:\", orders['visitorid'].nunique())\n",
    "print(\"Всего уникальных пользователей по группам:\") \n",
    "print(orders.groupby('group')['visitorid'].nunique())"
   ]
  },
  {
   "cell_type": "markdown",
   "metadata": {},
   "source": [
    "<span style=\"color:blue\">Обнаружено 58 пользователей (503+586-1031), которые есть и в группе A, и в группе B. Всего в датафрейме 1197 строк.</span>"
   ]
  },
  {
   "cell_type": "code",
   "execution_count": 11,
   "metadata": {},
   "outputs": [],
   "source": [
    "# 1. Построим график кумулятивной выручки по группам, для чего сначала приведем даты в нужный формат:\n",
    "\n",
    "orders['date'] = orders['date'].map(\n",
    "    lambda x: dt.datetime.strptime(x, '%Y-%m-%d')\n",
    ")\n",
    "\n",
    "visitors['date'] = visitors['date'].map(\n",
    "    lambda x: dt.datetime.strptime(x, '%Y-%m-%d')\n",
    ")"
   ]
  },
  {
   "cell_type": "markdown",
   "metadata": {},
   "source": [
    "<div class=\"alert alert-danger\">\n",
    "    \n",
    "  <b>Комментарий ревьюера</b>\n",
    "  \n",
    "  ❌ Данные не подготовлены для анализа, как минимум стоит проверить на пропуски и дубликаты! Если таковые имеются, они могут сильно исказить наши результаты исследования.\n",
    "    \n",
    "  ❌ И еще остается не выполненным на этапе предобработки, но тем не менее важным - проверить корректность разбиения пользователей на группы - может быть есть пользователи, попавшие в обе группы? Если таковые пользователи есть, нужно их выявить и выработать стратегию работы с такими данными. Пересечение групп сильно влияет на результаты теста, если процент достаточно большой. Если есть возможность их можно удалить и посмотреть, какие результаты получаются без них, в любом случае к результатам теста придется относится осторожно.\n",
    "</div>\n",
    "\n",
    "<div class=\"alert alert-block alert-info\">\n",
    "  \n",
    "  <b>Комментарий cтудента</b>\n",
    "    \n",
    "  На дубликаты и пропуски проверял. Т.к. их не было, не стал и писать.\n",
    "  \n",
    "По поводу перечения групп. Попытался решить проблему таким кодом:\n",
    "    \n",
    "\n",
    "    A = orders[orders['group'] == 'A']\n",
    "    B = orders[orders['group'] == 'B']\n",
    "    orders = pd.concat([A, B]).drop_duplicates(subset = 'visitorid').reset_index(drop=True)\n",
    "    print(orders[orders['group'] == 'A'].count())\n",
    "    print(orders[orders['group'] == 'B'].count())\n",
    "    display(orders)\n",
    "        \n",
    "Код убрал из группы B 58 лишних пользователей. Этот код одобрила ревьюер, однако в результате p-value по среднему чеку подскочил с 0.017 до 0.526. Кроме того, этот код исключил всех пользователей с заказами более одного. Видимо, я исключил вообще все дубликаты из visitorid, в результате там остались только по одному заказу на пользователя. Не рискнул применять этот код, нового ответа от ревьюера не дождался. Как вариант, можно их не удалять)\n",
    "    \n",
    "</div>\n",
    "    \n",
    "<div class=\"alert alert-warning\">\n",
    "    \n",
    "  <b>Комментарий ревьюера v.2</b>\n",
    "    \n",
    "  ⚠️ Мы проект делаем не для себя, даже я обратил на дубликаты внимание, хоть и так-же проверял и знаю. что их нет. Что уж говорить про заказчика? Проверку мы выполняем всегда, не важно есть таковые или нет.\n",
    "    \n",
    "  ⚠️ Сложный и не совсем верный код для проверки пересечения. Проще сгруппировать orders по пользователю `visitorId` и выбрать уникальные группы для них `['group'].nunique().reset_index()`, а дальше просто обрезать тех, у кого больше чем одна группа `query('group > 1')`. А потом просто исключить эти `visitorId` из orders.\n",
    "    \n",
    "\n",
    " Смотри, в visits у нас кумулятивные данные, мы их не сможем убрать. Т.е. можно убрать только пересечение по покупкам orders:  если мы считаем только по заказам - средний чек, кумулятивную выручку. Так данные будут чище.\\\n",
    "    А для расчета конверсии их лучше оставить. Поэтому таких пользователей лучше удалить, но допустимо и оставить, НО обязательно в итоговом выводе написать про наличие таких пользователей. В идеале считать раздельно: с удаленными - средний чек, с не удаленными - конверсию. \n",
    "    \n",
    "</div>\n",
    "\n",
    "\n"
   ]
  },
  {
   "cell_type": "code",
   "execution_count": 12,
   "metadata": {},
   "outputs": [
    {
     "data": {
      "text/html": [
       "<div>\n",
       "<style scoped>\n",
       "    .dataframe tbody tr th:only-of-type {\n",
       "        vertical-align: middle;\n",
       "    }\n",
       "\n",
       "    .dataframe tbody tr th {\n",
       "        vertical-align: top;\n",
       "    }\n",
       "\n",
       "    .dataframe thead th {\n",
       "        text-align: right;\n",
       "    }\n",
       "</style>\n",
       "<table border=\"1\" class=\"dataframe\">\n",
       "  <thead>\n",
       "    <tr style=\"text-align: right;\">\n",
       "      <th></th>\n",
       "      <th>visitorid</th>\n",
       "      <th>group</th>\n",
       "    </tr>\n",
       "  </thead>\n",
       "  <tbody>\n",
       "    <tr>\n",
       "      <th>2</th>\n",
       "      <td>8300375</td>\n",
       "      <td>2</td>\n",
       "    </tr>\n",
       "    <tr>\n",
       "      <th>44</th>\n",
       "      <td>199603092</td>\n",
       "      <td>2</td>\n",
       "    </tr>\n",
       "    <tr>\n",
       "      <th>51</th>\n",
       "      <td>232979603</td>\n",
       "      <td>2</td>\n",
       "    </tr>\n",
       "    <tr>\n",
       "      <th>55</th>\n",
       "      <td>237748145</td>\n",
       "      <td>2</td>\n",
       "    </tr>\n",
       "    <tr>\n",
       "      <th>66</th>\n",
       "      <td>276558944</td>\n",
       "      <td>2</td>\n",
       "    </tr>\n",
       "    <tr>\n",
       "      <th>84</th>\n",
       "      <td>351125977</td>\n",
       "      <td>2</td>\n",
       "    </tr>\n",
       "    <tr>\n",
       "      <th>97</th>\n",
       "      <td>393266494</td>\n",
       "      <td>2</td>\n",
       "    </tr>\n",
       "    <tr>\n",
       "      <th>114</th>\n",
       "      <td>457167155</td>\n",
       "      <td>2</td>\n",
       "    </tr>\n",
       "    <tr>\n",
       "      <th>119</th>\n",
       "      <td>471551937</td>\n",
       "      <td>2</td>\n",
       "    </tr>\n",
       "    <tr>\n",
       "      <th>122</th>\n",
       "      <td>477780734</td>\n",
       "      <td>2</td>\n",
       "    </tr>\n",
       "    <tr>\n",
       "      <th>192</th>\n",
       "      <td>818047933</td>\n",
       "      <td>2</td>\n",
       "    </tr>\n",
       "    <tr>\n",
       "      <th>236</th>\n",
       "      <td>963407295</td>\n",
       "      <td>2</td>\n",
       "    </tr>\n",
       "    <tr>\n",
       "      <th>299</th>\n",
       "      <td>1230306981</td>\n",
       "      <td>2</td>\n",
       "    </tr>\n",
       "    <tr>\n",
       "      <th>311</th>\n",
       "      <td>1294878855</td>\n",
       "      <td>2</td>\n",
       "    </tr>\n",
       "    <tr>\n",
       "      <th>316</th>\n",
       "      <td>1316129916</td>\n",
       "      <td>2</td>\n",
       "    </tr>\n",
       "    <tr>\n",
       "      <th>318</th>\n",
       "      <td>1333886533</td>\n",
       "      <td>2</td>\n",
       "    </tr>\n",
       "    <tr>\n",
       "      <th>340</th>\n",
       "      <td>1404934699</td>\n",
       "      <td>2</td>\n",
       "    </tr>\n",
       "    <tr>\n",
       "      <th>386</th>\n",
       "      <td>1602967004</td>\n",
       "      <td>2</td>\n",
       "    </tr>\n",
       "    <tr>\n",
       "      <th>393</th>\n",
       "      <td>1614305549</td>\n",
       "      <td>2</td>\n",
       "    </tr>\n",
       "    <tr>\n",
       "      <th>402</th>\n",
       "      <td>1648269707</td>\n",
       "      <td>2</td>\n",
       "    </tr>\n",
       "    <tr>\n",
       "      <th>406</th>\n",
       "      <td>1668030113</td>\n",
       "      <td>2</td>\n",
       "    </tr>\n",
       "    <tr>\n",
       "      <th>422</th>\n",
       "      <td>1738359350</td>\n",
       "      <td>2</td>\n",
       "    </tr>\n",
       "    <tr>\n",
       "      <th>436</th>\n",
       "      <td>1801183820</td>\n",
       "      <td>2</td>\n",
       "    </tr>\n",
       "    <tr>\n",
       "      <th>469</th>\n",
       "      <td>1959144690</td>\n",
       "      <td>2</td>\n",
       "    </tr>\n",
       "    <tr>\n",
       "      <th>487</th>\n",
       "      <td>2038680547</td>\n",
       "      <td>2</td>\n",
       "    </tr>\n",
       "    <tr>\n",
       "      <th>491</th>\n",
       "      <td>2044997962</td>\n",
       "      <td>2</td>\n",
       "    </tr>\n",
       "    <tr>\n",
       "      <th>569</th>\n",
       "      <td>2378935119</td>\n",
       "      <td>2</td>\n",
       "    </tr>\n",
       "    <tr>\n",
       "      <th>591</th>\n",
       "      <td>2458001652</td>\n",
       "      <td>2</td>\n",
       "    </tr>\n",
       "    <tr>\n",
       "      <th>614</th>\n",
       "      <td>2579882178</td>\n",
       "      <td>2</td>\n",
       "    </tr>\n",
       "    <tr>\n",
       "      <th>619</th>\n",
       "      <td>2587333274</td>\n",
       "      <td>2</td>\n",
       "    </tr>\n",
       "    <tr>\n",
       "      <th>622</th>\n",
       "      <td>2600415354</td>\n",
       "      <td>2</td>\n",
       "    </tr>\n",
       "    <tr>\n",
       "      <th>639</th>\n",
       "      <td>2654030115</td>\n",
       "      <td>2</td>\n",
       "    </tr>\n",
       "    <tr>\n",
       "      <th>648</th>\n",
       "      <td>2686716486</td>\n",
       "      <td>2</td>\n",
       "    </tr>\n",
       "    <tr>\n",
       "      <th>661</th>\n",
       "      <td>2712142231</td>\n",
       "      <td>2</td>\n",
       "    </tr>\n",
       "    <tr>\n",
       "      <th>662</th>\n",
       "      <td>2716752286</td>\n",
       "      <td>2</td>\n",
       "    </tr>\n",
       "    <tr>\n",
       "      <th>677</th>\n",
       "      <td>2780786433</td>\n",
       "      <td>2</td>\n",
       "    </tr>\n",
       "    <tr>\n",
       "      <th>710</th>\n",
       "      <td>2927087541</td>\n",
       "      <td>2</td>\n",
       "    </tr>\n",
       "    <tr>\n",
       "      <th>715</th>\n",
       "      <td>2949041841</td>\n",
       "      <td>2</td>\n",
       "    </tr>\n",
       "    <tr>\n",
       "      <th>718</th>\n",
       "      <td>2954449915</td>\n",
       "      <td>2</td>\n",
       "    </tr>\n",
       "    <tr>\n",
       "      <th>744</th>\n",
       "      <td>3062433592</td>\n",
       "      <td>2</td>\n",
       "    </tr>\n",
       "    <tr>\n",
       "      <th>784</th>\n",
       "      <td>3202540741</td>\n",
       "      <td>2</td>\n",
       "    </tr>\n",
       "    <tr>\n",
       "      <th>792</th>\n",
       "      <td>3234906277</td>\n",
       "      <td>2</td>\n",
       "    </tr>\n",
       "    <tr>\n",
       "      <th>884</th>\n",
       "      <td>3656415546</td>\n",
       "      <td>2</td>\n",
       "    </tr>\n",
       "    <tr>\n",
       "      <th>897</th>\n",
       "      <td>3717692402</td>\n",
       "      <td>2</td>\n",
       "    </tr>\n",
       "    <tr>\n",
       "      <th>909</th>\n",
       "      <td>3766097110</td>\n",
       "      <td>2</td>\n",
       "    </tr>\n",
       "    <tr>\n",
       "      <th>917</th>\n",
       "      <td>3803269165</td>\n",
       "      <td>2</td>\n",
       "    </tr>\n",
       "    <tr>\n",
       "      <th>932</th>\n",
       "      <td>3891541246</td>\n",
       "      <td>2</td>\n",
       "    </tr>\n",
       "    <tr>\n",
       "      <th>950</th>\n",
       "      <td>3941795274</td>\n",
       "      <td>2</td>\n",
       "    </tr>\n",
       "    <tr>\n",
       "      <th>954</th>\n",
       "      <td>3951559397</td>\n",
       "      <td>2</td>\n",
       "    </tr>\n",
       "    <tr>\n",
       "      <th>957</th>\n",
       "      <td>3957174400</td>\n",
       "      <td>2</td>\n",
       "    </tr>\n",
       "    <tr>\n",
       "      <th>958</th>\n",
       "      <td>3963646447</td>\n",
       "      <td>2</td>\n",
       "    </tr>\n",
       "    <tr>\n",
       "      <th>960</th>\n",
       "      <td>3972127743</td>\n",
       "      <td>2</td>\n",
       "    </tr>\n",
       "    <tr>\n",
       "      <th>963</th>\n",
       "      <td>3984495233</td>\n",
       "      <td>2</td>\n",
       "    </tr>\n",
       "    <tr>\n",
       "      <th>984</th>\n",
       "      <td>4069496402</td>\n",
       "      <td>2</td>\n",
       "    </tr>\n",
       "    <tr>\n",
       "      <th>992</th>\n",
       "      <td>4120364173</td>\n",
       "      <td>2</td>\n",
       "    </tr>\n",
       "    <tr>\n",
       "      <th>1009</th>\n",
       "      <td>4186807279</td>\n",
       "      <td>2</td>\n",
       "    </tr>\n",
       "    <tr>\n",
       "      <th>1023</th>\n",
       "      <td>4256040402</td>\n",
       "      <td>2</td>\n",
       "    </tr>\n",
       "    <tr>\n",
       "      <th>1026</th>\n",
       "      <td>4266935830</td>\n",
       "      <td>2</td>\n",
       "    </tr>\n",
       "  </tbody>\n",
       "</table>\n",
       "</div>"
      ],
      "text/plain": [
       "       visitorid  group\n",
       "2        8300375      2\n",
       "44     199603092      2\n",
       "51     232979603      2\n",
       "55     237748145      2\n",
       "66     276558944      2\n",
       "84     351125977      2\n",
       "97     393266494      2\n",
       "114    457167155      2\n",
       "119    471551937      2\n",
       "122    477780734      2\n",
       "192    818047933      2\n",
       "236    963407295      2\n",
       "299   1230306981      2\n",
       "311   1294878855      2\n",
       "316   1316129916      2\n",
       "318   1333886533      2\n",
       "340   1404934699      2\n",
       "386   1602967004      2\n",
       "393   1614305549      2\n",
       "402   1648269707      2\n",
       "406   1668030113      2\n",
       "422   1738359350      2\n",
       "436   1801183820      2\n",
       "469   1959144690      2\n",
       "487   2038680547      2\n",
       "491   2044997962      2\n",
       "569   2378935119      2\n",
       "591   2458001652      2\n",
       "614   2579882178      2\n",
       "619   2587333274      2\n",
       "622   2600415354      2\n",
       "639   2654030115      2\n",
       "648   2686716486      2\n",
       "661   2712142231      2\n",
       "662   2716752286      2\n",
       "677   2780786433      2\n",
       "710   2927087541      2\n",
       "715   2949041841      2\n",
       "718   2954449915      2\n",
       "744   3062433592      2\n",
       "784   3202540741      2\n",
       "792   3234906277      2\n",
       "884   3656415546      2\n",
       "897   3717692402      2\n",
       "909   3766097110      2\n",
       "917   3803269165      2\n",
       "932   3891541246      2\n",
       "950   3941795274      2\n",
       "954   3951559397      2\n",
       "957   3957174400      2\n",
       "958   3963646447      2\n",
       "960   3972127743      2\n",
       "963   3984495233      2\n",
       "984   4069496402      2\n",
       "992   4120364173      2\n",
       "1009  4186807279      2\n",
       "1023  4256040402      2\n",
       "1026  4266935830      2"
      ]
     },
     "metadata": {},
     "output_type": "display_data"
    },
    {
     "name": "stdout",
     "output_type": "stream",
     "text": [
      "Всего уникальных пользователей в столбце orders: 973\n",
      "Всего уникальных пользователей по группам:\n",
      "group\n",
      "A    445\n",
      "B    528\n",
      "Name: visitorid, dtype: int64\n"
     ]
    }
   ],
   "source": [
    "double = orders.groupby('visitorid')['group'].nunique().reset_index()\n",
    "double2 = double.query('group > 1')\n",
    "\n",
    "#display(double)\n",
    "#double1 = double[double['group'] == 1]\n",
    "display(double2)\n",
    "orders = orders[~orders['visitorid'].isin(double2['visitorid'])]\n",
    "print(\"Всего уникальных пользователей в столбце orders:\", orders['visitorid'].nunique())\n",
    "print(\"Всего уникальных пользователей по группам:\") \n",
    "print(orders.groupby('group')['visitorid'].nunique())"
   ]
  },
  {
   "cell_type": "code",
   "execution_count": 13,
   "metadata": {},
   "outputs": [],
   "source": [
    "# Создадим массив уникальных пар значений дат и групп теста:\n",
    "\n",
    "datesGroups = orders[['date', 'group']].drop_duplicates()"
   ]
  },
  {
   "cell_type": "code",
   "execution_count": 14,
   "metadata": {},
   "outputs": [],
   "source": [
    "# Получим агрегированные кумулятивные по дням данные о заказах:\n",
    "\n",
    "ordersAggregated = datesGroups.apply(\n",
    "    lambda x: orders[\n",
    "        np.logical_and(\n",
    "            orders['date'] <= x['date'], orders['group'] == x['group']\n",
    "        )\n",
    "    ].agg(\n",
    "        {\n",
    "            'date': 'max',\n",
    "            'group': 'max',\n",
    "            'transactionid': 'nunique',\n",
    "            'visitorid': 'nunique',\n",
    "            'revenue': 'sum',\n",
    "        }\n",
    "    ),\n",
    "    axis=1,\n",
    ").sort_values(by=['date', 'group'])"
   ]
  },
  {
   "cell_type": "code",
   "execution_count": 15,
   "metadata": {},
   "outputs": [],
   "source": [
    "# Получим агрегированные кумулятивные по дням данные о посетителях интернет-магазина:\n",
    "\n",
    "visitorsAggregated = datesGroups.apply(\n",
    "    lambda x: visitors[\n",
    "        np.logical_and(\n",
    "            visitors['date'] <= x['date'], visitors['group'] == x['group']\n",
    "        )\n",
    "    ].agg({'date': 'max', 'group': 'max', 'visitors': 'sum'}),\n",
    "    axis=1,\n",
    ").sort_values(by=['date', 'group'])"
   ]
  },
  {
   "cell_type": "code",
   "execution_count": 16,
   "metadata": {},
   "outputs": [],
   "source": [
    "# Объединим кумулятивные данные в одной таблице и присвоим ее столбцам понятные названия:\n",
    "\n",
    "cumulativeData = ordersAggregated.merge(\n",
    "    visitorsAggregated, left_on=['date', 'group'], right_on=['date', 'group']\n",
    ")\n",
    "cumulativeData.columns = [\n",
    "    'date',\n",
    "    'group',\n",
    "    'orders',\n",
    "    'buyers',\n",
    "    'revenue',\n",
    "    'visitors',\n",
    "]"
   ]
  },
  {
   "cell_type": "code",
   "execution_count": 17,
   "metadata": {},
   "outputs": [],
   "source": [
    "# Создадим датафреймы с кумулятивным количеством заказов и кумулятивной выручкой по дням \n",
    "# в группах А и B:\n",
    "\n",
    "cumulativeRevenueA = cumulativeData[cumulativeData['group']=='A'][['date','revenue', 'orders']]\n",
    "cumulativeRevenueB = cumulativeData[cumulativeData['group']=='B'][['date','revenue', 'orders']]"
   ]
  },
  {
   "cell_type": "code",
   "execution_count": 18,
   "metadata": {},
   "outputs": [
    {
     "data": {
      "image/png": "[encoded data removed]",
      "text/plain": [
       "<Figure size 792x288 with 1 Axes>"
      ]
     },
     "metadata": {
      "needs_background": "light"
     },
     "output_type": "display_data"
    }
   ],
   "source": [
    "# Построим график кумулятивной выручки групп А и B:\n",
    "\n",
    "plt.figure(figsize=(11, 4))\n",
    "plt.title(\"Кумулятивная выручка по дням и группам\")\n",
    "plt.plot(cumulativeRevenueA['date'], cumulativeRevenueA['revenue'], label='A')\n",
    "plt.plot(cumulativeRevenueB['date'], cumulativeRevenueB['revenue'], label='B')\n",
    "plt.legend()\n",
    "plt.xlabel('Дни теста', fontsize=10)\n",
    "plt.ylabel('Выручка, млн.', fontsize=10)\n",
    "plt.show()"
   ]
  },
  {
   "cell_type": "markdown",
   "metadata": {},
   "source": [
    "<span style=\"color:blue\">Выручка увеличивается в течение всего теста. \n",
    "Однако график выручки в группе B в одной точке резко растет. Это может сигнализировать о всплеске числа заказов, либо о появлении очень дорогих заказов в выборке. Выбросы проанализируем ниже.</span> "
   ]
  },
  {
   "cell_type": "markdown",
   "metadata": {},
   "source": [
    "<div class=\"alert alert-success\">\n",
    "  \n",
    "  <b>Комментарий ревьюера</b>\n",
    "    \n",
    "  ✔️ График построен верно и можем зафиксировать аномалию в группе В.\n",
    "</div>\n",
    "    \n",
    "<div class=\"alert alert-warning\">\n",
    "    \n",
    "  <b>Комментарий ревьюера</b>\n",
    "    \n",
    "  ⚠️  Надо дооформить все графики, подписать оси. \n",
    "</div>\n",
    "<div class=\"alert alert-block alert-info\">\n",
    "  \n",
    "  <b>Комментарий cтудента</b>\n",
    "    \n",
    "  Добавил.\n",
    "</div>\n",
    "<div class=\"alert alert-success\">\n",
    "  \n",
    "  <b>Комментарий ревьюера v.2</b>\n",
    "    \n",
    "  ✔️ 👌\n",
    "</div>"
   ]
  },
  {
   "cell_type": "code",
   "execution_count": 19,
   "metadata": {},
   "outputs": [
    {
     "data": {
      "image/png": "[encoded data removed]",
      "text/plain": [
       "<Figure size 792x288 with 1 Axes>"
      ]
     },
     "metadata": {
      "needs_background": "light"
     },
     "output_type": "display_data"
    }
   ],
   "source": [
    "# 2. Построим график кумулятивного среднего чека по группам, для чего \n",
    "# разделим кумулятивную выручку на кумулятивное число заказов:\n",
    "\n",
    "plt.figure(figsize=(11, 4))\n",
    "plt.title(\"Кумулятивный средний чек по дням и группам\")\n",
    "plt.plot(\n",
    "cumulativeRevenueA['date'], cumulativeRevenueA['revenue']/cumulativeRevenueA['orders'], label='A'\n",
    ")\n",
    "plt.plot(\n",
    "cumulativeRevenueB['date'], cumulativeRevenueB['revenue']/cumulativeRevenueB['orders'], label='B'\n",
    ")\n",
    "plt.legend()\n",
    "plt.xlabel('Дни теста', fontsize=10)\n",
    "plt.ylabel('Сумма чека', fontsize=10)\n",
    "plt.show()"
   ]
  },
  {
   "cell_type": "markdown",
   "metadata": {},
   "source": [
    "<span style=\"color:blue\">Средний чек по группе B почти на 50% выше, чем по группе A. К концу теста средний чек по обеим группам стабилизируется. В группе B посередине теста на графике наблюдается резкий всплеск. Возможно сюда попали крупные заказы. Видимо нужно больше данных, чтобы прийти к реальному среднему чеку по группе B.</span> "
   ]
  },
  {
   "cell_type": "markdown",
   "metadata": {},
   "source": [
    "<div class=\"alert alert-success\">\n",
    "  \n",
    "  <b>Комментарий ревьюера</b>\n",
    "    \n",
    "  ✔️ Да, тут так-же группа В выделяется.\n",
    "</div>"
   ]
  },
  {
   "cell_type": "code",
   "execution_count": 20,
   "metadata": {},
   "outputs": [
    {
     "data": {
      "image/png": "[encoded data removed]",
      "text/plain": [
       "<Figure size 792x288 with 1 Axes>"
      ]
     },
     "metadata": {
      "needs_background": "light"
     },
     "output_type": "display_data"
    }
   ],
   "source": [
    "# 3. Построим график относительного изменения кумулятивного среднего чека группы B к группе A,\n",
    "# для чего сначала соберем данные в одном датафрейме:\n",
    "\n",
    "mergedCumulativeRevenue = cumulativeRevenueA.merge (\n",
    "                         cumulativeRevenueB, \n",
    "                         left_on='date', \n",
    "                         right_on='date', \n",
    "                         how='left', \n",
    "                         suffixes=['A', 'B']\n",
    ")\n",
    "\n",
    "# Поcтроим отношение средних чеков и добавим ось X:\n",
    "\n",
    "plt.figure(figsize=(11, 4))\n",
    "plt.title(\"Изменение кумулятивного среднего чека группы B к группе A\")\n",
    "plt.plot(\n",
    "    mergedCumulativeRevenue['date'], \n",
    "    (mergedCumulativeRevenue['revenueB']/mergedCumulativeRevenue['ordersB'])\n",
    "    /(mergedCumulativeRevenue['revenueA']/mergedCumulativeRevenue['ordersA'])-1\n",
    ")\n",
    "plt.axhline(y=0, color='black', linestyle='--')\n",
    "plt.xlabel('Дни теста', fontsize=10)\n",
    "plt.ylabel('Отношение среднего чека', fontsize=10)\n",
    "plt.show()"
   ]
  },
  {
   "cell_type": "markdown",
   "metadata": {},
   "source": [
    "<span style=\"color:blue\">Вцелом группа B выигрывает у группы A. В нескольких точках график различия между сегментами резко «скачет». Вероятно это связано с крупными заказами и выбросами.</span>"
   ]
  },
  {
   "cell_type": "markdown",
   "metadata": {},
   "source": [
    "<div class=\"alert alert-success\">\n",
    "  \n",
    "  <b>Комментарий ревьюера</b>\n",
    "    \n",
    "  ✔️ Верно, похоже на крупные заказы.\n",
    "</div>"
   ]
  },
  {
   "cell_type": "code",
   "execution_count": 21,
   "metadata": {},
   "outputs": [
    {
     "data": {
      "image/png": "[encoded data removed]",
      "text/plain": [
       "<Figure size 792x288 with 1 Axes>"
      ]
     },
     "metadata": {
      "needs_background": "light"
     },
     "output_type": "display_data"
    }
   ],
   "source": [
    "# 4. Построим график кумулятивного среднего количества заказов по группам:\n",
    "\n",
    "plt.figure(figsize=(11, 4))\n",
    "plt.title(\"Кумулятивное среднее количество заказов по группам\")\n",
    "plt.plot(cumulativeRevenueA['date'], cumulativeRevenueA['orders'], label='A')\n",
    "plt.plot(cumulativeRevenueB['date'], cumulativeRevenueB['orders'], label='B')\n",
    "plt.legend()\n",
    "plt.xlabel('Дни теста', fontsize=10)\n",
    "plt.ylabel('Количество заказов', fontsize=10)\n",
    "plt.show()"
   ]
  },
  {
   "cell_type": "markdown",
   "metadata": {},
   "source": [
    "<span style=\"color:blue\">Кумулятивное среднее количество заказов по обеим группам равномерно растет, к концу теста количество заказов по группе B незначительно превышает аналогичный показатель по группе A.</span>"
   ]
  },
  {
   "cell_type": "markdown",
   "metadata": {},
   "source": [
    "<div class=\"alert alert-success\">\n",
    "  \n",
    "  <b>Комментарий ревьюера</b>\n",
    "    \n",
    "  ✔️ Согласен, группа В в лидерах.\n",
    "</div>"
   ]
  },
  {
   "cell_type": "code",
   "execution_count": 22,
   "metadata": {},
   "outputs": [
    {
     "data": {
      "image/png": "[encoded data removed]",
      "text/plain": [
       "<Figure size 792x288 with 1 Axes>"
      ]
     },
     "metadata": {
      "needs_background": "light"
     },
     "output_type": "display_data"
    }
   ],
   "source": [
    "# 5. Построим график относительного изменения кумулятивного среднего количества \n",
    "# заказов группы B к группе A:\n",
    "\n",
    "plt.figure(figsize=(11, 4))\n",
    "plt.title(\"Изменение кумулятивного среднего количества заказов группы B к группе A\")\n",
    "plt.plot(\n",
    "    mergedCumulativeRevenue['date'], \n",
    "    (mergedCumulativeRevenue['ordersB'])/(mergedCumulativeRevenue['ordersA'])-1\n",
    ")\n",
    "plt.axhline(y=0, color='black', linestyle='--')\n",
    "plt.xlabel('Дни теста', fontsize=10)\n",
    "plt.ylabel('Изменение среднего количества заказов', fontsize=10)\n",
    "plt.show()"
   ]
  },
  {
   "cell_type": "markdown",
   "metadata": {},
   "source": [
    "<span style=\"color:blue\">Вцелом на протяжении всего теста группа B выигрывает у группы A. Вначале теста график различия между сегментами резко «скачет». Вероятно это связано с крупными заказами и выбросами.</span>"
   ]
  },
  {
   "cell_type": "markdown",
   "metadata": {},
   "source": [
    "<div class=\"alert alert-success\">\n",
    "  \n",
    "  <b>Комментарий ревьюера</b>\n",
    "    \n",
    "  ✔️ Да, конверсия в группе В выше, а еще в последней трети эксперимента наблюдается стабилизация результатов.\n",
    "</div>"
   ]
  },
  {
   "cell_type": "code",
   "execution_count": 23,
   "metadata": {},
   "outputs": [
    {
     "data": {
      "image/png": "[encoded data removed]",
      "text/plain": [
       "<Figure size 576x288 with 1 Axes>"
      ]
     },
     "metadata": {
      "needs_background": "light"
     },
     "output_type": "display_data"
    }
   ],
   "source": [
    "# 6. Построим точечный график количества заказов по пользователям, для чего сначала сгруппируем\n",
    "# количество заказов по пользователям и присвоим столбцам названия:\n",
    "\n",
    "ordersByUsers = (\n",
    "    orders.groupby('visitorid', as_index=False)\n",
    "    .agg({'transactionid': 'nunique'})\n",
    ")\n",
    "ordersByUsers.columns = ['visitorid', 'orders']\n",
    "\n",
    "# Построим точечную диаграмму числа заказов на одного пользователя, для чего сначала \n",
    "# сгенерируем серию из чисел от 0 до количества наблюдений в ordersByUsers:\n",
    "\n",
    "x_values = pd.Series(range(0,len(ordersByUsers)))\n",
    "plt.figure(figsize=(8, 4))\n",
    "plt.title(\"Число заказов на одного пользователя\")\n",
    "plt.scatter(x_values, ordersByUsers['orders'])\n",
    "plt.xlabel('Количество', fontsize=10)\n",
    "plt.ylabel('Число заказов', fontsize=10)\n",
    "plt.show()"
   ]
  },
  {
   "cell_type": "markdown",
   "metadata": {},
   "source": [
    "<span style=\"color:blue\">На графике наблюдаем больше всего пользователей с 2 и 3 заказами. Также есть достаточное количество пользователей с 3-5 заказами.</span>"
   ]
  },
  {
   "cell_type": "code",
   "execution_count": 24,
   "metadata": {},
   "outputs": [
    {
     "name": "stdout",
     "output_type": "stream",
     "text": [
      "[1. 2.]\n"
     ]
    }
   ],
   "source": [
    "# 7. Посчитаем 95-й и 99-й перцентили количества заказов на пользователя:\n",
    "\n",
    "print(np.percentile(ordersByUsers['orders'], [95, 99]))"
   ]
  },
  {
   "cell_type": "markdown",
   "metadata": {},
   "source": [
    "<span style=\"color:blue\">Один процент пользователей оформляли более 4 заказов и пять процентов пользователей оформляли более 2 заказов. Целесообразно за верхнюю границу взять 2 заказа.</span>"
   ]
  },
  {
   "cell_type": "markdown",
   "metadata": {},
   "source": [
    "<div class=\"alert alert-warning\">\n",
    "    \n",
    "  <b>Комментарий ревьюера</b>\n",
    "    \n",
    "  ⚠️ Перцентали выбраны верно. Но скорее всего, после обнаружения пользователей, которые вошли в обе группы (что не совсем верно) границы выбросов изменятся. Еще раз перепроверь свое решение после дополнения части с предобработкой.\n",
    "</div>"
   ]
  },
  {
   "cell_type": "code",
   "execution_count": 25,
   "metadata": {},
   "outputs": [
    {
     "data": {
      "image/png": "[encoded data removed]",
      "text/plain": [
       "<Figure size 576x288 with 1 Axes>"
      ]
     },
     "metadata": {
      "needs_background": "light"
     },
     "output_type": "display_data"
    },
    {
     "data": {
      "image/png": "[encoded data removed]",
      "text/plain": [
       "<Figure size 576x288 with 1 Axes>"
      ]
     },
     "metadata": {
      "needs_background": "light"
     },
     "output_type": "display_data"
    }
   ],
   "source": [
    "# 8. Построим точечные графики стоимостей заказов:\n",
    "\n",
    "x_values = pd.Series(range(0,len(orders['revenue'])))\n",
    "plt.figure(figsize=(8, 4))\n",
    "plt.title(\"Стоимость заказов\")\n",
    "plt.scatter(x_values, orders['revenue'])\n",
    "plt.xlabel('Количество', fontsize=10)\n",
    "plt.ylabel('Стоимость заказов, млн.', fontsize=10)\n",
    "plt.show()\n",
    "\n",
    "plt.figure(figsize=(8, 4))\n",
    "plt.title(\"Стоимость заказов до 200000\")\n",
    "plt.scatter(x_values, orders['revenue'])\n",
    "plt.ylim([0, 200000])\n",
    "plt.xlabel('Количество', fontsize=10)\n",
    "plt.ylabel('Стоимость заказов', fontsize=10)\n",
    "plt.show()"
   ]
  },
  {
   "cell_type": "markdown",
   "metadata": {},
   "source": [
    "<span style=\"color:blue\">Есть один сверхдорогой заказ ценой более 1.2 млн и один дорогой заказ ценой более 200 тыс. Остальные заказы лежат в пределах 100 тыс. По графику можно выбрать границу аномальных заказов между 25 000 и 50 000 рублей. "
   ]
  },
  {
   "cell_type": "code",
   "execution_count": 26,
   "metadata": {},
   "outputs": [
    {
     "name": "stdout",
     "output_type": "stream",
     "text": [
      "[26785. 53904.]\n"
     ]
    }
   ],
   "source": [
    "# 9. Посчитаем 95-й и 99-й перцентили стоимости заказов:\n",
    "\n",
    "print(np.percentile(orders['revenue'], [95, 99]))"
   ]
  },
  {
   "cell_type": "markdown",
   "metadata": {},
   "source": [
    "<span style=\"color:blue\">Не более 1% пользователей оформляли заказы дороже примерно 58 тыс. И 5% пользователей оформляли заказы дороже 28 тыс. Разумно выбрать 28 тыс. за верхнюю границу стоимости заказов, и отсеять аномальных пользователей по ней.</span>"
   ]
  },
  {
   "cell_type": "markdown",
   "metadata": {},
   "source": [
    "<div class=\"alert alert-warning\">\n",
    "    \n",
    "  <b>Комментарий ревьюера</b>\n",
    "    \n",
    "  ⚠️ Здесь тоже границы выбросов должны скорректироваться.\n",
    "</div>"
   ]
  },
  {
   "cell_type": "code",
   "execution_count": 27,
   "metadata": {},
   "outputs": [],
   "source": [
    "# 10. Посчитаем статистическую значимость различий в среднем количестве заказов \n",
    "# между группами по «сырым» данным. Сначала подготовим данные.\n",
    "# Посчитаем кумулятивное количество посетителей по датам по группам A и B:\n",
    "\n",
    "visitorsADaily = visitors[visitors['group'] == 'A'][['date', 'visitors']]\n",
    "visitorsADaily.columns = ['date', 'visitorsPerDateA']\n",
    "\n",
    "visitorsACummulative = visitorsADaily.apply(\n",
    "    lambda x: visitorsADaily[visitorsADaily['date'] <= x['date']].agg(\n",
    "        {'date': 'max', 'visitorsPerDateA': 'sum'}\n",
    "    ),\n",
    "    axis=1,\n",
    ")\n",
    "visitorsACummulative.columns = ['date', 'visitorsCummulativeA']\n",
    "\n",
    "visitorsBDaily = visitors[visitors['group'] == 'B'][['date', 'visitors']]\n",
    "visitorsBDaily.columns = ['date', 'visitorsPerDateB']\n",
    "\n",
    "visitorsBCummulative = visitorsBDaily.apply(\n",
    "    lambda x: visitorsBDaily[visitorsBDaily['date'] <= x['date']].agg(\n",
    "        {'date': 'max', 'visitorsPerDateB': 'sum'}\n",
    "    ),\n",
    "    axis=1,\n",
    ")\n",
    "visitorsBCummulative.columns = ['date', 'visitorsCummulativeB']"
   ]
  },
  {
   "cell_type": "code",
   "execution_count": 28,
   "metadata": {},
   "outputs": [],
   "source": [
    "# Посчитаем кумулятивные количество заказов и выручку по дням по группам A и B:\n",
    "\n",
    "ordersADaily = (\n",
    "    orders[orders['group'] == 'A'][['date', 'transactionid', 'visitorid', 'revenue']]\n",
    "    .groupby('date', as_index=False)\n",
    "    .agg({'transactionid': pd.Series.nunique, 'revenue': 'sum'})\n",
    ")\n",
    "ordersADaily.columns = ['date', 'ordersPerDateA', 'revenuePerDateA']\n",
    "ordersACummulative = ordersADaily.apply(\n",
    "    lambda x: ordersADaily[ordersADaily['date'] <= x['date']].agg(\n",
    "        {'date': 'max', 'ordersPerDateA': 'sum', 'revenuePerDateA': 'sum'}\n",
    "    ),\n",
    "    axis=1,\n",
    ").sort_values(by=['date'])\n",
    "ordersACummulative.columns = [\n",
    "    'date',\n",
    "    'ordersCummulativeA',\n",
    "    'revenueCummulativeA',\n",
    "]\n",
    "\n",
    "ordersBDaily = (\n",
    "    orders[orders['group'] == 'B'][['date', 'transactionid', 'visitorid', 'revenue']]\n",
    "    .groupby('date', as_index=False)\n",
    "    .agg({'transactionid': pd.Series.nunique, 'revenue': 'sum'})\n",
    ")\n",
    "ordersBDaily.columns = ['date', 'ordersPerDateB', 'revenuePerDateB']\n",
    "\n",
    "ordersBCummulative = ordersBDaily.apply(\n",
    "    lambda x: ordersBDaily[ordersBDaily['date'] <= x['date']].agg(\n",
    "        {'date': 'max', 'ordersPerDateB': 'sum', 'revenuePerDateB': 'sum'}\n",
    "    ),\n",
    "    axis=1,\n",
    ").sort_values(by=['date'])\n",
    "ordersBCummulative.columns = [\n",
    "    'date',\n",
    "    'ordersCummulativeB',\n",
    "    'revenueCummulativeB',\n",
    "]"
   ]
  },
  {
   "cell_type": "code",
   "execution_count": 29,
   "metadata": {},
   "outputs": [],
   "source": [
    "# Объединим все таблицы в одну:\n",
    "\n",
    "data = (\n",
    "    ordersADaily.merge(\n",
    "        ordersBDaily, left_on='date', right_on='date', how='left'\n",
    "    )\n",
    "    .merge(ordersACummulative, left_on='date', right_on='date', how='left')\n",
    "    .merge(ordersBCummulative, left_on='date', right_on='date', how='left')\n",
    "    .merge(visitorsADaily, left_on='date', right_on='date', how='left')\n",
    "    .merge(visitorsBDaily, left_on='date', right_on='date', how='left')\n",
    "    .merge(visitorsACummulative, left_on='date', right_on='date', how='left')\n",
    "    .merge(visitorsBCummulative, left_on='date', right_on='date', how='left')\n",
    ")"
   ]
  },
  {
   "cell_type": "code",
   "execution_count": 30,
   "metadata": {},
   "outputs": [],
   "source": [
    "# Создадим переменные ordersByUsersA и ordersByUsersB со столбцами ['visitorid', 'orders']. \n",
    "# В них для пользователей, которые заказывали хотя бы 1 раз, укажем число совершённых заказов:\n",
    "\n",
    "ordersByUsersA = (\n",
    "    orders[orders['group'] == 'A']\n",
    "    .groupby('visitorid', as_index=False)\n",
    "    .agg({'transactionid': pd.Series.nunique})\n",
    ")\n",
    "ordersByUsersA.columns = ['visitorid', 'orders']\n",
    "\n",
    "ordersByUsersB = (\n",
    "    orders[orders['group'] == 'B']\n",
    "    .groupby('visitorid', as_index=False)\n",
    "    .agg({'transactionid': pd.Series.nunique})\n",
    ")\n",
    "ordersByUsersB.columns = ['visitorid', 'orders']"
   ]
  },
  {
   "cell_type": "code",
   "execution_count": 31,
   "metadata": {},
   "outputs": [],
   "source": [
    "# Объявим переменные sampleA и sampleB, в которых пользователям из разных групп будет \n",
    "# соответствовать количество заказов. Тем, кто ничего не заказал, будут соответствовать нули:\n",
    "\n",
    "sampleA = pd.concat([ordersByUsersA['orders'],pd.Series(0, \n",
    "index=np.arange(data['visitorsPerDateA'].sum() - len(ordersByUsersA['orders'])), \n",
    "name='orders')],axis=0)\n",
    "\n",
    "sampleB = pd.concat([ordersByUsersB['orders'],pd.Series(0, \n",
    "index=np.arange(data['visitorsPerDateB'].sum() - len(ordersByUsersB['orders'])), \n",
    "name='orders')],axis=0)"
   ]
  },
  {
   "cell_type": "code",
   "execution_count": 32,
   "metadata": {},
   "outputs": [
    {
     "name": "stdout",
     "output_type": "stream",
     "text": [
      "p-value: 0.011\n",
      "Относительное различие: 0.160\n"
     ]
    }
   ],
   "source": [
    "# Сформулируем гипотезы между группами A и B. \n",
    "# H0 - различий в среднем количестве заказов между группами нет. \n",
    "# H1 - различия в среднем между группами есть. \n",
    "# Применим критерий Манна-Уитни и отформатируем p-value, округлив его до трёх знаков после запятой.\n",
    "# Также выведем относительный прирост среднего числа заказов группы B:\n",
    "    \n",
    "print('p-value:', \"{0:.3f}\".format(stats.mannwhitneyu(sampleA, sampleB)[1]))\n",
    "print('Относительное различие:', \"{0:.3f}\".format(sampleB.mean() / sampleA.mean() - 1))"
   ]
  },
  {
   "cell_type": "markdown",
   "metadata": {},
   "source": [
    "<div class=\"alert alert-success\">\n",
    "  \n",
    "  <b>Комментарий ревьюера</b>\n",
    "    \n",
    "  ✔️ Нулевая и альтернативная гипотезы сформулированы. Можно конкретизировать: между группами A и B, т.к. иногда бывает больше 2 групп. \n",
    "\n",
    "А сами гипотезы обычно обозначают так:\n",
    "- H0 - Нет  различий ....\n",
    "- H1 - Есть различия ....\n",
    "    \n",
    "</div>\n",
    "<div class=\"alert alert-block alert-info\">\n",
    "  \n",
    "  <b>Комментарий cтудента</b>\n",
    "    \n",
    "  Поменял.\n",
    "</div>"
   ]
  },
  {
   "cell_type": "markdown",
   "metadata": {},
   "source": [
    "<span style=\"color:blue\">По «сырым» данным есть различия в среднем числе заказов групп A и B.\n",
    "Первое число — p-value = 0.017 меньше 0.05. Значит, нулевую гипотезу о том, что статистически значимых различий в среднем числе заказов между группами нет, отвергаем. Второе число в выводе означает относительный выигрыш группы B, который равен 13.8%.</span>"
   ]
  },
  {
   "cell_type": "markdown",
   "metadata": {},
   "source": [
    "<div class=\"alert alert-success\">\n",
    "  \n",
    "  <b>Комментарий ревьюера</b>\n",
    "    \n",
    "  ✔️ Верно выбран сам тест и верно проинтерпретированы  его результаты!\n",
    "</div>\n",
    "<div class=\"alert alert-warning\">\n",
    "    \n",
    "  <b>Комментарий ревьюера</b>\n",
    "    \n",
    "  ⚠️ Стоит подписать выводимые значения, хотя-бы p-value.\n",
    "</div>\n",
    "<div class=\"alert alert-block alert-info\">\n",
    "  \n",
    "  <b>Комментарий cтудента</b>\n",
    "    \n",
    "  Добавил.\n",
    "</div>\n",
    "<div class=\"alert alert-success\">\n",
    "  \n",
    "  <b>Комментарий ревьюера v.2</b>\n",
    "    \n",
    "  ✔️ Хорошо.\n",
    "</div>"
   ]
  },
  {
   "cell_type": "code",
   "execution_count": 33,
   "metadata": {},
   "outputs": [
    {
     "name": "stdout",
     "output_type": "stream",
     "text": [
      "p-value: 0.829\n",
      "Относительное различие: 0.287\n"
     ]
    }
   ],
   "source": [
    "# 11. Посчитаем статистическую значимость различий в среднем чеке заказа между группами \n",
    "# по «сырым» данным. Сформулируем гипотезы между группами A и B.\n",
    "# H0 - различий в среднем чеке между группами нет. \n",
    "# H1 - различия в среднем чеке между группами есть:\n",
    "\n",
    "print('p-value:', '{0:.3f}'.format(stats.mannwhitneyu(orders[orders['group']=='A']\n",
    "['revenue'], orders[orders['group']=='B']['revenue'])[1]))\n",
    "print('Относительное различие:', '{0:.3f}'.format(orders[orders['group']=='B']\n",
    "['revenue'].mean()/orders[orders['group']=='A']['revenue'].mean()-1)) "
   ]
  },
  {
   "cell_type": "markdown",
   "metadata": {},
   "source": [
    "<span style=\"color:blue\">P-value значительно больше 0.05. Значит, причин отвергать нулевую гипотезу и считать, что в среднем чеке есть различия, нет. Наблюдаемое различие в среднем чеке между группами A и B в размере 27.4% не является статистически значимым.</span>"
   ]
  },
  {
   "cell_type": "markdown",
   "metadata": {},
   "source": [
    "<div class=\"alert alert-warning\">\n",
    "    \n",
    "  <b>Комментарий ревьюера</b>\n",
    "    \n",
    "  ⚠️ С одной стороны не отвергаем нулевую гипотезу, но потом говорим, что \"Средний чек группы B превышает средний чек группы A.\". Выводы немного противоречат друг другу. Тут лучше изменить интерпретацию: наблюдаемое различие в 25.9%... не является стат. значимым... и .т.д.\n",
    "\n",
    "</div>   \n",
    "<div class=\"alert alert-block alert-info\">\n",
    "  \n",
    "  <b>Комментарий cтудента</b>\n",
    "    \n",
    "  Поменял.\n",
    "</div>\n",
    "<div class=\"alert alert-success\">\n",
    "  \n",
    "  <b>Комментарий ревьюера v.2</b>\n",
    "    \n",
    "  ✔️ Так вывод звучит корректней. \n",
    "    \n",
    "Тут все просто. Раз теcт показал, что нет стат значимой разницы между группами - то каково бы различие чека не было, оно не будет являться стат. значимым (у нас тут выбросы дают большое различие чеков, но их всего несколько и на общее различие среднего чека по группам они не влияют)\n",
    "</div>"
   ]
  },
  {
   "cell_type": "code",
   "execution_count": 34,
   "metadata": {},
   "outputs": [
    {
     "name": "stdout",
     "output_type": "stream",
     "text": [
      "Всего аномальных пользователей: 55\n",
      "Доля аномальных пользователей от всех пользователей в процентах: 5.65\n"
     ]
    }
   ],
   "source": [
    "# 12. Посчитаем статистическую значимость различий в среднем количестве заказов \n",
    "# между группами по «очищенным» данным, для чего сначала сделаем срез по аномальным пользователям,\n",
    "# сделавшим более 2-х заказов:\n",
    "\n",
    "usersWithManyOrders = pd.concat(\n",
    "    [\n",
    "        ordersByUsersA[ordersByUsersA['orders'] > 2]['visitorid'],\n",
    "        ordersByUsersB[ordersByUsersB['orders'] > 2]['visitorid'],\n",
    "    ],\n",
    "    axis=0,\n",
    ")\n",
    "\n",
    "# Cделаем срез по аномальным пользователям, сделавшим заказ на сумму более 28 тыс.:\n",
    "\n",
    "usersWithExpensiveOrders = orders[orders['revenue'] > 28000]['visitorid']\n",
    "abnormalUsers = (\n",
    "    pd.concat([usersWithManyOrders, usersWithExpensiveOrders], axis=0)\n",
    "    .drop_duplicates()\n",
    "    .sort_values()\n",
    ")\n",
    "print('Всего аномальных пользователей:', abnormalUsers.shape[0])\n",
    "print('Доля аномальных пользователей от всех пользователей в процентах:', \n",
    "      round(abnormalUsers.shape[0]/orders['visitorid'].nunique()*100, 2))"
   ]
  },
  {
   "cell_type": "markdown",
   "metadata": {},
   "source": [
    "<span style=\"color:blue\">Всего 55 аномальных пользователя. Аномальными считаем пользователей, совершивших более двух заказов либо совершивших заказы на сумму более 28 тыс. Доля аномальных пользователей составляет 5.33%</span>"
   ]
  },
  {
   "cell_type": "markdown",
   "metadata": {},
   "source": [
    "<div class=\"alert alert-warning\">\n",
    "    \n",
    "  <b>Комментарий ревьюера</b>\n",
    "    \n",
    "  ⚠️ Тут можно или непосредственно вычисления по 95 / 99 перцентилю, например:\n",
    "```python \n",
    "revenue_lim = np.percentile(orders['revenue'], 95)`\n",
    "```\n",
    "или задавать в качестве отдельной переменой:\n",
    "\n",
    "```python \n",
    "revenue_lim = 100000\n",
    "usersWithExpensiveOrders = orders[orders['revenue'] > revenue_lim]['visitorId']`\n",
    "```\n",
    "\n",
    "</div>"
   ]
  },
  {
   "cell_type": "code",
   "execution_count": 35,
   "metadata": {},
   "outputs": [],
   "source": [
    "# Посчитаем статистическую значимость различий в среднем количестве заказов \n",
    "# между группами по «очищенным» данным, для чего сначала подготовим выборки \n",
    "# количества заказов по пользователям по группам теста без учета аномальных пользователей:\n",
    "\n",
    "sampleAFiltered = pd.concat(\n",
    "    [\n",
    "        ordersByUsersA[\n",
    "            np.logical_not(ordersByUsersA['visitorid'].isin(abnormalUsers))\n",
    "        ]['orders'],\n",
    "        pd.Series(\n",
    "            0,\n",
    "            index=np.arange(\n",
    "                data['visitorsPerDateA'].sum() - len(ordersByUsersA['orders'])\n",
    "            ),\n",
    "            name='orders',\n",
    "        ),\n",
    "    ],\n",
    "    axis=0,\n",
    ")\n",
    "\n",
    "sampleBFiltered = pd.concat(\n",
    "    [\n",
    "        ordersByUsersB[\n",
    "            np.logical_not(ordersByUsersB['visitorid'].isin(abnormalUsers))\n",
    "        ]['orders'],\n",
    "        pd.Series(\n",
    "            0,\n",
    "            index=np.arange(\n",
    "                data['visitorsPerDateB'].sum() - len(ordersByUsersB['orders'])\n",
    "            ),\n",
    "            name='orders',\n",
    "        ),\n",
    "    ],\n",
    "    axis=0,\n",
    ") "
   ]
  },
  {
   "cell_type": "code",
   "execution_count": 36,
   "metadata": {},
   "outputs": [
    {
     "name": "stdout",
     "output_type": "stream",
     "text": [
      "p-value: 0.009\n",
      "Относительное различие: 0.189\n"
     ]
    }
   ],
   "source": [
    "# Сформулируем гипотезы между группами A и B. \n",
    "# H0 - различий в среднем количестве заказов между группами по \"чистым\" данным нет. \n",
    "# H1 - различия в среднем между группами есть.\n",
    "# Применим статистический критерий Манна-Уитни к полученным выборкам:\n",
    "\n",
    "print('p-value:', '{0:.3f}'.format(stats.mannwhitneyu(sampleAFiltered, sampleBFiltered)[1]))\n",
    "print('Относительное различие:', '{0:.3f}'.format(sampleBFiltered.mean()/sampleAFiltered.mean()-1)) "
   ]
  },
  {
   "cell_type": "markdown",
   "metadata": {},
   "source": [
    "<span style=\"color:blue\">Результаты по среднему количеству заказов практически не изменились. P-value по \"грязным\" данным составлял 0.017, стал 0.013. Т.е. также есть основания отвергнуть нулевую гипотезу. Относительный прирост среднего числа заказов по \"грязным\" данным составлял 0.138, стал 0.173.</span>"
   ]
  },
  {
   "cell_type": "markdown",
   "metadata": {},
   "source": [
    "<div class=\"alert alert-success\">\n",
    "  \n",
    "  <b>Комментарий ревьюера</b>\n",
    "    \n",
    "  ✔️ Верно! И тут отвергаем нулевую гипотезу.\n",
    "</div>"
   ]
  },
  {
   "cell_type": "code",
   "execution_count": 37,
   "metadata": {},
   "outputs": [
    {
     "name": "stdout",
     "output_type": "stream",
     "text": [
      "p-value: 0.762\n",
      "Относительное различие: -0.022\n"
     ]
    }
   ],
   "source": [
    "# 13. Посчитаем статистическую значимость различий в среднем чеке заказа \n",
    "# между группами по «очищенным» данным. Сформулируем гипотезы между группами A и B. \n",
    "# H0 - различий в среднем чеке между группами по \"чистым\" данным нет. \n",
    "# H1 - различия в среднем чеке между группами есть.\n",
    "\n",
    "print('p-value:', \n",
    "    '{0:.3f}'.format(\n",
    "        stats.mannwhitneyu(\n",
    "            orders[\n",
    "                np.logical_and(\n",
    "                    orders['group'] == 'A',\n",
    "                    np.logical_not(orders['visitorid'].isin(abnormalUsers)),\n",
    "                )\n",
    "            ]['revenue'],\n",
    "            orders[\n",
    "                np.logical_and(\n",
    "                    orders['group'] == 'B',\n",
    "                    np.logical_not(orders['visitorid'].isin(abnormalUsers)),\n",
    "                )\n",
    "            ]['revenue'],\n",
    "        )[1]\n",
    "    )\n",
    ")\n",
    "\n",
    "print('Относительное различие:', \n",
    "    \"{0:.3f}\".format(\n",
    "        orders[\n",
    "            np.logical_and(\n",
    "                orders['group'] == 'B',\n",
    "                np.logical_not(orders['visitorid'].isin(abnormalUsers)),\n",
    "            )\n",
    "        ]['revenue'].mean()\n",
    "        / orders[\n",
    "            np.logical_and(\n",
    "                orders['group'] == 'A',\n",
    "                np.logical_not(orders['visitorid'].isin(abnormalUsers)),\n",
    "            )\n",
    "        ]['revenue'].mean()\n",
    "        - 1\n",
    "    )\n",
    ") "
   ]
  },
  {
   "cell_type": "markdown",
   "metadata": {},
   "source": [
    "<span style=\"color:blue\">P-value изменился незначительно: 0.738 в \"очищенных\" данных против 0.729 в \"грязных\" данных. Таким образом, гипотезу не отвергаем и по-прежнему нет статистической значимости различия среднего чека заказов по группам. Разница между сегментами сократилась с 25% (0.259) практически до нуля (-0.020). Цифра в 25% вероятно была связана с выбросами, которые не вошли в \"чистые\" данные.</span>"
   ]
  },
  {
   "cell_type": "markdown",
   "metadata": {},
   "source": [
    "<div class=\"alert alert-warning\">\n",
    "    \n",
    "  <b>Комментарий ревьюера</b>\n",
    "    \n",
    "  ⚠️ Согласен, только обрати, пожалуйста, внимание на выводы: в начале мы можем говорить о наблюдаемых различиях, а потом показать - являются ли они стат. значимыми или нет.\n",
    "\n",
    "</div>\n",
    "<div class=\"alert alert-block alert-info\">\n",
    "  \n",
    "  <b>Комментарий cтудента</b>\n",
    "    \n",
    "  Принято.\n",
    "</div>\n"
   ]
  },
  {
   "cell_type": "markdown",
   "metadata": {},
   "source": [
    "### Общий вывод"
   ]
  },
  {
   "cell_type": "markdown",
   "metadata": {},
   "source": [
    "<span style=\"color:blue\">\n",
    "По результатам проведенного A/B-теста можно сделать следующие выводы:\n",
    "    \n",
    "- Есть статистически значимое различие по среднему количеству заказов между группами как по сырым данным, так и после фильтрации аномалий;\n",
    "- Нет статистически значимого различия по среднему чеку между группами ни по «сырым», ни по данным после фильтрации аномалий;\n",
    "- График различия среднего количества заказов между группами сообщает, что результаты группы B лучше группы A и есть тенденция к улучшению;\n",
    "- График различия среднего чека сильно колеблется из-за аномалий, однако с середины теста говорит о том, что результаты группы B превышают группу A.\n",
    "    \n",
    "Исходя из обнаруженных фактов, тест следует остановить и признать его успешным. Продолжать смысла нет, потому как вероятность, что при имеющихся данных сегмент B станет хуже сегмента A — практически нулевая.\n",
    "</span>"
   ]
  },
  {
   "cell_type": "markdown",
   "metadata": {},
   "source": [
    "<div class=\"alert alert-success\">\n",
    "  \n",
    "  <b>Комментарий ревьюера</b>\n",
    "    \n",
    "  ✔️  Верно! Тут тест окрасился только на половину - по конверсии. Но это тоже хорошо, т.к. стат.значимой разницы по среднему чеку нет (чек не увеличился, но и не уменьшился) то при выросшей конверсии с сохранившимся средним чеком выручка будет так-же расти! И значит мы заканчиваем анализ A/B-теста - он оказался успешным! 🙂\n",
    "\n",
    "</div>"
   ]
  },
  {
   "cell_type": "markdown",
   "metadata": {},
   "source": [
    "<div style=\"border:solid black 2px; padding: 20px\">\n",
    "  \n",
    "    \n",
    "  <b>Чек-лист доработок</b>\n",
    "    \n",
    "  📃 Проверить данные на пропуски и дубликаты.\n",
    "  \n",
    "  📃 Проверить корректность разбиения пользователей на группы.\n",
    "    \n",
    "  📃 Пересмотреть выбросы по количеству и стоимости заказов.\n",
    "    \n",
    "  \n",
    "Жду твой проект на повторное ревью. Не стесняйся оставлять комментарии и задавать вопросы. Удачи! Все получится.\n",
    "</div>"
   ]
  }
 ],
 "metadata": {
  "ExecuteTimeLog": [
   {
    "duration": 89,
    "start_time": "2022-11-16T12:33:17.617Z"
   },
   {
    "duration": 1301,
    "start_time": "2022-11-16T12:41:47.689Z"
   },
   {
    "duration": 69,
    "start_time": "2022-11-16T12:42:07.999Z"
   },
   {
    "duration": 2,
    "start_time": "2022-11-16T12:43:53.875Z"
   },
   {
    "duration": 28,
    "start_time": "2022-11-16T12:46:10.814Z"
   },
   {
    "duration": 27,
    "start_time": "2022-11-16T12:53:50.611Z"
   },
   {
    "duration": 29,
    "start_time": "2022-11-16T13:02:18.246Z"
   },
   {
    "duration": 33,
    "start_time": "2022-11-16T13:02:24.945Z"
   },
   {
    "duration": 1174,
    "start_time": "2022-11-16T13:04:37.397Z"
   },
   {
    "duration": 33,
    "start_time": "2022-11-16T13:04:38.573Z"
   },
   {
    "duration": 3,
    "start_time": "2022-11-16T13:04:38.607Z"
   },
   {
    "duration": 15,
    "start_time": "2022-11-16T13:04:38.612Z"
   },
   {
    "duration": 9,
    "start_time": "2022-11-16T13:04:53.359Z"
   },
   {
    "duration": 1219,
    "start_time": "2022-11-16T13:05:04.392Z"
   },
   {
    "duration": 31,
    "start_time": "2022-11-16T13:05:05.613Z"
   },
   {
    "duration": 9,
    "start_time": "2022-11-16T13:05:05.645Z"
   },
   {
    "duration": 46,
    "start_time": "2022-11-16T13:05:05.656Z"
   },
   {
    "duration": 10,
    "start_time": "2022-11-16T13:06:54.913Z"
   },
   {
    "duration": 9,
    "start_time": "2022-11-16T13:07:00.202Z"
   },
   {
    "duration": 9,
    "start_time": "2022-11-16T13:08:27.107Z"
   },
   {
    "duration": 104,
    "start_time": "2022-11-16T13:11:55.768Z"
   },
   {
    "duration": 11,
    "start_time": "2022-11-16T13:14:04.398Z"
   },
   {
    "duration": 9,
    "start_time": "2022-11-16T13:27:37.397Z"
   },
   {
    "duration": 1205,
    "start_time": "2022-11-16T13:31:05.303Z"
   },
   {
    "duration": 32,
    "start_time": "2022-11-16T13:31:06.510Z"
   },
   {
    "duration": 8,
    "start_time": "2022-11-16T13:31:06.543Z"
   },
   {
    "duration": 11,
    "start_time": "2022-11-16T13:31:06.554Z"
   },
   {
    "duration": 8,
    "start_time": "2022-11-16T13:31:06.566Z"
   },
   {
    "duration": 169,
    "start_time": "2022-11-16T13:32:39.774Z"
   },
   {
    "duration": 3,
    "start_time": "2022-11-16T13:46:46.134Z"
   },
   {
    "duration": 428,
    "start_time": "2022-11-16T13:48:11.641Z"
   },
   {
    "duration": 292,
    "start_time": "2022-11-16T13:49:36.859Z"
   },
   {
    "duration": 375,
    "start_time": "2022-11-16T13:49:59.249Z"
   },
   {
    "duration": 306,
    "start_time": "2022-11-16T13:52:42.858Z"
   },
   {
    "duration": 33,
    "start_time": "2022-11-16T13:53:57.335Z"
   },
   {
    "duration": 1207,
    "start_time": "2022-11-16T13:55:20.592Z"
   },
   {
    "duration": 31,
    "start_time": "2022-11-16T13:55:21.802Z"
   },
   {
    "duration": 8,
    "start_time": "2022-11-16T13:55:21.835Z"
   },
   {
    "duration": 11,
    "start_time": "2022-11-16T13:55:21.845Z"
   },
   {
    "duration": 10,
    "start_time": "2022-11-16T13:55:21.858Z"
   },
   {
    "duration": 69,
    "start_time": "2022-11-16T13:55:21.870Z"
   },
   {
    "duration": 135,
    "start_time": "2022-11-16T13:55:21.941Z"
   },
   {
    "duration": 39,
    "start_time": "2022-11-16T13:55:41.395Z"
   },
   {
    "duration": 303,
    "start_time": "2022-11-16T13:58:37.859Z"
   },
   {
    "duration": 1198,
    "start_time": "2022-11-16T13:59:02.849Z"
   },
   {
    "duration": 39,
    "start_time": "2022-11-16T13:59:04.050Z"
   },
   {
    "duration": 12,
    "start_time": "2022-11-16T13:59:04.091Z"
   },
   {
    "duration": 14,
    "start_time": "2022-11-16T13:59:04.106Z"
   },
   {
    "duration": 12,
    "start_time": "2022-11-16T13:59:04.122Z"
   },
   {
    "duration": 82,
    "start_time": "2022-11-16T13:59:04.136Z"
   },
   {
    "duration": 548,
    "start_time": "2022-11-16T13:59:04.220Z"
   },
   {
    "duration": 1306,
    "start_time": "2022-11-17T08:07:28.599Z"
   },
   {
    "duration": 64,
    "start_time": "2022-11-17T08:07:29.907Z"
   },
   {
    "duration": 8,
    "start_time": "2022-11-17T08:07:29.972Z"
   },
   {
    "duration": 10,
    "start_time": "2022-11-17T08:07:29.982Z"
   },
   {
    "duration": 8,
    "start_time": "2022-11-17T08:07:29.993Z"
   },
   {
    "duration": 142,
    "start_time": "2022-11-17T08:07:30.002Z"
   },
   {
    "duration": 520,
    "start_time": "2022-11-17T08:07:30.146Z"
   },
   {
    "duration": 1192,
    "start_time": "2022-11-17T08:31:49.409Z"
   },
   {
    "duration": 30,
    "start_time": "2022-11-17T08:31:50.603Z"
   },
   {
    "duration": 7,
    "start_time": "2022-11-17T08:31:50.635Z"
   },
   {
    "duration": 12,
    "start_time": "2022-11-17T08:31:50.644Z"
   },
   {
    "duration": 7,
    "start_time": "2022-11-17T08:31:50.658Z"
   },
   {
    "duration": 53,
    "start_time": "2022-11-17T08:31:50.666Z"
   },
   {
    "duration": 13,
    "start_time": "2022-11-17T08:31:50.721Z"
   },
   {
    "duration": 8,
    "start_time": "2022-11-17T08:31:50.735Z"
   },
   {
    "duration": 154,
    "start_time": "2022-11-17T08:31:50.744Z"
   },
   {
    "duration": 120,
    "start_time": "2022-11-17T08:31:50.899Z"
   },
   {
    "duration": 7,
    "start_time": "2022-11-17T08:31:51.020Z"
   },
   {
    "duration": 13,
    "start_time": "2022-11-17T08:31:51.028Z"
   },
   {
    "duration": 249,
    "start_time": "2022-11-17T08:31:51.042Z"
   },
   {
    "duration": 257,
    "start_time": "2022-11-17T08:39:21.892Z"
   },
   {
    "duration": 176,
    "start_time": "2022-11-17T08:39:28.373Z"
   },
   {
    "duration": 213,
    "start_time": "2022-11-17T08:42:34.397Z"
   },
   {
    "duration": 198,
    "start_time": "2022-11-17T08:42:42.999Z"
   },
   {
    "duration": 171,
    "start_time": "2022-11-17T08:42:50.387Z"
   },
   {
    "duration": 209,
    "start_time": "2022-11-17T08:42:56.100Z"
   },
   {
    "duration": 266,
    "start_time": "2022-11-17T08:43:01.197Z"
   },
   {
    "duration": 183,
    "start_time": "2022-11-17T08:43:05.146Z"
   },
   {
    "duration": 180,
    "start_time": "2022-11-17T08:43:12.909Z"
   },
   {
    "duration": 178,
    "start_time": "2022-11-17T08:43:21.162Z"
   },
   {
    "duration": 178,
    "start_time": "2022-11-17T08:43:30.955Z"
   },
   {
    "duration": 178,
    "start_time": "2022-11-17T08:43:44.802Z"
   },
   {
    "duration": 258,
    "start_time": "2022-11-17T08:46:25.457Z"
   },
   {
    "duration": 179,
    "start_time": "2022-11-17T08:46:44.513Z"
   },
   {
    "duration": 193,
    "start_time": "2022-11-17T08:47:10.842Z"
   },
   {
    "duration": 197,
    "start_time": "2022-11-17T08:48:51.600Z"
   },
   {
    "duration": 170,
    "start_time": "2022-11-17T08:49:15.309Z"
   },
   {
    "duration": 272,
    "start_time": "2022-11-17T08:54:33.107Z"
   },
   {
    "duration": 362,
    "start_time": "2022-11-17T08:55:01.953Z"
   },
   {
    "duration": 265,
    "start_time": "2022-11-17T08:55:57.050Z"
   },
   {
    "duration": 263,
    "start_time": "2022-11-17T08:56:37.777Z"
   },
   {
    "duration": 347,
    "start_time": "2022-11-17T08:56:43.009Z"
   },
   {
    "duration": 286,
    "start_time": "2022-11-17T08:56:54.673Z"
   },
   {
    "duration": 288,
    "start_time": "2022-11-17T08:57:22.496Z"
   },
   {
    "duration": 308,
    "start_time": "2022-11-17T08:58:53.790Z"
   },
   {
    "duration": 302,
    "start_time": "2022-11-17T08:58:59.398Z"
   },
   {
    "duration": 259,
    "start_time": "2022-11-17T08:59:06.346Z"
   },
   {
    "duration": 325,
    "start_time": "2022-11-17T08:59:11.097Z"
   },
   {
    "duration": 179,
    "start_time": "2022-11-17T08:59:29.646Z"
   },
   {
    "duration": 302,
    "start_time": "2022-11-17T09:08:00.729Z"
   },
   {
    "duration": 7,
    "start_time": "2022-11-17T09:12:42.757Z"
   },
   {
    "duration": 245,
    "start_time": "2022-11-17T09:13:29.349Z"
   },
   {
    "duration": 267,
    "start_time": "2022-11-17T09:13:32.424Z"
   },
   {
    "duration": 272,
    "start_time": "2022-11-17T09:14:46.175Z"
   },
   {
    "duration": 9,
    "start_time": "2022-11-17T09:33:03.792Z"
   },
   {
    "duration": 13,
    "start_time": "2022-11-17T09:34:42.979Z"
   },
   {
    "duration": 10,
    "start_time": "2022-11-17T09:35:10.453Z"
   },
   {
    "duration": 11,
    "start_time": "2022-11-17T09:36:16.032Z"
   },
   {
    "duration": 6,
    "start_time": "2022-11-17T09:36:57.875Z"
   },
   {
    "duration": 102,
    "start_time": "2022-11-17T09:37:04.753Z"
   },
   {
    "duration": 119,
    "start_time": "2022-11-17T09:37:40.437Z"
   },
   {
    "duration": 112,
    "start_time": "2022-11-17T09:37:47.054Z"
   },
   {
    "duration": 125,
    "start_time": "2022-11-17T09:37:52.891Z"
   },
   {
    "duration": 115,
    "start_time": "2022-11-17T09:38:10.031Z"
   },
   {
    "duration": 5,
    "start_time": "2022-11-17T09:40:34.281Z"
   },
   {
    "duration": 1485,
    "start_time": "2022-11-17T09:45:02.254Z"
   },
   {
    "duration": 1173,
    "start_time": "2022-11-17T09:45:04.809Z"
   },
   {
    "duration": 1245,
    "start_time": "2022-11-17T09:45:54.208Z"
   },
   {
    "duration": 1331,
    "start_time": "2022-11-17T09:46:02.189Z"
   },
   {
    "duration": 132,
    "start_time": "2022-11-17T09:49:43.479Z"
   },
   {
    "duration": 128,
    "start_time": "2022-11-17T09:50:05.677Z"
   },
   {
    "duration": 139,
    "start_time": "2022-11-17T09:50:13.765Z"
   },
   {
    "duration": 142,
    "start_time": "2022-11-17T09:50:20.866Z"
   },
   {
    "duration": 137,
    "start_time": "2022-11-17T09:50:25.029Z"
   },
   {
    "duration": 266,
    "start_time": "2022-11-17T10:00:10.053Z"
   },
   {
    "duration": 391,
    "start_time": "2022-11-17T10:00:25.807Z"
   },
   {
    "duration": 5,
    "start_time": "2022-11-17T10:02:51.346Z"
   },
   {
    "duration": 124,
    "start_time": "2022-11-17T10:05:00.175Z"
   },
   {
    "duration": 1088,
    "start_time": "2022-11-17T10:06:33.904Z"
   },
   {
    "duration": 30,
    "start_time": "2022-11-17T10:06:34.994Z"
   },
   {
    "duration": 8,
    "start_time": "2022-11-17T10:06:35.026Z"
   },
   {
    "duration": 14,
    "start_time": "2022-11-17T10:06:35.036Z"
   },
   {
    "duration": 9,
    "start_time": "2022-11-17T10:06:35.051Z"
   },
   {
    "duration": 53,
    "start_time": "2022-11-17T10:06:35.062Z"
   },
   {
    "duration": 13,
    "start_time": "2022-11-17T10:06:35.117Z"
   },
   {
    "duration": 16,
    "start_time": "2022-11-17T10:06:35.132Z"
   },
   {
    "duration": 159,
    "start_time": "2022-11-17T10:06:35.150Z"
   },
   {
    "duration": 121,
    "start_time": "2022-11-17T10:06:35.312Z"
   },
   {
    "duration": 6,
    "start_time": "2022-11-17T10:06:35.434Z"
   },
   {
    "duration": 12,
    "start_time": "2022-11-17T10:06:35.442Z"
   },
   {
    "duration": 258,
    "start_time": "2022-11-17T10:06:35.455Z"
   },
   {
    "duration": 185,
    "start_time": "2022-11-17T10:06:35.715Z"
   },
   {
    "duration": 309,
    "start_time": "2022-11-17T10:06:35.904Z"
   },
   {
    "duration": 199,
    "start_time": "2022-11-17T10:06:36.215Z"
   },
   {
    "duration": 292,
    "start_time": "2022-11-17T10:06:36.415Z"
   },
   {
    "duration": 6,
    "start_time": "2022-11-17T10:06:36.709Z"
   },
   {
    "duration": 126,
    "start_time": "2022-11-17T10:06:36.716Z"
   },
   {
    "duration": 4,
    "start_time": "2022-11-17T10:06:36.844Z"
   },
   {
    "duration": 344,
    "start_time": "2022-11-17T10:06:36.850Z"
   },
   {
    "duration": 10,
    "start_time": "2022-11-17T10:06:37.196Z"
   },
   {
    "duration": 21,
    "start_time": "2022-11-17T10:06:37.208Z"
   },
   {
    "duration": 1333,
    "start_time": "2022-11-17T10:18:35.122Z"
   },
   {
    "duration": 108,
    "start_time": "2022-11-17T10:24:27.806Z"
   },
   {
    "duration": 97,
    "start_time": "2022-11-17T10:28:52.790Z"
   },
   {
    "duration": 202,
    "start_time": "2022-11-17T10:29:26.349Z"
   },
   {
    "duration": 154,
    "start_time": "2022-11-17T10:29:32.131Z"
   },
   {
    "duration": 1097,
    "start_time": "2022-11-17T10:30:30.445Z"
   },
   {
    "duration": 31,
    "start_time": "2022-11-17T10:30:31.544Z"
   },
   {
    "duration": 27,
    "start_time": "2022-11-17T10:30:31.577Z"
   },
   {
    "duration": 26,
    "start_time": "2022-11-17T10:30:31.606Z"
   },
   {
    "duration": 18,
    "start_time": "2022-11-17T10:30:31.634Z"
   },
   {
    "duration": 78,
    "start_time": "2022-11-17T10:30:31.654Z"
   },
   {
    "duration": 13,
    "start_time": "2022-11-17T10:30:31.734Z"
   },
   {
    "duration": 42,
    "start_time": "2022-11-17T10:30:31.749Z"
   },
   {
    "duration": 188,
    "start_time": "2022-11-17T10:30:31.793Z"
   },
   {
    "duration": 123,
    "start_time": "2022-11-17T10:30:31.984Z"
   },
   {
    "duration": 7,
    "start_time": "2022-11-17T10:30:32.108Z"
   },
   {
    "duration": 27,
    "start_time": "2022-11-17T10:30:32.116Z"
   },
   {
    "duration": 268,
    "start_time": "2022-11-17T10:30:32.144Z"
   },
   {
    "duration": 195,
    "start_time": "2022-11-17T10:30:32.414Z"
   },
   {
    "duration": 305,
    "start_time": "2022-11-17T10:30:32.610Z"
   },
   {
    "duration": 216,
    "start_time": "2022-11-17T10:30:32.916Z"
   },
   {
    "duration": 278,
    "start_time": "2022-11-17T10:30:33.133Z"
   },
   {
    "duration": 6,
    "start_time": "2022-11-17T10:30:33.413Z"
   },
   {
    "duration": 125,
    "start_time": "2022-11-17T10:30:33.421Z"
   },
   {
    "duration": 4,
    "start_time": "2022-11-17T10:30:33.548Z"
   },
   {
    "duration": 358,
    "start_time": "2022-11-17T10:30:33.553Z"
   },
   {
    "duration": 5,
    "start_time": "2022-11-17T10:30:33.912Z"
   },
   {
    "duration": 227,
    "start_time": "2022-11-17T10:30:33.918Z"
   },
   {
    "duration": 158,
    "start_time": "2022-11-17T10:30:34.147Z"
   },
   {
    "duration": 127,
    "start_time": "2022-11-17T10:35:16.540Z"
   },
   {
    "duration": 23,
    "start_time": "2022-11-17T10:35:20.301Z"
   },
   {
    "duration": 23,
    "start_time": "2022-11-17T10:35:22.888Z"
   },
   {
    "duration": 24,
    "start_time": "2022-11-17T10:37:52.711Z"
   },
   {
    "duration": 11,
    "start_time": "2022-11-17T10:43:55.377Z"
   },
   {
    "duration": 60,
    "start_time": "2022-11-17T12:24:38.870Z"
   },
   {
    "duration": 1367,
    "start_time": "2022-11-17T12:24:47.943Z"
   },
   {
    "duration": 70,
    "start_time": "2022-11-17T12:24:49.312Z"
   },
   {
    "duration": 8,
    "start_time": "2022-11-17T12:24:49.383Z"
   },
   {
    "duration": 14,
    "start_time": "2022-11-17T12:24:49.393Z"
   },
   {
    "duration": 8,
    "start_time": "2022-11-17T12:24:49.409Z"
   },
   {
    "duration": 139,
    "start_time": "2022-11-17T12:24:49.419Z"
   },
   {
    "duration": 8,
    "start_time": "2022-11-17T12:24:49.560Z"
   },
   {
    "duration": 15,
    "start_time": "2022-11-17T12:24:49.570Z"
   },
   {
    "duration": 11,
    "start_time": "2022-11-17T12:24:49.588Z"
   },
   {
    "duration": 122,
    "start_time": "2022-11-17T12:24:49.600Z"
   },
   {
    "duration": 0,
    "start_time": "2022-11-17T12:24:49.724Z"
   },
   {
    "duration": 0,
    "start_time": "2022-11-17T12:24:49.726Z"
   },
   {
    "duration": 0,
    "start_time": "2022-11-17T12:24:49.727Z"
   },
   {
    "duration": 0,
    "start_time": "2022-11-17T12:24:49.728Z"
   },
   {
    "duration": 0,
    "start_time": "2022-11-17T12:24:49.729Z"
   },
   {
    "duration": 1,
    "start_time": "2022-11-17T12:24:49.737Z"
   },
   {
    "duration": 0,
    "start_time": "2022-11-17T12:24:49.738Z"
   },
   {
    "duration": 1,
    "start_time": "2022-11-17T12:24:49.739Z"
   },
   {
    "duration": 0,
    "start_time": "2022-11-17T12:24:49.741Z"
   },
   {
    "duration": 0,
    "start_time": "2022-11-17T12:24:49.742Z"
   },
   {
    "duration": 0,
    "start_time": "2022-11-17T12:24:49.742Z"
   },
   {
    "duration": 0,
    "start_time": "2022-11-17T12:24:49.744Z"
   },
   {
    "duration": 0,
    "start_time": "2022-11-17T12:24:49.745Z"
   },
   {
    "duration": 0,
    "start_time": "2022-11-17T12:24:49.746Z"
   },
   {
    "duration": 0,
    "start_time": "2022-11-17T12:24:49.747Z"
   },
   {
    "duration": 0,
    "start_time": "2022-11-17T12:24:49.748Z"
   },
   {
    "duration": 0,
    "start_time": "2022-11-17T12:24:49.749Z"
   },
   {
    "duration": 0,
    "start_time": "2022-11-17T12:24:49.750Z"
   },
   {
    "duration": 1215,
    "start_time": "2022-11-17T12:27:46.531Z"
   },
   {
    "duration": 32,
    "start_time": "2022-11-17T12:27:47.748Z"
   },
   {
    "duration": 7,
    "start_time": "2022-11-17T12:27:47.782Z"
   },
   {
    "duration": 10,
    "start_time": "2022-11-17T12:27:47.791Z"
   },
   {
    "duration": 9,
    "start_time": "2022-11-17T12:27:47.803Z"
   },
   {
    "duration": 62,
    "start_time": "2022-11-17T12:27:47.822Z"
   },
   {
    "duration": 7,
    "start_time": "2022-11-17T12:27:47.886Z"
   },
   {
    "duration": 16,
    "start_time": "2022-11-17T12:27:47.894Z"
   },
   {
    "duration": 11,
    "start_time": "2022-11-17T12:27:47.912Z"
   },
   {
    "duration": 160,
    "start_time": "2022-11-17T12:27:47.925Z"
   },
   {
    "duration": 123,
    "start_time": "2022-11-17T12:27:48.087Z"
   },
   {
    "duration": 6,
    "start_time": "2022-11-17T12:27:48.212Z"
   },
   {
    "duration": 20,
    "start_time": "2022-11-17T12:27:48.220Z"
   },
   {
    "duration": 272,
    "start_time": "2022-11-17T12:27:48.243Z"
   },
   {
    "duration": 189,
    "start_time": "2022-11-17T12:27:48.516Z"
   },
   {
    "duration": 372,
    "start_time": "2022-11-17T12:27:48.707Z"
   },
   {
    "duration": 202,
    "start_time": "2022-11-17T12:27:49.080Z"
   },
   {
    "duration": 267,
    "start_time": "2022-11-17T12:27:49.284Z"
   },
   {
    "duration": 6,
    "start_time": "2022-11-17T12:27:49.553Z"
   },
   {
    "duration": 132,
    "start_time": "2022-11-17T12:27:49.561Z"
   },
   {
    "duration": 4,
    "start_time": "2022-11-17T12:27:49.694Z"
   },
   {
    "duration": 365,
    "start_time": "2022-11-17T12:27:49.699Z"
   },
   {
    "duration": 4,
    "start_time": "2022-11-17T12:27:50.066Z"
   },
   {
    "duration": 230,
    "start_time": "2022-11-17T12:27:50.071Z"
   },
   {
    "duration": 152,
    "start_time": "2022-11-17T12:27:50.303Z"
   },
   {
    "duration": 6,
    "start_time": "2022-11-17T12:27:50.457Z"
   },
   {
    "duration": 32,
    "start_time": "2022-11-17T12:27:50.464Z"
   },
   {
    "duration": 11,
    "start_time": "2022-11-17T12:27:50.497Z"
   },
   {
    "duration": 1189,
    "start_time": "2022-11-17T12:33:16.824Z"
   },
   {
    "duration": 1185,
    "start_time": "2022-11-17T12:34:01.371Z"
   },
   {
    "duration": 35,
    "start_time": "2022-11-17T12:34:02.559Z"
   },
   {
    "duration": 8,
    "start_time": "2022-11-17T12:34:02.595Z"
   },
   {
    "duration": 10,
    "start_time": "2022-11-17T12:34:02.604Z"
   },
   {
    "duration": 8,
    "start_time": "2022-11-17T12:34:02.617Z"
   },
   {
    "duration": 56,
    "start_time": "2022-11-17T12:34:02.627Z"
   },
   {
    "duration": 7,
    "start_time": "2022-11-17T12:34:02.685Z"
   },
   {
    "duration": 18,
    "start_time": "2022-11-17T12:34:02.694Z"
   },
   {
    "duration": 9,
    "start_time": "2022-11-17T12:34:02.714Z"
   },
   {
    "duration": 165,
    "start_time": "2022-11-17T12:34:02.724Z"
   },
   {
    "duration": 134,
    "start_time": "2022-11-17T12:34:02.890Z"
   },
   {
    "duration": 16,
    "start_time": "2022-11-17T12:34:03.026Z"
   },
   {
    "duration": 12,
    "start_time": "2022-11-17T12:34:03.043Z"
   },
   {
    "duration": 274,
    "start_time": "2022-11-17T12:34:03.058Z"
   },
   {
    "duration": 214,
    "start_time": "2022-11-17T12:34:03.337Z"
   },
   {
    "duration": 305,
    "start_time": "2022-11-17T12:34:03.553Z"
   },
   {
    "duration": 215,
    "start_time": "2022-11-17T12:34:03.860Z"
   },
   {
    "duration": 285,
    "start_time": "2022-11-17T12:34:04.076Z"
   },
   {
    "duration": 6,
    "start_time": "2022-11-17T12:34:04.363Z"
   },
   {
    "duration": 135,
    "start_time": "2022-11-17T12:34:04.371Z"
   },
   {
    "duration": 4,
    "start_time": "2022-11-17T12:34:04.508Z"
   },
   {
    "duration": 412,
    "start_time": "2022-11-17T12:34:04.514Z"
   },
   {
    "duration": 5,
    "start_time": "2022-11-17T12:34:04.927Z"
   },
   {
    "duration": 239,
    "start_time": "2022-11-17T12:34:04.937Z"
   },
   {
    "duration": 173,
    "start_time": "2022-11-17T12:34:05.178Z"
   },
   {
    "duration": 6,
    "start_time": "2022-11-17T12:34:05.352Z"
   },
   {
    "duration": 27,
    "start_time": "2022-11-17T12:34:05.360Z"
   },
   {
    "duration": 12,
    "start_time": "2022-11-17T12:34:05.388Z"
   },
   {
    "duration": 1254,
    "start_time": "2022-11-17T12:34:05.401Z"
   },
   {
    "duration": 304,
    "start_time": "2022-11-17T12:35:51.815Z"
   },
   {
    "duration": 14,
    "start_time": "2022-11-17T12:36:17.971Z"
   },
   {
    "duration": 81,
    "start_time": "2022-11-17T12:38:42.948Z"
   },
   {
    "duration": 1223,
    "start_time": "2022-11-17T12:38:50.030Z"
   },
   {
    "duration": 32,
    "start_time": "2022-11-17T12:38:51.256Z"
   },
   {
    "duration": 9,
    "start_time": "2022-11-17T12:38:51.290Z"
   },
   {
    "duration": 13,
    "start_time": "2022-11-17T12:38:51.301Z"
   },
   {
    "duration": 9,
    "start_time": "2022-11-17T12:38:51.317Z"
   },
   {
    "duration": 165,
    "start_time": "2022-11-17T12:38:51.328Z"
   },
   {
    "duration": 0,
    "start_time": "2022-11-17T12:38:51.495Z"
   },
   {
    "duration": 0,
    "start_time": "2022-11-17T12:38:51.496Z"
   },
   {
    "duration": 0,
    "start_time": "2022-11-17T12:38:51.497Z"
   },
   {
    "duration": 0,
    "start_time": "2022-11-17T12:38:51.498Z"
   },
   {
    "duration": 0,
    "start_time": "2022-11-17T12:38:51.499Z"
   },
   {
    "duration": 0,
    "start_time": "2022-11-17T12:38:51.500Z"
   },
   {
    "duration": 0,
    "start_time": "2022-11-17T12:38:51.502Z"
   },
   {
    "duration": 0,
    "start_time": "2022-11-17T12:38:51.503Z"
   },
   {
    "duration": 0,
    "start_time": "2022-11-17T12:38:51.504Z"
   },
   {
    "duration": 0,
    "start_time": "2022-11-17T12:38:51.505Z"
   },
   {
    "duration": 0,
    "start_time": "2022-11-17T12:38:51.507Z"
   },
   {
    "duration": 0,
    "start_time": "2022-11-17T12:38:51.509Z"
   },
   {
    "duration": 0,
    "start_time": "2022-11-17T12:38:51.510Z"
   },
   {
    "duration": 0,
    "start_time": "2022-11-17T12:38:51.511Z"
   },
   {
    "duration": 0,
    "start_time": "2022-11-17T12:38:51.537Z"
   },
   {
    "duration": 0,
    "start_time": "2022-11-17T12:38:51.538Z"
   },
   {
    "duration": 0,
    "start_time": "2022-11-17T12:38:51.539Z"
   },
   {
    "duration": 0,
    "start_time": "2022-11-17T12:38:51.541Z"
   },
   {
    "duration": 0,
    "start_time": "2022-11-17T12:38:51.542Z"
   },
   {
    "duration": 0,
    "start_time": "2022-11-17T12:38:51.543Z"
   },
   {
    "duration": 0,
    "start_time": "2022-11-17T12:38:51.544Z"
   },
   {
    "duration": 0,
    "start_time": "2022-11-17T12:38:51.545Z"
   },
   {
    "duration": 0,
    "start_time": "2022-11-17T12:38:51.546Z"
   },
   {
    "duration": 1238,
    "start_time": "2022-11-17T12:39:14.741Z"
   },
   {
    "duration": 34,
    "start_time": "2022-11-17T12:39:15.981Z"
   },
   {
    "duration": 9,
    "start_time": "2022-11-17T12:39:16.017Z"
   },
   {
    "duration": 18,
    "start_time": "2022-11-17T12:39:16.028Z"
   },
   {
    "duration": 10,
    "start_time": "2022-11-17T12:39:16.049Z"
   },
   {
    "duration": 1284,
    "start_time": "2022-11-17T12:39:16.062Z"
   },
   {
    "duration": 0,
    "start_time": "2022-11-17T12:39:17.348Z"
   },
   {
    "duration": 0,
    "start_time": "2022-11-17T12:39:17.350Z"
   },
   {
    "duration": 0,
    "start_time": "2022-11-17T12:39:17.351Z"
   },
   {
    "duration": 0,
    "start_time": "2022-11-17T12:39:17.352Z"
   },
   {
    "duration": 0,
    "start_time": "2022-11-17T12:39:17.353Z"
   },
   {
    "duration": 0,
    "start_time": "2022-11-17T12:39:17.354Z"
   },
   {
    "duration": 0,
    "start_time": "2022-11-17T12:39:17.356Z"
   },
   {
    "duration": 0,
    "start_time": "2022-11-17T12:39:17.357Z"
   },
   {
    "duration": 0,
    "start_time": "2022-11-17T12:39:17.359Z"
   },
   {
    "duration": 0,
    "start_time": "2022-11-17T12:39:17.360Z"
   },
   {
    "duration": 0,
    "start_time": "2022-11-17T12:39:17.361Z"
   },
   {
    "duration": 0,
    "start_time": "2022-11-17T12:39:17.362Z"
   },
   {
    "duration": 0,
    "start_time": "2022-11-17T12:39:17.364Z"
   },
   {
    "duration": 0,
    "start_time": "2022-11-17T12:39:17.365Z"
   },
   {
    "duration": 0,
    "start_time": "2022-11-17T12:39:17.367Z"
   },
   {
    "duration": 0,
    "start_time": "2022-11-17T12:39:17.368Z"
   },
   {
    "duration": 0,
    "start_time": "2022-11-17T12:39:17.371Z"
   },
   {
    "duration": 0,
    "start_time": "2022-11-17T12:39:17.373Z"
   },
   {
    "duration": 0,
    "start_time": "2022-11-17T12:39:17.374Z"
   },
   {
    "duration": 0,
    "start_time": "2022-11-17T12:39:17.376Z"
   },
   {
    "duration": 0,
    "start_time": "2022-11-17T12:39:17.377Z"
   },
   {
    "duration": 0,
    "start_time": "2022-11-17T12:39:17.379Z"
   },
   {
    "duration": 0,
    "start_time": "2022-11-17T12:39:17.381Z"
   },
   {
    "duration": 1190,
    "start_time": "2022-11-17T12:40:24.558Z"
   },
   {
    "duration": 38,
    "start_time": "2022-11-17T12:40:25.752Z"
   },
   {
    "duration": 12,
    "start_time": "2022-11-17T12:40:25.793Z"
   },
   {
    "duration": 23,
    "start_time": "2022-11-17T12:40:25.807Z"
   },
   {
    "duration": 14,
    "start_time": "2022-11-17T12:40:25.837Z"
   },
   {
    "duration": 1514,
    "start_time": "2022-11-17T12:40:25.853Z"
   },
   {
    "duration": 0,
    "start_time": "2022-11-17T12:40:27.371Z"
   },
   {
    "duration": 0,
    "start_time": "2022-11-17T12:40:27.372Z"
   },
   {
    "duration": 0,
    "start_time": "2022-11-17T12:40:27.375Z"
   },
   {
    "duration": 0,
    "start_time": "2022-11-17T12:40:27.376Z"
   },
   {
    "duration": 0,
    "start_time": "2022-11-17T12:40:27.378Z"
   },
   {
    "duration": 0,
    "start_time": "2022-11-17T12:40:27.379Z"
   },
   {
    "duration": 0,
    "start_time": "2022-11-17T12:40:27.381Z"
   },
   {
    "duration": 0,
    "start_time": "2022-11-17T12:40:27.384Z"
   },
   {
    "duration": 0,
    "start_time": "2022-11-17T12:40:27.385Z"
   },
   {
    "duration": 0,
    "start_time": "2022-11-17T12:40:27.387Z"
   },
   {
    "duration": 0,
    "start_time": "2022-11-17T12:40:27.389Z"
   },
   {
    "duration": 0,
    "start_time": "2022-11-17T12:40:27.390Z"
   },
   {
    "duration": 0,
    "start_time": "2022-11-17T12:40:27.391Z"
   },
   {
    "duration": 0,
    "start_time": "2022-11-17T12:40:27.393Z"
   },
   {
    "duration": 0,
    "start_time": "2022-11-17T12:40:27.394Z"
   },
   {
    "duration": 0,
    "start_time": "2022-11-17T12:40:27.396Z"
   },
   {
    "duration": 0,
    "start_time": "2022-11-17T12:40:27.398Z"
   },
   {
    "duration": 0,
    "start_time": "2022-11-17T12:40:27.399Z"
   },
   {
    "duration": 0,
    "start_time": "2022-11-17T12:40:27.401Z"
   },
   {
    "duration": 0,
    "start_time": "2022-11-17T12:40:27.403Z"
   },
   {
    "duration": 0,
    "start_time": "2022-11-17T12:40:27.404Z"
   },
   {
    "duration": 0,
    "start_time": "2022-11-17T12:40:27.406Z"
   },
   {
    "duration": 0,
    "start_time": "2022-11-17T12:40:27.407Z"
   },
   {
    "duration": 1154,
    "start_time": "2022-11-17T12:42:07.296Z"
   },
   {
    "duration": 31,
    "start_time": "2022-11-17T12:42:08.452Z"
   },
   {
    "duration": 7,
    "start_time": "2022-11-17T12:42:08.485Z"
   },
   {
    "duration": 10,
    "start_time": "2022-11-17T12:42:08.494Z"
   },
   {
    "duration": 9,
    "start_time": "2022-11-17T12:42:08.506Z"
   },
   {
    "duration": 58,
    "start_time": "2022-11-17T12:42:08.536Z"
   },
   {
    "duration": 7,
    "start_time": "2022-11-17T12:42:08.596Z"
   },
   {
    "duration": 14,
    "start_time": "2022-11-17T12:42:08.605Z"
   },
   {
    "duration": 9,
    "start_time": "2022-11-17T12:42:08.621Z"
   },
   {
    "duration": 159,
    "start_time": "2022-11-17T12:42:08.631Z"
   },
   {
    "duration": 187,
    "start_time": "2022-11-17T12:42:08.791Z"
   },
   {
    "duration": 11,
    "start_time": "2022-11-17T12:42:08.981Z"
   },
   {
    "duration": 12,
    "start_time": "2022-11-17T12:42:08.994Z"
   },
   {
    "duration": 305,
    "start_time": "2022-11-17T12:42:09.009Z"
   },
   {
    "duration": 201,
    "start_time": "2022-11-17T12:42:09.316Z"
   },
   {
    "duration": 345,
    "start_time": "2022-11-17T12:42:09.519Z"
   },
   {
    "duration": 212,
    "start_time": "2022-11-17T12:42:09.866Z"
   },
   {
    "duration": 290,
    "start_time": "2022-11-17T12:42:10.081Z"
   },
   {
    "duration": 7,
    "start_time": "2022-11-17T12:42:10.373Z"
   },
   {
    "duration": 157,
    "start_time": "2022-11-17T12:42:10.382Z"
   },
   {
    "duration": 5,
    "start_time": "2022-11-17T12:42:10.541Z"
   },
   {
    "duration": 367,
    "start_time": "2022-11-17T12:42:10.549Z"
   },
   {
    "duration": 4,
    "start_time": "2022-11-17T12:42:10.918Z"
   },
   {
    "duration": 224,
    "start_time": "2022-11-17T12:42:10.924Z"
   },
   {
    "duration": 193,
    "start_time": "2022-11-17T12:42:11.151Z"
   },
   {
    "duration": 8,
    "start_time": "2022-11-17T12:42:11.346Z"
   },
   {
    "duration": 30,
    "start_time": "2022-11-17T12:42:11.356Z"
   },
   {
    "duration": 14,
    "start_time": "2022-11-17T12:42:11.388Z"
   },
   {
    "duration": 149,
    "start_time": "2022-11-17T12:42:11.404Z"
   },
   {
    "duration": 1206,
    "start_time": "2022-11-17T12:42:43.546Z"
   },
   {
    "duration": 35,
    "start_time": "2022-11-17T12:42:44.754Z"
   },
   {
    "duration": 8,
    "start_time": "2022-11-17T12:42:44.791Z"
   },
   {
    "duration": 10,
    "start_time": "2022-11-17T12:42:44.801Z"
   },
   {
    "duration": 8,
    "start_time": "2022-11-17T12:42:44.814Z"
   },
   {
    "duration": 70,
    "start_time": "2022-11-17T12:42:44.824Z"
   },
   {
    "duration": 8,
    "start_time": "2022-11-17T12:42:44.895Z"
   },
   {
    "duration": 15,
    "start_time": "2022-11-17T12:42:44.905Z"
   },
   {
    "duration": 8,
    "start_time": "2022-11-17T12:42:44.922Z"
   },
   {
    "duration": 187,
    "start_time": "2022-11-17T12:42:44.931Z"
   },
   {
    "duration": 133,
    "start_time": "2022-11-17T12:42:45.120Z"
   },
   {
    "duration": 7,
    "start_time": "2022-11-17T12:42:45.255Z"
   },
   {
    "duration": 12,
    "start_time": "2022-11-17T12:42:45.264Z"
   },
   {
    "duration": 309,
    "start_time": "2022-11-17T12:42:45.280Z"
   },
   {
    "duration": 205,
    "start_time": "2022-11-17T12:42:45.591Z"
   },
   {
    "duration": 331,
    "start_time": "2022-11-17T12:42:45.798Z"
   },
   {
    "duration": 216,
    "start_time": "2022-11-17T12:42:46.130Z"
   },
   {
    "duration": 294,
    "start_time": "2022-11-17T12:42:46.348Z"
   },
   {
    "duration": 8,
    "start_time": "2022-11-17T12:42:46.643Z"
   },
   {
    "duration": 143,
    "start_time": "2022-11-17T12:42:46.653Z"
   },
   {
    "duration": 4,
    "start_time": "2022-11-17T12:42:46.798Z"
   },
   {
    "duration": 384,
    "start_time": "2022-11-17T12:42:46.803Z"
   },
   {
    "duration": 4,
    "start_time": "2022-11-17T12:42:47.189Z"
   },
   {
    "duration": 249,
    "start_time": "2022-11-17T12:42:47.195Z"
   },
   {
    "duration": 165,
    "start_time": "2022-11-17T12:42:47.446Z"
   },
   {
    "duration": 7,
    "start_time": "2022-11-17T12:42:47.612Z"
   },
   {
    "duration": 43,
    "start_time": "2022-11-17T12:42:47.621Z"
   },
   {
    "duration": 11,
    "start_time": "2022-11-17T12:42:47.666Z"
   },
   {
    "duration": 122,
    "start_time": "2022-11-17T12:42:47.678Z"
   },
   {
    "duration": 1158,
    "start_time": "2022-11-17T12:43:07.398Z"
   },
   {
    "duration": 35,
    "start_time": "2022-11-17T12:43:08.558Z"
   },
   {
    "duration": 8,
    "start_time": "2022-11-17T12:43:08.594Z"
   },
   {
    "duration": 12,
    "start_time": "2022-11-17T12:43:08.604Z"
   },
   {
    "duration": 9,
    "start_time": "2022-11-17T12:43:08.618Z"
   },
   {
    "duration": 55,
    "start_time": "2022-11-17T12:43:08.637Z"
   },
   {
    "duration": 8,
    "start_time": "2022-11-17T12:43:08.693Z"
   },
   {
    "duration": 25,
    "start_time": "2022-11-17T12:43:08.703Z"
   },
   {
    "duration": 23,
    "start_time": "2022-11-17T12:43:08.730Z"
   },
   {
    "duration": 211,
    "start_time": "2022-11-17T12:43:08.754Z"
   },
   {
    "duration": 169,
    "start_time": "2022-11-17T12:43:08.968Z"
   },
   {
    "duration": 7,
    "start_time": "2022-11-17T12:43:09.139Z"
   },
   {
    "duration": 18,
    "start_time": "2022-11-17T12:43:09.147Z"
   },
   {
    "duration": 275,
    "start_time": "2022-11-17T12:43:09.168Z"
   },
   {
    "duration": 207,
    "start_time": "2022-11-17T12:43:09.445Z"
   },
   {
    "duration": 306,
    "start_time": "2022-11-17T12:43:09.654Z"
   },
   {
    "duration": 199,
    "start_time": "2022-11-17T12:43:09.962Z"
   },
   {
    "duration": 288,
    "start_time": "2022-11-17T12:43:10.162Z"
   },
   {
    "duration": 8,
    "start_time": "2022-11-17T12:43:10.451Z"
   },
   {
    "duration": 132,
    "start_time": "2022-11-17T12:43:10.460Z"
   },
   {
    "duration": 5,
    "start_time": "2022-11-17T12:43:10.594Z"
   },
   {
    "duration": 367,
    "start_time": "2022-11-17T12:43:10.601Z"
   },
   {
    "duration": 5,
    "start_time": "2022-11-17T12:43:10.969Z"
   },
   {
    "duration": 242,
    "start_time": "2022-11-17T12:43:10.975Z"
   },
   {
    "duration": 160,
    "start_time": "2022-11-17T12:43:11.219Z"
   },
   {
    "duration": 6,
    "start_time": "2022-11-17T12:43:11.381Z"
   },
   {
    "duration": 63,
    "start_time": "2022-11-17T12:43:11.388Z"
   },
   {
    "duration": 11,
    "start_time": "2022-11-17T12:43:11.453Z"
   },
   {
    "duration": 124,
    "start_time": "2022-11-17T12:43:11.466Z"
   },
   {
    "duration": 12,
    "start_time": "2022-11-17T12:43:38.007Z"
   },
   {
    "duration": 8,
    "start_time": "2022-11-17T12:45:46.565Z"
   },
   {
    "duration": 23,
    "start_time": "2022-11-17T12:46:11.385Z"
   },
   {
    "duration": 21,
    "start_time": "2022-11-17T12:54:54.465Z"
   },
   {
    "duration": 1055,
    "start_time": "2022-11-17T13:01:22.373Z"
   },
   {
    "duration": 32,
    "start_time": "2022-11-17T13:01:23.430Z"
   },
   {
    "duration": 7,
    "start_time": "2022-11-17T13:01:23.463Z"
   },
   {
    "duration": 10,
    "start_time": "2022-11-17T13:01:23.471Z"
   },
   {
    "duration": 7,
    "start_time": "2022-11-17T13:01:23.483Z"
   },
   {
    "duration": 54,
    "start_time": "2022-11-17T13:01:23.492Z"
   },
   {
    "duration": 7,
    "start_time": "2022-11-17T13:01:23.548Z"
   },
   {
    "duration": 14,
    "start_time": "2022-11-17T13:01:23.556Z"
   },
   {
    "duration": 12,
    "start_time": "2022-11-17T13:01:23.572Z"
   },
   {
    "duration": 162,
    "start_time": "2022-11-17T13:01:23.586Z"
   },
   {
    "duration": 139,
    "start_time": "2022-11-17T13:01:23.750Z"
   },
   {
    "duration": 6,
    "start_time": "2022-11-17T13:01:23.891Z"
   },
   {
    "duration": 8,
    "start_time": "2022-11-17T13:01:23.899Z"
   },
   {
    "duration": 293,
    "start_time": "2022-11-17T13:01:23.910Z"
   },
   {
    "duration": 185,
    "start_time": "2022-11-17T13:01:24.205Z"
   },
   {
    "duration": 274,
    "start_time": "2022-11-17T13:01:24.392Z"
   },
   {
    "duration": 182,
    "start_time": "2022-11-17T13:01:24.667Z"
   },
   {
    "duration": 297,
    "start_time": "2022-11-17T13:01:24.851Z"
   },
   {
    "duration": 7,
    "start_time": "2022-11-17T13:01:25.149Z"
   },
   {
    "duration": 138,
    "start_time": "2022-11-17T13:01:25.158Z"
   },
   {
    "duration": 4,
    "start_time": "2022-11-17T13:01:25.298Z"
   },
   {
    "duration": 347,
    "start_time": "2022-11-17T13:01:25.304Z"
   },
   {
    "duration": 5,
    "start_time": "2022-11-17T13:01:25.653Z"
   },
   {
    "duration": 242,
    "start_time": "2022-11-17T13:01:25.660Z"
   },
   {
    "duration": 133,
    "start_time": "2022-11-17T13:01:25.904Z"
   },
   {
    "duration": 5,
    "start_time": "2022-11-17T13:01:26.039Z"
   },
   {
    "duration": 28,
    "start_time": "2022-11-17T13:01:26.046Z"
   },
   {
    "duration": 10,
    "start_time": "2022-11-17T13:01:26.075Z"
   },
   {
    "duration": 11,
    "start_time": "2022-11-17T13:01:26.087Z"
   },
   {
    "duration": 8,
    "start_time": "2022-11-17T13:01:26.099Z"
   },
   {
    "duration": 50,
    "start_time": "2022-11-17T13:01:26.108Z"
   },
   {
    "duration": 13,
    "start_time": "2022-11-17T13:01:26.160Z"
   },
   {
    "duration": 3,
    "start_time": "2022-11-17T13:03:22.547Z"
   },
   {
    "duration": 1157,
    "start_time": "2022-11-17T13:07:55.299Z"
   },
   {
    "duration": 33,
    "start_time": "2022-11-17T13:07:56.458Z"
   },
   {
    "duration": 8,
    "start_time": "2022-11-17T13:07:56.493Z"
   },
   {
    "duration": 15,
    "start_time": "2022-11-17T13:07:56.503Z"
   },
   {
    "duration": 8,
    "start_time": "2022-11-17T13:07:56.520Z"
   },
   {
    "duration": 55,
    "start_time": "2022-11-17T13:07:56.537Z"
   },
   {
    "duration": 8,
    "start_time": "2022-11-17T13:07:56.593Z"
   },
   {
    "duration": 14,
    "start_time": "2022-11-17T13:07:56.603Z"
   },
   {
    "duration": 7,
    "start_time": "2022-11-17T13:07:56.619Z"
   },
   {
    "duration": 166,
    "start_time": "2022-11-17T13:07:56.628Z"
   },
   {
    "duration": 130,
    "start_time": "2022-11-17T13:07:56.796Z"
   },
   {
    "duration": 14,
    "start_time": "2022-11-17T13:07:56.928Z"
   },
   {
    "duration": 8,
    "start_time": "2022-11-17T13:07:56.944Z"
   },
   {
    "duration": 289,
    "start_time": "2022-11-17T13:07:56.955Z"
   },
   {
    "duration": 205,
    "start_time": "2022-11-17T13:07:57.246Z"
   },
   {
    "duration": 284,
    "start_time": "2022-11-17T13:07:57.453Z"
   },
   {
    "duration": 190,
    "start_time": "2022-11-17T13:07:57.739Z"
   },
   {
    "duration": 290,
    "start_time": "2022-11-17T13:07:57.930Z"
   },
   {
    "duration": 15,
    "start_time": "2022-11-17T13:07:58.222Z"
   },
   {
    "duration": 133,
    "start_time": "2022-11-17T13:07:58.239Z"
   },
   {
    "duration": 3,
    "start_time": "2022-11-17T13:07:58.374Z"
   },
   {
    "duration": 358,
    "start_time": "2022-11-17T13:07:58.379Z"
   },
   {
    "duration": 4,
    "start_time": "2022-11-17T13:07:58.739Z"
   },
   {
    "duration": 262,
    "start_time": "2022-11-17T13:07:58.745Z"
   },
   {
    "duration": 154,
    "start_time": "2022-11-17T13:07:59.010Z"
   },
   {
    "duration": 6,
    "start_time": "2022-11-17T13:07:59.166Z"
   },
   {
    "duration": 31,
    "start_time": "2022-11-17T13:07:59.174Z"
   },
   {
    "duration": 11,
    "start_time": "2022-11-17T13:07:59.207Z"
   },
   {
    "duration": 11,
    "start_time": "2022-11-17T13:07:59.237Z"
   },
   {
    "duration": 12,
    "start_time": "2022-11-17T13:07:59.250Z"
   },
   {
    "duration": 23,
    "start_time": "2022-11-17T13:07:59.264Z"
   },
   {
    "duration": 14,
    "start_time": "2022-11-17T13:07:59.288Z"
   },
   {
    "duration": 197,
    "start_time": "2022-11-17T13:23:24.071Z"
   },
   {
    "duration": 176,
    "start_time": "2022-11-17T13:23:33.225Z"
   },
   {
    "duration": 76,
    "start_time": "2022-11-17T13:24:02.030Z"
   },
   {
    "duration": 102,
    "start_time": "2022-11-17T13:24:49.939Z"
   },
   {
    "duration": 1184,
    "start_time": "2022-11-17T13:24:56.845Z"
   },
   {
    "duration": 36,
    "start_time": "2022-11-17T13:24:58.031Z"
   },
   {
    "duration": 8,
    "start_time": "2022-11-17T13:24:58.068Z"
   },
   {
    "duration": 18,
    "start_time": "2022-11-17T13:24:58.077Z"
   },
   {
    "duration": 13,
    "start_time": "2022-11-17T13:24:58.097Z"
   },
   {
    "duration": 56,
    "start_time": "2022-11-17T13:24:58.112Z"
   },
   {
    "duration": 9,
    "start_time": "2022-11-17T13:24:58.170Z"
   },
   {
    "duration": 14,
    "start_time": "2022-11-17T13:24:58.181Z"
   },
   {
    "duration": 11,
    "start_time": "2022-11-17T13:24:58.197Z"
   },
   {
    "duration": 164,
    "start_time": "2022-11-17T13:24:58.210Z"
   },
   {
    "duration": 126,
    "start_time": "2022-11-17T13:24:58.376Z"
   },
   {
    "duration": 7,
    "start_time": "2022-11-17T13:24:58.503Z"
   },
   {
    "duration": 27,
    "start_time": "2022-11-17T13:24:58.511Z"
   },
   {
    "duration": 262,
    "start_time": "2022-11-17T13:24:58.541Z"
   },
   {
    "duration": 236,
    "start_time": "2022-11-17T13:24:58.805Z"
   },
   {
    "duration": 76,
    "start_time": "2022-11-17T13:24:59.042Z"
   },
   {
    "duration": 0,
    "start_time": "2022-11-17T13:24:59.119Z"
   },
   {
    "duration": 0,
    "start_time": "2022-11-17T13:24:59.120Z"
   },
   {
    "duration": 0,
    "start_time": "2022-11-17T13:24:59.122Z"
   },
   {
    "duration": 0,
    "start_time": "2022-11-17T13:24:59.123Z"
   },
   {
    "duration": 0,
    "start_time": "2022-11-17T13:24:59.124Z"
   },
   {
    "duration": 0,
    "start_time": "2022-11-17T13:24:59.126Z"
   },
   {
    "duration": 0,
    "start_time": "2022-11-17T13:24:59.127Z"
   },
   {
    "duration": 0,
    "start_time": "2022-11-17T13:24:59.129Z"
   },
   {
    "duration": 0,
    "start_time": "2022-11-17T13:24:59.130Z"
   },
   {
    "duration": 0,
    "start_time": "2022-11-17T13:24:59.132Z"
   },
   {
    "duration": 0,
    "start_time": "2022-11-17T13:24:59.133Z"
   },
   {
    "duration": 0,
    "start_time": "2022-11-17T13:24:59.135Z"
   },
   {
    "duration": 0,
    "start_time": "2022-11-17T13:24:59.136Z"
   },
   {
    "duration": 0,
    "start_time": "2022-11-17T13:24:59.137Z"
   },
   {
    "duration": 0,
    "start_time": "2022-11-17T13:24:59.138Z"
   },
   {
    "duration": 0,
    "start_time": "2022-11-17T13:24:59.140Z"
   },
   {
    "duration": 88,
    "start_time": "2022-11-17T13:25:11.282Z"
   },
   {
    "duration": 74,
    "start_time": "2022-11-17T13:25:35.829Z"
   },
   {
    "duration": 292,
    "start_time": "2022-11-17T13:25:54.340Z"
   },
   {
    "duration": 269,
    "start_time": "2022-11-17T13:26:38.984Z"
   },
   {
    "duration": 284,
    "start_time": "2022-11-17T13:26:53.547Z"
   },
   {
    "duration": 305,
    "start_time": "2022-11-17T13:27:00.015Z"
   },
   {
    "duration": 283,
    "start_time": "2022-11-17T13:27:32.842Z"
   },
   {
    "duration": 98,
    "start_time": "2022-11-17T13:28:12.919Z"
   },
   {
    "duration": 10,
    "start_time": "2022-11-17T13:28:35.081Z"
   },
   {
    "duration": 11,
    "start_time": "2022-11-17T13:28:40.895Z"
   },
   {
    "duration": 10,
    "start_time": "2022-11-17T13:28:47.587Z"
   },
   {
    "duration": 1180,
    "start_time": "2022-11-17T13:29:02.279Z"
   },
   {
    "duration": 32,
    "start_time": "2022-11-17T13:29:03.461Z"
   },
   {
    "duration": 8,
    "start_time": "2022-11-17T13:29:03.494Z"
   },
   {
    "duration": 13,
    "start_time": "2022-11-17T13:29:03.504Z"
   },
   {
    "duration": 17,
    "start_time": "2022-11-17T13:29:03.520Z"
   },
   {
    "duration": 56,
    "start_time": "2022-11-17T13:29:03.539Z"
   },
   {
    "duration": 8,
    "start_time": "2022-11-17T13:29:03.596Z"
   },
   {
    "duration": 15,
    "start_time": "2022-11-17T13:29:03.606Z"
   },
   {
    "duration": 7,
    "start_time": "2022-11-17T13:29:03.623Z"
   },
   {
    "duration": 179,
    "start_time": "2022-11-17T13:29:03.632Z"
   },
   {
    "duration": 154,
    "start_time": "2022-11-17T13:29:03.814Z"
   },
   {
    "duration": 8,
    "start_time": "2022-11-17T13:29:03.969Z"
   },
   {
    "duration": 10,
    "start_time": "2022-11-17T13:29:03.979Z"
   },
   {
    "duration": 328,
    "start_time": "2022-11-17T13:29:03.993Z"
   },
   {
    "duration": 213,
    "start_time": "2022-11-17T13:29:04.323Z"
   },
   {
    "duration": 315,
    "start_time": "2022-11-17T13:29:04.538Z"
   },
   {
    "duration": 224,
    "start_time": "2022-11-17T13:29:04.855Z"
   },
   {
    "duration": 268,
    "start_time": "2022-11-17T13:29:05.081Z"
   },
   {
    "duration": 7,
    "start_time": "2022-11-17T13:29:05.351Z"
   },
   {
    "duration": 153,
    "start_time": "2022-11-17T13:29:05.360Z"
   },
   {
    "duration": 7,
    "start_time": "2022-11-17T13:29:05.515Z"
   },
   {
    "duration": 386,
    "start_time": "2022-11-17T13:29:05.524Z"
   },
   {
    "duration": 5,
    "start_time": "2022-11-17T13:29:05.911Z"
   },
   {
    "duration": 239,
    "start_time": "2022-11-17T13:29:05.918Z"
   },
   {
    "duration": 163,
    "start_time": "2022-11-17T13:29:06.158Z"
   },
   {
    "duration": 6,
    "start_time": "2022-11-17T13:29:06.323Z"
   },
   {
    "duration": 29,
    "start_time": "2022-11-17T13:29:06.330Z"
   },
   {
    "duration": 11,
    "start_time": "2022-11-17T13:29:06.361Z"
   },
   {
    "duration": 12,
    "start_time": "2022-11-17T13:29:06.374Z"
   },
   {
    "duration": 9,
    "start_time": "2022-11-17T13:29:06.388Z"
   },
   {
    "duration": 52,
    "start_time": "2022-11-17T13:29:06.399Z"
   },
   {
    "duration": 15,
    "start_time": "2022-11-17T13:29:06.453Z"
   },
   {
    "duration": 5,
    "start_time": "2022-11-17T13:31:36.350Z"
   },
   {
    "duration": 5,
    "start_time": "2022-11-17T13:31:57.284Z"
   },
   {
    "duration": 10,
    "start_time": "2022-11-17T13:32:37.727Z"
   },
   {
    "duration": 1180,
    "start_time": "2022-11-17T13:32:55.568Z"
   },
   {
    "duration": 31,
    "start_time": "2022-11-17T13:32:56.751Z"
   },
   {
    "duration": 8,
    "start_time": "2022-11-17T13:32:56.783Z"
   },
   {
    "duration": 11,
    "start_time": "2022-11-17T13:32:56.793Z"
   },
   {
    "duration": 9,
    "start_time": "2022-11-17T13:32:56.807Z"
   },
   {
    "duration": 58,
    "start_time": "2022-11-17T13:32:56.818Z"
   },
   {
    "duration": 7,
    "start_time": "2022-11-17T13:32:56.877Z"
   },
   {
    "duration": 16,
    "start_time": "2022-11-17T13:32:56.886Z"
   },
   {
    "duration": 8,
    "start_time": "2022-11-17T13:32:56.904Z"
   },
   {
    "duration": 168,
    "start_time": "2022-11-17T13:32:56.913Z"
   },
   {
    "duration": 126,
    "start_time": "2022-11-17T13:32:57.083Z"
   },
   {
    "duration": 7,
    "start_time": "2022-11-17T13:32:57.211Z"
   },
   {
    "duration": 20,
    "start_time": "2022-11-17T13:32:57.219Z"
   },
   {
    "duration": 275,
    "start_time": "2022-11-17T13:32:57.243Z"
   },
   {
    "duration": 189,
    "start_time": "2022-11-17T13:32:57.519Z"
   },
   {
    "duration": 306,
    "start_time": "2022-11-17T13:32:57.710Z"
   },
   {
    "duration": 202,
    "start_time": "2022-11-17T13:32:58.018Z"
   },
   {
    "duration": 310,
    "start_time": "2022-11-17T13:32:58.221Z"
   },
   {
    "duration": 8,
    "start_time": "2022-11-17T13:32:58.533Z"
   },
   {
    "duration": 130,
    "start_time": "2022-11-17T13:32:58.542Z"
   },
   {
    "duration": 4,
    "start_time": "2022-11-17T13:32:58.673Z"
   },
   {
    "duration": 413,
    "start_time": "2022-11-17T13:32:58.679Z"
   },
   {
    "duration": 5,
    "start_time": "2022-11-17T13:32:59.094Z"
   },
   {
    "duration": 237,
    "start_time": "2022-11-17T13:32:59.100Z"
   },
   {
    "duration": 134,
    "start_time": "2022-11-17T13:32:59.339Z"
   },
   {
    "duration": 6,
    "start_time": "2022-11-17T13:32:59.475Z"
   },
   {
    "duration": 27,
    "start_time": "2022-11-17T13:32:59.483Z"
   },
   {
    "duration": 25,
    "start_time": "2022-11-17T13:32:59.512Z"
   },
   {
    "duration": 12,
    "start_time": "2022-11-17T13:32:59.539Z"
   },
   {
    "duration": 10,
    "start_time": "2022-11-17T13:32:59.553Z"
   },
   {
    "duration": 25,
    "start_time": "2022-11-17T13:32:59.565Z"
   },
   {
    "duration": 14,
    "start_time": "2022-11-17T13:32:59.591Z"
   },
   {
    "duration": 47,
    "start_time": "2022-11-18T06:53:05.849Z"
   },
   {
    "duration": 1264,
    "start_time": "2022-11-18T06:53:10.715Z"
   },
   {
    "duration": 64,
    "start_time": "2022-11-18T06:53:11.981Z"
   },
   {
    "duration": 8,
    "start_time": "2022-11-18T06:53:12.047Z"
   },
   {
    "duration": 10,
    "start_time": "2022-11-18T06:53:12.056Z"
   },
   {
    "duration": 7,
    "start_time": "2022-11-18T06:53:12.068Z"
   },
   {
    "duration": 157,
    "start_time": "2022-11-18T06:53:12.077Z"
   },
   {
    "duration": 7,
    "start_time": "2022-11-18T06:53:12.235Z"
   },
   {
    "duration": 16,
    "start_time": "2022-11-18T06:53:12.243Z"
   },
   {
    "duration": 9,
    "start_time": "2022-11-18T06:53:12.261Z"
   },
   {
    "duration": 153,
    "start_time": "2022-11-18T06:53:12.272Z"
   },
   {
    "duration": 118,
    "start_time": "2022-11-18T06:53:12.426Z"
   },
   {
    "duration": 6,
    "start_time": "2022-11-18T06:53:12.546Z"
   },
   {
    "duration": 9,
    "start_time": "2022-11-18T06:53:12.553Z"
   },
   {
    "duration": 246,
    "start_time": "2022-11-18T06:53:12.564Z"
   },
   {
    "duration": 171,
    "start_time": "2022-11-18T06:53:12.812Z"
   },
   {
    "duration": 353,
    "start_time": "2022-11-18T06:53:12.985Z"
   },
   {
    "duration": 174,
    "start_time": "2022-11-18T06:53:13.340Z"
   },
   {
    "duration": 272,
    "start_time": "2022-11-18T06:53:13.516Z"
   },
   {
    "duration": 6,
    "start_time": "2022-11-18T06:53:13.790Z"
   },
   {
    "duration": 119,
    "start_time": "2022-11-18T06:53:13.797Z"
   },
   {
    "duration": 4,
    "start_time": "2022-11-18T06:53:13.917Z"
   },
   {
    "duration": 311,
    "start_time": "2022-11-18T06:53:13.922Z"
   },
   {
    "duration": 3,
    "start_time": "2022-11-18T06:53:14.235Z"
   },
   {
    "duration": 210,
    "start_time": "2022-11-18T06:53:14.240Z"
   },
   {
    "duration": 135,
    "start_time": "2022-11-18T06:53:14.451Z"
   },
   {
    "duration": 6,
    "start_time": "2022-11-18T06:53:14.588Z"
   },
   {
    "duration": 32,
    "start_time": "2022-11-18T06:53:14.596Z"
   },
   {
    "duration": 9,
    "start_time": "2022-11-18T06:53:14.630Z"
   },
   {
    "duration": 26,
    "start_time": "2022-11-18T06:53:14.640Z"
   },
   {
    "duration": 22,
    "start_time": "2022-11-18T06:53:14.668Z"
   },
   {
    "duration": 39,
    "start_time": "2022-11-18T06:53:14.692Z"
   },
   {
    "duration": 19,
    "start_time": "2022-11-18T06:53:14.733Z"
   },
   {
    "duration": 64,
    "start_time": "2022-11-18T06:53:41.373Z"
   },
   {
    "duration": 62,
    "start_time": "2022-11-18T06:54:25.633Z"
   },
   {
    "duration": 62,
    "start_time": "2022-11-18T06:54:40.779Z"
   },
   {
    "duration": 1121,
    "start_time": "2022-11-18T07:04:14.565Z"
   },
   {
    "duration": 33,
    "start_time": "2022-11-18T07:04:15.688Z"
   },
   {
    "duration": 10,
    "start_time": "2022-11-18T07:04:15.723Z"
   },
   {
    "duration": 10,
    "start_time": "2022-11-18T07:04:15.735Z"
   },
   {
    "duration": 7,
    "start_time": "2022-11-18T07:04:15.746Z"
   },
   {
    "duration": 53,
    "start_time": "2022-11-18T07:04:15.755Z"
   },
   {
    "duration": 9,
    "start_time": "2022-11-18T07:04:15.809Z"
   },
   {
    "duration": 27,
    "start_time": "2022-11-18T07:04:15.819Z"
   },
   {
    "duration": 13,
    "start_time": "2022-11-18T07:04:15.848Z"
   },
   {
    "duration": 158,
    "start_time": "2022-11-18T07:04:15.863Z"
   },
   {
    "duration": 139,
    "start_time": "2022-11-18T07:04:16.023Z"
   },
   {
    "duration": 6,
    "start_time": "2022-11-18T07:04:16.163Z"
   },
   {
    "duration": 9,
    "start_time": "2022-11-18T07:04:16.170Z"
   },
   {
    "duration": 269,
    "start_time": "2022-11-18T07:04:16.181Z"
   },
   {
    "duration": 194,
    "start_time": "2022-11-18T07:04:16.451Z"
   },
   {
    "duration": 289,
    "start_time": "2022-11-18T07:04:16.647Z"
   },
   {
    "duration": 206,
    "start_time": "2022-11-18T07:04:16.938Z"
   },
   {
    "duration": 275,
    "start_time": "2022-11-18T07:04:17.146Z"
   },
   {
    "duration": 8,
    "start_time": "2022-11-18T07:04:17.423Z"
   },
   {
    "duration": 138,
    "start_time": "2022-11-18T07:04:17.433Z"
   },
   {
    "duration": 4,
    "start_time": "2022-11-18T07:04:17.572Z"
   },
   {
    "duration": 325,
    "start_time": "2022-11-18T07:04:17.577Z"
   },
   {
    "duration": 14,
    "start_time": "2022-11-18T07:04:17.903Z"
   },
   {
    "duration": 221,
    "start_time": "2022-11-18T07:04:17.919Z"
   },
   {
    "duration": 135,
    "start_time": "2022-11-18T07:04:18.142Z"
   },
   {
    "duration": 5,
    "start_time": "2022-11-18T07:04:18.279Z"
   },
   {
    "duration": 28,
    "start_time": "2022-11-18T07:04:18.285Z"
   },
   {
    "duration": 10,
    "start_time": "2022-11-18T07:04:18.316Z"
   },
   {
    "duration": 15,
    "start_time": "2022-11-18T07:04:18.327Z"
   },
   {
    "duration": 7,
    "start_time": "2022-11-18T07:04:18.344Z"
   },
   {
    "duration": 31,
    "start_time": "2022-11-18T07:04:18.352Z"
   },
   {
    "duration": 14,
    "start_time": "2022-11-18T07:04:18.384Z"
   },
   {
    "duration": 1092,
    "start_time": "2022-11-18T07:45:35.615Z"
   },
   {
    "duration": 39,
    "start_time": "2022-11-18T07:45:36.709Z"
   },
   {
    "duration": 8,
    "start_time": "2022-11-18T07:45:36.750Z"
   },
   {
    "duration": 19,
    "start_time": "2022-11-18T07:45:36.760Z"
   },
   {
    "duration": 8,
    "start_time": "2022-11-18T07:45:36.781Z"
   },
   {
    "duration": 57,
    "start_time": "2022-11-18T07:45:36.790Z"
   },
   {
    "duration": 7,
    "start_time": "2022-11-18T07:45:36.848Z"
   },
   {
    "duration": 15,
    "start_time": "2022-11-18T07:45:36.856Z"
   },
   {
    "duration": 7,
    "start_time": "2022-11-18T07:45:36.873Z"
   },
   {
    "duration": 174,
    "start_time": "2022-11-18T07:45:36.881Z"
   },
   {
    "duration": 118,
    "start_time": "2022-11-18T07:45:37.056Z"
   },
   {
    "duration": 6,
    "start_time": "2022-11-18T07:45:37.175Z"
   },
   {
    "duration": 8,
    "start_time": "2022-11-18T07:45:37.183Z"
   },
   {
    "duration": 273,
    "start_time": "2022-11-18T07:45:37.194Z"
   },
   {
    "duration": 184,
    "start_time": "2022-11-18T07:45:37.468Z"
   },
   {
    "duration": 273,
    "start_time": "2022-11-18T07:45:37.654Z"
   },
   {
    "duration": 186,
    "start_time": "2022-11-18T07:45:37.929Z"
   },
   {
    "duration": 280,
    "start_time": "2022-11-18T07:45:38.117Z"
   },
   {
    "duration": 14,
    "start_time": "2022-11-18T07:45:38.399Z"
   },
   {
    "duration": 121,
    "start_time": "2022-11-18T07:45:38.416Z"
   },
   {
    "duration": 4,
    "start_time": "2022-11-18T07:45:38.539Z"
   },
   {
    "duration": 346,
    "start_time": "2022-11-18T07:45:38.544Z"
   },
   {
    "duration": 4,
    "start_time": "2022-11-18T07:45:38.891Z"
   },
   {
    "duration": 230,
    "start_time": "2022-11-18T07:45:38.897Z"
   },
   {
    "duration": 132,
    "start_time": "2022-11-18T07:45:39.129Z"
   },
   {
    "duration": 6,
    "start_time": "2022-11-18T07:45:39.262Z"
   },
   {
    "duration": 23,
    "start_time": "2022-11-18T07:45:39.269Z"
   },
   {
    "duration": 23,
    "start_time": "2022-11-18T07:45:39.294Z"
   },
   {
    "duration": 11,
    "start_time": "2022-11-18T07:45:39.319Z"
   },
   {
    "duration": 9,
    "start_time": "2022-11-18T07:45:39.332Z"
   },
   {
    "duration": 18,
    "start_time": "2022-11-18T07:45:39.342Z"
   },
   {
    "duration": 13,
    "start_time": "2022-11-18T07:45:39.362Z"
   },
   {
    "duration": 107,
    "start_time": "2022-11-18T07:53:04.292Z"
   },
   {
    "duration": 11,
    "start_time": "2022-11-18T07:58:09.304Z"
   },
   {
    "duration": 11,
    "start_time": "2022-11-18T07:58:29.734Z"
   },
   {
    "duration": 82,
    "start_time": "2022-11-18T07:58:42.314Z"
   },
   {
    "duration": 11,
    "start_time": "2022-11-18T07:58:51.732Z"
   },
   {
    "duration": 10,
    "start_time": "2022-11-18T08:00:41.706Z"
   },
   {
    "duration": 9,
    "start_time": "2022-11-18T08:01:19.790Z"
   },
   {
    "duration": 9,
    "start_time": "2022-11-18T08:01:46.220Z"
   },
   {
    "duration": 9,
    "start_time": "2022-11-18T08:02:03.472Z"
   },
   {
    "duration": 9,
    "start_time": "2022-11-18T08:02:07.422Z"
   },
   {
    "duration": 8,
    "start_time": "2022-11-18T08:37:16.746Z"
   },
   {
    "duration": 8,
    "start_time": "2022-11-18T08:37:27.244Z"
   },
   {
    "duration": 275,
    "start_time": "2022-11-18T08:38:49.629Z"
   },
   {
    "duration": 257,
    "start_time": "2022-11-18T08:38:58.141Z"
   },
   {
    "duration": 32,
    "start_time": "2022-11-18T09:14:30.419Z"
   },
   {
    "duration": 1362,
    "start_time": "2022-11-18T10:56:14.293Z"
   },
   {
    "duration": 118,
    "start_time": "2022-11-18T10:56:15.657Z"
   },
   {
    "duration": 8,
    "start_time": "2022-11-18T10:56:15.776Z"
   },
   {
    "duration": 16,
    "start_time": "2022-11-18T10:56:15.786Z"
   },
   {
    "duration": 11,
    "start_time": "2022-11-18T10:56:15.805Z"
   },
   {
    "duration": 163,
    "start_time": "2022-11-18T10:56:15.817Z"
   },
   {
    "duration": 8,
    "start_time": "2022-11-18T10:56:15.982Z"
   },
   {
    "duration": 16,
    "start_time": "2022-11-18T10:56:15.991Z"
   },
   {
    "duration": 11,
    "start_time": "2022-11-18T10:56:16.009Z"
   },
   {
    "duration": 172,
    "start_time": "2022-11-18T10:56:16.022Z"
   },
   {
    "duration": 136,
    "start_time": "2022-11-18T10:56:16.196Z"
   },
   {
    "duration": 8,
    "start_time": "2022-11-18T10:56:16.334Z"
   },
   {
    "duration": 15,
    "start_time": "2022-11-18T10:56:16.344Z"
   },
   {
    "duration": 295,
    "start_time": "2022-11-18T10:56:16.362Z"
   },
   {
    "duration": 199,
    "start_time": "2022-11-18T10:56:16.659Z"
   },
   {
    "duration": 331,
    "start_time": "2022-11-18T10:56:16.860Z"
   },
   {
    "duration": 204,
    "start_time": "2022-11-18T10:56:17.193Z"
   },
   {
    "duration": 318,
    "start_time": "2022-11-18T10:56:17.399Z"
   },
   {
    "duration": 137,
    "start_time": "2022-11-18T10:56:17.723Z"
   },
   {
    "duration": 5,
    "start_time": "2022-11-18T10:56:17.862Z"
   },
   {
    "duration": 366,
    "start_time": "2022-11-18T10:56:17.869Z"
   },
   {
    "duration": 5,
    "start_time": "2022-11-18T10:56:18.237Z"
   },
   {
    "duration": 236,
    "start_time": "2022-11-18T10:56:18.244Z"
   },
   {
    "duration": 141,
    "start_time": "2022-11-18T10:56:18.482Z"
   },
   {
    "duration": 7,
    "start_time": "2022-11-18T10:56:18.625Z"
   },
   {
    "duration": 39,
    "start_time": "2022-11-18T10:56:18.633Z"
   },
   {
    "duration": 11,
    "start_time": "2022-11-18T10:56:18.674Z"
   },
   {
    "duration": 11,
    "start_time": "2022-11-18T10:56:18.687Z"
   },
   {
    "duration": 27,
    "start_time": "2022-11-18T10:56:18.700Z"
   },
   {
    "duration": 28,
    "start_time": "2022-11-18T10:56:18.729Z"
   },
   {
    "duration": 14,
    "start_time": "2022-11-18T10:56:18.759Z"
   },
   {
    "duration": 10,
    "start_time": "2022-11-18T11:03:57.734Z"
   },
   {
    "duration": 103,
    "start_time": "2022-11-18T11:08:15.677Z"
   },
   {
    "duration": 111,
    "start_time": "2022-11-18T11:09:38.127Z"
   },
   {
    "duration": 24,
    "start_time": "2022-11-18T11:09:39.973Z"
   },
   {
    "duration": 1223,
    "start_time": "2022-11-18T11:09:44.718Z"
   },
   {
    "duration": 37,
    "start_time": "2022-11-18T11:09:45.944Z"
   },
   {
    "duration": 8,
    "start_time": "2022-11-18T11:09:45.982Z"
   },
   {
    "duration": 26,
    "start_time": "2022-11-18T11:09:45.992Z"
   },
   {
    "duration": 12,
    "start_time": "2022-11-18T11:09:46.020Z"
   },
   {
    "duration": 83,
    "start_time": "2022-11-18T11:09:46.034Z"
   },
   {
    "duration": 10,
    "start_time": "2022-11-18T11:09:46.119Z"
   },
   {
    "duration": 30,
    "start_time": "2022-11-18T11:09:46.131Z"
   },
   {
    "duration": 22,
    "start_time": "2022-11-18T11:09:46.163Z"
   },
   {
    "duration": 187,
    "start_time": "2022-11-18T11:09:46.187Z"
   },
   {
    "duration": 130,
    "start_time": "2022-11-18T11:09:46.375Z"
   },
   {
    "duration": 17,
    "start_time": "2022-11-18T11:09:46.507Z"
   },
   {
    "duration": 33,
    "start_time": "2022-11-18T11:09:46.527Z"
   },
   {
    "duration": 273,
    "start_time": "2022-11-18T11:09:46.563Z"
   },
   {
    "duration": 201,
    "start_time": "2022-11-18T11:09:46.837Z"
   },
   {
    "duration": 296,
    "start_time": "2022-11-18T11:09:47.040Z"
   },
   {
    "duration": 202,
    "start_time": "2022-11-18T11:09:47.338Z"
   },
   {
    "duration": 293,
    "start_time": "2022-11-18T11:09:47.541Z"
   },
   {
    "duration": 130,
    "start_time": "2022-11-18T11:09:47.836Z"
   },
   {
    "duration": 4,
    "start_time": "2022-11-18T11:09:47.968Z"
   },
   {
    "duration": 357,
    "start_time": "2022-11-18T11:09:47.973Z"
   },
   {
    "duration": 5,
    "start_time": "2022-11-18T11:09:48.332Z"
   },
   {
    "duration": 110,
    "start_time": "2022-11-18T11:09:48.339Z"
   },
   {
    "duration": 129,
    "start_time": "2022-11-18T11:09:48.451Z"
   },
   {
    "duration": 25,
    "start_time": "2022-11-18T11:09:48.582Z"
   },
   {
    "duration": 150,
    "start_time": "2022-11-18T11:09:48.623Z"
   },
   {
    "duration": 7,
    "start_time": "2022-11-18T11:09:48.774Z"
   },
   {
    "duration": 24,
    "start_time": "2022-11-18T11:09:48.782Z"
   },
   {
    "duration": 23,
    "start_time": "2022-11-18T11:09:48.808Z"
   },
   {
    "duration": 16,
    "start_time": "2022-11-18T11:09:48.833Z"
   },
   {
    "duration": 10,
    "start_time": "2022-11-18T11:09:48.851Z"
   },
   {
    "duration": 28,
    "start_time": "2022-11-18T11:09:48.863Z"
   },
   {
    "duration": 38,
    "start_time": "2022-11-18T11:09:48.892Z"
   },
   {
    "duration": 107,
    "start_time": "2022-11-18T11:12:12.958Z"
   },
   {
    "duration": 124,
    "start_time": "2022-11-18T11:13:24.145Z"
   },
   {
    "duration": 123,
    "start_time": "2022-11-18T11:13:41.812Z"
   },
   {
    "duration": 112,
    "start_time": "2022-11-18T11:15:00.090Z"
   },
   {
    "duration": 28,
    "start_time": "2022-11-18T11:15:08.089Z"
   },
   {
    "duration": 21,
    "start_time": "2022-11-18T11:15:54.702Z"
   },
   {
    "duration": 1166,
    "start_time": "2022-11-18T11:16:18.650Z"
   },
   {
    "duration": 40,
    "start_time": "2022-11-18T11:16:19.822Z"
   },
   {
    "duration": 12,
    "start_time": "2022-11-18T11:16:19.863Z"
   },
   {
    "duration": 22,
    "start_time": "2022-11-18T11:16:19.878Z"
   },
   {
    "duration": 21,
    "start_time": "2022-11-18T11:16:19.902Z"
   },
   {
    "duration": 89,
    "start_time": "2022-11-18T11:16:19.926Z"
   },
   {
    "duration": 13,
    "start_time": "2022-11-18T11:16:20.017Z"
   },
   {
    "duration": 37,
    "start_time": "2022-11-18T11:16:20.032Z"
   },
   {
    "duration": 16,
    "start_time": "2022-11-18T11:16:20.071Z"
   },
   {
    "duration": 182,
    "start_time": "2022-11-18T11:16:20.090Z"
   },
   {
    "duration": 121,
    "start_time": "2022-11-18T11:16:20.274Z"
   },
   {
    "duration": 8,
    "start_time": "2022-11-18T11:16:20.396Z"
   },
   {
    "duration": 28,
    "start_time": "2022-11-18T11:16:20.405Z"
   },
   {
    "duration": 277,
    "start_time": "2022-11-18T11:16:20.435Z"
   },
   {
    "duration": 198,
    "start_time": "2022-11-18T11:16:20.713Z"
   },
   {
    "duration": 311,
    "start_time": "2022-11-18T11:16:20.912Z"
   },
   {
    "duration": 202,
    "start_time": "2022-11-18T11:16:21.225Z"
   },
   {
    "duration": 296,
    "start_time": "2022-11-18T11:16:21.429Z"
   },
   {
    "duration": 133,
    "start_time": "2022-11-18T11:16:21.728Z"
   },
   {
    "duration": 7,
    "start_time": "2022-11-18T11:16:21.863Z"
   },
   {
    "duration": 387,
    "start_time": "2022-11-18T11:16:21.871Z"
   },
   {
    "duration": 4,
    "start_time": "2022-11-18T11:16:22.260Z"
   },
   {
    "duration": 111,
    "start_time": "2022-11-18T11:16:22.265Z"
   },
   {
    "duration": 133,
    "start_time": "2022-11-18T11:16:22.377Z"
   },
   {
    "duration": 27,
    "start_time": "2022-11-18T11:16:22.511Z"
   },
   {
    "duration": 132,
    "start_time": "2022-11-18T11:16:22.539Z"
   },
   {
    "duration": 7,
    "start_time": "2022-11-18T11:16:22.672Z"
   },
   {
    "duration": 40,
    "start_time": "2022-11-18T11:16:22.682Z"
   },
   {
    "duration": 17,
    "start_time": "2022-11-18T11:16:22.724Z"
   },
   {
    "duration": 15,
    "start_time": "2022-11-18T11:16:22.742Z"
   },
   {
    "duration": 28,
    "start_time": "2022-11-18T11:16:22.758Z"
   },
   {
    "duration": 54,
    "start_time": "2022-11-18T11:16:22.788Z"
   },
   {
    "duration": 21,
    "start_time": "2022-11-18T11:16:22.843Z"
   },
   {
    "duration": 9,
    "start_time": "2022-11-18T11:18:17.682Z"
   },
   {
    "duration": 1222,
    "start_time": "2022-11-18T11:59:21.206Z"
   },
   {
    "duration": 38,
    "start_time": "2022-11-18T11:59:22.430Z"
   },
   {
    "duration": 10,
    "start_time": "2022-11-18T11:59:22.470Z"
   },
   {
    "duration": 14,
    "start_time": "2022-11-18T11:59:22.481Z"
   },
   {
    "duration": 21,
    "start_time": "2022-11-18T11:59:22.499Z"
   },
   {
    "duration": 68,
    "start_time": "2022-11-18T11:59:22.522Z"
   },
   {
    "duration": 8,
    "start_time": "2022-11-18T11:59:22.592Z"
   },
   {
    "duration": 15,
    "start_time": "2022-11-18T11:59:22.602Z"
   },
   {
    "duration": 8,
    "start_time": "2022-11-18T11:59:22.619Z"
   },
   {
    "duration": 167,
    "start_time": "2022-11-18T11:59:22.628Z"
   },
   {
    "duration": 125,
    "start_time": "2022-11-18T11:59:22.797Z"
   },
   {
    "duration": 7,
    "start_time": "2022-11-18T11:59:22.923Z"
   },
   {
    "duration": 9,
    "start_time": "2022-11-18T11:59:22.932Z"
   },
   {
    "duration": 280,
    "start_time": "2022-11-18T11:59:22.944Z"
   },
   {
    "duration": 204,
    "start_time": "2022-11-18T11:59:23.226Z"
   },
   {
    "duration": 298,
    "start_time": "2022-11-18T11:59:23.432Z"
   },
   {
    "duration": 204,
    "start_time": "2022-11-18T11:59:23.732Z"
   },
   {
    "duration": 343,
    "start_time": "2022-11-18T11:59:23.938Z"
   },
   {
    "duration": 140,
    "start_time": "2022-11-18T11:59:24.284Z"
   },
   {
    "duration": 5,
    "start_time": "2022-11-18T11:59:24.425Z"
   },
   {
    "duration": 366,
    "start_time": "2022-11-18T11:59:24.431Z"
   },
   {
    "duration": 4,
    "start_time": "2022-11-18T11:59:24.799Z"
   },
   {
    "duration": 104,
    "start_time": "2022-11-18T11:59:24.805Z"
   },
   {
    "duration": 141,
    "start_time": "2022-11-18T11:59:24.911Z"
   },
   {
    "duration": 21,
    "start_time": "2022-11-18T11:59:25.054Z"
   },
   {
    "duration": 171,
    "start_time": "2022-11-18T11:59:25.077Z"
   },
   {
    "duration": 7,
    "start_time": "2022-11-18T11:59:25.249Z"
   },
   {
    "duration": 24,
    "start_time": "2022-11-18T11:59:25.257Z"
   },
   {
    "duration": 11,
    "start_time": "2022-11-18T11:59:25.282Z"
   },
   {
    "duration": 34,
    "start_time": "2022-11-18T11:59:25.295Z"
   },
   {
    "duration": 16,
    "start_time": "2022-11-18T11:59:25.330Z"
   },
   {
    "duration": 24,
    "start_time": "2022-11-18T11:59:25.347Z"
   },
   {
    "duration": 14,
    "start_time": "2022-11-18T11:59:25.372Z"
   },
   {
    "duration": 1243,
    "start_time": "2022-11-18T16:19:51.857Z"
   },
   {
    "duration": 78,
    "start_time": "2022-11-18T16:19:53.102Z"
   },
   {
    "duration": 8,
    "start_time": "2022-11-18T16:19:53.181Z"
   },
   {
    "duration": 11,
    "start_time": "2022-11-18T16:19:53.190Z"
   },
   {
    "duration": 8,
    "start_time": "2022-11-18T16:19:53.202Z"
   },
   {
    "duration": 150,
    "start_time": "2022-11-18T16:19:53.211Z"
   },
   {
    "duration": 7,
    "start_time": "2022-11-18T16:19:53.363Z"
   },
   {
    "duration": 15,
    "start_time": "2022-11-18T16:19:53.372Z"
   },
   {
    "duration": 8,
    "start_time": "2022-11-18T16:19:53.389Z"
   },
   {
    "duration": 153,
    "start_time": "2022-11-18T16:19:53.400Z"
   },
   {
    "duration": 128,
    "start_time": "2022-11-18T16:19:53.554Z"
   },
   {
    "duration": 6,
    "start_time": "2022-11-18T16:19:53.683Z"
   },
   {
    "duration": 7,
    "start_time": "2022-11-18T16:19:53.691Z"
   },
   {
    "duration": 258,
    "start_time": "2022-11-18T16:19:53.700Z"
   },
   {
    "duration": 169,
    "start_time": "2022-11-18T16:19:53.959Z"
   },
   {
    "duration": 304,
    "start_time": "2022-11-18T16:19:54.130Z"
   },
   {
    "duration": 185,
    "start_time": "2022-11-18T16:19:54.436Z"
   },
   {
    "duration": 275,
    "start_time": "2022-11-18T16:19:54.623Z"
   },
   {
    "duration": 126,
    "start_time": "2022-11-18T16:19:54.900Z"
   },
   {
    "duration": 4,
    "start_time": "2022-11-18T16:19:55.027Z"
   },
   {
    "duration": 328,
    "start_time": "2022-11-18T16:19:55.032Z"
   },
   {
    "duration": 3,
    "start_time": "2022-11-18T16:19:55.362Z"
   },
   {
    "duration": 95,
    "start_time": "2022-11-18T16:19:55.367Z"
   },
   {
    "duration": 110,
    "start_time": "2022-11-18T16:19:55.464Z"
   },
   {
    "duration": 18,
    "start_time": "2022-11-18T16:19:55.576Z"
   },
   {
    "duration": 153,
    "start_time": "2022-11-18T16:19:55.596Z"
   },
   {
    "duration": 6,
    "start_time": "2022-11-18T16:19:55.751Z"
   },
   {
    "duration": 22,
    "start_time": "2022-11-18T16:19:55.760Z"
   },
   {
    "duration": 9,
    "start_time": "2022-11-18T16:19:55.784Z"
   },
   {
    "duration": 9,
    "start_time": "2022-11-18T16:19:55.813Z"
   },
   {
    "duration": 7,
    "start_time": "2022-11-18T16:19:55.824Z"
   },
   {
    "duration": 22,
    "start_time": "2022-11-18T16:19:55.832Z"
   },
   {
    "duration": 13,
    "start_time": "2022-11-18T16:19:55.855Z"
   },
   {
    "duration": 68,
    "start_time": "2022-11-21T06:34:12.662Z"
   },
   {
    "duration": 1468,
    "start_time": "2022-11-21T06:34:19.444Z"
   },
   {
    "duration": 80,
    "start_time": "2022-11-21T06:34:20.914Z"
   },
   {
    "duration": 8,
    "start_time": "2022-11-21T06:34:20.996Z"
   },
   {
    "duration": 32,
    "start_time": "2022-11-21T06:34:21.006Z"
   },
   {
    "duration": 12,
    "start_time": "2022-11-21T06:34:21.041Z"
   },
   {
    "duration": 140,
    "start_time": "2022-11-21T06:34:21.054Z"
   },
   {
    "duration": 8,
    "start_time": "2022-11-21T06:34:21.196Z"
   },
   {
    "duration": 24,
    "start_time": "2022-11-21T06:34:21.206Z"
   },
   {
    "duration": 13,
    "start_time": "2022-11-21T06:34:21.232Z"
   },
   {
    "duration": 189,
    "start_time": "2022-11-21T06:34:21.246Z"
   },
   {
    "duration": 147,
    "start_time": "2022-11-21T06:34:21.437Z"
   },
   {
    "duration": 8,
    "start_time": "2022-11-21T06:34:21.586Z"
   },
   {
    "duration": 11,
    "start_time": "2022-11-21T06:34:21.596Z"
   },
   {
    "duration": 321,
    "start_time": "2022-11-21T06:34:21.610Z"
   },
   {
    "duration": 234,
    "start_time": "2022-11-21T06:34:21.932Z"
   },
   {
    "duration": 353,
    "start_time": "2022-11-21T06:34:22.168Z"
   },
   {
    "duration": 213,
    "start_time": "2022-11-21T06:34:22.522Z"
   },
   {
    "duration": 354,
    "start_time": "2022-11-21T06:34:22.737Z"
   },
   {
    "duration": 141,
    "start_time": "2022-11-21T06:34:23.093Z"
   },
   {
    "duration": 5,
    "start_time": "2022-11-21T06:34:23.236Z"
   },
   {
    "duration": 392,
    "start_time": "2022-11-21T06:34:23.243Z"
   },
   {
    "duration": 4,
    "start_time": "2022-11-21T06:34:23.637Z"
   },
   {
    "duration": 100,
    "start_time": "2022-11-21T06:34:23.642Z"
   },
   {
    "duration": 127,
    "start_time": "2022-11-21T06:34:23.744Z"
   },
   {
    "duration": 22,
    "start_time": "2022-11-21T06:34:23.873Z"
   },
   {
    "duration": 246,
    "start_time": "2022-11-21T06:34:23.897Z"
   },
   {
    "duration": 10,
    "start_time": "2022-11-21T06:34:24.145Z"
   },
   {
    "duration": 39,
    "start_time": "2022-11-21T06:34:24.157Z"
   },
   {
    "duration": 12,
    "start_time": "2022-11-21T06:34:24.198Z"
   },
   {
    "duration": 13,
    "start_time": "2022-11-21T06:34:24.212Z"
   },
   {
    "duration": 13,
    "start_time": "2022-11-21T06:34:24.227Z"
   },
   {
    "duration": 55,
    "start_time": "2022-11-21T06:34:24.242Z"
   },
   {
    "duration": 17,
    "start_time": "2022-11-21T06:34:24.298Z"
   },
   {
    "duration": 1249,
    "start_time": "2022-11-21T06:34:57.457Z"
   },
   {
    "duration": 37,
    "start_time": "2022-11-21T06:34:58.708Z"
   },
   {
    "duration": 9,
    "start_time": "2022-11-21T06:34:58.747Z"
   },
   {
    "duration": 13,
    "start_time": "2022-11-21T06:34:58.758Z"
   },
   {
    "duration": 9,
    "start_time": "2022-11-21T06:34:58.773Z"
   },
   {
    "duration": 66,
    "start_time": "2022-11-21T06:34:58.784Z"
   },
   {
    "duration": 9,
    "start_time": "2022-11-21T06:34:58.851Z"
   },
   {
    "duration": 18,
    "start_time": "2022-11-21T06:34:58.861Z"
   },
   {
    "duration": 9,
    "start_time": "2022-11-21T06:34:58.881Z"
   },
   {
    "duration": 177,
    "start_time": "2022-11-21T06:34:58.892Z"
   },
   {
    "duration": 136,
    "start_time": "2022-11-21T06:34:59.070Z"
   },
   {
    "duration": 8,
    "start_time": "2022-11-21T06:34:59.207Z"
   },
   {
    "duration": 11,
    "start_time": "2022-11-21T06:34:59.216Z"
   },
   {
    "duration": 292,
    "start_time": "2022-11-21T06:34:59.230Z"
   },
   {
    "duration": 201,
    "start_time": "2022-11-21T06:34:59.524Z"
   },
   {
    "duration": 281,
    "start_time": "2022-11-21T06:34:59.726Z"
   },
   {
    "duration": 210,
    "start_time": "2022-11-21T06:35:00.009Z"
   },
   {
    "duration": 270,
    "start_time": "2022-11-21T06:35:00.221Z"
   },
   {
    "duration": 139,
    "start_time": "2022-11-21T06:35:00.493Z"
   },
   {
    "duration": 4,
    "start_time": "2022-11-21T06:35:00.633Z"
   },
   {
    "duration": 370,
    "start_time": "2022-11-21T06:35:00.639Z"
   },
   {
    "duration": 5,
    "start_time": "2022-11-21T06:35:01.012Z"
   },
   {
    "duration": 113,
    "start_time": "2022-11-21T06:35:01.019Z"
   },
   {
    "duration": 131,
    "start_time": "2022-11-21T06:35:01.134Z"
   },
   {
    "duration": 24,
    "start_time": "2022-11-21T06:35:01.267Z"
   },
   {
    "duration": 150,
    "start_time": "2022-11-21T06:35:01.293Z"
   },
   {
    "duration": 7,
    "start_time": "2022-11-21T06:35:01.445Z"
   },
   {
    "duration": 39,
    "start_time": "2022-11-21T06:35:01.454Z"
   },
   {
    "duration": 15,
    "start_time": "2022-11-21T06:35:01.494Z"
   },
   {
    "duration": 29,
    "start_time": "2022-11-21T06:35:01.512Z"
   },
   {
    "duration": 31,
    "start_time": "2022-11-21T06:35:01.544Z"
   },
   {
    "duration": 35,
    "start_time": "2022-11-21T06:35:01.577Z"
   },
   {
    "duration": 18,
    "start_time": "2022-11-21T06:35:01.614Z"
   },
   {
    "duration": 1211,
    "start_time": "2022-11-21T06:35:22.935Z"
   },
   {
    "duration": 36,
    "start_time": "2022-11-21T06:35:24.147Z"
   },
   {
    "duration": 8,
    "start_time": "2022-11-21T06:35:24.185Z"
   },
   {
    "duration": 19,
    "start_time": "2022-11-21T06:35:24.194Z"
   },
   {
    "duration": 11,
    "start_time": "2022-11-21T06:35:24.215Z"
   },
   {
    "duration": 68,
    "start_time": "2022-11-21T06:35:24.228Z"
   },
   {
    "duration": 8,
    "start_time": "2022-11-21T06:35:24.298Z"
   },
   {
    "duration": 18,
    "start_time": "2022-11-21T06:35:24.307Z"
   },
   {
    "duration": 8,
    "start_time": "2022-11-21T06:35:24.327Z"
   },
   {
    "duration": 173,
    "start_time": "2022-11-21T06:35:24.336Z"
   },
   {
    "duration": 127,
    "start_time": "2022-11-21T06:35:24.511Z"
   },
   {
    "duration": 9,
    "start_time": "2022-11-21T06:35:24.640Z"
   },
   {
    "duration": 8,
    "start_time": "2022-11-21T06:35:24.651Z"
   },
   {
    "duration": 295,
    "start_time": "2022-11-21T06:35:24.662Z"
   },
   {
    "duration": 204,
    "start_time": "2022-11-21T06:35:24.958Z"
   },
   {
    "duration": 329,
    "start_time": "2022-11-21T06:35:25.164Z"
   },
   {
    "duration": 198,
    "start_time": "2022-11-21T06:35:25.495Z"
   },
   {
    "duration": 297,
    "start_time": "2022-11-21T06:35:25.695Z"
   },
   {
    "duration": 140,
    "start_time": "2022-11-21T06:35:25.994Z"
   },
   {
    "duration": 4,
    "start_time": "2022-11-21T06:35:26.136Z"
   },
   {
    "duration": 361,
    "start_time": "2022-11-21T06:35:26.141Z"
   },
   {
    "duration": 4,
    "start_time": "2022-11-21T06:35:26.504Z"
   },
   {
    "duration": 104,
    "start_time": "2022-11-21T06:35:26.510Z"
   },
   {
    "duration": 123,
    "start_time": "2022-11-21T06:35:26.615Z"
   },
   {
    "duration": 22,
    "start_time": "2022-11-21T06:35:26.739Z"
   },
   {
    "duration": 156,
    "start_time": "2022-11-21T06:35:26.762Z"
   },
   {
    "duration": 7,
    "start_time": "2022-11-21T06:35:26.920Z"
   },
   {
    "duration": 27,
    "start_time": "2022-11-21T06:35:26.929Z"
   },
   {
    "duration": 25,
    "start_time": "2022-11-21T06:35:26.958Z"
   },
   {
    "duration": 18,
    "start_time": "2022-11-21T06:35:26.985Z"
   },
   {
    "duration": 15,
    "start_time": "2022-11-21T06:35:27.005Z"
   },
   {
    "duration": 33,
    "start_time": "2022-11-21T06:35:27.022Z"
   },
   {
    "duration": 30,
    "start_time": "2022-11-21T06:35:27.057Z"
   },
   {
    "duration": 1261,
    "start_time": "2022-11-21T06:55:38.978Z"
   },
   {
    "duration": 1231,
    "start_time": "2022-11-21T06:55:49.600Z"
   },
   {
    "duration": 37,
    "start_time": "2022-11-21T06:55:50.833Z"
   },
   {
    "duration": 9,
    "start_time": "2022-11-21T06:55:50.872Z"
   },
   {
    "duration": 19,
    "start_time": "2022-11-21T06:55:50.883Z"
   },
   {
    "duration": 12,
    "start_time": "2022-11-21T06:55:50.904Z"
   },
   {
    "duration": 65,
    "start_time": "2022-11-21T06:55:50.919Z"
   },
   {
    "duration": 9,
    "start_time": "2022-11-21T06:55:50.986Z"
   },
   {
    "duration": 20,
    "start_time": "2022-11-21T06:55:50.997Z"
   },
   {
    "duration": 11,
    "start_time": "2022-11-21T06:55:51.019Z"
   },
   {
    "duration": 190,
    "start_time": "2022-11-21T06:55:51.032Z"
   },
   {
    "duration": 144,
    "start_time": "2022-11-21T06:55:51.224Z"
   },
   {
    "duration": 14,
    "start_time": "2022-11-21T06:55:51.369Z"
   },
   {
    "duration": 15,
    "start_time": "2022-11-21T06:55:51.385Z"
   },
   {
    "duration": 291,
    "start_time": "2022-11-21T06:55:51.403Z"
   },
   {
    "duration": 212,
    "start_time": "2022-11-21T06:55:51.696Z"
   },
   {
    "duration": 298,
    "start_time": "2022-11-21T06:55:51.910Z"
   },
   {
    "duration": 219,
    "start_time": "2022-11-21T06:55:52.210Z"
   },
   {
    "duration": 288,
    "start_time": "2022-11-21T06:55:52.431Z"
   },
   {
    "duration": 166,
    "start_time": "2022-11-21T06:55:52.721Z"
   },
   {
    "duration": 5,
    "start_time": "2022-11-21T06:55:52.889Z"
   },
   {
    "duration": 395,
    "start_time": "2022-11-21T06:55:52.896Z"
   },
   {
    "duration": 5,
    "start_time": "2022-11-21T06:55:53.293Z"
   },
   {
    "duration": 112,
    "start_time": "2022-11-21T06:55:53.300Z"
   },
   {
    "duration": 126,
    "start_time": "2022-11-21T06:55:53.414Z"
   },
   {
    "duration": 37,
    "start_time": "2022-11-21T06:55:53.542Z"
   },
   {
    "duration": 155,
    "start_time": "2022-11-21T06:55:53.581Z"
   },
   {
    "duration": 6,
    "start_time": "2022-11-21T06:55:53.738Z"
   },
   {
    "duration": 44,
    "start_time": "2022-11-21T06:55:53.746Z"
   },
   {
    "duration": 13,
    "start_time": "2022-11-21T06:55:53.793Z"
   },
   {
    "duration": 16,
    "start_time": "2022-11-21T06:55:53.808Z"
   },
   {
    "duration": 23,
    "start_time": "2022-11-21T06:55:53.826Z"
   },
   {
    "duration": 42,
    "start_time": "2022-11-21T06:55:53.851Z"
   },
   {
    "duration": 17,
    "start_time": "2022-11-21T06:55:53.895Z"
   },
   {
    "duration": 9,
    "start_time": "2022-11-21T06:58:43.827Z"
   },
   {
    "duration": 11,
    "start_time": "2022-11-21T06:59:00.794Z"
   },
   {
    "duration": 8,
    "start_time": "2022-11-21T06:59:56.430Z"
   },
   {
    "duration": 105,
    "start_time": "2022-11-21T07:00:23.570Z"
   },
   {
    "duration": 8,
    "start_time": "2022-11-21T07:00:51.310Z"
   },
   {
    "duration": 7,
    "start_time": "2022-11-21T07:01:13.727Z"
   },
   {
    "duration": 1289,
    "start_time": "2022-11-21T07:01:55.574Z"
   },
   {
    "duration": 37,
    "start_time": "2022-11-21T07:01:56.865Z"
   },
   {
    "duration": 8,
    "start_time": "2022-11-21T07:01:56.904Z"
   },
   {
    "duration": 16,
    "start_time": "2022-11-21T07:01:56.914Z"
   },
   {
    "duration": 13,
    "start_time": "2022-11-21T07:01:56.932Z"
   },
   {
    "duration": 65,
    "start_time": "2022-11-21T07:01:56.947Z"
   },
   {
    "duration": 10,
    "start_time": "2022-11-21T07:01:57.013Z"
   },
   {
    "duration": 15,
    "start_time": "2022-11-21T07:01:57.025Z"
   },
   {
    "duration": 11,
    "start_time": "2022-11-21T07:01:57.043Z"
   },
   {
    "duration": 24,
    "start_time": "2022-11-21T07:01:57.056Z"
   },
   {
    "duration": 12,
    "start_time": "2022-11-21T07:01:57.081Z"
   },
   {
    "duration": 185,
    "start_time": "2022-11-21T07:01:57.095Z"
   },
   {
    "duration": 142,
    "start_time": "2022-11-21T07:01:57.283Z"
   },
   {
    "duration": 8,
    "start_time": "2022-11-21T07:01:57.429Z"
   },
   {
    "duration": 10,
    "start_time": "2022-11-21T07:01:57.439Z"
   },
   {
    "duration": 313,
    "start_time": "2022-11-21T07:01:57.451Z"
   },
   {
    "duration": 222,
    "start_time": "2022-11-21T07:01:57.766Z"
   },
   {
    "duration": 300,
    "start_time": "2022-11-21T07:01:57.990Z"
   },
   {
    "duration": 232,
    "start_time": "2022-11-21T07:01:58.292Z"
   },
   {
    "duration": 295,
    "start_time": "2022-11-21T07:01:58.526Z"
   },
   {
    "duration": 154,
    "start_time": "2022-11-21T07:01:58.823Z"
   },
   {
    "duration": 5,
    "start_time": "2022-11-21T07:01:58.980Z"
   },
   {
    "duration": 404,
    "start_time": "2022-11-21T07:01:58.988Z"
   },
   {
    "duration": 4,
    "start_time": "2022-11-21T07:01:59.394Z"
   },
   {
    "duration": 109,
    "start_time": "2022-11-21T07:01:59.400Z"
   },
   {
    "duration": 125,
    "start_time": "2022-11-21T07:01:59.511Z"
   },
   {
    "duration": 25,
    "start_time": "2022-11-21T07:01:59.638Z"
   },
   {
    "duration": 207,
    "start_time": "2022-11-21T07:01:59.677Z"
   },
   {
    "duration": 11,
    "start_time": "2022-11-21T07:01:59.885Z"
   },
   {
    "duration": 25,
    "start_time": "2022-11-21T07:01:59.898Z"
   },
   {
    "duration": 12,
    "start_time": "2022-11-21T07:01:59.925Z"
   },
   {
    "duration": 11,
    "start_time": "2022-11-21T07:01:59.939Z"
   },
   {
    "duration": 9,
    "start_time": "2022-11-21T07:01:59.979Z"
   },
   {
    "duration": 30,
    "start_time": "2022-11-21T07:01:59.990Z"
   },
   {
    "duration": 17,
    "start_time": "2022-11-21T07:02:00.022Z"
   },
   {
    "duration": 220,
    "start_time": "2022-11-21T07:08:20.303Z"
   },
   {
    "duration": 222,
    "start_time": "2022-11-21T07:08:26.984Z"
   },
   {
    "duration": 206,
    "start_time": "2022-11-21T07:08:41.198Z"
   },
   {
    "duration": 220,
    "start_time": "2022-11-21T07:09:28.325Z"
   },
   {
    "duration": 212,
    "start_time": "2022-11-21T07:09:39.512Z"
   },
   {
    "duration": 312,
    "start_time": "2022-11-21T07:10:11.131Z"
   },
   {
    "duration": 245,
    "start_time": "2022-11-21T07:10:32.726Z"
   },
   {
    "duration": 302,
    "start_time": "2022-11-21T07:10:58.407Z"
   },
   {
    "duration": 151,
    "start_time": "2022-11-21T07:11:22.524Z"
   },
   {
    "duration": 189,
    "start_time": "2022-11-21T07:11:34.008Z"
   },
   {
    "duration": 232,
    "start_time": "2022-11-21T07:12:00.827Z"
   },
   {
    "duration": 146,
    "start_time": "2022-11-21T07:12:21.981Z"
   },
   {
    "duration": 153,
    "start_time": "2022-11-21T07:13:16.000Z"
   },
   {
    "duration": 298,
    "start_time": "2022-11-21T07:13:38.680Z"
   },
   {
    "duration": 79,
    "start_time": "2022-11-21T07:13:52.913Z"
   },
   {
    "duration": 79,
    "start_time": "2022-11-21T07:14:08.119Z"
   },
   {
    "duration": 291,
    "start_time": "2022-11-21T07:14:13.448Z"
   },
   {
    "duration": 335,
    "start_time": "2022-11-21T07:14:25.078Z"
   },
   {
    "duration": 299,
    "start_time": "2022-11-21T07:14:38.269Z"
   },
   {
    "duration": 392,
    "start_time": "2022-11-21T07:14:48.291Z"
   },
   {
    "duration": 341,
    "start_time": "2022-11-21T07:16:14.472Z"
   },
   {
    "duration": 1275,
    "start_time": "2022-11-21T07:16:40.952Z"
   },
   {
    "duration": 38,
    "start_time": "2022-11-21T07:16:42.229Z"
   },
   {
    "duration": 10,
    "start_time": "2022-11-21T07:16:42.269Z"
   },
   {
    "duration": 18,
    "start_time": "2022-11-21T07:16:42.281Z"
   },
   {
    "duration": 12,
    "start_time": "2022-11-21T07:16:42.302Z"
   },
   {
    "duration": 65,
    "start_time": "2022-11-21T07:16:42.316Z"
   },
   {
    "duration": 9,
    "start_time": "2022-11-21T07:16:42.383Z"
   },
   {
    "duration": 10,
    "start_time": "2022-11-21T07:16:42.394Z"
   },
   {
    "duration": 8,
    "start_time": "2022-11-21T07:16:42.407Z"
   },
   {
    "duration": 23,
    "start_time": "2022-11-21T07:16:42.417Z"
   },
   {
    "duration": 36,
    "start_time": "2022-11-21T07:16:42.442Z"
   },
   {
    "duration": 191,
    "start_time": "2022-11-21T07:16:42.480Z"
   },
   {
    "duration": 144,
    "start_time": "2022-11-21T07:16:42.673Z"
   },
   {
    "duration": 7,
    "start_time": "2022-11-21T07:16:42.824Z"
   },
   {
    "duration": 21,
    "start_time": "2022-11-21T07:16:42.833Z"
   },
   {
    "duration": 345,
    "start_time": "2022-11-21T07:16:42.856Z"
   },
   {
    "duration": 216,
    "start_time": "2022-11-21T07:16:43.203Z"
   },
   {
    "duration": 294,
    "start_time": "2022-11-21T07:16:43.421Z"
   },
   {
    "duration": 218,
    "start_time": "2022-11-21T07:16:43.717Z"
   },
   {
    "duration": 382,
    "start_time": "2022-11-21T07:16:43.937Z"
   },
   {
    "duration": 149,
    "start_time": "2022-11-21T07:16:44.321Z"
   },
   {
    "duration": 8,
    "start_time": "2022-11-21T07:16:44.472Z"
   },
   {
    "duration": 419,
    "start_time": "2022-11-21T07:16:44.482Z"
   },
   {
    "duration": 5,
    "start_time": "2022-11-21T07:16:44.903Z"
   },
   {
    "duration": 111,
    "start_time": "2022-11-21T07:16:44.910Z"
   },
   {
    "duration": 141,
    "start_time": "2022-11-21T07:16:45.023Z"
   },
   {
    "duration": 33,
    "start_time": "2022-11-21T07:16:45.165Z"
   },
   {
    "duration": 153,
    "start_time": "2022-11-21T07:16:45.200Z"
   },
   {
    "duration": 6,
    "start_time": "2022-11-21T07:16:45.355Z"
   },
   {
    "duration": 38,
    "start_time": "2022-11-21T07:16:45.364Z"
   },
   {
    "duration": 13,
    "start_time": "2022-11-21T07:16:45.404Z"
   },
   {
    "duration": 11,
    "start_time": "2022-11-21T07:16:45.419Z"
   },
   {
    "duration": 12,
    "start_time": "2022-11-21T07:16:45.432Z"
   },
   {
    "duration": 55,
    "start_time": "2022-11-21T07:16:45.446Z"
   },
   {
    "duration": 15,
    "start_time": "2022-11-21T07:16:45.503Z"
   },
   {
    "duration": 31,
    "start_time": "2022-11-21T07:27:15.401Z"
   },
   {
    "duration": 26,
    "start_time": "2022-11-21T07:27:34.427Z"
   },
   {
    "duration": 26,
    "start_time": "2022-11-21T07:27:40.616Z"
   },
   {
    "duration": 34,
    "start_time": "2022-11-21T07:27:56.674Z"
   },
   {
    "duration": 16,
    "start_time": "2022-11-21T07:28:12.510Z"
   },
   {
    "duration": 19,
    "start_time": "2022-11-21T07:28:49.504Z"
   },
   {
    "duration": 1201,
    "start_time": "2022-11-21T07:28:54.017Z"
   },
   {
    "duration": 35,
    "start_time": "2022-11-21T07:28:55.220Z"
   },
   {
    "duration": 8,
    "start_time": "2022-11-21T07:28:55.257Z"
   },
   {
    "duration": 34,
    "start_time": "2022-11-21T07:28:55.267Z"
   },
   {
    "duration": 12,
    "start_time": "2022-11-21T07:28:55.303Z"
   },
   {
    "duration": 79,
    "start_time": "2022-11-21T07:28:55.316Z"
   },
   {
    "duration": 9,
    "start_time": "2022-11-21T07:28:55.397Z"
   },
   {
    "duration": 10,
    "start_time": "2022-11-21T07:28:55.407Z"
   },
   {
    "duration": 8,
    "start_time": "2022-11-21T07:28:55.418Z"
   },
   {
    "duration": 14,
    "start_time": "2022-11-21T07:28:55.428Z"
   },
   {
    "duration": 10,
    "start_time": "2022-11-21T07:28:55.444Z"
   },
   {
    "duration": 191,
    "start_time": "2022-11-21T07:28:55.456Z"
   },
   {
    "duration": 151,
    "start_time": "2022-11-21T07:28:55.649Z"
   },
   {
    "duration": 7,
    "start_time": "2022-11-21T07:28:55.802Z"
   },
   {
    "duration": 8,
    "start_time": "2022-11-21T07:28:55.811Z"
   },
   {
    "duration": 308,
    "start_time": "2022-11-21T07:28:55.821Z"
   },
   {
    "duration": 213,
    "start_time": "2022-11-21T07:28:56.130Z"
   },
   {
    "duration": 351,
    "start_time": "2022-11-21T07:28:56.344Z"
   },
   {
    "duration": 229,
    "start_time": "2022-11-21T07:28:56.697Z"
   },
   {
    "duration": 301,
    "start_time": "2022-11-21T07:28:56.928Z"
   },
   {
    "duration": 144,
    "start_time": "2022-11-21T07:28:57.231Z"
   },
   {
    "duration": 16,
    "start_time": "2022-11-21T07:28:57.378Z"
   },
   {
    "duration": 380,
    "start_time": "2022-11-21T07:28:57.395Z"
   },
   {
    "duration": 18,
    "start_time": "2022-11-21T07:28:57.777Z"
   },
   {
    "duration": 106,
    "start_time": "2022-11-21T07:28:57.797Z"
   },
   {
    "duration": 130,
    "start_time": "2022-11-21T07:28:57.904Z"
   },
   {
    "duration": 23,
    "start_time": "2022-11-21T07:28:58.036Z"
   },
   {
    "duration": 158,
    "start_time": "2022-11-21T07:28:58.060Z"
   },
   {
    "duration": 6,
    "start_time": "2022-11-21T07:28:58.220Z"
   },
   {
    "duration": 27,
    "start_time": "2022-11-21T07:28:58.228Z"
   },
   {
    "duration": 33,
    "start_time": "2022-11-21T07:28:58.257Z"
   },
   {
    "duration": 10,
    "start_time": "2022-11-21T07:28:58.292Z"
   },
   {
    "duration": 11,
    "start_time": "2022-11-21T07:28:58.304Z"
   },
   {
    "duration": 28,
    "start_time": "2022-11-21T07:28:58.317Z"
   },
   {
    "duration": 39,
    "start_time": "2022-11-21T07:28:58.347Z"
   },
   {
    "duration": 14,
    "start_time": "2022-11-21T07:35:20.375Z"
   },
   {
    "duration": 11,
    "start_time": "2022-11-21T07:35:36.219Z"
   },
   {
    "duration": 14,
    "start_time": "2022-11-21T07:36:08.212Z"
   },
   {
    "duration": 1185,
    "start_time": "2022-11-21T07:39:29.033Z"
   },
   {
    "duration": 37,
    "start_time": "2022-11-21T07:39:30.220Z"
   },
   {
    "duration": 22,
    "start_time": "2022-11-21T07:39:30.259Z"
   },
   {
    "duration": 47,
    "start_time": "2022-11-21T07:39:30.285Z"
   },
   {
    "duration": 34,
    "start_time": "2022-11-21T07:39:30.334Z"
   },
   {
    "duration": 86,
    "start_time": "2022-11-21T07:39:30.370Z"
   },
   {
    "duration": 8,
    "start_time": "2022-11-21T07:39:30.458Z"
   },
   {
    "duration": 44,
    "start_time": "2022-11-21T07:39:30.468Z"
   },
   {
    "duration": 42,
    "start_time": "2022-11-21T07:39:30.514Z"
   },
   {
    "duration": 19,
    "start_time": "2022-11-21T07:39:30.557Z"
   },
   {
    "duration": 26,
    "start_time": "2022-11-21T07:39:30.580Z"
   },
   {
    "duration": 194,
    "start_time": "2022-11-21T07:39:30.607Z"
   },
   {
    "duration": 142,
    "start_time": "2022-11-21T07:39:30.803Z"
   },
   {
    "duration": 7,
    "start_time": "2022-11-21T07:39:30.948Z"
   },
   {
    "duration": 32,
    "start_time": "2022-11-21T07:39:30.957Z"
   },
   {
    "duration": 322,
    "start_time": "2022-11-21T07:39:30.991Z"
   },
   {
    "duration": 226,
    "start_time": "2022-11-21T07:39:31.315Z"
   },
   {
    "duration": 360,
    "start_time": "2022-11-21T07:39:31.543Z"
   },
   {
    "duration": 223,
    "start_time": "2022-11-21T07:39:31.905Z"
   },
   {
    "duration": 305,
    "start_time": "2022-11-21T07:39:32.130Z"
   },
   {
    "duration": 155,
    "start_time": "2022-11-21T07:39:32.436Z"
   },
   {
    "duration": 6,
    "start_time": "2022-11-21T07:39:32.593Z"
   },
   {
    "duration": 448,
    "start_time": "2022-11-21T07:39:32.600Z"
   },
   {
    "duration": 5,
    "start_time": "2022-11-21T07:39:33.050Z"
   },
   {
    "duration": 132,
    "start_time": "2022-11-21T07:39:33.057Z"
   },
   {
    "duration": 116,
    "start_time": "2022-11-21T07:39:33.195Z"
   },
   {
    "duration": 20,
    "start_time": "2022-11-21T07:39:33.313Z"
   },
   {
    "duration": 147,
    "start_time": "2022-11-21T07:39:33.335Z"
   },
   {
    "duration": 9,
    "start_time": "2022-11-21T07:39:33.484Z"
   },
   {
    "duration": 42,
    "start_time": "2022-11-21T07:39:33.495Z"
   },
   {
    "duration": 11,
    "start_time": "2022-11-21T07:39:33.539Z"
   },
   {
    "duration": 11,
    "start_time": "2022-11-21T07:39:33.552Z"
   },
   {
    "duration": 45,
    "start_time": "2022-11-21T07:39:33.564Z"
   },
   {
    "duration": 57,
    "start_time": "2022-11-21T07:39:33.611Z"
   },
   {
    "duration": 19,
    "start_time": "2022-11-21T07:39:33.669Z"
   },
   {
    "duration": 5,
    "start_time": "2022-11-21T07:46:50.475Z"
   },
   {
    "duration": 4,
    "start_time": "2022-11-21T07:51:39.801Z"
   },
   {
    "duration": 5,
    "start_time": "2022-11-21T07:51:46.302Z"
   },
   {
    "duration": 5,
    "start_time": "2022-11-21T07:52:27.031Z"
   },
   {
    "duration": 4,
    "start_time": "2022-11-21T07:53:14.363Z"
   },
   {
    "duration": 9,
    "start_time": "2022-11-21T07:58:43.618Z"
   },
   {
    "duration": 6,
    "start_time": "2022-11-21T07:58:50.266Z"
   },
   {
    "duration": 137,
    "start_time": "2022-11-21T07:59:11.529Z"
   },
   {
    "duration": 8,
    "start_time": "2022-11-21T07:59:19.309Z"
   },
   {
    "duration": 7,
    "start_time": "2022-11-21T07:59:27.212Z"
   },
   {
    "duration": 8,
    "start_time": "2022-11-21T07:59:31.495Z"
   },
   {
    "duration": 4,
    "start_time": "2022-11-21T08:02:56.794Z"
   },
   {
    "duration": 8,
    "start_time": "2022-11-21T08:03:04.206Z"
   },
   {
    "duration": 8,
    "start_time": "2022-11-21T08:03:20.732Z"
   },
   {
    "duration": 4,
    "start_time": "2022-11-21T08:05:34.053Z"
   },
   {
    "duration": 5,
    "start_time": "2022-11-21T08:05:53.723Z"
   },
   {
    "duration": 5,
    "start_time": "2022-11-21T08:06:16.954Z"
   },
   {
    "duration": 5,
    "start_time": "2022-11-21T08:06:52.222Z"
   },
   {
    "duration": 3,
    "start_time": "2022-11-21T08:12:10.898Z"
   },
   {
    "duration": 88,
    "start_time": "2022-11-21T08:13:31.989Z"
   },
   {
    "duration": 80,
    "start_time": "2022-11-21T08:13:37.495Z"
   },
   {
    "duration": 1192,
    "start_time": "2022-11-21T08:13:45.341Z"
   },
   {
    "duration": 5,
    "start_time": "2022-11-21T08:13:54.249Z"
   },
   {
    "duration": 6,
    "start_time": "2022-11-21T08:14:03.356Z"
   },
   {
    "duration": 10,
    "start_time": "2022-11-21T08:14:31.836Z"
   },
   {
    "duration": 21,
    "start_time": "2022-11-21T08:16:11.624Z"
   },
   {
    "duration": 1224,
    "start_time": "2022-11-21T08:17:05.671Z"
   },
   {
    "duration": 1114,
    "start_time": "2022-11-21T08:17:38.139Z"
   },
   {
    "duration": 13,
    "start_time": "2022-11-21T08:19:13.858Z"
   },
   {
    "duration": 15,
    "start_time": "2022-11-21T08:20:02.211Z"
   },
   {
    "duration": 8,
    "start_time": "2022-11-21T08:20:49.108Z"
   },
   {
    "duration": 17,
    "start_time": "2022-11-21T08:20:53.886Z"
   },
   {
    "duration": 12,
    "start_time": "2022-11-21T08:22:21.390Z"
   },
   {
    "duration": 14,
    "start_time": "2022-11-21T08:22:35.019Z"
   },
   {
    "duration": 11,
    "start_time": "2022-11-21T08:24:20.930Z"
   },
   {
    "duration": 75,
    "start_time": "2022-11-21T08:24:35.596Z"
   },
   {
    "duration": 11,
    "start_time": "2022-11-21T08:24:42.050Z"
   },
   {
    "duration": 18,
    "start_time": "2022-11-21T08:25:24.735Z"
   },
   {
    "duration": 9,
    "start_time": "2022-11-21T08:27:12.574Z"
   },
   {
    "duration": 13,
    "start_time": "2022-11-21T08:27:20.303Z"
   },
   {
    "duration": 13,
    "start_time": "2022-11-21T08:28:04.706Z"
   },
   {
    "duration": 14,
    "start_time": "2022-11-21T08:28:21.922Z"
   },
   {
    "duration": 8,
    "start_time": "2022-11-21T08:31:18.952Z"
   },
   {
    "duration": 1243,
    "start_time": "2022-11-21T08:31:25.289Z"
   },
   {
    "duration": 38,
    "start_time": "2022-11-21T08:31:26.535Z"
   },
   {
    "duration": 10,
    "start_time": "2022-11-21T08:31:26.574Z"
   },
   {
    "duration": 16,
    "start_time": "2022-11-21T08:31:26.585Z"
   },
   {
    "duration": 12,
    "start_time": "2022-11-21T08:31:26.603Z"
   },
   {
    "duration": 71,
    "start_time": "2022-11-21T08:31:26.616Z"
   },
   {
    "duration": 7,
    "start_time": "2022-11-21T08:31:26.689Z"
   },
   {
    "duration": 9,
    "start_time": "2022-11-21T08:31:26.698Z"
   },
   {
    "duration": 12,
    "start_time": "2022-11-21T08:31:26.709Z"
   },
   {
    "duration": 8,
    "start_time": "2022-11-21T08:31:26.723Z"
   },
   {
    "duration": 17,
    "start_time": "2022-11-21T08:31:26.732Z"
   },
   {
    "duration": 7,
    "start_time": "2022-11-21T08:31:26.778Z"
   },
   {
    "duration": 192,
    "start_time": "2022-11-21T08:31:26.787Z"
   },
   {
    "duration": 142,
    "start_time": "2022-11-21T08:31:26.983Z"
   },
   {
    "duration": 9,
    "start_time": "2022-11-21T08:31:27.126Z"
   },
   {
    "duration": 8,
    "start_time": "2022-11-21T08:31:27.137Z"
   },
   {
    "duration": 303,
    "start_time": "2022-11-21T08:31:27.147Z"
   },
   {
    "duration": 212,
    "start_time": "2022-11-21T08:31:27.452Z"
   },
   {
    "duration": 360,
    "start_time": "2022-11-21T08:31:27.666Z"
   },
   {
    "duration": 225,
    "start_time": "2022-11-21T08:31:28.029Z"
   },
   {
    "duration": 335,
    "start_time": "2022-11-21T08:31:28.256Z"
   },
   {
    "duration": 161,
    "start_time": "2022-11-21T08:31:28.593Z"
   },
   {
    "duration": 4,
    "start_time": "2022-11-21T08:31:28.756Z"
   },
   {
    "duration": 398,
    "start_time": "2022-11-21T08:31:28.761Z"
   },
   {
    "duration": 5,
    "start_time": "2022-11-21T08:31:29.161Z"
   },
   {
    "duration": 111,
    "start_time": "2022-11-21T08:31:29.178Z"
   },
   {
    "duration": 127,
    "start_time": "2022-11-21T08:31:29.291Z"
   },
   {
    "duration": 24,
    "start_time": "2022-11-21T08:31:29.420Z"
   },
   {
    "duration": 196,
    "start_time": "2022-11-21T08:31:29.445Z"
   },
   {
    "duration": 8,
    "start_time": "2022-11-21T08:31:29.642Z"
   },
   {
    "duration": 55,
    "start_time": "2022-11-21T08:31:29.653Z"
   },
   {
    "duration": 13,
    "start_time": "2022-11-21T08:31:29.710Z"
   },
   {
    "duration": 12,
    "start_time": "2022-11-21T08:31:29.725Z"
   },
   {
    "duration": 9,
    "start_time": "2022-11-21T08:31:29.739Z"
   },
   {
    "duration": 57,
    "start_time": "2022-11-21T08:31:29.750Z"
   },
   {
    "duration": 25,
    "start_time": "2022-11-21T08:31:29.810Z"
   },
   {
    "duration": 7,
    "start_time": "2022-11-21T08:32:01.749Z"
   },
   {
    "duration": 10,
    "start_time": "2022-11-21T08:32:22.428Z"
   },
   {
    "duration": 10,
    "start_time": "2022-11-21T08:32:43.630Z"
   },
   {
    "duration": 13,
    "start_time": "2022-11-21T08:32:49.975Z"
   },
   {
    "duration": 1227,
    "start_time": "2022-11-21T08:34:29.081Z"
   },
   {
    "duration": 38,
    "start_time": "2022-11-21T08:34:30.309Z"
   },
   {
    "duration": 23,
    "start_time": "2022-11-21T08:34:30.350Z"
   },
   {
    "duration": 40,
    "start_time": "2022-11-21T08:34:30.375Z"
   },
   {
    "duration": 39,
    "start_time": "2022-11-21T08:34:30.416Z"
   },
   {
    "duration": 92,
    "start_time": "2022-11-21T08:34:30.456Z"
   },
   {
    "duration": 8,
    "start_time": "2022-11-21T08:34:30.550Z"
   },
   {
    "duration": 25,
    "start_time": "2022-11-21T08:34:30.560Z"
   },
   {
    "duration": 24,
    "start_time": "2022-11-21T08:34:30.587Z"
   },
   {
    "duration": 1309,
    "start_time": "2022-11-21T08:34:30.614Z"
   },
   {
    "duration": 0,
    "start_time": "2022-11-21T08:34:31.925Z"
   },
   {
    "duration": 0,
    "start_time": "2022-11-21T08:34:31.927Z"
   },
   {
    "duration": 0,
    "start_time": "2022-11-21T08:34:31.928Z"
   },
   {
    "duration": 0,
    "start_time": "2022-11-21T08:34:31.929Z"
   },
   {
    "duration": 0,
    "start_time": "2022-11-21T08:34:31.930Z"
   },
   {
    "duration": 0,
    "start_time": "2022-11-21T08:34:31.931Z"
   },
   {
    "duration": 0,
    "start_time": "2022-11-21T08:34:31.932Z"
   },
   {
    "duration": 0,
    "start_time": "2022-11-21T08:34:31.933Z"
   },
   {
    "duration": 0,
    "start_time": "2022-11-21T08:34:31.934Z"
   },
   {
    "duration": 0,
    "start_time": "2022-11-21T08:34:31.934Z"
   },
   {
    "duration": 0,
    "start_time": "2022-11-21T08:34:31.935Z"
   },
   {
    "duration": 0,
    "start_time": "2022-11-21T08:34:31.937Z"
   },
   {
    "duration": 0,
    "start_time": "2022-11-21T08:34:31.939Z"
   },
   {
    "duration": 0,
    "start_time": "2022-11-21T08:34:31.940Z"
   },
   {
    "duration": 0,
    "start_time": "2022-11-21T08:34:31.943Z"
   },
   {
    "duration": 0,
    "start_time": "2022-11-21T08:34:31.944Z"
   },
   {
    "duration": 0,
    "start_time": "2022-11-21T08:34:31.946Z"
   },
   {
    "duration": 0,
    "start_time": "2022-11-21T08:34:31.947Z"
   },
   {
    "duration": 0,
    "start_time": "2022-11-21T08:34:31.949Z"
   },
   {
    "duration": 0,
    "start_time": "2022-11-21T08:34:31.950Z"
   },
   {
    "duration": 0,
    "start_time": "2022-11-21T08:34:31.952Z"
   },
   {
    "duration": 0,
    "start_time": "2022-11-21T08:34:31.954Z"
   },
   {
    "duration": 0,
    "start_time": "2022-11-21T08:34:31.955Z"
   },
   {
    "duration": 0,
    "start_time": "2022-11-21T08:34:31.957Z"
   },
   {
    "duration": 0,
    "start_time": "2022-11-21T08:34:31.958Z"
   },
   {
    "duration": 0,
    "start_time": "2022-11-21T08:34:31.960Z"
   },
   {
    "duration": 7,
    "start_time": "2022-11-21T08:35:50.399Z"
   },
   {
    "duration": 7,
    "start_time": "2022-11-21T08:36:04.177Z"
   },
   {
    "duration": 1291,
    "start_time": "2022-11-21T08:36:13.605Z"
   },
   {
    "duration": 35,
    "start_time": "2022-11-21T08:36:14.898Z"
   },
   {
    "duration": 7,
    "start_time": "2022-11-21T08:36:14.935Z"
   },
   {
    "duration": 26,
    "start_time": "2022-11-21T08:36:14.944Z"
   },
   {
    "duration": 16,
    "start_time": "2022-11-21T08:36:14.973Z"
   },
   {
    "duration": 96,
    "start_time": "2022-11-21T08:36:14.990Z"
   },
   {
    "duration": 8,
    "start_time": "2022-11-21T08:36:15.088Z"
   },
   {
    "duration": 21,
    "start_time": "2022-11-21T08:36:15.097Z"
   },
   {
    "duration": 31,
    "start_time": "2022-11-21T08:36:15.119Z"
   },
   {
    "duration": 19,
    "start_time": "2022-11-21T08:36:15.152Z"
   },
   {
    "duration": 30,
    "start_time": "2022-11-21T08:36:15.173Z"
   },
   {
    "duration": 36,
    "start_time": "2022-11-21T08:36:15.204Z"
   },
   {
    "duration": 192,
    "start_time": "2022-11-21T08:36:15.242Z"
   },
   {
    "duration": 129,
    "start_time": "2022-11-21T08:36:15.437Z"
   },
   {
    "duration": 14,
    "start_time": "2022-11-21T08:36:15.568Z"
   },
   {
    "duration": 21,
    "start_time": "2022-11-21T08:36:15.584Z"
   },
   {
    "duration": 330,
    "start_time": "2022-11-21T08:36:15.607Z"
   },
   {
    "duration": 211,
    "start_time": "2022-11-21T08:36:15.939Z"
   },
   {
    "duration": 328,
    "start_time": "2022-11-21T08:36:16.152Z"
   },
   {
    "duration": 217,
    "start_time": "2022-11-21T08:36:16.482Z"
   },
   {
    "duration": 300,
    "start_time": "2022-11-21T08:36:16.701Z"
   },
   {
    "duration": 148,
    "start_time": "2022-11-21T08:36:17.003Z"
   },
   {
    "duration": 4,
    "start_time": "2022-11-21T08:36:17.153Z"
   },
   {
    "duration": 394,
    "start_time": "2022-11-21T08:36:17.159Z"
   },
   {
    "duration": 4,
    "start_time": "2022-11-21T08:36:17.555Z"
   },
   {
    "duration": 126,
    "start_time": "2022-11-21T08:36:17.561Z"
   },
   {
    "duration": 126,
    "start_time": "2022-11-21T08:36:17.689Z"
   },
   {
    "duration": 23,
    "start_time": "2022-11-21T08:36:17.817Z"
   },
   {
    "duration": 163,
    "start_time": "2022-11-21T08:36:17.842Z"
   },
   {
    "duration": 8,
    "start_time": "2022-11-21T08:36:18.007Z"
   },
   {
    "duration": 64,
    "start_time": "2022-11-21T08:36:18.016Z"
   },
   {
    "duration": 36,
    "start_time": "2022-11-21T08:36:18.081Z"
   },
   {
    "duration": 17,
    "start_time": "2022-11-21T08:36:18.119Z"
   },
   {
    "duration": 37,
    "start_time": "2022-11-21T08:36:18.137Z"
   },
   {
    "duration": 51,
    "start_time": "2022-11-21T08:36:18.176Z"
   },
   {
    "duration": 27,
    "start_time": "2022-11-21T08:36:18.229Z"
   },
   {
    "duration": 8,
    "start_time": "2022-11-21T08:36:56.061Z"
   },
   {
    "duration": 449,
    "start_time": "2022-11-21T08:37:21.279Z"
   },
   {
    "duration": 1284,
    "start_time": "2022-11-21T08:37:31.762Z"
   },
   {
    "duration": 38,
    "start_time": "2022-11-21T08:37:33.049Z"
   },
   {
    "duration": 9,
    "start_time": "2022-11-21T08:37:33.088Z"
   },
   {
    "duration": 19,
    "start_time": "2022-11-21T08:37:33.099Z"
   },
   {
    "duration": 12,
    "start_time": "2022-11-21T08:37:33.120Z"
   },
   {
    "duration": 64,
    "start_time": "2022-11-21T08:37:33.134Z"
   },
   {
    "duration": 8,
    "start_time": "2022-11-21T08:37:33.200Z"
   },
   {
    "duration": 10,
    "start_time": "2022-11-21T08:37:33.209Z"
   },
   {
    "duration": 7,
    "start_time": "2022-11-21T08:37:33.221Z"
   },
   {
    "duration": 6,
    "start_time": "2022-11-21T08:37:33.230Z"
   },
   {
    "duration": 17,
    "start_time": "2022-11-21T08:37:33.238Z"
   },
   {
    "duration": 24,
    "start_time": "2022-11-21T08:37:33.256Z"
   },
   {
    "duration": 186,
    "start_time": "2022-11-21T08:37:33.282Z"
   },
   {
    "duration": 138,
    "start_time": "2022-11-21T08:37:33.471Z"
   },
   {
    "duration": 7,
    "start_time": "2022-11-21T08:37:33.610Z"
   },
   {
    "duration": 9,
    "start_time": "2022-11-21T08:37:33.619Z"
   },
   {
    "duration": 312,
    "start_time": "2022-11-21T08:37:33.630Z"
   },
   {
    "duration": 271,
    "start_time": "2022-11-21T08:37:33.945Z"
   },
   {
    "duration": 302,
    "start_time": "2022-11-21T08:37:34.218Z"
   },
   {
    "duration": 216,
    "start_time": "2022-11-21T08:37:34.522Z"
   },
   {
    "duration": 300,
    "start_time": "2022-11-21T08:37:34.739Z"
   },
   {
    "duration": 160,
    "start_time": "2022-11-21T08:37:35.041Z"
   },
   {
    "duration": 4,
    "start_time": "2022-11-21T08:37:35.203Z"
   },
   {
    "duration": 391,
    "start_time": "2022-11-21T08:37:35.209Z"
   },
   {
    "duration": 5,
    "start_time": "2022-11-21T08:37:35.601Z"
   },
   {
    "duration": 113,
    "start_time": "2022-11-21T08:37:35.608Z"
   },
   {
    "duration": 133,
    "start_time": "2022-11-21T08:37:35.722Z"
   },
   {
    "duration": 34,
    "start_time": "2022-11-21T08:37:35.857Z"
   },
   {
    "duration": 152,
    "start_time": "2022-11-21T08:37:35.893Z"
   },
   {
    "duration": 6,
    "start_time": "2022-11-21T08:37:36.047Z"
   },
   {
    "duration": 36,
    "start_time": "2022-11-21T08:37:36.055Z"
   },
   {
    "duration": 11,
    "start_time": "2022-11-21T08:37:36.093Z"
   },
   {
    "duration": 11,
    "start_time": "2022-11-21T08:37:36.105Z"
   },
   {
    "duration": 11,
    "start_time": "2022-11-21T08:37:36.117Z"
   },
   {
    "duration": 51,
    "start_time": "2022-11-21T08:37:36.130Z"
   },
   {
    "duration": 14,
    "start_time": "2022-11-21T08:37:36.182Z"
   },
   {
    "duration": 8,
    "start_time": "2022-11-21T08:37:57.417Z"
   },
   {
    "duration": 9,
    "start_time": "2022-11-21T08:38:34.955Z"
   },
   {
    "duration": 13,
    "start_time": "2022-11-21T08:39:01.074Z"
   },
   {
    "duration": 18,
    "start_time": "2022-11-21T08:39:51.043Z"
   },
   {
    "duration": 13,
    "start_time": "2022-11-21T08:40:05.872Z"
   },
   {
    "duration": 13,
    "start_time": "2022-11-21T08:40:29.531Z"
   },
   {
    "duration": 15,
    "start_time": "2022-11-21T08:40:36.773Z"
   },
   {
    "duration": 4,
    "start_time": "2022-11-21T08:42:06.588Z"
   },
   {
    "duration": 13,
    "start_time": "2022-11-21T08:42:12.903Z"
   },
   {
    "duration": 19,
    "start_time": "2022-11-21T08:42:50.598Z"
   },
   {
    "duration": 87,
    "start_time": "2022-11-21T08:43:34.543Z"
   },
   {
    "duration": 115,
    "start_time": "2022-11-21T08:43:40.689Z"
   },
   {
    "duration": 26,
    "start_time": "2022-11-21T08:43:52.848Z"
   },
   {
    "duration": 1275,
    "start_time": "2022-11-21T08:44:19.947Z"
   },
   {
    "duration": 37,
    "start_time": "2022-11-21T08:44:21.224Z"
   },
   {
    "duration": 8,
    "start_time": "2022-11-21T08:44:21.263Z"
   },
   {
    "duration": 19,
    "start_time": "2022-11-21T08:44:21.272Z"
   },
   {
    "duration": 12,
    "start_time": "2022-11-21T08:44:21.293Z"
   },
   {
    "duration": 64,
    "start_time": "2022-11-21T08:44:21.306Z"
   },
   {
    "duration": 8,
    "start_time": "2022-11-21T08:44:21.372Z"
   },
   {
    "duration": 10,
    "start_time": "2022-11-21T08:44:21.381Z"
   },
   {
    "duration": 10,
    "start_time": "2022-11-21T08:44:21.393Z"
   },
   {
    "duration": 133,
    "start_time": "2022-11-21T08:44:21.404Z"
   },
   {
    "duration": 0,
    "start_time": "2022-11-21T08:44:21.540Z"
   },
   {
    "duration": 0,
    "start_time": "2022-11-21T08:44:21.542Z"
   },
   {
    "duration": 0,
    "start_time": "2022-11-21T08:44:21.543Z"
   },
   {
    "duration": 0,
    "start_time": "2022-11-21T08:44:21.544Z"
   },
   {
    "duration": 0,
    "start_time": "2022-11-21T08:44:21.546Z"
   },
   {
    "duration": 0,
    "start_time": "2022-11-21T08:44:21.548Z"
   },
   {
    "duration": 0,
    "start_time": "2022-11-21T08:44:21.549Z"
   },
   {
    "duration": 0,
    "start_time": "2022-11-21T08:44:21.551Z"
   },
   {
    "duration": 0,
    "start_time": "2022-11-21T08:44:21.552Z"
   },
   {
    "duration": 0,
    "start_time": "2022-11-21T08:44:21.578Z"
   },
   {
    "duration": 0,
    "start_time": "2022-11-21T08:44:21.581Z"
   },
   {
    "duration": 0,
    "start_time": "2022-11-21T08:44:21.582Z"
   },
   {
    "duration": 0,
    "start_time": "2022-11-21T08:44:21.584Z"
   },
   {
    "duration": 0,
    "start_time": "2022-11-21T08:44:21.586Z"
   },
   {
    "duration": 0,
    "start_time": "2022-11-21T08:44:21.587Z"
   },
   {
    "duration": 0,
    "start_time": "2022-11-21T08:44:21.588Z"
   },
   {
    "duration": 0,
    "start_time": "2022-11-21T08:44:21.590Z"
   },
   {
    "duration": 1,
    "start_time": "2022-11-21T08:44:21.591Z"
   },
   {
    "duration": 0,
    "start_time": "2022-11-21T08:44:21.593Z"
   },
   {
    "duration": 0,
    "start_time": "2022-11-21T08:44:21.595Z"
   },
   {
    "duration": 0,
    "start_time": "2022-11-21T08:44:21.596Z"
   },
   {
    "duration": 0,
    "start_time": "2022-11-21T08:44:21.598Z"
   },
   {
    "duration": 0,
    "start_time": "2022-11-21T08:44:21.599Z"
   },
   {
    "duration": 0,
    "start_time": "2022-11-21T08:44:21.601Z"
   },
   {
    "duration": 0,
    "start_time": "2022-11-21T08:44:21.602Z"
   },
   {
    "duration": 0,
    "start_time": "2022-11-21T08:44:21.604Z"
   },
   {
    "duration": 24,
    "start_time": "2022-11-21T08:45:29.633Z"
   },
   {
    "duration": 15,
    "start_time": "2022-11-21T08:46:23.891Z"
   },
   {
    "duration": 10,
    "start_time": "2022-11-21T08:48:45.718Z"
   },
   {
    "duration": 9,
    "start_time": "2022-11-21T08:48:49.096Z"
   },
   {
    "duration": 9,
    "start_time": "2022-11-21T08:48:59.511Z"
   },
   {
    "duration": 11,
    "start_time": "2022-11-21T08:49:04.535Z"
   },
   {
    "duration": 6,
    "start_time": "2022-11-21T08:49:16.075Z"
   },
   {
    "duration": 6,
    "start_time": "2022-11-21T08:49:28.299Z"
   },
   {
    "duration": 7,
    "start_time": "2022-11-21T08:49:34.492Z"
   },
   {
    "duration": 14,
    "start_time": "2022-11-21T08:50:07.553Z"
   },
   {
    "duration": 14,
    "start_time": "2022-11-21T08:50:17.018Z"
   },
   {
    "duration": 12,
    "start_time": "2022-11-21T08:50:23.132Z"
   },
   {
    "duration": 7,
    "start_time": "2022-11-21T08:50:36.794Z"
   },
   {
    "duration": 4,
    "start_time": "2022-11-21T08:51:04.935Z"
   },
   {
    "duration": 6,
    "start_time": "2022-11-21T08:51:14.636Z"
   },
   {
    "duration": 13,
    "start_time": "2022-11-21T08:51:22.071Z"
   },
   {
    "duration": 6,
    "start_time": "2022-11-21T08:51:27.026Z"
   },
   {
    "duration": 106,
    "start_time": "2022-11-21T08:52:09.827Z"
   },
   {
    "duration": 14,
    "start_time": "2022-11-21T08:52:14.690Z"
   },
   {
    "duration": 10,
    "start_time": "2022-11-21T08:53:40.590Z"
   },
   {
    "duration": 91,
    "start_time": "2022-11-21T08:57:00.512Z"
   },
   {
    "duration": 6,
    "start_time": "2022-11-21T08:57:11.237Z"
   },
   {
    "duration": 10,
    "start_time": "2022-11-21T08:57:22.955Z"
   },
   {
    "duration": 10,
    "start_time": "2022-11-21T08:58:30.190Z"
   },
   {
    "duration": 19,
    "start_time": "2022-11-21T08:59:56.510Z"
   },
   {
    "duration": 19,
    "start_time": "2022-11-21T09:00:10.231Z"
   },
   {
    "duration": 17,
    "start_time": "2022-11-21T09:02:46.885Z"
   },
   {
    "duration": 12,
    "start_time": "2022-11-21T09:02:54.212Z"
   },
   {
    "duration": 20,
    "start_time": "2022-11-21T09:03:07.810Z"
   },
   {
    "duration": 1247,
    "start_time": "2022-11-21T09:03:30.065Z"
   },
   {
    "duration": 37,
    "start_time": "2022-11-21T09:03:31.314Z"
   },
   {
    "duration": 10,
    "start_time": "2022-11-21T09:03:31.353Z"
   },
   {
    "duration": 23,
    "start_time": "2022-11-21T09:03:31.364Z"
   },
   {
    "duration": 13,
    "start_time": "2022-11-21T09:03:31.389Z"
   },
   {
    "duration": 72,
    "start_time": "2022-11-21T09:03:31.403Z"
   },
   {
    "duration": 8,
    "start_time": "2022-11-21T09:03:31.477Z"
   },
   {
    "duration": 16,
    "start_time": "2022-11-21T09:03:31.487Z"
   },
   {
    "duration": 9,
    "start_time": "2022-11-21T09:03:31.505Z"
   },
   {
    "duration": 18,
    "start_time": "2022-11-21T09:03:31.516Z"
   },
   {
    "duration": 14,
    "start_time": "2022-11-21T09:03:31.536Z"
   },
   {
    "duration": 27,
    "start_time": "2022-11-21T09:03:31.551Z"
   },
   {
    "duration": 180,
    "start_time": "2022-11-21T09:03:31.580Z"
   },
   {
    "duration": 136,
    "start_time": "2022-11-21T09:03:31.763Z"
   },
   {
    "duration": 7,
    "start_time": "2022-11-21T09:03:31.900Z"
   },
   {
    "duration": 11,
    "start_time": "2022-11-21T09:03:31.909Z"
   },
   {
    "duration": 312,
    "start_time": "2022-11-21T09:03:31.922Z"
   },
   {
    "duration": 221,
    "start_time": "2022-11-21T09:03:32.238Z"
   },
   {
    "duration": 322,
    "start_time": "2022-11-21T09:03:32.461Z"
   },
   {
    "duration": 235,
    "start_time": "2022-11-21T09:03:32.785Z"
   },
   {
    "duration": 282,
    "start_time": "2022-11-21T09:03:33.022Z"
   },
   {
    "duration": 143,
    "start_time": "2022-11-21T09:03:33.307Z"
   },
   {
    "duration": 4,
    "start_time": "2022-11-21T09:03:33.452Z"
   },
   {
    "duration": 390,
    "start_time": "2022-11-21T09:03:33.458Z"
   },
   {
    "duration": 4,
    "start_time": "2022-11-21T09:03:33.849Z"
   },
   {
    "duration": 109,
    "start_time": "2022-11-21T09:03:33.855Z"
   },
   {
    "duration": 170,
    "start_time": "2022-11-21T09:03:33.966Z"
   },
   {
    "duration": 25,
    "start_time": "2022-11-21T09:03:34.138Z"
   },
   {
    "duration": 166,
    "start_time": "2022-11-21T09:03:34.165Z"
   },
   {
    "duration": 7,
    "start_time": "2022-11-21T09:03:34.333Z"
   },
   {
    "duration": 40,
    "start_time": "2022-11-21T09:03:34.341Z"
   },
   {
    "duration": 11,
    "start_time": "2022-11-21T09:03:34.383Z"
   },
   {
    "duration": 10,
    "start_time": "2022-11-21T09:03:34.396Z"
   },
   {
    "duration": 10,
    "start_time": "2022-11-21T09:03:34.407Z"
   },
   {
    "duration": 26,
    "start_time": "2022-11-21T09:03:34.418Z"
   },
   {
    "duration": 45,
    "start_time": "2022-11-21T09:03:34.446Z"
   },
   {
    "duration": 19,
    "start_time": "2022-11-21T09:04:12.019Z"
   },
   {
    "duration": 15,
    "start_time": "2022-11-21T09:06:02.908Z"
   },
   {
    "duration": 15,
    "start_time": "2022-11-21T09:06:30.669Z"
   },
   {
    "duration": 15,
    "start_time": "2022-11-21T09:06:40.765Z"
   },
   {
    "duration": 19,
    "start_time": "2022-11-21T09:06:51.037Z"
   },
   {
    "duration": 20,
    "start_time": "2022-11-21T09:07:23.938Z"
   },
   {
    "duration": 18,
    "start_time": "2022-11-21T09:07:49.790Z"
   },
   {
    "duration": 1204,
    "start_time": "2022-11-21T09:08:05.606Z"
   },
   {
    "duration": 35,
    "start_time": "2022-11-21T09:08:06.812Z"
   },
   {
    "duration": 8,
    "start_time": "2022-11-21T09:08:06.849Z"
   },
   {
    "duration": 44,
    "start_time": "2022-11-21T09:08:06.859Z"
   },
   {
    "duration": 12,
    "start_time": "2022-11-21T09:08:06.905Z"
   },
   {
    "duration": 90,
    "start_time": "2022-11-21T09:08:06.918Z"
   },
   {
    "duration": 9,
    "start_time": "2022-11-21T09:08:07.009Z"
   },
   {
    "duration": 12,
    "start_time": "2022-11-21T09:08:07.020Z"
   },
   {
    "duration": 15,
    "start_time": "2022-11-21T09:08:07.034Z"
   },
   {
    "duration": 21,
    "start_time": "2022-11-21T09:08:07.052Z"
   },
   {
    "duration": 21,
    "start_time": "2022-11-21T09:08:07.076Z"
   },
   {
    "duration": 9,
    "start_time": "2022-11-21T09:08:07.099Z"
   },
   {
    "duration": 200,
    "start_time": "2022-11-21T09:08:07.110Z"
   },
   {
    "duration": 142,
    "start_time": "2022-11-21T09:08:07.311Z"
   },
   {
    "duration": 7,
    "start_time": "2022-11-21T09:08:07.455Z"
   },
   {
    "duration": 20,
    "start_time": "2022-11-21T09:08:07.464Z"
   },
   {
    "duration": 324,
    "start_time": "2022-11-21T09:08:07.486Z"
   },
   {
    "duration": 231,
    "start_time": "2022-11-21T09:08:07.812Z"
   },
   {
    "duration": 353,
    "start_time": "2022-11-21T09:08:08.045Z"
   },
   {
    "duration": 217,
    "start_time": "2022-11-21T09:08:08.400Z"
   },
   {
    "duration": 307,
    "start_time": "2022-11-21T09:08:08.618Z"
   },
   {
    "duration": 169,
    "start_time": "2022-11-21T09:08:08.927Z"
   },
   {
    "duration": 5,
    "start_time": "2022-11-21T09:08:09.102Z"
   },
   {
    "duration": 397,
    "start_time": "2022-11-21T09:08:09.109Z"
   },
   {
    "duration": 5,
    "start_time": "2022-11-21T09:08:09.507Z"
   },
   {
    "duration": 117,
    "start_time": "2022-11-21T09:08:09.514Z"
   },
   {
    "duration": 119,
    "start_time": "2022-11-21T09:08:09.632Z"
   },
   {
    "duration": 35,
    "start_time": "2022-11-21T09:08:09.754Z"
   },
   {
    "duration": 147,
    "start_time": "2022-11-21T09:08:09.792Z"
   },
   {
    "duration": 7,
    "start_time": "2022-11-21T09:08:09.941Z"
   },
   {
    "duration": 44,
    "start_time": "2022-11-21T09:08:09.949Z"
   },
   {
    "duration": 13,
    "start_time": "2022-11-21T09:08:09.994Z"
   },
   {
    "duration": 11,
    "start_time": "2022-11-21T09:08:10.010Z"
   },
   {
    "duration": 13,
    "start_time": "2022-11-21T09:08:10.022Z"
   },
   {
    "duration": 56,
    "start_time": "2022-11-21T09:08:10.036Z"
   },
   {
    "duration": 15,
    "start_time": "2022-11-21T09:08:10.093Z"
   },
   {
    "duration": 5,
    "start_time": "2022-11-21T09:08:29.931Z"
   },
   {
    "duration": 1215,
    "start_time": "2022-11-21T09:08:41.734Z"
   },
   {
    "duration": 42,
    "start_time": "2022-11-21T09:08:42.951Z"
   },
   {
    "duration": 9,
    "start_time": "2022-11-21T09:08:42.994Z"
   },
   {
    "duration": 18,
    "start_time": "2022-11-21T09:08:43.005Z"
   },
   {
    "duration": 16,
    "start_time": "2022-11-21T09:08:43.026Z"
   },
   {
    "duration": 65,
    "start_time": "2022-11-21T09:08:43.043Z"
   },
   {
    "duration": 9,
    "start_time": "2022-11-21T09:08:43.110Z"
   },
   {
    "duration": 10,
    "start_time": "2022-11-21T09:08:43.121Z"
   },
   {
    "duration": 11,
    "start_time": "2022-11-21T09:08:43.133Z"
   },
   {
    "duration": 5,
    "start_time": "2022-11-21T09:08:43.146Z"
   },
   {
    "duration": 33,
    "start_time": "2022-11-21T09:08:43.153Z"
   },
   {
    "duration": 10,
    "start_time": "2022-11-21T09:08:43.188Z"
   },
   {
    "duration": 189,
    "start_time": "2022-11-21T09:08:43.200Z"
   },
   {
    "duration": 133,
    "start_time": "2022-11-21T09:08:43.392Z"
   },
   {
    "duration": 7,
    "start_time": "2022-11-21T09:08:43.526Z"
   },
   {
    "duration": 12,
    "start_time": "2022-11-21T09:08:43.535Z"
   },
   {
    "duration": 298,
    "start_time": "2022-11-21T09:08:43.549Z"
   },
   {
    "duration": 247,
    "start_time": "2022-11-21T09:08:43.849Z"
   },
   {
    "duration": 324,
    "start_time": "2022-11-21T09:08:44.098Z"
   },
   {
    "duration": 213,
    "start_time": "2022-11-21T09:08:44.424Z"
   },
   {
    "duration": 296,
    "start_time": "2022-11-21T09:08:44.638Z"
   },
   {
    "duration": 151,
    "start_time": "2022-11-21T09:08:44.935Z"
   },
   {
    "duration": 4,
    "start_time": "2022-11-21T09:08:45.087Z"
   },
   {
    "duration": 396,
    "start_time": "2022-11-21T09:08:45.093Z"
   },
   {
    "duration": 5,
    "start_time": "2022-11-21T09:08:45.491Z"
   },
   {
    "duration": 110,
    "start_time": "2022-11-21T09:08:45.498Z"
   },
   {
    "duration": 125,
    "start_time": "2022-11-21T09:08:45.610Z"
   },
   {
    "duration": 21,
    "start_time": "2022-11-21T09:08:45.737Z"
   },
   {
    "duration": 152,
    "start_time": "2022-11-21T09:08:45.759Z"
   },
   {
    "duration": 7,
    "start_time": "2022-11-21T09:08:45.913Z"
   },
   {
    "duration": 38,
    "start_time": "2022-11-21T09:08:45.921Z"
   },
   {
    "duration": 18,
    "start_time": "2022-11-21T09:08:45.961Z"
   },
   {
    "duration": 19,
    "start_time": "2022-11-21T09:08:45.981Z"
   },
   {
    "duration": 33,
    "start_time": "2022-11-21T09:08:46.002Z"
   },
   {
    "duration": 49,
    "start_time": "2022-11-21T09:08:46.037Z"
   },
   {
    "duration": 15,
    "start_time": "2022-11-21T09:08:46.087Z"
   },
   {
    "duration": 7,
    "start_time": "2022-11-21T09:09:04.207Z"
   },
   {
    "duration": 8,
    "start_time": "2022-11-21T09:09:50.428Z"
   },
   {
    "duration": 12,
    "start_time": "2022-11-21T09:10:07.947Z"
   },
   {
    "duration": 19,
    "start_time": "2022-11-21T09:10:34.461Z"
   },
   {
    "duration": 17,
    "start_time": "2022-11-21T09:11:05.143Z"
   },
   {
    "duration": 1228,
    "start_time": "2022-11-21T09:11:10.692Z"
   },
   {
    "duration": 36,
    "start_time": "2022-11-21T09:11:11.922Z"
   },
   {
    "duration": 9,
    "start_time": "2022-11-21T09:11:11.960Z"
   },
   {
    "duration": 36,
    "start_time": "2022-11-21T09:11:11.970Z"
   },
   {
    "duration": 14,
    "start_time": "2022-11-21T09:11:12.008Z"
   },
   {
    "duration": 76,
    "start_time": "2022-11-21T09:11:12.024Z"
   },
   {
    "duration": 9,
    "start_time": "2022-11-21T09:11:12.102Z"
   },
   {
    "duration": 24,
    "start_time": "2022-11-21T09:11:12.113Z"
   },
   {
    "duration": 22,
    "start_time": "2022-11-21T09:11:12.139Z"
   },
   {
    "duration": 33,
    "start_time": "2022-11-21T09:11:12.162Z"
   },
   {
    "duration": 31,
    "start_time": "2022-11-21T09:11:12.197Z"
   },
   {
    "duration": 24,
    "start_time": "2022-11-21T09:11:12.230Z"
   },
   {
    "duration": 175,
    "start_time": "2022-11-21T09:11:12.256Z"
   },
   {
    "duration": 128,
    "start_time": "2022-11-21T09:11:12.434Z"
   },
   {
    "duration": 18,
    "start_time": "2022-11-21T09:11:12.563Z"
   },
   {
    "duration": 27,
    "start_time": "2022-11-21T09:11:12.582Z"
   },
   {
    "duration": 310,
    "start_time": "2022-11-21T09:11:12.611Z"
   },
   {
    "duration": 232,
    "start_time": "2022-11-21T09:11:12.923Z"
   },
   {
    "duration": 311,
    "start_time": "2022-11-21T09:11:13.156Z"
   },
   {
    "duration": 230,
    "start_time": "2022-11-21T09:11:13.469Z"
   },
   {
    "duration": 333,
    "start_time": "2022-11-21T09:11:13.701Z"
   },
   {
    "duration": 209,
    "start_time": "2022-11-21T09:11:14.036Z"
   },
   {
    "duration": 8,
    "start_time": "2022-11-21T09:11:14.247Z"
   },
   {
    "duration": 369,
    "start_time": "2022-11-21T09:11:14.257Z"
   },
   {
    "duration": 4,
    "start_time": "2022-11-21T09:11:14.627Z"
   },
   {
    "duration": 103,
    "start_time": "2022-11-21T09:11:14.632Z"
   },
   {
    "duration": 125,
    "start_time": "2022-11-21T09:11:14.736Z"
   },
   {
    "duration": 29,
    "start_time": "2022-11-21T09:11:14.863Z"
   },
   {
    "duration": 149,
    "start_time": "2022-11-21T09:11:14.893Z"
   },
   {
    "duration": 8,
    "start_time": "2022-11-21T09:11:15.044Z"
   },
   {
    "duration": 40,
    "start_time": "2022-11-21T09:11:15.054Z"
   },
   {
    "duration": 11,
    "start_time": "2022-11-21T09:11:15.097Z"
   },
   {
    "duration": 12,
    "start_time": "2022-11-21T09:11:15.110Z"
   },
   {
    "duration": 14,
    "start_time": "2022-11-21T09:11:15.123Z"
   },
   {
    "duration": 51,
    "start_time": "2022-11-21T09:11:15.139Z"
   },
   {
    "duration": 13,
    "start_time": "2022-11-21T09:11:15.192Z"
   },
   {
    "duration": 24,
    "start_time": "2022-11-21T09:14:57.170Z"
   },
   {
    "duration": 1285,
    "start_time": "2022-11-21T09:15:01.960Z"
   },
   {
    "duration": 37,
    "start_time": "2022-11-21T09:15:03.247Z"
   },
   {
    "duration": 10,
    "start_time": "2022-11-21T09:15:03.285Z"
   },
   {
    "duration": 31,
    "start_time": "2022-11-21T09:15:03.296Z"
   },
   {
    "duration": 27,
    "start_time": "2022-11-21T09:15:03.330Z"
   },
   {
    "duration": 79,
    "start_time": "2022-11-21T09:15:03.359Z"
   },
   {
    "duration": 9,
    "start_time": "2022-11-21T09:15:03.440Z"
   },
   {
    "duration": 46,
    "start_time": "2022-11-21T09:15:03.450Z"
   },
   {
    "duration": 32,
    "start_time": "2022-11-21T09:15:03.498Z"
   },
   {
    "duration": 58,
    "start_time": "2022-11-21T09:15:03.532Z"
   },
   {
    "duration": 15,
    "start_time": "2022-11-21T09:15:03.592Z"
   },
   {
    "duration": 29,
    "start_time": "2022-11-21T09:15:03.609Z"
   },
   {
    "duration": 176,
    "start_time": "2022-11-21T09:15:03.639Z"
   },
   {
    "duration": 145,
    "start_time": "2022-11-21T09:15:03.818Z"
   },
   {
    "duration": 11,
    "start_time": "2022-11-21T09:15:03.970Z"
   },
   {
    "duration": 32,
    "start_time": "2022-11-21T09:15:03.984Z"
   },
   {
    "duration": 360,
    "start_time": "2022-11-21T09:15:04.018Z"
   },
   {
    "duration": 242,
    "start_time": "2022-11-21T09:15:04.380Z"
   },
   {
    "duration": 305,
    "start_time": "2022-11-21T09:15:04.624Z"
   },
   {
    "duration": 226,
    "start_time": "2022-11-21T09:15:04.931Z"
   },
   {
    "duration": 329,
    "start_time": "2022-11-21T09:15:05.159Z"
   },
   {
    "duration": 155,
    "start_time": "2022-11-21T09:15:05.490Z"
   },
   {
    "duration": 15,
    "start_time": "2022-11-21T09:15:05.646Z"
   },
   {
    "duration": 380,
    "start_time": "2022-11-21T09:15:05.665Z"
   },
   {
    "duration": 4,
    "start_time": "2022-11-21T09:15:06.047Z"
   },
   {
    "duration": 112,
    "start_time": "2022-11-21T09:15:06.053Z"
   },
   {
    "duration": 150,
    "start_time": "2022-11-21T09:15:06.166Z"
   },
   {
    "duration": 22,
    "start_time": "2022-11-21T09:15:06.317Z"
   },
   {
    "duration": 170,
    "start_time": "2022-11-21T09:15:06.341Z"
   },
   {
    "duration": 7,
    "start_time": "2022-11-21T09:15:06.512Z"
   },
   {
    "duration": 54,
    "start_time": "2022-11-21T09:15:06.521Z"
   },
   {
    "duration": 64,
    "start_time": "2022-11-21T09:15:06.577Z"
   },
   {
    "duration": 27,
    "start_time": "2022-11-21T09:15:06.643Z"
   },
   {
    "duration": 37,
    "start_time": "2022-11-21T09:15:06.671Z"
   },
   {
    "duration": 68,
    "start_time": "2022-11-21T09:15:06.710Z"
   },
   {
    "duration": 63,
    "start_time": "2022-11-21T09:15:06.780Z"
   },
   {
    "duration": 52,
    "start_time": "2022-11-21T11:20:28.464Z"
   },
   {
    "duration": 1396,
    "start_time": "2022-11-21T11:20:35.381Z"
   },
   {
    "duration": 123,
    "start_time": "2022-11-21T11:20:36.780Z"
   },
   {
    "duration": 10,
    "start_time": "2022-11-21T11:20:36.905Z"
   },
   {
    "duration": 21,
    "start_time": "2022-11-21T11:20:36.918Z"
   },
   {
    "duration": 15,
    "start_time": "2022-11-21T11:20:36.942Z"
   },
   {
    "duration": 151,
    "start_time": "2022-11-21T11:20:36.959Z"
   },
   {
    "duration": 11,
    "start_time": "2022-11-21T11:20:37.112Z"
   },
   {
    "duration": 25,
    "start_time": "2022-11-21T11:20:37.125Z"
   },
   {
    "duration": 12,
    "start_time": "2022-11-21T11:20:37.152Z"
   },
   {
    "duration": 47,
    "start_time": "2022-11-21T11:20:37.166Z"
   },
   {
    "duration": 0,
    "start_time": "2022-11-21T11:20:37.216Z"
   },
   {
    "duration": 0,
    "start_time": "2022-11-21T11:20:37.217Z"
   },
   {
    "duration": 0,
    "start_time": "2022-11-21T11:20:37.219Z"
   },
   {
    "duration": 0,
    "start_time": "2022-11-21T11:20:37.221Z"
   },
   {
    "duration": 0,
    "start_time": "2022-11-21T11:20:37.222Z"
   },
   {
    "duration": 0,
    "start_time": "2022-11-21T11:20:37.224Z"
   },
   {
    "duration": 0,
    "start_time": "2022-11-21T11:20:37.225Z"
   },
   {
    "duration": 0,
    "start_time": "2022-11-21T11:20:37.226Z"
   },
   {
    "duration": 0,
    "start_time": "2022-11-21T11:20:37.227Z"
   },
   {
    "duration": 0,
    "start_time": "2022-11-21T11:20:37.228Z"
   },
   {
    "duration": 0,
    "start_time": "2022-11-21T11:20:37.229Z"
   },
   {
    "duration": 0,
    "start_time": "2022-11-21T11:20:37.230Z"
   },
   {
    "duration": 0,
    "start_time": "2022-11-21T11:20:37.231Z"
   },
   {
    "duration": 1,
    "start_time": "2022-11-21T11:20:37.232Z"
   },
   {
    "duration": 0,
    "start_time": "2022-11-21T11:20:37.234Z"
   },
   {
    "duration": 0,
    "start_time": "2022-11-21T11:20:37.235Z"
   },
   {
    "duration": 0,
    "start_time": "2022-11-21T11:20:37.236Z"
   },
   {
    "duration": 0,
    "start_time": "2022-11-21T11:20:37.237Z"
   },
   {
    "duration": 0,
    "start_time": "2022-11-21T11:20:37.239Z"
   },
   {
    "duration": 0,
    "start_time": "2022-11-21T11:20:37.240Z"
   },
   {
    "duration": 0,
    "start_time": "2022-11-21T11:20:37.242Z"
   },
   {
    "duration": 0,
    "start_time": "2022-11-21T11:20:37.243Z"
   },
   {
    "duration": 0,
    "start_time": "2022-11-21T11:20:37.245Z"
   },
   {
    "duration": 0,
    "start_time": "2022-11-21T11:20:37.246Z"
   },
   {
    "duration": 0,
    "start_time": "2022-11-21T11:20:37.248Z"
   },
   {
    "duration": 0,
    "start_time": "2022-11-21T11:20:37.249Z"
   },
   {
    "duration": 14,
    "start_time": "2022-11-21T11:21:27.167Z"
   },
   {
    "duration": 12,
    "start_time": "2022-11-21T11:21:33.374Z"
   },
   {
    "duration": 1180,
    "start_time": "2022-11-21T11:21:41.427Z"
   },
   {
    "duration": 36,
    "start_time": "2022-11-21T11:21:42.609Z"
   },
   {
    "duration": 7,
    "start_time": "2022-11-21T11:21:42.647Z"
   },
   {
    "duration": 13,
    "start_time": "2022-11-21T11:21:42.655Z"
   },
   {
    "duration": 22,
    "start_time": "2022-11-21T11:21:42.670Z"
   },
   {
    "duration": 62,
    "start_time": "2022-11-21T11:21:42.694Z"
   },
   {
    "duration": 8,
    "start_time": "2022-11-21T11:21:42.758Z"
   },
   {
    "duration": 11,
    "start_time": "2022-11-21T11:21:42.768Z"
   },
   {
    "duration": 9,
    "start_time": "2022-11-21T11:21:42.780Z"
   },
   {
    "duration": 14,
    "start_time": "2022-11-21T11:21:42.791Z"
   },
   {
    "duration": 15,
    "start_time": "2022-11-21T11:21:42.807Z"
   },
   {
    "duration": 8,
    "start_time": "2022-11-21T11:21:42.824Z"
   },
   {
    "duration": 185,
    "start_time": "2022-11-21T11:21:42.834Z"
   },
   {
    "duration": 128,
    "start_time": "2022-11-21T11:21:43.022Z"
   },
   {
    "duration": 6,
    "start_time": "2022-11-21T11:21:43.152Z"
   },
   {
    "duration": 24,
    "start_time": "2022-11-21T11:21:43.160Z"
   },
   {
    "duration": 291,
    "start_time": "2022-11-21T11:21:43.186Z"
   },
   {
    "duration": 242,
    "start_time": "2022-11-21T11:21:43.480Z"
   },
   {
    "duration": 307,
    "start_time": "2022-11-21T11:21:43.724Z"
   },
   {
    "duration": 235,
    "start_time": "2022-11-21T11:21:44.032Z"
   },
   {
    "duration": 292,
    "start_time": "2022-11-21T11:21:44.268Z"
   },
   {
    "duration": 139,
    "start_time": "2022-11-21T11:21:44.562Z"
   },
   {
    "duration": 10,
    "start_time": "2022-11-21T11:21:44.703Z"
   },
   {
    "duration": 406,
    "start_time": "2022-11-21T11:21:44.715Z"
   },
   {
    "duration": 4,
    "start_time": "2022-11-21T11:21:45.123Z"
   },
   {
    "duration": 112,
    "start_time": "2022-11-21T11:21:45.128Z"
   },
   {
    "duration": 133,
    "start_time": "2022-11-21T11:21:45.242Z"
   },
   {
    "duration": 38,
    "start_time": "2022-11-21T11:21:45.376Z"
   },
   {
    "duration": 169,
    "start_time": "2022-11-21T11:21:45.416Z"
   },
   {
    "duration": 7,
    "start_time": "2022-11-21T11:21:45.587Z"
   },
   {
    "duration": 35,
    "start_time": "2022-11-21T11:21:45.596Z"
   },
   {
    "duration": 12,
    "start_time": "2022-11-21T11:21:45.633Z"
   },
   {
    "duration": 28,
    "start_time": "2022-11-21T11:21:45.648Z"
   },
   {
    "duration": 14,
    "start_time": "2022-11-21T11:21:45.678Z"
   },
   {
    "duration": 29,
    "start_time": "2022-11-21T11:21:45.694Z"
   },
   {
    "duration": 15,
    "start_time": "2022-11-21T11:21:45.724Z"
   },
   {
    "duration": 28,
    "start_time": "2022-11-21T11:22:37.386Z"
   },
   {
    "duration": 1182,
    "start_time": "2022-11-21T11:22:45.378Z"
   },
   {
    "duration": 41,
    "start_time": "2022-11-21T11:22:46.562Z"
   },
   {
    "duration": 11,
    "start_time": "2022-11-21T11:22:46.605Z"
   },
   {
    "duration": 23,
    "start_time": "2022-11-21T11:22:46.618Z"
   },
   {
    "duration": 21,
    "start_time": "2022-11-21T11:22:46.643Z"
   },
   {
    "duration": 63,
    "start_time": "2022-11-21T11:22:46.666Z"
   },
   {
    "duration": 8,
    "start_time": "2022-11-21T11:22:46.731Z"
   },
   {
    "duration": 10,
    "start_time": "2022-11-21T11:22:46.740Z"
   },
   {
    "duration": 9,
    "start_time": "2022-11-21T11:22:46.752Z"
   },
   {
    "duration": 27,
    "start_time": "2022-11-21T11:22:46.763Z"
   },
   {
    "duration": 28,
    "start_time": "2022-11-21T11:22:46.791Z"
   },
   {
    "duration": 7,
    "start_time": "2022-11-21T11:22:46.821Z"
   },
   {
    "duration": 192,
    "start_time": "2022-11-21T11:22:46.830Z"
   },
   {
    "duration": 134,
    "start_time": "2022-11-21T11:22:47.025Z"
   },
   {
    "duration": 6,
    "start_time": "2022-11-21T11:22:47.161Z"
   },
   {
    "duration": 8,
    "start_time": "2022-11-21T11:22:47.169Z"
   },
   {
    "duration": 287,
    "start_time": "2022-11-21T11:22:47.179Z"
   },
   {
    "duration": 203,
    "start_time": "2022-11-21T11:22:47.468Z"
   },
   {
    "duration": 329,
    "start_time": "2022-11-21T11:22:47.672Z"
   },
   {
    "duration": 211,
    "start_time": "2022-11-21T11:22:48.012Z"
   },
   {
    "duration": 317,
    "start_time": "2022-11-21T11:22:48.224Z"
   },
   {
    "duration": 151,
    "start_time": "2022-11-21T11:22:48.543Z"
   },
   {
    "duration": 5,
    "start_time": "2022-11-21T11:22:48.696Z"
   },
   {
    "duration": 400,
    "start_time": "2022-11-21T11:22:48.712Z"
   },
   {
    "duration": 6,
    "start_time": "2022-11-21T11:22:49.114Z"
   },
   {
    "duration": 137,
    "start_time": "2022-11-21T11:22:49.123Z"
   },
   {
    "duration": 142,
    "start_time": "2022-11-21T11:22:49.262Z"
   },
   {
    "duration": 28,
    "start_time": "2022-11-21T11:22:49.406Z"
   },
   {
    "duration": 158,
    "start_time": "2022-11-21T11:22:49.436Z"
   },
   {
    "duration": 7,
    "start_time": "2022-11-21T11:22:49.596Z"
   },
   {
    "duration": 23,
    "start_time": "2022-11-21T11:22:49.613Z"
   },
   {
    "duration": 15,
    "start_time": "2022-11-21T11:22:49.638Z"
   },
   {
    "duration": 10,
    "start_time": "2022-11-21T11:22:49.655Z"
   },
   {
    "duration": 10,
    "start_time": "2022-11-21T11:22:49.667Z"
   },
   {
    "duration": 53,
    "start_time": "2022-11-21T11:22:49.679Z"
   },
   {
    "duration": 15,
    "start_time": "2022-11-21T11:22:49.733Z"
   },
   {
    "duration": 26,
    "start_time": "2022-11-21T11:23:33.391Z"
   },
   {
    "duration": 1206,
    "start_time": "2022-11-21T11:23:45.715Z"
   },
   {
    "duration": 35,
    "start_time": "2022-11-21T11:23:46.923Z"
   },
   {
    "duration": 8,
    "start_time": "2022-11-21T11:23:46.960Z"
   },
   {
    "duration": 13,
    "start_time": "2022-11-21T11:23:46.969Z"
   },
   {
    "duration": 11,
    "start_time": "2022-11-21T11:23:46.985Z"
   },
   {
    "duration": 64,
    "start_time": "2022-11-21T11:23:46.998Z"
   },
   {
    "duration": 7,
    "start_time": "2022-11-21T11:23:47.064Z"
   },
   {
    "duration": 16,
    "start_time": "2022-11-21T11:23:47.073Z"
   },
   {
    "duration": 6,
    "start_time": "2022-11-21T11:23:47.091Z"
   },
   {
    "duration": 23,
    "start_time": "2022-11-21T11:23:47.099Z"
   },
   {
    "duration": 12,
    "start_time": "2022-11-21T11:23:47.124Z"
   },
   {
    "duration": 10,
    "start_time": "2022-11-21T11:23:47.138Z"
   },
   {
    "duration": 179,
    "start_time": "2022-11-21T11:23:47.150Z"
   },
   {
    "duration": 126,
    "start_time": "2022-11-21T11:23:47.332Z"
   },
   {
    "duration": 7,
    "start_time": "2022-11-21T11:23:47.460Z"
   },
   {
    "duration": 9,
    "start_time": "2022-11-21T11:23:47.469Z"
   },
   {
    "duration": 293,
    "start_time": "2022-11-21T11:23:47.480Z"
   },
   {
    "duration": 199,
    "start_time": "2022-11-21T11:23:47.775Z"
   },
   {
    "duration": 291,
    "start_time": "2022-11-21T11:23:47.975Z"
   },
   {
    "duration": 200,
    "start_time": "2022-11-21T11:23:48.268Z"
   },
   {
    "duration": 331,
    "start_time": "2022-11-21T11:23:48.469Z"
   },
   {
    "duration": 136,
    "start_time": "2022-11-21T11:23:48.802Z"
   },
   {
    "duration": 5,
    "start_time": "2022-11-21T11:23:48.939Z"
   },
   {
    "duration": 382,
    "start_time": "2022-11-21T11:23:48.946Z"
   },
   {
    "duration": 5,
    "start_time": "2022-11-21T11:23:49.330Z"
   },
   {
    "duration": 110,
    "start_time": "2022-11-21T11:23:49.336Z"
   },
   {
    "duration": 121,
    "start_time": "2022-11-21T11:23:49.448Z"
   },
   {
    "duration": 20,
    "start_time": "2022-11-21T11:23:49.571Z"
   },
   {
    "duration": 153,
    "start_time": "2022-11-21T11:23:49.593Z"
   },
   {
    "duration": 6,
    "start_time": "2022-11-21T11:23:49.748Z"
   },
   {
    "duration": 23,
    "start_time": "2022-11-21T11:23:49.756Z"
   },
   {
    "duration": 31,
    "start_time": "2022-11-21T11:23:49.781Z"
   },
   {
    "duration": 9,
    "start_time": "2022-11-21T11:23:49.814Z"
   },
   {
    "duration": 9,
    "start_time": "2022-11-21T11:23:49.824Z"
   },
   {
    "duration": 26,
    "start_time": "2022-11-21T11:23:49.834Z"
   },
   {
    "duration": 13,
    "start_time": "2022-11-21T11:23:49.862Z"
   },
   {
    "duration": 23,
    "start_time": "2022-11-21T11:24:36.270Z"
   },
   {
    "duration": 1227,
    "start_time": "2022-11-21T11:24:41.511Z"
   },
   {
    "duration": 36,
    "start_time": "2022-11-21T11:24:42.740Z"
   },
   {
    "duration": 8,
    "start_time": "2022-11-21T11:24:42.778Z"
   },
   {
    "duration": 13,
    "start_time": "2022-11-21T11:24:42.788Z"
   },
   {
    "duration": 14,
    "start_time": "2022-11-21T11:24:42.805Z"
   },
   {
    "duration": 70,
    "start_time": "2022-11-21T11:24:42.821Z"
   },
   {
    "duration": 9,
    "start_time": "2022-11-21T11:24:42.893Z"
   },
   {
    "duration": 13,
    "start_time": "2022-11-21T11:24:42.904Z"
   },
   {
    "duration": 11,
    "start_time": "2022-11-21T11:24:42.919Z"
   },
   {
    "duration": 26,
    "start_time": "2022-11-21T11:24:42.932Z"
   },
   {
    "duration": 13,
    "start_time": "2022-11-21T11:24:42.960Z"
   },
   {
    "duration": 9,
    "start_time": "2022-11-21T11:24:42.974Z"
   },
   {
    "duration": 201,
    "start_time": "2022-11-21T11:24:42.984Z"
   },
   {
    "duration": 147,
    "start_time": "2022-11-21T11:24:43.189Z"
   },
   {
    "duration": 8,
    "start_time": "2022-11-21T11:24:43.337Z"
   },
   {
    "duration": 15,
    "start_time": "2022-11-21T11:24:43.347Z"
   },
   {
    "duration": 292,
    "start_time": "2022-11-21T11:24:43.364Z"
   },
   {
    "duration": 215,
    "start_time": "2022-11-21T11:24:43.658Z"
   },
   {
    "duration": 330,
    "start_time": "2022-11-21T11:24:43.874Z"
   },
   {
    "duration": 214,
    "start_time": "2022-11-21T11:24:44.206Z"
   },
   {
    "duration": 303,
    "start_time": "2022-11-21T11:24:44.422Z"
   },
   {
    "duration": 150,
    "start_time": "2022-11-21T11:24:44.727Z"
   },
   {
    "duration": 5,
    "start_time": "2022-11-21T11:24:44.879Z"
   },
   {
    "duration": 394,
    "start_time": "2022-11-21T11:24:44.887Z"
   },
   {
    "duration": 5,
    "start_time": "2022-11-21T11:24:45.283Z"
   },
   {
    "duration": 102,
    "start_time": "2022-11-21T11:24:45.290Z"
   },
   {
    "duration": 132,
    "start_time": "2022-11-21T11:24:45.394Z"
   },
   {
    "duration": 22,
    "start_time": "2022-11-21T11:24:45.527Z"
   },
   {
    "duration": 163,
    "start_time": "2022-11-21T11:24:45.550Z"
   },
   {
    "duration": 7,
    "start_time": "2022-11-21T11:24:45.714Z"
   },
   {
    "duration": 27,
    "start_time": "2022-11-21T11:24:45.723Z"
   },
   {
    "duration": 12,
    "start_time": "2022-11-21T11:24:45.752Z"
   },
   {
    "duration": 12,
    "start_time": "2022-11-21T11:24:45.765Z"
   },
   {
    "duration": 37,
    "start_time": "2022-11-21T11:24:45.778Z"
   },
   {
    "duration": 25,
    "start_time": "2022-11-21T11:24:45.817Z"
   },
   {
    "duration": 16,
    "start_time": "2022-11-21T11:24:45.844Z"
   },
   {
    "duration": 1173,
    "start_time": "2022-11-21T11:25:04.351Z"
   },
   {
    "duration": 37,
    "start_time": "2022-11-21T11:25:05.526Z"
   },
   {
    "duration": 8,
    "start_time": "2022-11-21T11:25:05.565Z"
   },
   {
    "duration": 27,
    "start_time": "2022-11-21T11:25:05.575Z"
   },
   {
    "duration": 12,
    "start_time": "2022-11-21T11:25:05.605Z"
   },
   {
    "duration": 63,
    "start_time": "2022-11-21T11:25:05.619Z"
   },
   {
    "duration": 8,
    "start_time": "2022-11-21T11:25:05.684Z"
   },
   {
    "duration": 7,
    "start_time": "2022-11-21T11:25:05.694Z"
   },
   {
    "duration": 8,
    "start_time": "2022-11-21T11:25:05.703Z"
   },
   {
    "duration": 26,
    "start_time": "2022-11-21T11:25:05.713Z"
   },
   {
    "duration": 13,
    "start_time": "2022-11-21T11:25:05.741Z"
   },
   {
    "duration": 12,
    "start_time": "2022-11-21T11:25:05.756Z"
   },
   {
    "duration": 182,
    "start_time": "2022-11-21T11:25:05.770Z"
   },
   {
    "duration": 130,
    "start_time": "2022-11-21T11:25:05.956Z"
   },
   {
    "duration": 6,
    "start_time": "2022-11-21T11:25:06.088Z"
   },
   {
    "duration": 16,
    "start_time": "2022-11-21T11:25:06.096Z"
   },
   {
    "duration": 282,
    "start_time": "2022-11-21T11:25:06.114Z"
   },
   {
    "duration": 249,
    "start_time": "2022-11-21T11:25:06.398Z"
   },
   {
    "duration": 279,
    "start_time": "2022-11-21T11:25:06.649Z"
   },
   {
    "duration": 190,
    "start_time": "2022-11-21T11:25:06.930Z"
   },
   {
    "duration": 302,
    "start_time": "2022-11-21T11:25:07.122Z"
   },
   {
    "duration": 145,
    "start_time": "2022-11-21T11:25:07.425Z"
   },
   {
    "duration": 4,
    "start_time": "2022-11-21T11:25:07.572Z"
   },
   {
    "duration": 397,
    "start_time": "2022-11-21T11:25:07.578Z"
   },
   {
    "duration": 5,
    "start_time": "2022-11-21T11:25:07.976Z"
   },
   {
    "duration": 105,
    "start_time": "2022-11-21T11:25:07.982Z"
   },
   {
    "duration": 135,
    "start_time": "2022-11-21T11:25:08.089Z"
   },
   {
    "duration": 22,
    "start_time": "2022-11-21T11:25:08.225Z"
   },
   {
    "duration": 173,
    "start_time": "2022-11-21T11:25:08.248Z"
   },
   {
    "duration": 7,
    "start_time": "2022-11-21T11:25:08.423Z"
   },
   {
    "duration": 31,
    "start_time": "2022-11-21T11:25:08.432Z"
   },
   {
    "duration": 10,
    "start_time": "2022-11-21T11:25:08.465Z"
   },
   {
    "duration": 13,
    "start_time": "2022-11-21T11:25:08.476Z"
   },
   {
    "duration": 26,
    "start_time": "2022-11-21T11:25:08.491Z"
   },
   {
    "duration": 33,
    "start_time": "2022-11-21T11:25:08.519Z"
   },
   {
    "duration": 14,
    "start_time": "2022-11-21T11:25:08.554Z"
   },
   {
    "duration": 1075,
    "start_time": "2022-11-21T11:25:28.360Z"
   },
   {
    "duration": 42,
    "start_time": "2022-11-21T11:25:29.437Z"
   },
   {
    "duration": 8,
    "start_time": "2022-11-21T11:25:29.480Z"
   },
   {
    "duration": 16,
    "start_time": "2022-11-21T11:25:29.489Z"
   },
   {
    "duration": 12,
    "start_time": "2022-11-21T11:25:29.507Z"
   },
   {
    "duration": 64,
    "start_time": "2022-11-21T11:25:29.520Z"
   },
   {
    "duration": 8,
    "start_time": "2022-11-21T11:25:29.585Z"
   },
   {
    "duration": 8,
    "start_time": "2022-11-21T11:25:29.595Z"
   },
   {
    "duration": 7,
    "start_time": "2022-11-21T11:25:29.605Z"
   },
   {
    "duration": 28,
    "start_time": "2022-11-21T11:25:29.614Z"
   },
   {
    "duration": 14,
    "start_time": "2022-11-21T11:25:29.644Z"
   },
   {
    "duration": 10,
    "start_time": "2022-11-21T11:25:29.660Z"
   },
   {
    "duration": 182,
    "start_time": "2022-11-21T11:25:29.671Z"
   },
   {
    "duration": 137,
    "start_time": "2022-11-21T11:25:29.857Z"
   },
   {
    "duration": 16,
    "start_time": "2022-11-21T11:25:29.996Z"
   },
   {
    "duration": 26,
    "start_time": "2022-11-21T11:25:30.015Z"
   },
   {
    "duration": 306,
    "start_time": "2022-11-21T11:25:30.043Z"
   },
   {
    "duration": 210,
    "start_time": "2022-11-21T11:25:30.350Z"
   },
   {
    "duration": 288,
    "start_time": "2022-11-21T11:25:30.563Z"
   },
   {
    "duration": 209,
    "start_time": "2022-11-21T11:25:30.853Z"
   },
   {
    "duration": 282,
    "start_time": "2022-11-21T11:25:31.064Z"
   },
   {
    "duration": 140,
    "start_time": "2022-11-21T11:25:31.347Z"
   },
   {
    "duration": 4,
    "start_time": "2022-11-21T11:25:31.489Z"
   },
   {
    "duration": 353,
    "start_time": "2022-11-21T11:25:31.495Z"
   },
   {
    "duration": 4,
    "start_time": "2022-11-21T11:25:31.850Z"
   },
   {
    "duration": 111,
    "start_time": "2022-11-21T11:25:31.856Z"
   },
   {
    "duration": 123,
    "start_time": "2022-11-21T11:25:31.969Z"
   },
   {
    "duration": 31,
    "start_time": "2022-11-21T11:25:32.094Z"
   },
   {
    "duration": 161,
    "start_time": "2022-11-21T11:25:32.127Z"
   },
   {
    "duration": 25,
    "start_time": "2022-11-21T11:25:32.289Z"
   },
   {
    "duration": 27,
    "start_time": "2022-11-21T11:25:32.316Z"
   },
   {
    "duration": 12,
    "start_time": "2022-11-21T11:25:32.344Z"
   },
   {
    "duration": 12,
    "start_time": "2022-11-21T11:25:32.357Z"
   },
   {
    "duration": 42,
    "start_time": "2022-11-21T11:25:32.371Z"
   },
   {
    "duration": 24,
    "start_time": "2022-11-21T11:25:32.414Z"
   },
   {
    "duration": 15,
    "start_time": "2022-11-21T11:25:32.439Z"
   },
   {
    "duration": 12,
    "start_time": "2022-11-21T11:27:21.446Z"
   },
   {
    "duration": 1239,
    "start_time": "2022-11-21T11:27:27.518Z"
   },
   {
    "duration": 38,
    "start_time": "2022-11-21T11:27:28.759Z"
   },
   {
    "duration": 7,
    "start_time": "2022-11-21T11:27:28.799Z"
   },
   {
    "duration": 15,
    "start_time": "2022-11-21T11:27:28.808Z"
   },
   {
    "duration": 13,
    "start_time": "2022-11-21T11:27:28.825Z"
   },
   {
    "duration": 67,
    "start_time": "2022-11-21T11:27:28.839Z"
   },
   {
    "duration": 9,
    "start_time": "2022-11-21T11:27:28.907Z"
   },
   {
    "duration": 9,
    "start_time": "2022-11-21T11:27:28.918Z"
   },
   {
    "duration": 9,
    "start_time": "2022-11-21T11:27:28.929Z"
   },
   {
    "duration": 14,
    "start_time": "2022-11-21T11:27:28.940Z"
   },
   {
    "duration": 25,
    "start_time": "2022-11-21T11:27:28.956Z"
   },
   {
    "duration": 34,
    "start_time": "2022-11-21T11:27:28.983Z"
   },
   {
    "duration": 9,
    "start_time": "2022-11-21T11:27:29.019Z"
   },
   {
    "duration": 190,
    "start_time": "2022-11-21T11:27:29.031Z"
   },
   {
    "duration": 149,
    "start_time": "2022-11-21T11:27:29.223Z"
   },
   {
    "duration": 8,
    "start_time": "2022-11-21T11:27:29.373Z"
   },
   {
    "duration": 11,
    "start_time": "2022-11-21T11:27:29.382Z"
   },
   {
    "duration": 310,
    "start_time": "2022-11-21T11:27:29.395Z"
   },
   {
    "duration": 222,
    "start_time": "2022-11-21T11:27:29.707Z"
   },
   {
    "duration": 297,
    "start_time": "2022-11-21T11:27:29.931Z"
   },
   {
    "duration": 223,
    "start_time": "2022-11-21T11:27:30.231Z"
   },
   {
    "duration": 303,
    "start_time": "2022-11-21T11:27:30.456Z"
   },
   {
    "duration": 154,
    "start_time": "2022-11-21T11:27:30.761Z"
   },
   {
    "duration": 5,
    "start_time": "2022-11-21T11:27:30.917Z"
   },
   {
    "duration": 398,
    "start_time": "2022-11-21T11:27:30.923Z"
   },
   {
    "duration": 4,
    "start_time": "2022-11-21T11:27:31.323Z"
   },
   {
    "duration": 106,
    "start_time": "2022-11-21T11:27:31.329Z"
   },
   {
    "duration": 133,
    "start_time": "2022-11-21T11:27:31.437Z"
   },
   {
    "duration": 22,
    "start_time": "2022-11-21T11:27:31.572Z"
   },
   {
    "duration": 163,
    "start_time": "2022-11-21T11:27:31.595Z"
   },
   {
    "duration": 7,
    "start_time": "2022-11-21T11:27:31.759Z"
   },
   {
    "duration": 23,
    "start_time": "2022-11-21T11:27:31.768Z"
   },
   {
    "duration": 27,
    "start_time": "2022-11-21T11:27:31.793Z"
   },
   {
    "duration": 10,
    "start_time": "2022-11-21T11:27:31.822Z"
   },
   {
    "duration": 15,
    "start_time": "2022-11-21T11:27:31.833Z"
   },
   {
    "duration": 24,
    "start_time": "2022-11-21T11:27:31.849Z"
   },
   {
    "duration": 14,
    "start_time": "2022-11-21T11:27:31.875Z"
   },
   {
    "duration": 15,
    "start_time": "2022-11-21T11:29:53.442Z"
   },
   {
    "duration": 1146,
    "start_time": "2022-11-21T11:30:38.083Z"
   },
   {
    "duration": 40,
    "start_time": "2022-11-21T11:30:39.231Z"
   },
   {
    "duration": 11,
    "start_time": "2022-11-21T11:30:39.273Z"
   },
   {
    "duration": 23,
    "start_time": "2022-11-21T11:30:39.286Z"
   },
   {
    "duration": 12,
    "start_time": "2022-11-21T11:30:39.312Z"
   },
   {
    "duration": 75,
    "start_time": "2022-11-21T11:30:39.326Z"
   },
   {
    "duration": 8,
    "start_time": "2022-11-21T11:30:39.403Z"
   },
   {
    "duration": 26,
    "start_time": "2022-11-21T11:30:39.413Z"
   },
   {
    "duration": 33,
    "start_time": "2022-11-21T11:30:39.441Z"
   },
   {
    "duration": 27,
    "start_time": "2022-11-21T11:30:39.476Z"
   },
   {
    "duration": 20,
    "start_time": "2022-11-21T11:30:39.505Z"
   },
   {
    "duration": 19,
    "start_time": "2022-11-21T11:30:39.528Z"
   },
   {
    "duration": 9,
    "start_time": "2022-11-21T11:30:39.549Z"
   },
   {
    "duration": 191,
    "start_time": "2022-11-21T11:30:39.561Z"
   },
   {
    "duration": 139,
    "start_time": "2022-11-21T11:30:39.754Z"
   },
   {
    "duration": 18,
    "start_time": "2022-11-21T11:30:39.894Z"
   },
   {
    "duration": 7,
    "start_time": "2022-11-21T11:30:39.914Z"
   },
   {
    "duration": 308,
    "start_time": "2022-11-21T11:30:39.922Z"
   },
   {
    "duration": 225,
    "start_time": "2022-11-21T11:30:40.232Z"
   },
   {
    "duration": 282,
    "start_time": "2022-11-21T11:30:40.460Z"
   },
   {
    "duration": 215,
    "start_time": "2022-11-21T11:30:40.743Z"
   },
   {
    "duration": 275,
    "start_time": "2022-11-21T11:30:40.960Z"
   },
   {
    "duration": 145,
    "start_time": "2022-11-21T11:30:41.237Z"
   },
   {
    "duration": 4,
    "start_time": "2022-11-21T11:30:41.384Z"
   },
   {
    "duration": 378,
    "start_time": "2022-11-21T11:30:41.390Z"
   },
   {
    "duration": 4,
    "start_time": "2022-11-21T11:30:41.769Z"
   },
   {
    "duration": 97,
    "start_time": "2022-11-21T11:30:41.775Z"
   },
   {
    "duration": 121,
    "start_time": "2022-11-21T11:30:41.874Z"
   },
   {
    "duration": 27,
    "start_time": "2022-11-21T11:30:41.997Z"
   },
   {
    "duration": 150,
    "start_time": "2022-11-21T11:30:42.026Z"
   },
   {
    "duration": 7,
    "start_time": "2022-11-21T11:30:42.177Z"
   },
   {
    "duration": 39,
    "start_time": "2022-11-21T11:30:42.186Z"
   },
   {
    "duration": 11,
    "start_time": "2022-11-21T11:30:42.227Z"
   },
   {
    "duration": 10,
    "start_time": "2022-11-21T11:30:42.239Z"
   },
   {
    "duration": 11,
    "start_time": "2022-11-21T11:30:42.251Z"
   },
   {
    "duration": 23,
    "start_time": "2022-11-21T11:30:42.264Z"
   },
   {
    "duration": 36,
    "start_time": "2022-11-21T11:30:42.289Z"
   },
   {
    "duration": 1389,
    "start_time": "2022-11-21T14:19:25.936Z"
   },
   {
    "duration": 87,
    "start_time": "2022-11-21T14:19:27.328Z"
   },
   {
    "duration": 8,
    "start_time": "2022-11-21T14:19:27.417Z"
   },
   {
    "duration": 15,
    "start_time": "2022-11-21T14:19:27.427Z"
   },
   {
    "duration": 24,
    "start_time": "2022-11-21T14:19:27.445Z"
   },
   {
    "duration": 157,
    "start_time": "2022-11-21T14:19:27.471Z"
   },
   {
    "duration": 11,
    "start_time": "2022-11-21T14:19:27.630Z"
   },
   {
    "duration": 13,
    "start_time": "2022-11-21T14:19:27.643Z"
   },
   {
    "duration": 12,
    "start_time": "2022-11-21T14:19:27.658Z"
   },
   {
    "duration": 17,
    "start_time": "2022-11-21T14:19:27.673Z"
   },
   {
    "duration": 32,
    "start_time": "2022-11-21T14:19:27.692Z"
   },
   {
    "duration": 12,
    "start_time": "2022-11-21T14:19:27.726Z"
   },
   {
    "duration": 6,
    "start_time": "2022-11-21T14:19:27.753Z"
   },
   {
    "duration": 177,
    "start_time": "2022-11-21T14:19:27.762Z"
   },
   {
    "duration": 129,
    "start_time": "2022-11-21T14:19:27.941Z"
   },
   {
    "duration": 7,
    "start_time": "2022-11-21T14:19:28.072Z"
   },
   {
    "duration": 13,
    "start_time": "2022-11-21T14:19:28.081Z"
   },
   {
    "duration": 293,
    "start_time": "2022-11-21T14:19:28.097Z"
   },
   {
    "duration": 212,
    "start_time": "2022-11-21T14:19:28.392Z"
   },
   {
    "duration": 339,
    "start_time": "2022-11-21T14:19:28.606Z"
   },
   {
    "duration": 225,
    "start_time": "2022-11-21T14:19:28.952Z"
   },
   {
    "duration": 310,
    "start_time": "2022-11-21T14:19:29.179Z"
   },
   {
    "duration": 142,
    "start_time": "2022-11-21T14:19:29.492Z"
   },
   {
    "duration": 5,
    "start_time": "2022-11-21T14:19:29.636Z"
   },
   {
    "duration": 362,
    "start_time": "2022-11-21T14:19:29.653Z"
   },
   {
    "duration": 5,
    "start_time": "2022-11-21T14:19:30.017Z"
   },
   {
    "duration": 115,
    "start_time": "2022-11-21T14:19:30.023Z"
   },
   {
    "duration": 130,
    "start_time": "2022-11-21T14:19:30.140Z"
   },
   {
    "duration": 21,
    "start_time": "2022-11-21T14:19:30.272Z"
   },
   {
    "duration": 157,
    "start_time": "2022-11-21T14:19:30.295Z"
   },
   {
    "duration": 7,
    "start_time": "2022-11-21T14:19:30.454Z"
   },
   {
    "duration": 47,
    "start_time": "2022-11-21T14:19:30.463Z"
   },
   {
    "duration": 36,
    "start_time": "2022-11-21T14:19:30.512Z"
   },
   {
    "duration": 31,
    "start_time": "2022-11-21T14:19:30.550Z"
   },
   {
    "duration": 26,
    "start_time": "2022-11-21T14:19:30.583Z"
   },
   {
    "duration": 43,
    "start_time": "2022-11-21T14:19:30.611Z"
   },
   {
    "duration": 16,
    "start_time": "2022-11-21T14:19:30.656Z"
   },
   {
    "duration": 28,
    "start_time": "2022-11-21T14:21:25.523Z"
   },
   {
    "duration": 1160,
    "start_time": "2022-11-21T14:21:30.592Z"
   },
   {
    "duration": 43,
    "start_time": "2022-11-21T14:21:31.755Z"
   },
   {
    "duration": 15,
    "start_time": "2022-11-21T14:21:31.800Z"
   },
   {
    "duration": 34,
    "start_time": "2022-11-21T14:21:31.818Z"
   },
   {
    "duration": 18,
    "start_time": "2022-11-21T14:21:31.853Z"
   },
   {
    "duration": 112,
    "start_time": "2022-11-21T14:21:31.873Z"
   },
   {
    "duration": 9,
    "start_time": "2022-11-21T14:21:31.987Z"
   },
   {
    "duration": 18,
    "start_time": "2022-11-21T14:21:31.999Z"
   },
   {
    "duration": 20,
    "start_time": "2022-11-21T14:21:32.020Z"
   },
   {
    "duration": 22,
    "start_time": "2022-11-21T14:21:32.043Z"
   },
   {
    "duration": 25,
    "start_time": "2022-11-21T14:21:32.067Z"
   },
   {
    "duration": 18,
    "start_time": "2022-11-21T14:21:32.094Z"
   },
   {
    "duration": 13,
    "start_time": "2022-11-21T14:21:32.114Z"
   },
   {
    "duration": 199,
    "start_time": "2022-11-21T14:21:32.130Z"
   },
   {
    "duration": 171,
    "start_time": "2022-11-21T14:21:32.330Z"
   },
   {
    "duration": 9,
    "start_time": "2022-11-21T14:21:32.503Z"
   },
   {
    "duration": 23,
    "start_time": "2022-11-21T14:21:32.514Z"
   },
   {
    "duration": 351,
    "start_time": "2022-11-21T14:21:32.539Z"
   },
   {
    "duration": 266,
    "start_time": "2022-11-21T14:21:32.892Z"
   },
   {
    "duration": 292,
    "start_time": "2022-11-21T14:21:33.160Z"
   },
   {
    "duration": 249,
    "start_time": "2022-11-21T14:21:33.454Z"
   },
   {
    "duration": 303,
    "start_time": "2022-11-21T14:21:33.706Z"
   },
   {
    "duration": 217,
    "start_time": "2022-11-21T14:21:34.011Z"
   },
   {
    "duration": 5,
    "start_time": "2022-11-21T14:21:34.231Z"
   },
   {
    "duration": 422,
    "start_time": "2022-11-21T14:21:34.238Z"
   },
   {
    "duration": 5,
    "start_time": "2022-11-21T14:21:34.661Z"
   },
   {
    "duration": 103,
    "start_time": "2022-11-21T14:21:34.668Z"
   },
   {
    "duration": 129,
    "start_time": "2022-11-21T14:21:34.774Z"
   },
   {
    "duration": 31,
    "start_time": "2022-11-21T14:21:34.906Z"
   },
   {
    "duration": 184,
    "start_time": "2022-11-21T14:21:34.939Z"
   },
   {
    "duration": 7,
    "start_time": "2022-11-21T14:21:35.125Z"
   },
   {
    "duration": 32,
    "start_time": "2022-11-21T14:21:35.134Z"
   },
   {
    "duration": 13,
    "start_time": "2022-11-21T14:21:35.168Z"
   },
   {
    "duration": 18,
    "start_time": "2022-11-21T14:21:35.183Z"
   },
   {
    "duration": 12,
    "start_time": "2022-11-21T14:21:35.204Z"
   },
   {
    "duration": 66,
    "start_time": "2022-11-21T14:21:35.218Z"
   },
   {
    "duration": 16,
    "start_time": "2022-11-21T14:21:35.286Z"
   },
   {
    "duration": 1362,
    "start_time": "2022-11-21T14:21:51.715Z"
   },
   {
    "duration": 43,
    "start_time": "2022-11-21T14:21:53.080Z"
   },
   {
    "duration": 10,
    "start_time": "2022-11-21T14:21:53.125Z"
   },
   {
    "duration": 22,
    "start_time": "2022-11-21T14:21:53.138Z"
   },
   {
    "duration": 11,
    "start_time": "2022-11-21T14:21:53.162Z"
   },
   {
    "duration": 68,
    "start_time": "2022-11-21T14:21:53.175Z"
   },
   {
    "duration": 9,
    "start_time": "2022-11-21T14:21:53.245Z"
   },
   {
    "duration": 21,
    "start_time": "2022-11-21T14:21:53.256Z"
   },
   {
    "duration": 15,
    "start_time": "2022-11-21T14:21:53.279Z"
   },
   {
    "duration": 23,
    "start_time": "2022-11-21T14:21:53.297Z"
   },
   {
    "duration": 22,
    "start_time": "2022-11-21T14:21:53.321Z"
   },
   {
    "duration": 20,
    "start_time": "2022-11-21T14:21:53.345Z"
   },
   {
    "duration": 12,
    "start_time": "2022-11-21T14:21:53.367Z"
   },
   {
    "duration": 172,
    "start_time": "2022-11-21T14:21:53.380Z"
   },
   {
    "duration": 130,
    "start_time": "2022-11-21T14:21:53.554Z"
   },
   {
    "duration": 9,
    "start_time": "2022-11-21T14:21:53.687Z"
   },
   {
    "duration": 17,
    "start_time": "2022-11-21T14:21:53.698Z"
   },
   {
    "duration": 313,
    "start_time": "2022-11-21T14:21:53.717Z"
   },
   {
    "duration": 220,
    "start_time": "2022-11-21T14:21:54.032Z"
   },
   {
    "duration": 307,
    "start_time": "2022-11-21T14:21:54.254Z"
   },
   {
    "duration": 227,
    "start_time": "2022-11-21T14:21:54.563Z"
   },
   {
    "duration": 298,
    "start_time": "2022-11-21T14:21:54.792Z"
   },
   {
    "duration": 144,
    "start_time": "2022-11-21T14:21:55.092Z"
   },
   {
    "duration": 5,
    "start_time": "2022-11-21T14:21:55.238Z"
   },
   {
    "duration": 386,
    "start_time": "2022-11-21T14:21:55.244Z"
   },
   {
    "duration": 6,
    "start_time": "2022-11-21T14:21:55.631Z"
   },
   {
    "duration": 140,
    "start_time": "2022-11-21T14:21:55.639Z"
   },
   {
    "duration": 152,
    "start_time": "2022-11-21T14:21:55.784Z"
   },
   {
    "duration": 36,
    "start_time": "2022-11-21T14:21:55.938Z"
   },
   {
    "duration": 165,
    "start_time": "2022-11-21T14:21:55.976Z"
   },
   {
    "duration": 11,
    "start_time": "2022-11-21T14:21:56.142Z"
   },
   {
    "duration": 22,
    "start_time": "2022-11-21T14:21:56.155Z"
   },
   {
    "duration": 14,
    "start_time": "2022-11-21T14:21:56.179Z"
   },
   {
    "duration": 13,
    "start_time": "2022-11-21T14:21:56.195Z"
   },
   {
    "duration": 47,
    "start_time": "2022-11-21T14:21:56.209Z"
   },
   {
    "duration": 34,
    "start_time": "2022-11-21T14:21:56.257Z"
   },
   {
    "duration": 17,
    "start_time": "2022-11-21T14:21:56.293Z"
   },
   {
    "duration": 120,
    "start_time": "2022-11-21T14:23:21.414Z"
   },
   {
    "duration": 21,
    "start_time": "2022-11-21T14:23:35.141Z"
   },
   {
    "duration": 1222,
    "start_time": "2022-11-21T14:23:45.743Z"
   },
   {
    "duration": 41,
    "start_time": "2022-11-21T14:23:46.972Z"
   },
   {
    "duration": 9,
    "start_time": "2022-11-21T14:23:47.015Z"
   },
   {
    "duration": 31,
    "start_time": "2022-11-21T14:23:47.026Z"
   },
   {
    "duration": 17,
    "start_time": "2022-11-21T14:23:47.065Z"
   },
   {
    "duration": 63,
    "start_time": "2022-11-21T14:23:47.084Z"
   },
   {
    "duration": 10,
    "start_time": "2022-11-21T14:23:47.149Z"
   },
   {
    "duration": 22,
    "start_time": "2022-11-21T14:23:47.170Z"
   },
   {
    "duration": 9,
    "start_time": "2022-11-21T14:23:47.194Z"
   },
   {
    "duration": 17,
    "start_time": "2022-11-21T14:23:47.205Z"
   },
   {
    "duration": 16,
    "start_time": "2022-11-21T14:23:47.223Z"
   },
   {
    "duration": 18,
    "start_time": "2022-11-21T14:23:47.257Z"
   },
   {
    "duration": 6,
    "start_time": "2022-11-21T14:23:47.276Z"
   },
   {
    "duration": 183,
    "start_time": "2022-11-21T14:23:47.285Z"
   },
   {
    "duration": 138,
    "start_time": "2022-11-21T14:23:47.470Z"
   },
   {
    "duration": 7,
    "start_time": "2022-11-21T14:23:47.610Z"
   },
   {
    "duration": 15,
    "start_time": "2022-11-21T14:23:47.619Z"
   },
   {
    "duration": 336,
    "start_time": "2022-11-21T14:23:47.636Z"
   },
   {
    "duration": 209,
    "start_time": "2022-11-21T14:23:47.974Z"
   },
   {
    "duration": 279,
    "start_time": "2022-11-21T14:23:48.184Z"
   },
   {
    "duration": 220,
    "start_time": "2022-11-21T14:23:48.468Z"
   },
   {
    "duration": 319,
    "start_time": "2022-11-21T14:23:48.690Z"
   },
   {
    "duration": 172,
    "start_time": "2022-11-21T14:23:49.012Z"
   },
   {
    "duration": 5,
    "start_time": "2022-11-21T14:23:49.186Z"
   },
   {
    "duration": 418,
    "start_time": "2022-11-21T14:23:49.192Z"
   },
   {
    "duration": 4,
    "start_time": "2022-11-21T14:23:49.612Z"
   },
   {
    "duration": 104,
    "start_time": "2022-11-21T14:23:49.617Z"
   },
   {
    "duration": 135,
    "start_time": "2022-11-21T14:23:49.723Z"
   },
   {
    "duration": 28,
    "start_time": "2022-11-21T14:23:49.864Z"
   },
   {
    "duration": 139,
    "start_time": "2022-11-21T14:23:49.894Z"
   },
   {
    "duration": 24,
    "start_time": "2022-11-21T14:23:50.035Z"
   },
   {
    "duration": 22,
    "start_time": "2022-11-21T14:23:50.067Z"
   },
   {
    "duration": 11,
    "start_time": "2022-11-21T14:23:50.090Z"
   },
   {
    "duration": 12,
    "start_time": "2022-11-21T14:23:50.103Z"
   },
   {
    "duration": 16,
    "start_time": "2022-11-21T14:23:50.117Z"
   },
   {
    "duration": 44,
    "start_time": "2022-11-21T14:23:50.134Z"
   },
   {
    "duration": 13,
    "start_time": "2022-11-21T14:23:50.180Z"
   },
   {
    "duration": 1180,
    "start_time": "2022-11-21T14:27:54.515Z"
   },
   {
    "duration": 39,
    "start_time": "2022-11-21T14:27:55.697Z"
   },
   {
    "duration": 8,
    "start_time": "2022-11-21T14:27:55.738Z"
   },
   {
    "duration": 35,
    "start_time": "2022-11-21T14:27:55.748Z"
   },
   {
    "duration": 11,
    "start_time": "2022-11-21T14:27:55.786Z"
   },
   {
    "duration": 74,
    "start_time": "2022-11-21T14:27:55.799Z"
   },
   {
    "duration": 8,
    "start_time": "2022-11-21T14:27:55.874Z"
   },
   {
    "duration": 11,
    "start_time": "2022-11-21T14:27:55.883Z"
   },
   {
    "duration": 11,
    "start_time": "2022-11-21T14:27:55.895Z"
   },
   {
    "duration": 120,
    "start_time": "2022-11-21T14:27:55.908Z"
   },
   {
    "duration": 0,
    "start_time": "2022-11-21T14:27:56.031Z"
   },
   {
    "duration": 0,
    "start_time": "2022-11-21T14:27:56.032Z"
   },
   {
    "duration": 0,
    "start_time": "2022-11-21T14:27:56.033Z"
   },
   {
    "duration": 0,
    "start_time": "2022-11-21T14:27:56.034Z"
   },
   {
    "duration": 0,
    "start_time": "2022-11-21T14:27:56.035Z"
   },
   {
    "duration": 0,
    "start_time": "2022-11-21T14:27:56.037Z"
   },
   {
    "duration": 0,
    "start_time": "2022-11-21T14:27:56.054Z"
   },
   {
    "duration": 0,
    "start_time": "2022-11-21T14:27:56.055Z"
   },
   {
    "duration": 0,
    "start_time": "2022-11-21T14:27:56.055Z"
   },
   {
    "duration": 0,
    "start_time": "2022-11-21T14:27:56.056Z"
   },
   {
    "duration": 0,
    "start_time": "2022-11-21T14:27:56.057Z"
   },
   {
    "duration": 0,
    "start_time": "2022-11-21T14:27:56.057Z"
   },
   {
    "duration": 0,
    "start_time": "2022-11-21T14:27:56.058Z"
   },
   {
    "duration": 0,
    "start_time": "2022-11-21T14:27:56.059Z"
   },
   {
    "duration": 0,
    "start_time": "2022-11-21T14:27:56.059Z"
   },
   {
    "duration": 0,
    "start_time": "2022-11-21T14:27:56.060Z"
   },
   {
    "duration": 0,
    "start_time": "2022-11-21T14:27:56.060Z"
   },
   {
    "duration": 0,
    "start_time": "2022-11-21T14:27:56.061Z"
   },
   {
    "duration": 0,
    "start_time": "2022-11-21T14:27:56.062Z"
   },
   {
    "duration": 1,
    "start_time": "2022-11-21T14:27:56.062Z"
   },
   {
    "duration": 0,
    "start_time": "2022-11-21T14:27:56.063Z"
   },
   {
    "duration": 0,
    "start_time": "2022-11-21T14:27:56.064Z"
   },
   {
    "duration": 0,
    "start_time": "2022-11-21T14:27:56.064Z"
   },
   {
    "duration": 0,
    "start_time": "2022-11-21T14:27:56.065Z"
   },
   {
    "duration": 0,
    "start_time": "2022-11-21T14:27:56.072Z"
   },
   {
    "duration": 0,
    "start_time": "2022-11-21T14:27:56.072Z"
   },
   {
    "duration": 0,
    "start_time": "2022-11-21T14:27:56.073Z"
   },
   {
    "duration": 1283,
    "start_time": "2022-11-21T14:28:26.986Z"
   },
   {
    "duration": 37,
    "start_time": "2022-11-21T14:28:28.271Z"
   },
   {
    "duration": 8,
    "start_time": "2022-11-21T14:28:28.310Z"
   },
   {
    "duration": 15,
    "start_time": "2022-11-21T14:28:28.320Z"
   },
   {
    "duration": 25,
    "start_time": "2022-11-21T14:28:28.338Z"
   },
   {
    "duration": 75,
    "start_time": "2022-11-21T14:28:28.365Z"
   },
   {
    "duration": 7,
    "start_time": "2022-11-21T14:28:28.442Z"
   },
   {
    "duration": 29,
    "start_time": "2022-11-21T14:28:28.451Z"
   },
   {
    "duration": 11,
    "start_time": "2022-11-21T14:28:28.481Z"
   },
   {
    "duration": 108,
    "start_time": "2022-11-21T14:28:28.493Z"
   },
   {
    "duration": 0,
    "start_time": "2022-11-21T14:28:28.603Z"
   },
   {
    "duration": 0,
    "start_time": "2022-11-21T14:28:28.604Z"
   },
   {
    "duration": 0,
    "start_time": "2022-11-21T14:28:28.605Z"
   },
   {
    "duration": 0,
    "start_time": "2022-11-21T14:28:28.606Z"
   },
   {
    "duration": 0,
    "start_time": "2022-11-21T14:28:28.609Z"
   },
   {
    "duration": 0,
    "start_time": "2022-11-21T14:28:28.610Z"
   },
   {
    "duration": 0,
    "start_time": "2022-11-21T14:28:28.611Z"
   },
   {
    "duration": 0,
    "start_time": "2022-11-21T14:28:28.612Z"
   },
   {
    "duration": 0,
    "start_time": "2022-11-21T14:28:28.613Z"
   },
   {
    "duration": 0,
    "start_time": "2022-11-21T14:28:28.614Z"
   },
   {
    "duration": 0,
    "start_time": "2022-11-21T14:28:28.615Z"
   },
   {
    "duration": 0,
    "start_time": "2022-11-21T14:28:28.617Z"
   },
   {
    "duration": 0,
    "start_time": "2022-11-21T14:28:28.618Z"
   },
   {
    "duration": 0,
    "start_time": "2022-11-21T14:28:28.619Z"
   },
   {
    "duration": 0,
    "start_time": "2022-11-21T14:28:28.620Z"
   },
   {
    "duration": 0,
    "start_time": "2022-11-21T14:28:28.654Z"
   },
   {
    "duration": 0,
    "start_time": "2022-11-21T14:28:28.655Z"
   },
   {
    "duration": 0,
    "start_time": "2022-11-21T14:28:28.658Z"
   },
   {
    "duration": 0,
    "start_time": "2022-11-21T14:28:28.659Z"
   },
   {
    "duration": 0,
    "start_time": "2022-11-21T14:28:28.660Z"
   },
   {
    "duration": 0,
    "start_time": "2022-11-21T14:28:28.660Z"
   },
   {
    "duration": 0,
    "start_time": "2022-11-21T14:28:28.661Z"
   },
   {
    "duration": 0,
    "start_time": "2022-11-21T14:28:28.662Z"
   },
   {
    "duration": 0,
    "start_time": "2022-11-21T14:28:28.663Z"
   },
   {
    "duration": 0,
    "start_time": "2022-11-21T14:28:28.663Z"
   },
   {
    "duration": 0,
    "start_time": "2022-11-21T14:28:28.664Z"
   },
   {
    "duration": 0,
    "start_time": "2022-11-21T14:28:28.665Z"
   },
   {
    "duration": 1365,
    "start_time": "2022-11-21T14:28:42.368Z"
   },
   {
    "duration": 47,
    "start_time": "2022-11-21T14:28:43.736Z"
   },
   {
    "duration": 11,
    "start_time": "2022-11-21T14:28:43.784Z"
   },
   {
    "duration": 18,
    "start_time": "2022-11-21T14:28:43.798Z"
   },
   {
    "duration": 14,
    "start_time": "2022-11-21T14:28:43.818Z"
   },
   {
    "duration": 80,
    "start_time": "2022-11-21T14:28:43.834Z"
   },
   {
    "duration": 11,
    "start_time": "2022-11-21T14:28:43.916Z"
   },
   {
    "duration": 14,
    "start_time": "2022-11-21T14:28:43.930Z"
   },
   {
    "duration": 10,
    "start_time": "2022-11-21T14:28:43.946Z"
   },
   {
    "duration": 124,
    "start_time": "2022-11-21T14:28:43.966Z"
   },
   {
    "duration": 0,
    "start_time": "2022-11-21T14:28:44.093Z"
   },
   {
    "duration": 0,
    "start_time": "2022-11-21T14:28:44.094Z"
   },
   {
    "duration": 0,
    "start_time": "2022-11-21T14:28:44.095Z"
   },
   {
    "duration": 0,
    "start_time": "2022-11-21T14:28:44.096Z"
   },
   {
    "duration": 0,
    "start_time": "2022-11-21T14:28:44.098Z"
   },
   {
    "duration": 0,
    "start_time": "2022-11-21T14:28:44.099Z"
   },
   {
    "duration": 0,
    "start_time": "2022-11-21T14:28:44.101Z"
   },
   {
    "duration": 0,
    "start_time": "2022-11-21T14:28:44.102Z"
   },
   {
    "duration": 0,
    "start_time": "2022-11-21T14:28:44.104Z"
   },
   {
    "duration": 0,
    "start_time": "2022-11-21T14:28:44.105Z"
   },
   {
    "duration": 0,
    "start_time": "2022-11-21T14:28:44.108Z"
   },
   {
    "duration": 0,
    "start_time": "2022-11-21T14:28:44.109Z"
   },
   {
    "duration": 0,
    "start_time": "2022-11-21T14:28:44.111Z"
   },
   {
    "duration": 0,
    "start_time": "2022-11-21T14:28:44.112Z"
   },
   {
    "duration": 0,
    "start_time": "2022-11-21T14:28:44.114Z"
   },
   {
    "duration": 0,
    "start_time": "2022-11-21T14:28:44.154Z"
   },
   {
    "duration": 0,
    "start_time": "2022-11-21T14:28:44.155Z"
   },
   {
    "duration": 0,
    "start_time": "2022-11-21T14:28:44.158Z"
   },
   {
    "duration": 0,
    "start_time": "2022-11-21T14:28:44.158Z"
   },
   {
    "duration": 0,
    "start_time": "2022-11-21T14:28:44.159Z"
   },
   {
    "duration": 0,
    "start_time": "2022-11-21T14:28:44.160Z"
   },
   {
    "duration": 0,
    "start_time": "2022-11-21T14:28:44.161Z"
   },
   {
    "duration": 0,
    "start_time": "2022-11-21T14:28:44.161Z"
   },
   {
    "duration": 0,
    "start_time": "2022-11-21T14:28:44.162Z"
   },
   {
    "duration": 0,
    "start_time": "2022-11-21T14:28:44.163Z"
   },
   {
    "duration": 0,
    "start_time": "2022-11-21T14:28:44.164Z"
   },
   {
    "duration": 0,
    "start_time": "2022-11-21T14:28:44.165Z"
   },
   {
    "duration": 1133,
    "start_time": "2022-11-21T14:29:02.513Z"
   },
   {
    "duration": 45,
    "start_time": "2022-11-21T14:29:03.648Z"
   },
   {
    "duration": 11,
    "start_time": "2022-11-21T14:29:03.695Z"
   },
   {
    "duration": 17,
    "start_time": "2022-11-21T14:29:03.708Z"
   },
   {
    "duration": 13,
    "start_time": "2022-11-21T14:29:03.728Z"
   },
   {
    "duration": 82,
    "start_time": "2022-11-21T14:29:03.742Z"
   },
   {
    "duration": 9,
    "start_time": "2022-11-21T14:29:03.826Z"
   },
   {
    "duration": 11,
    "start_time": "2022-11-21T14:29:03.836Z"
   },
   {
    "duration": 22,
    "start_time": "2022-11-21T14:29:03.848Z"
   },
   {
    "duration": 15,
    "start_time": "2022-11-21T14:29:03.872Z"
   },
   {
    "duration": 19,
    "start_time": "2022-11-21T14:29:03.890Z"
   },
   {
    "duration": 12,
    "start_time": "2022-11-21T14:29:03.910Z"
   },
   {
    "duration": 11,
    "start_time": "2022-11-21T14:29:03.923Z"
   },
   {
    "duration": 224,
    "start_time": "2022-11-21T14:29:03.936Z"
   },
   {
    "duration": 163,
    "start_time": "2022-11-21T14:29:04.162Z"
   },
   {
    "duration": 7,
    "start_time": "2022-11-21T14:29:04.327Z"
   },
   {
    "duration": 17,
    "start_time": "2022-11-21T14:29:04.336Z"
   },
   {
    "duration": 341,
    "start_time": "2022-11-21T14:29:04.354Z"
   },
   {
    "duration": 219,
    "start_time": "2022-11-21T14:29:04.697Z"
   },
   {
    "duration": 338,
    "start_time": "2022-11-21T14:29:04.917Z"
   },
   {
    "duration": 241,
    "start_time": "2022-11-21T14:29:05.259Z"
   },
   {
    "duration": 291,
    "start_time": "2022-11-21T14:29:05.502Z"
   },
   {
    "duration": 149,
    "start_time": "2022-11-21T14:29:05.794Z"
   },
   {
    "duration": 10,
    "start_time": "2022-11-21T14:29:05.945Z"
   },
   {
    "duration": 381,
    "start_time": "2022-11-21T14:29:05.956Z"
   },
   {
    "duration": 4,
    "start_time": "2022-11-21T14:29:06.339Z"
   },
   {
    "duration": 120,
    "start_time": "2022-11-21T14:29:06.358Z"
   },
   {
    "duration": 121,
    "start_time": "2022-11-21T14:29:06.480Z"
   },
   {
    "duration": 21,
    "start_time": "2022-11-21T14:29:06.603Z"
   },
   {
    "duration": 144,
    "start_time": "2022-11-21T14:29:06.626Z"
   },
   {
    "duration": 7,
    "start_time": "2022-11-21T14:29:06.773Z"
   },
   {
    "duration": 22,
    "start_time": "2022-11-21T14:29:06.782Z"
   },
   {
    "duration": 11,
    "start_time": "2022-11-21T14:29:06.806Z"
   },
   {
    "duration": 43,
    "start_time": "2022-11-21T14:29:06.818Z"
   },
   {
    "duration": 30,
    "start_time": "2022-11-21T14:29:06.863Z"
   },
   {
    "duration": 29,
    "start_time": "2022-11-21T14:29:06.894Z"
   },
   {
    "duration": 31,
    "start_time": "2022-11-21T14:29:06.924Z"
   },
   {
    "duration": 1305,
    "start_time": "2022-11-21T14:29:51.727Z"
   },
   {
    "duration": 53,
    "start_time": "2022-11-21T14:29:53.034Z"
   },
   {
    "duration": 8,
    "start_time": "2022-11-21T14:29:53.089Z"
   },
   {
    "duration": 41,
    "start_time": "2022-11-21T14:29:53.099Z"
   },
   {
    "duration": 16,
    "start_time": "2022-11-21T14:29:53.143Z"
   },
   {
    "duration": 113,
    "start_time": "2022-11-21T14:29:53.164Z"
   },
   {
    "duration": 10,
    "start_time": "2022-11-21T14:29:53.279Z"
   },
   {
    "duration": 24,
    "start_time": "2022-11-21T14:29:53.291Z"
   },
   {
    "duration": 20,
    "start_time": "2022-11-21T14:29:53.317Z"
   },
   {
    "duration": 28,
    "start_time": "2022-11-21T14:29:53.338Z"
   },
   {
    "duration": 30,
    "start_time": "2022-11-21T14:29:53.368Z"
   },
   {
    "duration": 21,
    "start_time": "2022-11-21T14:29:53.402Z"
   },
   {
    "duration": 15,
    "start_time": "2022-11-21T14:29:53.426Z"
   },
   {
    "duration": 175,
    "start_time": "2022-11-21T14:29:53.444Z"
   },
   {
    "duration": 173,
    "start_time": "2022-11-21T14:29:53.621Z"
   },
   {
    "duration": 8,
    "start_time": "2022-11-21T14:29:53.796Z"
   },
   {
    "duration": 19,
    "start_time": "2022-11-21T14:29:53.806Z"
   },
   {
    "duration": 304,
    "start_time": "2022-11-21T14:29:53.827Z"
   },
   {
    "duration": 267,
    "start_time": "2022-11-21T14:29:54.134Z"
   },
   {
    "duration": 324,
    "start_time": "2022-11-21T14:29:54.403Z"
   },
   {
    "duration": 280,
    "start_time": "2022-11-21T14:29:54.729Z"
   },
   {
    "duration": 287,
    "start_time": "2022-11-21T14:29:55.011Z"
   },
   {
    "duration": 179,
    "start_time": "2022-11-21T14:29:55.299Z"
   },
   {
    "duration": 6,
    "start_time": "2022-11-21T14:29:55.480Z"
   },
   {
    "duration": 419,
    "start_time": "2022-11-21T14:29:55.487Z"
   },
   {
    "duration": 6,
    "start_time": "2022-11-21T14:29:55.908Z"
   },
   {
    "duration": 154,
    "start_time": "2022-11-21T14:29:55.917Z"
   },
   {
    "duration": 156,
    "start_time": "2022-11-21T14:29:56.077Z"
   },
   {
    "duration": 39,
    "start_time": "2022-11-21T14:29:56.235Z"
   },
   {
    "duration": 142,
    "start_time": "2022-11-21T14:29:56.276Z"
   },
   {
    "duration": 7,
    "start_time": "2022-11-21T14:29:56.420Z"
   },
   {
    "duration": 48,
    "start_time": "2022-11-21T14:29:56.429Z"
   },
   {
    "duration": 16,
    "start_time": "2022-11-21T14:29:56.478Z"
   },
   {
    "duration": 16,
    "start_time": "2022-11-21T14:29:56.497Z"
   },
   {
    "duration": 23,
    "start_time": "2022-11-21T14:29:56.515Z"
   },
   {
    "duration": 54,
    "start_time": "2022-11-21T14:29:56.539Z"
   },
   {
    "duration": 15,
    "start_time": "2022-11-21T14:29:56.595Z"
   },
   {
    "duration": 48,
    "start_time": "2022-11-22T07:13:13.622Z"
   },
   {
    "duration": 1307,
    "start_time": "2022-11-22T07:13:17.435Z"
   },
   {
    "duration": 71,
    "start_time": "2022-11-22T07:13:18.744Z"
   },
   {
    "duration": 8,
    "start_time": "2022-11-22T07:13:18.817Z"
   },
   {
    "duration": 23,
    "start_time": "2022-11-22T07:13:18.827Z"
   },
   {
    "duration": 11,
    "start_time": "2022-11-22T07:13:18.852Z"
   },
   {
    "duration": 152,
    "start_time": "2022-11-22T07:13:18.865Z"
   },
   {
    "duration": 9,
    "start_time": "2022-11-22T07:13:19.018Z"
   },
   {
    "duration": 20,
    "start_time": "2022-11-22T07:13:19.028Z"
   },
   {
    "duration": 23,
    "start_time": "2022-11-22T07:13:19.049Z"
   },
   {
    "duration": 34,
    "start_time": "2022-11-22T07:13:19.074Z"
   },
   {
    "duration": 27,
    "start_time": "2022-11-22T07:13:19.110Z"
   },
   {
    "duration": 13,
    "start_time": "2022-11-22T07:13:19.139Z"
   },
   {
    "duration": 27,
    "start_time": "2022-11-22T07:13:19.154Z"
   },
   {
    "duration": 183,
    "start_time": "2022-11-22T07:13:19.184Z"
   },
   {
    "duration": 126,
    "start_time": "2022-11-22T07:13:19.368Z"
   },
   {
    "duration": 7,
    "start_time": "2022-11-22T07:13:19.495Z"
   },
   {
    "duration": 13,
    "start_time": "2022-11-22T07:13:19.503Z"
   },
   {
    "duration": 264,
    "start_time": "2022-11-22T07:13:19.517Z"
   },
   {
    "duration": 199,
    "start_time": "2022-11-22T07:13:19.782Z"
   },
   {
    "duration": 372,
    "start_time": "2022-11-22T07:13:19.983Z"
   },
   {
    "duration": 197,
    "start_time": "2022-11-22T07:13:20.356Z"
   },
   {
    "duration": 269,
    "start_time": "2022-11-22T07:13:20.554Z"
   },
   {
    "duration": 136,
    "start_time": "2022-11-22T07:13:20.824Z"
   },
   {
    "duration": 4,
    "start_time": "2022-11-22T07:13:20.962Z"
   },
   {
    "duration": 345,
    "start_time": "2022-11-22T07:13:20.967Z"
   },
   {
    "duration": 3,
    "start_time": "2022-11-22T07:13:21.314Z"
   },
   {
    "duration": 97,
    "start_time": "2022-11-22T07:13:21.319Z"
   },
   {
    "duration": 112,
    "start_time": "2022-11-22T07:13:21.418Z"
   },
   {
    "duration": 20,
    "start_time": "2022-11-22T07:13:21.532Z"
   },
   {
    "duration": 127,
    "start_time": "2022-11-22T07:13:21.554Z"
   },
   {
    "duration": 8,
    "start_time": "2022-11-22T07:13:21.682Z"
   },
   {
    "duration": 37,
    "start_time": "2022-11-22T07:13:21.692Z"
   },
   {
    "duration": 11,
    "start_time": "2022-11-22T07:13:21.731Z"
   },
   {
    "duration": 11,
    "start_time": "2022-11-22T07:13:21.744Z"
   },
   {
    "duration": 16,
    "start_time": "2022-11-22T07:13:21.757Z"
   },
   {
    "duration": 43,
    "start_time": "2022-11-22T07:13:21.774Z"
   },
   {
    "duration": 13,
    "start_time": "2022-11-22T07:13:21.819Z"
   },
   {
    "duration": 19,
    "start_time": "2022-11-22T07:15:07.850Z"
   },
   {
    "duration": 16,
    "start_time": "2022-11-22T07:15:14.028Z"
   },
   {
    "duration": 1210,
    "start_time": "2022-11-22T07:15:24.916Z"
   },
   {
    "duration": 37,
    "start_time": "2022-11-22T07:15:26.128Z"
   },
   {
    "duration": 8,
    "start_time": "2022-11-22T07:15:26.167Z"
   },
   {
    "duration": 16,
    "start_time": "2022-11-22T07:15:26.177Z"
   },
   {
    "duration": 18,
    "start_time": "2022-11-22T07:15:26.196Z"
   },
   {
    "duration": 70,
    "start_time": "2022-11-22T07:15:26.216Z"
   },
   {
    "duration": 10,
    "start_time": "2022-11-22T07:15:26.288Z"
   },
   {
    "duration": 21,
    "start_time": "2022-11-22T07:15:26.300Z"
   },
   {
    "duration": 15,
    "start_time": "2022-11-22T07:15:26.323Z"
   },
   {
    "duration": 20,
    "start_time": "2022-11-22T07:15:26.340Z"
   },
   {
    "duration": 32,
    "start_time": "2022-11-22T07:15:26.362Z"
   },
   {
    "duration": 31,
    "start_time": "2022-11-22T07:15:26.396Z"
   },
   {
    "duration": 17,
    "start_time": "2022-11-22T07:15:26.429Z"
   },
   {
    "duration": 205,
    "start_time": "2022-11-22T07:15:26.451Z"
   },
   {
    "duration": 128,
    "start_time": "2022-11-22T07:15:26.658Z"
   },
   {
    "duration": 7,
    "start_time": "2022-11-22T07:15:26.787Z"
   },
   {
    "duration": 19,
    "start_time": "2022-11-22T07:15:26.795Z"
   },
   {
    "duration": 268,
    "start_time": "2022-11-22T07:15:26.815Z"
   },
   {
    "duration": 204,
    "start_time": "2022-11-22T07:15:27.085Z"
   },
   {
    "duration": 309,
    "start_time": "2022-11-22T07:15:27.290Z"
   },
   {
    "duration": 213,
    "start_time": "2022-11-22T07:15:27.601Z"
   },
   {
    "duration": 309,
    "start_time": "2022-11-22T07:15:27.815Z"
   },
   {
    "duration": 159,
    "start_time": "2022-11-22T07:15:28.125Z"
   },
   {
    "duration": 5,
    "start_time": "2022-11-22T07:15:28.285Z"
   },
   {
    "duration": 370,
    "start_time": "2022-11-22T07:15:28.291Z"
   },
   {
    "duration": 4,
    "start_time": "2022-11-22T07:15:28.663Z"
   },
   {
    "duration": 111,
    "start_time": "2022-11-22T07:15:28.669Z"
   },
   {
    "duration": 122,
    "start_time": "2022-11-22T07:15:28.782Z"
   },
   {
    "duration": 23,
    "start_time": "2022-11-22T07:15:28.905Z"
   },
   {
    "duration": 150,
    "start_time": "2022-11-22T07:15:28.929Z"
   },
   {
    "duration": 6,
    "start_time": "2022-11-22T07:15:29.081Z"
   },
   {
    "duration": 34,
    "start_time": "2022-11-22T07:15:29.088Z"
   },
   {
    "duration": 10,
    "start_time": "2022-11-22T07:15:29.124Z"
   },
   {
    "duration": 10,
    "start_time": "2022-11-22T07:15:29.136Z"
   },
   {
    "duration": 10,
    "start_time": "2022-11-22T07:15:29.147Z"
   },
   {
    "duration": 31,
    "start_time": "2022-11-22T07:15:29.159Z"
   },
   {
    "duration": 33,
    "start_time": "2022-11-22T07:15:29.192Z"
   },
   {
    "duration": 1220,
    "start_time": "2022-11-22T07:15:45.805Z"
   },
   {
    "duration": 37,
    "start_time": "2022-11-22T07:15:47.027Z"
   },
   {
    "duration": 7,
    "start_time": "2022-11-22T07:15:47.066Z"
   },
   {
    "duration": 32,
    "start_time": "2022-11-22T07:15:47.075Z"
   },
   {
    "duration": 12,
    "start_time": "2022-11-22T07:15:47.110Z"
   },
   {
    "duration": 81,
    "start_time": "2022-11-22T07:15:47.123Z"
   },
   {
    "duration": 8,
    "start_time": "2022-11-22T07:15:47.206Z"
   },
   {
    "duration": 11,
    "start_time": "2022-11-22T07:15:47.215Z"
   },
   {
    "duration": 11,
    "start_time": "2022-11-22T07:15:47.227Z"
   },
   {
    "duration": 14,
    "start_time": "2022-11-22T07:15:47.240Z"
   },
   {
    "duration": 20,
    "start_time": "2022-11-22T07:15:47.256Z"
   },
   {
    "duration": 13,
    "start_time": "2022-11-22T07:15:47.278Z"
   },
   {
    "duration": 22,
    "start_time": "2022-11-22T07:15:47.292Z"
   },
   {
    "duration": 175,
    "start_time": "2022-11-22T07:15:47.318Z"
   },
   {
    "duration": 148,
    "start_time": "2022-11-22T07:15:47.495Z"
   },
   {
    "duration": 7,
    "start_time": "2022-11-22T07:15:47.645Z"
   },
   {
    "duration": 13,
    "start_time": "2022-11-22T07:15:47.654Z"
   },
   {
    "duration": 299,
    "start_time": "2022-11-22T07:15:47.668Z"
   },
   {
    "duration": 215,
    "start_time": "2022-11-22T07:15:47.969Z"
   },
   {
    "duration": 320,
    "start_time": "2022-11-22T07:15:48.186Z"
   },
   {
    "duration": 216,
    "start_time": "2022-11-22T07:15:48.512Z"
   },
   {
    "duration": 290,
    "start_time": "2022-11-22T07:15:48.729Z"
   },
   {
    "duration": 170,
    "start_time": "2022-11-22T07:15:49.021Z"
   },
   {
    "duration": 4,
    "start_time": "2022-11-22T07:15:49.193Z"
   },
   {
    "duration": 383,
    "start_time": "2022-11-22T07:15:49.211Z"
   },
   {
    "duration": 4,
    "start_time": "2022-11-22T07:15:49.595Z"
   },
   {
    "duration": 104,
    "start_time": "2022-11-22T07:15:49.611Z"
   },
   {
    "duration": 119,
    "start_time": "2022-11-22T07:15:49.716Z"
   },
   {
    "duration": 23,
    "start_time": "2022-11-22T07:15:49.836Z"
   },
   {
    "duration": 145,
    "start_time": "2022-11-22T07:15:49.860Z"
   },
   {
    "duration": 8,
    "start_time": "2022-11-22T07:15:50.007Z"
   },
   {
    "duration": 28,
    "start_time": "2022-11-22T07:15:50.017Z"
   },
   {
    "duration": 12,
    "start_time": "2022-11-22T07:15:50.047Z"
   },
   {
    "duration": 12,
    "start_time": "2022-11-22T07:15:50.061Z"
   },
   {
    "duration": 10,
    "start_time": "2022-11-22T07:15:50.075Z"
   },
   {
    "duration": 53,
    "start_time": "2022-11-22T07:15:50.087Z"
   },
   {
    "duration": 14,
    "start_time": "2022-11-22T07:15:50.142Z"
   },
   {
    "duration": 1198,
    "start_time": "2022-11-22T07:23:40.729Z"
   },
   {
    "duration": 38,
    "start_time": "2022-11-22T07:23:41.929Z"
   },
   {
    "duration": 8,
    "start_time": "2022-11-22T07:23:41.969Z"
   },
   {
    "duration": 16,
    "start_time": "2022-11-22T07:23:41.979Z"
   },
   {
    "duration": 11,
    "start_time": "2022-11-22T07:23:41.998Z"
   },
   {
    "duration": 69,
    "start_time": "2022-11-22T07:23:42.012Z"
   },
   {
    "duration": 9,
    "start_time": "2022-11-22T07:23:42.083Z"
   },
   {
    "duration": 9,
    "start_time": "2022-11-22T07:23:42.094Z"
   },
   {
    "duration": 7,
    "start_time": "2022-11-22T07:23:42.104Z"
   },
   {
    "duration": 7,
    "start_time": "2022-11-22T07:23:42.113Z"
   },
   {
    "duration": 19,
    "start_time": "2022-11-22T07:23:42.122Z"
   },
   {
    "duration": 13,
    "start_time": "2022-11-22T07:23:42.142Z"
   },
   {
    "duration": 8,
    "start_time": "2022-11-22T07:23:42.157Z"
   },
   {
    "duration": 210,
    "start_time": "2022-11-22T07:23:42.168Z"
   },
   {
    "duration": 144,
    "start_time": "2022-11-22T07:23:42.380Z"
   },
   {
    "duration": 7,
    "start_time": "2022-11-22T07:23:42.526Z"
   },
   {
    "duration": 11,
    "start_time": "2022-11-22T07:23:42.535Z"
   },
   {
    "duration": 298,
    "start_time": "2022-11-22T07:23:42.548Z"
   },
   {
    "duration": 225,
    "start_time": "2022-11-22T07:23:42.848Z"
   },
   {
    "duration": 325,
    "start_time": "2022-11-22T07:23:43.075Z"
   },
   {
    "duration": 215,
    "start_time": "2022-11-22T07:23:43.402Z"
   },
   {
    "duration": 306,
    "start_time": "2022-11-22T07:23:43.619Z"
   },
   {
    "duration": 164,
    "start_time": "2022-11-22T07:23:43.927Z"
   },
   {
    "duration": 4,
    "start_time": "2022-11-22T07:23:44.093Z"
   },
   {
    "duration": 408,
    "start_time": "2022-11-22T07:23:44.099Z"
   },
   {
    "duration": 4,
    "start_time": "2022-11-22T07:23:44.512Z"
   },
   {
    "duration": 115,
    "start_time": "2022-11-22T07:23:44.518Z"
   },
   {
    "duration": 134,
    "start_time": "2022-11-22T07:23:44.635Z"
   },
   {
    "duration": 24,
    "start_time": "2022-11-22T07:23:44.771Z"
   },
   {
    "duration": 185,
    "start_time": "2022-11-22T07:23:44.797Z"
   },
   {
    "duration": 7,
    "start_time": "2022-11-22T07:23:44.984Z"
   },
   {
    "duration": 39,
    "start_time": "2022-11-22T07:23:44.993Z"
   },
   {
    "duration": 11,
    "start_time": "2022-11-22T07:23:45.034Z"
   },
   {
    "duration": 10,
    "start_time": "2022-11-22T07:23:45.047Z"
   },
   {
    "duration": 16,
    "start_time": "2022-11-22T07:23:45.059Z"
   },
   {
    "duration": 45,
    "start_time": "2022-11-22T07:23:45.077Z"
   },
   {
    "duration": 13,
    "start_time": "2022-11-22T07:23:45.124Z"
   },
   {
    "duration": 1167,
    "start_time": "2022-11-22T07:51:37.381Z"
   },
   {
    "duration": 37,
    "start_time": "2022-11-22T07:51:38.551Z"
   },
   {
    "duration": 8,
    "start_time": "2022-11-22T07:51:38.590Z"
   },
   {
    "duration": 20,
    "start_time": "2022-11-22T07:51:38.600Z"
   },
   {
    "duration": 13,
    "start_time": "2022-11-22T07:51:38.623Z"
   },
   {
    "duration": 84,
    "start_time": "2022-11-22T07:51:38.638Z"
   },
   {
    "duration": 8,
    "start_time": "2022-11-22T07:51:38.724Z"
   },
   {
    "duration": 16,
    "start_time": "2022-11-22T07:51:38.734Z"
   },
   {
    "duration": 26,
    "start_time": "2022-11-22T07:51:38.752Z"
   },
   {
    "duration": 9,
    "start_time": "2022-11-22T07:51:38.780Z"
   },
   {
    "duration": 24,
    "start_time": "2022-11-22T07:51:38.791Z"
   },
   {
    "duration": 13,
    "start_time": "2022-11-22T07:51:38.816Z"
   },
   {
    "duration": 9,
    "start_time": "2022-11-22T07:51:38.831Z"
   },
   {
    "duration": 181,
    "start_time": "2022-11-22T07:51:38.842Z"
   },
   {
    "duration": 137,
    "start_time": "2022-11-22T07:51:39.024Z"
   },
   {
    "duration": 7,
    "start_time": "2022-11-22T07:51:39.163Z"
   },
   {
    "duration": 10,
    "start_time": "2022-11-22T07:51:39.172Z"
   },
   {
    "duration": 309,
    "start_time": "2022-11-22T07:51:39.184Z"
   },
   {
    "duration": 210,
    "start_time": "2022-11-22T07:51:39.495Z"
   },
   {
    "duration": 312,
    "start_time": "2022-11-22T07:51:39.707Z"
   },
   {
    "duration": 211,
    "start_time": "2022-11-22T07:51:40.022Z"
   },
   {
    "duration": 292,
    "start_time": "2022-11-22T07:51:40.235Z"
   },
   {
    "duration": 145,
    "start_time": "2022-11-22T07:51:40.529Z"
   },
   {
    "duration": 5,
    "start_time": "2022-11-22T07:51:40.677Z"
   },
   {
    "duration": 382,
    "start_time": "2022-11-22T07:51:40.683Z"
   },
   {
    "duration": 4,
    "start_time": "2022-11-22T07:51:41.068Z"
   },
   {
    "duration": 105,
    "start_time": "2022-11-22T07:51:41.075Z"
   },
   {
    "duration": 132,
    "start_time": "2022-11-22T07:51:41.182Z"
   },
   {
    "duration": 20,
    "start_time": "2022-11-22T07:51:41.316Z"
   },
   {
    "duration": 151,
    "start_time": "2022-11-22T07:51:41.338Z"
   },
   {
    "duration": 7,
    "start_time": "2022-11-22T07:51:41.491Z"
   },
   {
    "duration": 30,
    "start_time": "2022-11-22T07:51:41.512Z"
   },
   {
    "duration": 10,
    "start_time": "2022-11-22T07:51:41.544Z"
   },
   {
    "duration": 19,
    "start_time": "2022-11-22T07:51:41.555Z"
   },
   {
    "duration": 41,
    "start_time": "2022-11-22T07:51:41.576Z"
   },
   {
    "duration": 34,
    "start_time": "2022-11-22T07:51:41.619Z"
   },
   {
    "duration": 30,
    "start_time": "2022-11-22T07:51:41.655Z"
   },
   {
    "duration": 8,
    "start_time": "2022-11-22T07:52:32.445Z"
   },
   {
    "duration": 8,
    "start_time": "2022-11-22T07:52:44.582Z"
   },
   {
    "duration": 1189,
    "start_time": "2022-11-22T07:52:53.332Z"
   },
   {
    "duration": 38,
    "start_time": "2022-11-22T07:52:54.523Z"
   },
   {
    "duration": 8,
    "start_time": "2022-11-22T07:52:54.563Z"
   },
   {
    "duration": 15,
    "start_time": "2022-11-22T07:52:54.572Z"
   },
   {
    "duration": 20,
    "start_time": "2022-11-22T07:52:54.590Z"
   },
   {
    "duration": 78,
    "start_time": "2022-11-22T07:52:54.611Z"
   },
   {
    "duration": 9,
    "start_time": "2022-11-22T07:52:54.690Z"
   },
   {
    "duration": 42,
    "start_time": "2022-11-22T07:52:54.700Z"
   },
   {
    "duration": 25,
    "start_time": "2022-11-22T07:52:54.746Z"
   },
   {
    "duration": 14,
    "start_time": "2022-11-22T07:52:54.773Z"
   },
   {
    "duration": 30,
    "start_time": "2022-11-22T07:52:54.789Z"
   },
   {
    "duration": 16,
    "start_time": "2022-11-22T07:52:54.822Z"
   },
   {
    "duration": 10,
    "start_time": "2022-11-22T07:52:54.840Z"
   },
   {
    "duration": 193,
    "start_time": "2022-11-22T07:52:54.853Z"
   },
   {
    "duration": 127,
    "start_time": "2022-11-22T07:52:55.048Z"
   },
   {
    "duration": 7,
    "start_time": "2022-11-22T07:52:55.177Z"
   },
   {
    "duration": 21,
    "start_time": "2022-11-22T07:52:55.186Z"
   },
   {
    "duration": 303,
    "start_time": "2022-11-22T07:52:55.213Z"
   },
   {
    "duration": 220,
    "start_time": "2022-11-22T07:52:55.518Z"
   },
   {
    "duration": 289,
    "start_time": "2022-11-22T07:52:55.740Z"
   },
   {
    "duration": 230,
    "start_time": "2022-11-22T07:52:56.031Z"
   },
   {
    "duration": 353,
    "start_time": "2022-11-22T07:52:56.264Z"
   },
   {
    "duration": 184,
    "start_time": "2022-11-22T07:52:56.620Z"
   },
   {
    "duration": 7,
    "start_time": "2022-11-22T07:52:56.806Z"
   },
   {
    "duration": 409,
    "start_time": "2022-11-22T07:52:56.815Z"
   },
   {
    "duration": 5,
    "start_time": "2022-11-22T07:52:57.226Z"
   },
   {
    "duration": 110,
    "start_time": "2022-11-22T07:52:57.233Z"
   },
   {
    "duration": 131,
    "start_time": "2022-11-22T07:52:57.345Z"
   },
   {
    "duration": 37,
    "start_time": "2022-11-22T07:52:57.478Z"
   },
   {
    "duration": 135,
    "start_time": "2022-11-22T07:52:57.517Z"
   },
   {
    "duration": 6,
    "start_time": "2022-11-22T07:52:57.654Z"
   },
   {
    "duration": 44,
    "start_time": "2022-11-22T07:52:57.662Z"
   },
   {
    "duration": 10,
    "start_time": "2022-11-22T07:52:57.708Z"
   },
   {
    "duration": 12,
    "start_time": "2022-11-22T07:52:57.720Z"
   },
   {
    "duration": 40,
    "start_time": "2022-11-22T07:52:57.734Z"
   },
   {
    "duration": 71,
    "start_time": "2022-11-22T07:52:57.776Z"
   },
   {
    "duration": 19,
    "start_time": "2022-11-22T07:52:57.849Z"
   },
   {
    "duration": 7,
    "start_time": "2022-11-22T07:54:14.692Z"
   },
   {
    "duration": 1256,
    "start_time": "2022-11-22T07:55:08.391Z"
   },
   {
    "duration": 37,
    "start_time": "2022-11-22T07:55:09.649Z"
   },
   {
    "duration": 8,
    "start_time": "2022-11-22T07:55:09.688Z"
   },
   {
    "duration": 40,
    "start_time": "2022-11-22T07:55:09.698Z"
   },
   {
    "duration": 13,
    "start_time": "2022-11-22T07:55:09.740Z"
   },
   {
    "duration": 83,
    "start_time": "2022-11-22T07:55:09.755Z"
   },
   {
    "duration": 9,
    "start_time": "2022-11-22T07:55:09.839Z"
   },
   {
    "duration": 31,
    "start_time": "2022-11-22T07:55:09.849Z"
   },
   {
    "duration": 23,
    "start_time": "2022-11-22T07:55:09.881Z"
   },
   {
    "duration": 53,
    "start_time": "2022-11-22T07:55:09.905Z"
   },
   {
    "duration": 102,
    "start_time": "2022-11-22T07:55:09.959Z"
   },
   {
    "duration": 82,
    "start_time": "2022-11-22T07:55:10.063Z"
   },
   {
    "duration": 29,
    "start_time": "2022-11-22T07:55:10.147Z"
   },
   {
    "duration": 206,
    "start_time": "2022-11-22T07:55:10.181Z"
   },
   {
    "duration": 143,
    "start_time": "2022-11-22T07:55:10.389Z"
   },
   {
    "duration": 30,
    "start_time": "2022-11-22T07:55:10.534Z"
   },
   {
    "duration": 34,
    "start_time": "2022-11-22T07:55:10.567Z"
   },
   {
    "duration": 306,
    "start_time": "2022-11-22T07:55:10.603Z"
   },
   {
    "duration": 218,
    "start_time": "2022-11-22T07:55:10.912Z"
   },
   {
    "duration": 292,
    "start_time": "2022-11-22T07:55:11.131Z"
   },
   {
    "duration": 223,
    "start_time": "2022-11-22T07:55:11.425Z"
   },
   {
    "duration": 299,
    "start_time": "2022-11-22T07:55:11.649Z"
   },
   {
    "duration": 160,
    "start_time": "2022-11-22T07:55:11.949Z"
   },
   {
    "duration": 5,
    "start_time": "2022-11-22T07:55:12.110Z"
   },
   {
    "duration": 384,
    "start_time": "2022-11-22T07:55:12.116Z"
   },
   {
    "duration": 11,
    "start_time": "2022-11-22T07:55:12.503Z"
   },
   {
    "duration": 113,
    "start_time": "2022-11-22T07:55:12.516Z"
   },
   {
    "duration": 136,
    "start_time": "2022-11-22T07:55:12.631Z"
   },
   {
    "duration": 24,
    "start_time": "2022-11-22T07:55:12.768Z"
   },
   {
    "duration": 138,
    "start_time": "2022-11-22T07:55:12.794Z"
   },
   {
    "duration": 7,
    "start_time": "2022-11-22T07:55:12.934Z"
   },
   {
    "duration": 54,
    "start_time": "2022-11-22T07:55:12.942Z"
   },
   {
    "duration": 19,
    "start_time": "2022-11-22T07:55:12.998Z"
   },
   {
    "duration": 21,
    "start_time": "2022-11-22T07:55:13.018Z"
   },
   {
    "duration": 32,
    "start_time": "2022-11-22T07:55:13.041Z"
   },
   {
    "duration": 52,
    "start_time": "2022-11-22T07:55:13.075Z"
   },
   {
    "duration": 14,
    "start_time": "2022-11-22T07:55:13.129Z"
   },
   {
    "duration": 1201,
    "start_time": "2022-11-22T07:55:31.429Z"
   },
   {
    "duration": 38,
    "start_time": "2022-11-22T07:55:32.632Z"
   },
   {
    "duration": 8,
    "start_time": "2022-11-22T07:55:32.671Z"
   },
   {
    "duration": 19,
    "start_time": "2022-11-22T07:55:32.680Z"
   },
   {
    "duration": 12,
    "start_time": "2022-11-22T07:55:32.701Z"
   },
   {
    "duration": 68,
    "start_time": "2022-11-22T07:55:32.715Z"
   },
   {
    "duration": 9,
    "start_time": "2022-11-22T07:55:32.785Z"
   },
   {
    "duration": 13,
    "start_time": "2022-11-22T07:55:32.795Z"
   },
   {
    "duration": 14,
    "start_time": "2022-11-22T07:55:32.810Z"
   },
   {
    "duration": 15,
    "start_time": "2022-11-22T07:55:32.826Z"
   },
   {
    "duration": 21,
    "start_time": "2022-11-22T07:55:32.843Z"
   },
   {
    "duration": 14,
    "start_time": "2022-11-22T07:55:32.865Z"
   },
   {
    "duration": 14,
    "start_time": "2022-11-22T07:55:32.880Z"
   },
   {
    "duration": 178,
    "start_time": "2022-11-22T07:55:32.897Z"
   },
   {
    "duration": 137,
    "start_time": "2022-11-22T07:55:33.077Z"
   },
   {
    "duration": 7,
    "start_time": "2022-11-22T07:55:33.215Z"
   },
   {
    "duration": 13,
    "start_time": "2022-11-22T07:55:33.224Z"
   },
   {
    "duration": 308,
    "start_time": "2022-11-22T07:55:33.238Z"
   },
   {
    "duration": 224,
    "start_time": "2022-11-22T07:55:33.547Z"
   },
   {
    "duration": 328,
    "start_time": "2022-11-22T07:55:33.772Z"
   },
   {
    "duration": 217,
    "start_time": "2022-11-22T07:55:34.102Z"
   },
   {
    "duration": 320,
    "start_time": "2022-11-22T07:55:34.321Z"
   },
   {
    "duration": 146,
    "start_time": "2022-11-22T07:55:34.643Z"
   },
   {
    "duration": 4,
    "start_time": "2022-11-22T07:55:34.791Z"
   },
   {
    "duration": 409,
    "start_time": "2022-11-22T07:55:34.797Z"
   },
   {
    "duration": 6,
    "start_time": "2022-11-22T07:55:35.208Z"
   },
   {
    "duration": 108,
    "start_time": "2022-11-22T07:55:35.217Z"
   },
   {
    "duration": 129,
    "start_time": "2022-11-22T07:55:35.327Z"
   },
   {
    "duration": 23,
    "start_time": "2022-11-22T07:55:35.458Z"
   },
   {
    "duration": 150,
    "start_time": "2022-11-22T07:55:35.483Z"
   },
   {
    "duration": 9,
    "start_time": "2022-11-22T07:55:35.635Z"
   },
   {
    "duration": 27,
    "start_time": "2022-11-22T07:55:35.645Z"
   },
   {
    "duration": 11,
    "start_time": "2022-11-22T07:55:35.673Z"
   },
   {
    "duration": 33,
    "start_time": "2022-11-22T07:55:35.686Z"
   },
   {
    "duration": 25,
    "start_time": "2022-11-22T07:55:35.721Z"
   },
   {
    "duration": 33,
    "start_time": "2022-11-22T07:55:35.748Z"
   },
   {
    "duration": 16,
    "start_time": "2022-11-22T07:55:35.782Z"
   },
   {
    "duration": 1319,
    "start_time": "2022-11-22T07:56:00.832Z"
   },
   {
    "duration": 40,
    "start_time": "2022-11-22T07:56:02.154Z"
   },
   {
    "duration": 9,
    "start_time": "2022-11-22T07:56:02.196Z"
   },
   {
    "duration": 24,
    "start_time": "2022-11-22T07:56:02.207Z"
   },
   {
    "duration": 14,
    "start_time": "2022-11-22T07:56:02.234Z"
   },
   {
    "duration": 70,
    "start_time": "2022-11-22T07:56:02.250Z"
   },
   {
    "duration": 9,
    "start_time": "2022-11-22T07:56:02.322Z"
   },
   {
    "duration": 11,
    "start_time": "2022-11-22T07:56:02.333Z"
   },
   {
    "duration": 20,
    "start_time": "2022-11-22T07:56:02.346Z"
   },
   {
    "duration": 19,
    "start_time": "2022-11-22T07:56:02.367Z"
   },
   {
    "duration": 41,
    "start_time": "2022-11-22T07:56:02.389Z"
   },
   {
    "duration": 23,
    "start_time": "2022-11-22T07:56:02.435Z"
   },
   {
    "duration": 15,
    "start_time": "2022-11-22T07:56:02.460Z"
   },
   {
    "duration": 202,
    "start_time": "2022-11-22T07:56:02.479Z"
   },
   {
    "duration": 143,
    "start_time": "2022-11-22T07:56:02.683Z"
   },
   {
    "duration": 7,
    "start_time": "2022-11-22T07:56:02.827Z"
   },
   {
    "duration": 21,
    "start_time": "2022-11-22T07:56:02.836Z"
   },
   {
    "duration": 303,
    "start_time": "2022-11-22T07:56:02.859Z"
   },
   {
    "duration": 225,
    "start_time": "2022-11-22T07:56:03.164Z"
   },
   {
    "duration": 324,
    "start_time": "2022-11-22T07:56:03.391Z"
   },
   {
    "duration": 220,
    "start_time": "2022-11-22T07:56:03.717Z"
   },
   {
    "duration": 304,
    "start_time": "2022-11-22T07:56:03.940Z"
   },
   {
    "duration": 155,
    "start_time": "2022-11-22T07:56:04.246Z"
   },
   {
    "duration": 12,
    "start_time": "2022-11-22T07:56:04.403Z"
   },
   {
    "duration": 407,
    "start_time": "2022-11-22T07:56:04.418Z"
   },
   {
    "duration": 5,
    "start_time": "2022-11-22T07:56:04.828Z"
   },
   {
    "duration": 137,
    "start_time": "2022-11-22T07:56:04.834Z"
   },
   {
    "duration": 131,
    "start_time": "2022-11-22T07:56:04.973Z"
   },
   {
    "duration": 27,
    "start_time": "2022-11-22T07:56:05.106Z"
   },
   {
    "duration": 158,
    "start_time": "2022-11-22T07:56:05.135Z"
   },
   {
    "duration": 19,
    "start_time": "2022-11-22T07:56:05.295Z"
   },
   {
    "duration": 56,
    "start_time": "2022-11-22T07:56:05.316Z"
   },
   {
    "duration": 13,
    "start_time": "2022-11-22T07:56:05.374Z"
   },
   {
    "duration": 25,
    "start_time": "2022-11-22T07:56:05.389Z"
   },
   {
    "duration": 18,
    "start_time": "2022-11-22T07:56:05.416Z"
   },
   {
    "duration": 37,
    "start_time": "2022-11-22T07:56:05.435Z"
   },
   {
    "duration": 15,
    "start_time": "2022-11-22T07:56:05.473Z"
   },
   {
    "duration": 4,
    "start_time": "2022-11-22T08:07:08.052Z"
   },
   {
    "duration": 12,
    "start_time": "2022-11-22T08:08:10.483Z"
   },
   {
    "duration": 12,
    "start_time": "2022-11-22T08:08:53.757Z"
   },
   {
    "duration": 1268,
    "start_time": "2022-11-22T08:08:59.881Z"
   },
   {
    "duration": 38,
    "start_time": "2022-11-22T08:09:01.151Z"
   },
   {
    "duration": 9,
    "start_time": "2022-11-22T08:09:01.191Z"
   },
   {
    "duration": 16,
    "start_time": "2022-11-22T08:09:01.202Z"
   },
   {
    "duration": 14,
    "start_time": "2022-11-22T08:09:01.221Z"
   },
   {
    "duration": 70,
    "start_time": "2022-11-22T08:09:01.237Z"
   },
   {
    "duration": 9,
    "start_time": "2022-11-22T08:09:01.309Z"
   },
   {
    "duration": 26,
    "start_time": "2022-11-22T08:09:01.319Z"
   },
   {
    "duration": 20,
    "start_time": "2022-11-22T08:09:01.348Z"
   },
   {
    "duration": 19,
    "start_time": "2022-11-22T08:09:01.370Z"
   },
   {
    "duration": 18,
    "start_time": "2022-11-22T08:09:01.391Z"
   },
   {
    "duration": 29,
    "start_time": "2022-11-22T08:09:01.411Z"
   },
   {
    "duration": 16,
    "start_time": "2022-11-22T08:09:01.442Z"
   },
   {
    "duration": 197,
    "start_time": "2022-11-22T08:09:01.462Z"
   },
   {
    "duration": 143,
    "start_time": "2022-11-22T08:09:01.661Z"
   },
   {
    "duration": 8,
    "start_time": "2022-11-22T08:09:01.811Z"
   },
   {
    "duration": 10,
    "start_time": "2022-11-22T08:09:01.821Z"
   },
   {
    "duration": 318,
    "start_time": "2022-11-22T08:09:01.833Z"
   },
   {
    "duration": 230,
    "start_time": "2022-11-22T08:09:02.153Z"
   },
   {
    "duration": 342,
    "start_time": "2022-11-22T08:09:02.385Z"
   },
   {
    "duration": 223,
    "start_time": "2022-11-22T08:09:02.729Z"
   },
   {
    "duration": 314,
    "start_time": "2022-11-22T08:09:02.954Z"
   },
   {
    "duration": 167,
    "start_time": "2022-11-22T08:09:03.269Z"
   },
   {
    "duration": 6,
    "start_time": "2022-11-22T08:09:03.438Z"
   },
   {
    "duration": 424,
    "start_time": "2022-11-22T08:09:03.446Z"
   },
   {
    "duration": 5,
    "start_time": "2022-11-22T08:09:03.871Z"
   },
   {
    "duration": 109,
    "start_time": "2022-11-22T08:09:03.878Z"
   },
   {
    "duration": 147,
    "start_time": "2022-11-22T08:09:03.989Z"
   },
   {
    "duration": 24,
    "start_time": "2022-11-22T08:09:04.138Z"
   },
   {
    "duration": 180,
    "start_time": "2022-11-22T08:09:04.164Z"
   },
   {
    "duration": 7,
    "start_time": "2022-11-22T08:09:04.346Z"
   },
   {
    "duration": 29,
    "start_time": "2022-11-22T08:09:04.355Z"
   },
   {
    "duration": 30,
    "start_time": "2022-11-22T08:09:04.386Z"
   },
   {
    "duration": 15,
    "start_time": "2022-11-22T08:09:04.418Z"
   },
   {
    "duration": 19,
    "start_time": "2022-11-22T08:09:04.435Z"
   },
   {
    "duration": 25,
    "start_time": "2022-11-22T08:09:04.457Z"
   },
   {
    "duration": 33,
    "start_time": "2022-11-22T08:09:04.484Z"
   },
   {
    "duration": 19,
    "start_time": "2022-11-22T08:10:04.967Z"
   },
   {
    "duration": 1326,
    "start_time": "2022-11-22T08:10:18.614Z"
   },
   {
    "duration": 37,
    "start_time": "2022-11-22T08:10:19.942Z"
   },
   {
    "duration": 8,
    "start_time": "2022-11-22T08:10:19.981Z"
   },
   {
    "duration": 17,
    "start_time": "2022-11-22T08:10:19.991Z"
   },
   {
    "duration": 15,
    "start_time": "2022-11-22T08:10:20.011Z"
   },
   {
    "duration": 70,
    "start_time": "2022-11-22T08:10:20.028Z"
   },
   {
    "duration": 11,
    "start_time": "2022-11-22T08:10:20.100Z"
   },
   {
    "duration": 18,
    "start_time": "2022-11-22T08:10:20.113Z"
   },
   {
    "duration": 11,
    "start_time": "2022-11-22T08:10:20.132Z"
   },
   {
    "duration": 16,
    "start_time": "2022-11-22T08:10:20.144Z"
   },
   {
    "duration": 25,
    "start_time": "2022-11-22T08:10:20.162Z"
   },
   {
    "duration": 27,
    "start_time": "2022-11-22T08:10:20.188Z"
   },
   {
    "duration": 7,
    "start_time": "2022-11-22T08:10:20.218Z"
   },
   {
    "duration": 204,
    "start_time": "2022-11-22T08:10:20.228Z"
   },
   {
    "duration": 139,
    "start_time": "2022-11-22T08:10:20.434Z"
   },
   {
    "duration": 6,
    "start_time": "2022-11-22T08:10:20.575Z"
   },
   {
    "duration": 7,
    "start_time": "2022-11-22T08:10:20.583Z"
   },
   {
    "duration": 327,
    "start_time": "2022-11-22T08:10:20.591Z"
   },
   {
    "duration": 238,
    "start_time": "2022-11-22T08:10:20.920Z"
   },
   {
    "duration": 303,
    "start_time": "2022-11-22T08:10:21.160Z"
   },
   {
    "duration": 218,
    "start_time": "2022-11-22T08:10:21.465Z"
   },
   {
    "duration": 335,
    "start_time": "2022-11-22T08:10:21.685Z"
   },
   {
    "duration": 148,
    "start_time": "2022-11-22T08:10:22.022Z"
   },
   {
    "duration": 5,
    "start_time": "2022-11-22T08:10:22.172Z"
   },
   {
    "duration": 403,
    "start_time": "2022-11-22T08:10:22.179Z"
   },
   {
    "duration": 4,
    "start_time": "2022-11-22T08:10:22.584Z"
   },
   {
    "duration": 109,
    "start_time": "2022-11-22T08:10:22.590Z"
   },
   {
    "duration": 134,
    "start_time": "2022-11-22T08:10:22.701Z"
   },
   {
    "duration": 22,
    "start_time": "2022-11-22T08:10:22.837Z"
   },
   {
    "duration": 172,
    "start_time": "2022-11-22T08:10:22.861Z"
   },
   {
    "duration": 6,
    "start_time": "2022-11-22T08:10:23.035Z"
   },
   {
    "duration": 25,
    "start_time": "2022-11-22T08:10:23.043Z"
   },
   {
    "duration": 12,
    "start_time": "2022-11-22T08:10:23.070Z"
   },
   {
    "duration": 36,
    "start_time": "2022-11-22T08:10:23.084Z"
   },
   {
    "duration": 16,
    "start_time": "2022-11-22T08:10:23.121Z"
   },
   {
    "duration": 26,
    "start_time": "2022-11-22T08:10:23.139Z"
   },
   {
    "duration": 15,
    "start_time": "2022-11-22T08:10:23.167Z"
   },
   {
    "duration": 1269,
    "start_time": "2022-11-22T08:11:07.267Z"
   },
   {
    "duration": 39,
    "start_time": "2022-11-22T08:11:08.538Z"
   },
   {
    "duration": 8,
    "start_time": "2022-11-22T08:11:08.579Z"
   },
   {
    "duration": 19,
    "start_time": "2022-11-22T08:11:08.590Z"
   },
   {
    "duration": 17,
    "start_time": "2022-11-22T08:11:08.611Z"
   },
   {
    "duration": 70,
    "start_time": "2022-11-22T08:11:08.629Z"
   },
   {
    "duration": 9,
    "start_time": "2022-11-22T08:11:08.701Z"
   },
   {
    "duration": 8,
    "start_time": "2022-11-22T08:11:08.711Z"
   },
   {
    "duration": 8,
    "start_time": "2022-11-22T08:11:08.721Z"
   },
   {
    "duration": 17,
    "start_time": "2022-11-22T08:11:08.732Z"
   },
   {
    "duration": 150,
    "start_time": "2022-11-22T08:11:08.751Z"
   },
   {
    "duration": 0,
    "start_time": "2022-11-22T08:11:08.913Z"
   },
   {
    "duration": 0,
    "start_time": "2022-11-22T08:11:08.915Z"
   },
   {
    "duration": 0,
    "start_time": "2022-11-22T08:11:08.916Z"
   },
   {
    "duration": 0,
    "start_time": "2022-11-22T08:11:08.918Z"
   },
   {
    "duration": 0,
    "start_time": "2022-11-22T08:11:08.920Z"
   },
   {
    "duration": 0,
    "start_time": "2022-11-22T08:11:08.921Z"
   },
   {
    "duration": 0,
    "start_time": "2022-11-22T08:11:08.923Z"
   },
   {
    "duration": 0,
    "start_time": "2022-11-22T08:11:08.925Z"
   },
   {
    "duration": 0,
    "start_time": "2022-11-22T08:11:08.926Z"
   },
   {
    "duration": 0,
    "start_time": "2022-11-22T08:11:08.928Z"
   },
   {
    "duration": 0,
    "start_time": "2022-11-22T08:11:08.930Z"
   },
   {
    "duration": 0,
    "start_time": "2022-11-22T08:11:08.932Z"
   },
   {
    "duration": 0,
    "start_time": "2022-11-22T08:11:08.933Z"
   },
   {
    "duration": 0,
    "start_time": "2022-11-22T08:11:08.935Z"
   },
   {
    "duration": 0,
    "start_time": "2022-11-22T08:11:08.937Z"
   },
   {
    "duration": 0,
    "start_time": "2022-11-22T08:11:08.938Z"
   },
   {
    "duration": 0,
    "start_time": "2022-11-22T08:11:08.940Z"
   },
   {
    "duration": 0,
    "start_time": "2022-11-22T08:11:08.941Z"
   },
   {
    "duration": 0,
    "start_time": "2022-11-22T08:11:08.943Z"
   },
   {
    "duration": 0,
    "start_time": "2022-11-22T08:11:08.944Z"
   },
   {
    "duration": 1,
    "start_time": "2022-11-22T08:11:08.946Z"
   },
   {
    "duration": 0,
    "start_time": "2022-11-22T08:11:08.948Z"
   },
   {
    "duration": 0,
    "start_time": "2022-11-22T08:11:08.949Z"
   },
   {
    "duration": 0,
    "start_time": "2022-11-22T08:11:08.951Z"
   },
   {
    "duration": 0,
    "start_time": "2022-11-22T08:11:09.011Z"
   },
   {
    "duration": 0,
    "start_time": "2022-11-22T08:11:09.013Z"
   },
   {
    "duration": 1226,
    "start_time": "2022-11-22T08:11:27.241Z"
   },
   {
    "duration": 38,
    "start_time": "2022-11-22T08:11:28.469Z"
   },
   {
    "duration": 8,
    "start_time": "2022-11-22T08:11:28.508Z"
   },
   {
    "duration": 20,
    "start_time": "2022-11-22T08:11:28.518Z"
   },
   {
    "duration": 12,
    "start_time": "2022-11-22T08:11:28.541Z"
   },
   {
    "duration": 71,
    "start_time": "2022-11-22T08:11:28.554Z"
   },
   {
    "duration": 8,
    "start_time": "2022-11-22T08:11:28.627Z"
   },
   {
    "duration": 17,
    "start_time": "2022-11-22T08:11:28.636Z"
   },
   {
    "duration": 8,
    "start_time": "2022-11-22T08:11:28.655Z"
   },
   {
    "duration": 20,
    "start_time": "2022-11-22T08:11:28.665Z"
   },
   {
    "duration": 26,
    "start_time": "2022-11-22T08:11:28.687Z"
   },
   {
    "duration": 15,
    "start_time": "2022-11-22T08:11:28.714Z"
   },
   {
    "duration": 16,
    "start_time": "2022-11-22T08:11:28.730Z"
   },
   {
    "duration": 186,
    "start_time": "2022-11-22T08:11:28.749Z"
   },
   {
    "duration": 135,
    "start_time": "2022-11-22T08:11:28.937Z"
   },
   {
    "duration": 6,
    "start_time": "2022-11-22T08:11:29.074Z"
   },
   {
    "duration": 23,
    "start_time": "2022-11-22T08:11:29.082Z"
   },
   {
    "duration": 312,
    "start_time": "2022-11-22T08:11:29.107Z"
   },
   {
    "duration": 219,
    "start_time": "2022-11-22T08:11:29.421Z"
   },
   {
    "duration": 299,
    "start_time": "2022-11-22T08:11:29.641Z"
   },
   {
    "duration": 232,
    "start_time": "2022-11-22T08:11:29.942Z"
   },
   {
    "duration": 351,
    "start_time": "2022-11-22T08:11:30.176Z"
   },
   {
    "duration": 153,
    "start_time": "2022-11-22T08:11:30.529Z"
   },
   {
    "duration": 5,
    "start_time": "2022-11-22T08:11:30.683Z"
   },
   {
    "duration": 400,
    "start_time": "2022-11-22T08:11:30.689Z"
   },
   {
    "duration": 5,
    "start_time": "2022-11-22T08:11:31.091Z"
   },
   {
    "duration": 147,
    "start_time": "2022-11-22T08:11:31.097Z"
   },
   {
    "duration": 150,
    "start_time": "2022-11-22T08:11:31.246Z"
   },
   {
    "duration": 30,
    "start_time": "2022-11-22T08:11:31.398Z"
   },
   {
    "duration": 190,
    "start_time": "2022-11-22T08:11:31.430Z"
   },
   {
    "duration": 6,
    "start_time": "2022-11-22T08:11:31.622Z"
   },
   {
    "duration": 42,
    "start_time": "2022-11-22T08:11:31.630Z"
   },
   {
    "duration": 16,
    "start_time": "2022-11-22T08:11:31.674Z"
   },
   {
    "duration": 34,
    "start_time": "2022-11-22T08:11:31.692Z"
   },
   {
    "duration": 32,
    "start_time": "2022-11-22T08:11:31.728Z"
   },
   {
    "duration": 54,
    "start_time": "2022-11-22T08:11:31.763Z"
   },
   {
    "duration": 17,
    "start_time": "2022-11-22T08:11:31.819Z"
   },
   {
    "duration": 1246,
    "start_time": "2022-11-22T08:13:07.533Z"
   },
   {
    "duration": 38,
    "start_time": "2022-11-22T08:13:08.781Z"
   },
   {
    "duration": 8,
    "start_time": "2022-11-22T08:13:08.820Z"
   },
   {
    "duration": 23,
    "start_time": "2022-11-22T08:13:08.830Z"
   },
   {
    "duration": 12,
    "start_time": "2022-11-22T08:13:08.855Z"
   },
   {
    "duration": 71,
    "start_time": "2022-11-22T08:13:08.868Z"
   },
   {
    "duration": 8,
    "start_time": "2022-11-22T08:13:08.941Z"
   },
   {
    "duration": 8,
    "start_time": "2022-11-22T08:13:08.950Z"
   },
   {
    "duration": 12,
    "start_time": "2022-11-22T08:13:08.960Z"
   },
   {
    "duration": 13,
    "start_time": "2022-11-22T08:13:08.974Z"
   },
   {
    "duration": 37,
    "start_time": "2022-11-22T08:13:08.989Z"
   },
   {
    "duration": 13,
    "start_time": "2022-11-22T08:13:09.028Z"
   },
   {
    "duration": 12,
    "start_time": "2022-11-22T08:13:09.042Z"
   },
   {
    "duration": 189,
    "start_time": "2022-11-22T08:13:09.058Z"
   },
   {
    "duration": 145,
    "start_time": "2022-11-22T08:13:09.249Z"
   },
   {
    "duration": 16,
    "start_time": "2022-11-22T08:13:09.396Z"
   },
   {
    "duration": 13,
    "start_time": "2022-11-22T08:13:09.414Z"
   },
   {
    "duration": 298,
    "start_time": "2022-11-22T08:13:09.428Z"
   },
   {
    "duration": 224,
    "start_time": "2022-11-22T08:13:09.728Z"
   },
   {
    "duration": 285,
    "start_time": "2022-11-22T08:13:09.954Z"
   },
   {
    "duration": 227,
    "start_time": "2022-11-22T08:13:10.241Z"
   },
   {
    "duration": 383,
    "start_time": "2022-11-22T08:13:10.470Z"
   },
   {
    "duration": 161,
    "start_time": "2022-11-22T08:13:10.855Z"
   },
   {
    "duration": 7,
    "start_time": "2022-11-22T08:13:11.019Z"
   },
   {
    "duration": 484,
    "start_time": "2022-11-22T08:13:11.028Z"
   },
   {
    "duration": 5,
    "start_time": "2022-11-22T08:13:11.514Z"
   },
   {
    "duration": 125,
    "start_time": "2022-11-22T08:13:11.521Z"
   },
   {
    "duration": 146,
    "start_time": "2022-11-22T08:13:11.648Z"
   },
   {
    "duration": 33,
    "start_time": "2022-11-22T08:13:11.795Z"
   },
   {
    "duration": 164,
    "start_time": "2022-11-22T08:13:11.830Z"
   },
   {
    "duration": 9,
    "start_time": "2022-11-22T08:13:11.996Z"
   },
   {
    "duration": 61,
    "start_time": "2022-11-22T08:13:12.011Z"
   },
   {
    "duration": 12,
    "start_time": "2022-11-22T08:13:12.075Z"
   },
   {
    "duration": 16,
    "start_time": "2022-11-22T08:13:12.089Z"
   },
   {
    "duration": 44,
    "start_time": "2022-11-22T08:13:12.107Z"
   },
   {
    "duration": 62,
    "start_time": "2022-11-22T08:13:12.153Z"
   },
   {
    "duration": 21,
    "start_time": "2022-11-22T08:13:12.217Z"
   },
   {
    "duration": 1246,
    "start_time": "2022-11-22T08:16:19.600Z"
   },
   {
    "duration": 38,
    "start_time": "2022-11-22T08:16:20.848Z"
   },
   {
    "duration": 11,
    "start_time": "2022-11-22T08:16:20.887Z"
   },
   {
    "duration": 22,
    "start_time": "2022-11-22T08:16:20.899Z"
   },
   {
    "duration": 16,
    "start_time": "2022-11-22T08:16:20.924Z"
   },
   {
    "duration": 64,
    "start_time": "2022-11-22T08:16:20.942Z"
   },
   {
    "duration": 8,
    "start_time": "2022-11-22T08:16:21.008Z"
   },
   {
    "duration": 11,
    "start_time": "2022-11-22T08:16:21.018Z"
   },
   {
    "duration": 13,
    "start_time": "2022-11-22T08:16:21.030Z"
   },
   {
    "duration": 15,
    "start_time": "2022-11-22T08:16:21.045Z"
   },
   {
    "duration": 323,
    "start_time": "2022-11-22T08:16:21.062Z"
   },
   {
    "duration": 0,
    "start_time": "2022-11-22T08:16:21.388Z"
   },
   {
    "duration": 0,
    "start_time": "2022-11-22T08:16:21.390Z"
   },
   {
    "duration": 0,
    "start_time": "2022-11-22T08:16:21.391Z"
   },
   {
    "duration": 0,
    "start_time": "2022-11-22T08:16:21.392Z"
   },
   {
    "duration": 0,
    "start_time": "2022-11-22T08:16:21.393Z"
   },
   {
    "duration": 0,
    "start_time": "2022-11-22T08:16:21.395Z"
   },
   {
    "duration": 0,
    "start_time": "2022-11-22T08:16:21.396Z"
   },
   {
    "duration": 0,
    "start_time": "2022-11-22T08:16:21.397Z"
   },
   {
    "duration": 0,
    "start_time": "2022-11-22T08:16:21.398Z"
   },
   {
    "duration": 0,
    "start_time": "2022-11-22T08:16:21.399Z"
   },
   {
    "duration": 1,
    "start_time": "2022-11-22T08:16:21.400Z"
   },
   {
    "duration": 0,
    "start_time": "2022-11-22T08:16:21.402Z"
   },
   {
    "duration": 0,
    "start_time": "2022-11-22T08:16:21.403Z"
   },
   {
    "duration": 0,
    "start_time": "2022-11-22T08:16:21.404Z"
   },
   {
    "duration": 0,
    "start_time": "2022-11-22T08:16:21.405Z"
   },
   {
    "duration": 0,
    "start_time": "2022-11-22T08:16:21.406Z"
   },
   {
    "duration": 0,
    "start_time": "2022-11-22T08:16:21.407Z"
   },
   {
    "duration": 0,
    "start_time": "2022-11-22T08:16:21.408Z"
   },
   {
    "duration": 0,
    "start_time": "2022-11-22T08:16:21.410Z"
   },
   {
    "duration": 0,
    "start_time": "2022-11-22T08:16:21.411Z"
   },
   {
    "duration": 0,
    "start_time": "2022-11-22T08:16:21.411Z"
   },
   {
    "duration": 0,
    "start_time": "2022-11-22T08:16:21.413Z"
   },
   {
    "duration": 0,
    "start_time": "2022-11-22T08:16:21.414Z"
   },
   {
    "duration": 0,
    "start_time": "2022-11-22T08:16:21.415Z"
   },
   {
    "duration": 0,
    "start_time": "2022-11-22T08:16:21.416Z"
   },
   {
    "duration": 0,
    "start_time": "2022-11-22T08:16:21.417Z"
   },
   {
    "duration": 1165,
    "start_time": "2022-11-22T08:16:40.077Z"
   },
   {
    "duration": 38,
    "start_time": "2022-11-22T08:16:41.244Z"
   },
   {
    "duration": 9,
    "start_time": "2022-11-22T08:16:41.283Z"
   },
   {
    "duration": 20,
    "start_time": "2022-11-22T08:16:41.293Z"
   },
   {
    "duration": 14,
    "start_time": "2022-11-22T08:16:41.314Z"
   },
   {
    "duration": 64,
    "start_time": "2022-11-22T08:16:41.330Z"
   },
   {
    "duration": 8,
    "start_time": "2022-11-22T08:16:41.396Z"
   },
   {
    "duration": 11,
    "start_time": "2022-11-22T08:16:41.406Z"
   },
   {
    "duration": 8,
    "start_time": "2022-11-22T08:16:41.418Z"
   },
   {
    "duration": 15,
    "start_time": "2022-11-22T08:16:41.429Z"
   },
   {
    "duration": 18,
    "start_time": "2022-11-22T08:16:41.446Z"
   },
   {
    "duration": 12,
    "start_time": "2022-11-22T08:16:41.466Z"
   },
   {
    "duration": 34,
    "start_time": "2022-11-22T08:16:41.480Z"
   },
   {
    "duration": 178,
    "start_time": "2022-11-22T08:16:41.515Z"
   },
   {
    "duration": 146,
    "start_time": "2022-11-22T08:16:41.695Z"
   },
   {
    "duration": 8,
    "start_time": "2022-11-22T08:16:41.843Z"
   },
   {
    "duration": 10,
    "start_time": "2022-11-22T08:16:41.852Z"
   },
   {
    "duration": 305,
    "start_time": "2022-11-22T08:16:41.863Z"
   },
   {
    "duration": 226,
    "start_time": "2022-11-22T08:16:42.171Z"
   },
   {
    "duration": 342,
    "start_time": "2022-11-22T08:16:42.399Z"
   },
   {
    "duration": 215,
    "start_time": "2022-11-22T08:16:42.743Z"
   },
   {
    "duration": 295,
    "start_time": "2022-11-22T08:16:42.959Z"
   },
   {
    "duration": 144,
    "start_time": "2022-11-22T08:16:43.256Z"
   },
   {
    "duration": 4,
    "start_time": "2022-11-22T08:16:43.402Z"
   },
   {
    "duration": 365,
    "start_time": "2022-11-22T08:16:43.412Z"
   },
   {
    "duration": 4,
    "start_time": "2022-11-22T08:16:43.779Z"
   },
   {
    "duration": 103,
    "start_time": "2022-11-22T08:16:43.784Z"
   },
   {
    "duration": 127,
    "start_time": "2022-11-22T08:16:43.890Z"
   },
   {
    "duration": 21,
    "start_time": "2022-11-22T08:16:44.018Z"
   },
   {
    "duration": 171,
    "start_time": "2022-11-22T08:16:44.041Z"
   },
   {
    "duration": 6,
    "start_time": "2022-11-22T08:16:44.214Z"
   },
   {
    "duration": 26,
    "start_time": "2022-11-22T08:16:44.222Z"
   },
   {
    "duration": 11,
    "start_time": "2022-11-22T08:16:44.250Z"
   },
   {
    "duration": 11,
    "start_time": "2022-11-22T08:16:44.263Z"
   },
   {
    "duration": 40,
    "start_time": "2022-11-22T08:16:44.276Z"
   },
   {
    "duration": 27,
    "start_time": "2022-11-22T08:16:44.318Z"
   },
   {
    "duration": 18,
    "start_time": "2022-11-22T08:16:44.347Z"
   },
   {
    "duration": 1143,
    "start_time": "2022-11-22T08:17:30.099Z"
   },
   {
    "duration": 37,
    "start_time": "2022-11-22T08:17:31.244Z"
   },
   {
    "duration": 8,
    "start_time": "2022-11-22T08:17:31.282Z"
   },
   {
    "duration": 17,
    "start_time": "2022-11-22T08:17:31.292Z"
   },
   {
    "duration": 12,
    "start_time": "2022-11-22T08:17:31.312Z"
   },
   {
    "duration": 67,
    "start_time": "2022-11-22T08:17:31.326Z"
   },
   {
    "duration": 8,
    "start_time": "2022-11-22T08:17:31.394Z"
   },
   {
    "duration": 10,
    "start_time": "2022-11-22T08:17:31.403Z"
   },
   {
    "duration": 10,
    "start_time": "2022-11-22T08:17:31.414Z"
   },
   {
    "duration": 18,
    "start_time": "2022-11-22T08:17:31.425Z"
   },
   {
    "duration": 18,
    "start_time": "2022-11-22T08:17:31.444Z"
   },
   {
    "duration": 28,
    "start_time": "2022-11-22T08:17:31.463Z"
   },
   {
    "duration": 8,
    "start_time": "2022-11-22T08:17:31.492Z"
   },
   {
    "duration": 157,
    "start_time": "2022-11-22T08:17:31.503Z"
   },
   {
    "duration": 126,
    "start_time": "2022-11-22T08:17:31.662Z"
   },
   {
    "duration": 6,
    "start_time": "2022-11-22T08:17:31.790Z"
   },
   {
    "duration": 17,
    "start_time": "2022-11-22T08:17:31.798Z"
   },
   {
    "duration": 286,
    "start_time": "2022-11-22T08:17:31.816Z"
   },
   {
    "duration": 237,
    "start_time": "2022-11-22T08:17:32.103Z"
   },
   {
    "duration": 287,
    "start_time": "2022-11-22T08:17:32.342Z"
   },
   {
    "duration": 210,
    "start_time": "2022-11-22T08:17:32.630Z"
   },
   {
    "duration": 290,
    "start_time": "2022-11-22T08:17:32.842Z"
   },
   {
    "duration": 146,
    "start_time": "2022-11-22T08:17:33.134Z"
   },
   {
    "duration": 4,
    "start_time": "2022-11-22T08:17:33.282Z"
   },
   {
    "duration": 372,
    "start_time": "2022-11-22T08:17:33.288Z"
   },
   {
    "duration": 4,
    "start_time": "2022-11-22T08:17:33.662Z"
   },
   {
    "duration": 110,
    "start_time": "2022-11-22T08:17:33.668Z"
   },
   {
    "duration": 122,
    "start_time": "2022-11-22T08:17:33.780Z"
   },
   {
    "duration": 27,
    "start_time": "2022-11-22T08:17:33.904Z"
   },
   {
    "duration": 140,
    "start_time": "2022-11-22T08:17:33.933Z"
   },
   {
    "duration": 6,
    "start_time": "2022-11-22T08:17:34.075Z"
   },
   {
    "duration": 37,
    "start_time": "2022-11-22T08:17:34.082Z"
   },
   {
    "duration": 10,
    "start_time": "2022-11-22T08:17:34.121Z"
   },
   {
    "duration": 10,
    "start_time": "2022-11-22T08:17:34.133Z"
   },
   {
    "duration": 7,
    "start_time": "2022-11-22T08:17:34.145Z"
   },
   {
    "duration": 27,
    "start_time": "2022-11-22T08:17:34.154Z"
   },
   {
    "duration": 14,
    "start_time": "2022-11-22T08:17:34.212Z"
   },
   {
    "duration": 1150,
    "start_time": "2022-11-22T08:19:12.660Z"
   },
   {
    "duration": 35,
    "start_time": "2022-11-22T08:19:13.812Z"
   },
   {
    "duration": 7,
    "start_time": "2022-11-22T08:19:13.849Z"
   },
   {
    "duration": 20,
    "start_time": "2022-11-22T08:19:13.858Z"
   },
   {
    "duration": 13,
    "start_time": "2022-11-22T08:19:13.880Z"
   },
   {
    "duration": 71,
    "start_time": "2022-11-22T08:19:13.895Z"
   },
   {
    "duration": 11,
    "start_time": "2022-11-22T08:19:13.968Z"
   },
   {
    "duration": 11,
    "start_time": "2022-11-22T08:19:13.981Z"
   },
   {
    "duration": 7,
    "start_time": "2022-11-22T08:19:13.994Z"
   },
   {
    "duration": 17,
    "start_time": "2022-11-22T08:19:14.003Z"
   },
   {
    "duration": 17,
    "start_time": "2022-11-22T08:19:14.022Z"
   },
   {
    "duration": 12,
    "start_time": "2022-11-22T08:19:14.041Z"
   },
   {
    "duration": 14,
    "start_time": "2022-11-22T08:19:14.054Z"
   },
   {
    "duration": 202,
    "start_time": "2022-11-22T08:19:14.072Z"
   },
   {
    "duration": 147,
    "start_time": "2022-11-22T08:19:14.276Z"
   },
   {
    "duration": 7,
    "start_time": "2022-11-22T08:19:14.425Z"
   },
   {
    "duration": 11,
    "start_time": "2022-11-22T08:19:14.434Z"
   },
   {
    "duration": 300,
    "start_time": "2022-11-22T08:19:14.447Z"
   },
   {
    "duration": 236,
    "start_time": "2022-11-22T08:19:14.748Z"
   },
   {
    "duration": 348,
    "start_time": "2022-11-22T08:19:14.986Z"
   },
   {
    "duration": 223,
    "start_time": "2022-11-22T08:19:15.336Z"
   },
   {
    "duration": 284,
    "start_time": "2022-11-22T08:19:15.561Z"
   },
   {
    "duration": 135,
    "start_time": "2022-11-22T08:19:15.847Z"
   },
   {
    "duration": 4,
    "start_time": "2022-11-22T08:19:15.983Z"
   },
   {
    "duration": 414,
    "start_time": "2022-11-22T08:19:15.989Z"
   },
   {
    "duration": 9,
    "start_time": "2022-11-22T08:19:16.405Z"
   },
   {
    "duration": 128,
    "start_time": "2022-11-22T08:19:16.415Z"
   },
   {
    "duration": 149,
    "start_time": "2022-11-22T08:19:16.545Z"
   },
   {
    "duration": 29,
    "start_time": "2022-11-22T08:19:16.696Z"
   },
   {
    "duration": 142,
    "start_time": "2022-11-22T08:19:16.726Z"
   },
   {
    "duration": 7,
    "start_time": "2022-11-22T08:19:16.869Z"
   },
   {
    "duration": 35,
    "start_time": "2022-11-22T08:19:16.878Z"
   },
   {
    "duration": 11,
    "start_time": "2022-11-22T08:19:16.915Z"
   },
   {
    "duration": 10,
    "start_time": "2022-11-22T08:19:16.928Z"
   },
   {
    "duration": 15,
    "start_time": "2022-11-22T08:19:16.939Z"
   },
   {
    "duration": 27,
    "start_time": "2022-11-22T08:19:16.955Z"
   },
   {
    "duration": 36,
    "start_time": "2022-11-22T08:19:16.984Z"
   },
   {
    "duration": 1197,
    "start_time": "2022-11-22T08:21:28.541Z"
   },
   {
    "duration": 41,
    "start_time": "2022-11-22T08:21:29.740Z"
   },
   {
    "duration": 8,
    "start_time": "2022-11-22T08:21:29.783Z"
   },
   {
    "duration": 17,
    "start_time": "2022-11-22T08:21:29.792Z"
   },
   {
    "duration": 13,
    "start_time": "2022-11-22T08:21:29.811Z"
   },
   {
    "duration": 68,
    "start_time": "2022-11-22T08:21:29.825Z"
   },
   {
    "duration": 9,
    "start_time": "2022-11-22T08:21:29.895Z"
   },
   {
    "duration": 11,
    "start_time": "2022-11-22T08:21:29.905Z"
   },
   {
    "duration": 10,
    "start_time": "2022-11-22T08:21:29.918Z"
   },
   {
    "duration": 15,
    "start_time": "2022-11-22T08:21:29.930Z"
   },
   {
    "duration": 18,
    "start_time": "2022-11-22T08:21:29.947Z"
   },
   {
    "duration": 20,
    "start_time": "2022-11-22T08:21:29.967Z"
   },
   {
    "duration": 7,
    "start_time": "2022-11-22T08:21:30.011Z"
   },
   {
    "duration": 200,
    "start_time": "2022-11-22T08:21:30.021Z"
   },
   {
    "duration": 156,
    "start_time": "2022-11-22T08:21:30.223Z"
   },
   {
    "duration": 8,
    "start_time": "2022-11-22T08:21:30.380Z"
   },
   {
    "duration": 49,
    "start_time": "2022-11-22T08:21:30.389Z"
   },
   {
    "duration": 315,
    "start_time": "2022-11-22T08:21:30.440Z"
   },
   {
    "duration": 245,
    "start_time": "2022-11-22T08:21:30.757Z"
   },
   {
    "duration": 325,
    "start_time": "2022-11-22T08:21:31.004Z"
   },
   {
    "duration": 237,
    "start_time": "2022-11-22T08:21:31.331Z"
   },
   {
    "duration": 326,
    "start_time": "2022-11-22T08:21:31.570Z"
   },
   {
    "duration": 160,
    "start_time": "2022-11-22T08:21:31.898Z"
   },
   {
    "duration": 5,
    "start_time": "2022-11-22T08:21:32.059Z"
   },
   {
    "duration": 427,
    "start_time": "2022-11-22T08:21:32.066Z"
   },
   {
    "duration": 5,
    "start_time": "2022-11-22T08:21:32.495Z"
   },
   {
    "duration": 118,
    "start_time": "2022-11-22T08:21:32.511Z"
   },
   {
    "duration": 124,
    "start_time": "2022-11-22T08:21:32.631Z"
   },
   {
    "duration": 21,
    "start_time": "2022-11-22T08:21:32.757Z"
   },
   {
    "duration": 185,
    "start_time": "2022-11-22T08:21:32.779Z"
   },
   {
    "duration": 8,
    "start_time": "2022-11-22T08:21:32.966Z"
   },
   {
    "duration": 26,
    "start_time": "2022-11-22T08:21:32.975Z"
   },
   {
    "duration": 13,
    "start_time": "2022-11-22T08:21:33.012Z"
   },
   {
    "duration": 12,
    "start_time": "2022-11-22T08:21:33.027Z"
   },
   {
    "duration": 19,
    "start_time": "2022-11-22T08:21:33.041Z"
   },
   {
    "duration": 28,
    "start_time": "2022-11-22T08:21:33.063Z"
   },
   {
    "duration": 15,
    "start_time": "2022-11-22T08:21:33.112Z"
   },
   {
    "duration": 1194,
    "start_time": "2022-11-22T08:22:38.176Z"
   },
   {
    "duration": 41,
    "start_time": "2022-11-22T08:22:39.373Z"
   },
   {
    "duration": 9,
    "start_time": "2022-11-22T08:22:39.415Z"
   },
   {
    "duration": 34,
    "start_time": "2022-11-22T08:22:39.425Z"
   },
   {
    "duration": 23,
    "start_time": "2022-11-22T08:22:39.461Z"
   },
   {
    "duration": 85,
    "start_time": "2022-11-22T08:22:39.485Z"
   },
   {
    "duration": 7,
    "start_time": "2022-11-22T08:22:39.572Z"
   },
   {
    "duration": 23,
    "start_time": "2022-11-22T08:22:39.581Z"
   },
   {
    "duration": 18,
    "start_time": "2022-11-22T08:22:39.606Z"
   },
   {
    "duration": 29,
    "start_time": "2022-11-22T08:22:39.626Z"
   },
   {
    "duration": 53,
    "start_time": "2022-11-22T08:22:39.657Z"
   },
   {
    "duration": 43,
    "start_time": "2022-11-22T08:22:39.711Z"
   },
   {
    "duration": 23,
    "start_time": "2022-11-22T08:22:39.755Z"
   },
   {
    "duration": 281,
    "start_time": "2022-11-22T08:22:39.782Z"
   },
   {
    "duration": 160,
    "start_time": "2022-11-22T08:22:40.065Z"
   },
   {
    "duration": 7,
    "start_time": "2022-11-22T08:22:40.227Z"
   },
   {
    "duration": 35,
    "start_time": "2022-11-22T08:22:40.236Z"
   },
   {
    "duration": 299,
    "start_time": "2022-11-22T08:22:40.273Z"
   },
   {
    "duration": 229,
    "start_time": "2022-11-22T08:22:40.574Z"
   },
   {
    "duration": 322,
    "start_time": "2022-11-22T08:22:40.805Z"
   },
   {
    "duration": 216,
    "start_time": "2022-11-22T08:22:41.128Z"
   },
   {
    "duration": 296,
    "start_time": "2022-11-22T08:22:41.346Z"
   },
   {
    "duration": 151,
    "start_time": "2022-11-22T08:22:41.644Z"
   },
   {
    "duration": 5,
    "start_time": "2022-11-22T08:22:41.797Z"
   },
   {
    "duration": 401,
    "start_time": "2022-11-22T08:22:41.811Z"
   },
   {
    "duration": 7,
    "start_time": "2022-11-22T08:22:42.215Z"
   },
   {
    "duration": 108,
    "start_time": "2022-11-22T08:22:42.224Z"
   },
   {
    "duration": 133,
    "start_time": "2022-11-22T08:22:42.335Z"
   },
   {
    "duration": 23,
    "start_time": "2022-11-22T08:22:42.469Z"
   },
   {
    "duration": 160,
    "start_time": "2022-11-22T08:22:42.494Z"
   },
   {
    "duration": 7,
    "start_time": "2022-11-22T08:22:42.655Z"
   },
   {
    "duration": 25,
    "start_time": "2022-11-22T08:22:42.664Z"
   },
   {
    "duration": 31,
    "start_time": "2022-11-22T08:22:42.691Z"
   },
   {
    "duration": 24,
    "start_time": "2022-11-22T08:22:42.724Z"
   },
   {
    "duration": 39,
    "start_time": "2022-11-22T08:22:42.750Z"
   },
   {
    "duration": 53,
    "start_time": "2022-11-22T08:22:42.791Z"
   },
   {
    "duration": 17,
    "start_time": "2022-11-22T08:22:42.846Z"
   },
   {
    "duration": 1157,
    "start_time": "2022-11-22T08:23:11.673Z"
   },
   {
    "duration": 38,
    "start_time": "2022-11-22T08:23:12.832Z"
   },
   {
    "duration": 8,
    "start_time": "2022-11-22T08:23:12.871Z"
   },
   {
    "duration": 15,
    "start_time": "2022-11-22T08:23:12.881Z"
   },
   {
    "duration": 11,
    "start_time": "2022-11-22T08:23:12.898Z"
   },
   {
    "duration": 64,
    "start_time": "2022-11-22T08:23:12.912Z"
   },
   {
    "duration": 8,
    "start_time": "2022-11-22T08:23:12.979Z"
   },
   {
    "duration": 12,
    "start_time": "2022-11-22T08:23:12.989Z"
   },
   {
    "duration": 10,
    "start_time": "2022-11-22T08:23:13.002Z"
   },
   {
    "duration": 15,
    "start_time": "2022-11-22T08:23:13.013Z"
   },
   {
    "duration": 29,
    "start_time": "2022-11-22T08:23:13.029Z"
   },
   {
    "duration": 12,
    "start_time": "2022-11-22T08:23:13.060Z"
   },
   {
    "duration": 9,
    "start_time": "2022-11-22T08:23:13.074Z"
   },
   {
    "duration": 193,
    "start_time": "2022-11-22T08:23:13.086Z"
   },
   {
    "duration": 135,
    "start_time": "2022-11-22T08:23:13.281Z"
   },
   {
    "duration": 7,
    "start_time": "2022-11-22T08:23:13.418Z"
   },
   {
    "duration": 30,
    "start_time": "2022-11-22T08:23:13.426Z"
   },
   {
    "duration": 281,
    "start_time": "2022-11-22T08:23:13.458Z"
   },
   {
    "duration": 226,
    "start_time": "2022-11-22T08:23:13.741Z"
   },
   {
    "duration": 337,
    "start_time": "2022-11-22T08:23:13.969Z"
   },
   {
    "duration": 225,
    "start_time": "2022-11-22T08:23:14.311Z"
   },
   {
    "duration": 298,
    "start_time": "2022-11-22T08:23:14.538Z"
   },
   {
    "duration": 157,
    "start_time": "2022-11-22T08:23:14.838Z"
   },
   {
    "duration": 5,
    "start_time": "2022-11-22T08:23:14.997Z"
   },
   {
    "duration": 396,
    "start_time": "2022-11-22T08:23:15.013Z"
   },
   {
    "duration": 4,
    "start_time": "2022-11-22T08:23:15.412Z"
   },
   {
    "duration": 113,
    "start_time": "2022-11-22T08:23:15.418Z"
   },
   {
    "duration": 129,
    "start_time": "2022-11-22T08:23:15.532Z"
   },
   {
    "duration": 22,
    "start_time": "2022-11-22T08:23:15.663Z"
   },
   {
    "duration": 173,
    "start_time": "2022-11-22T08:23:15.687Z"
   },
   {
    "duration": 7,
    "start_time": "2022-11-22T08:23:15.862Z"
   },
   {
    "duration": 39,
    "start_time": "2022-11-22T08:23:15.871Z"
   },
   {
    "duration": 13,
    "start_time": "2022-11-22T08:23:15.912Z"
   },
   {
    "duration": 11,
    "start_time": "2022-11-22T08:23:15.927Z"
   },
   {
    "duration": 10,
    "start_time": "2022-11-22T08:23:15.940Z"
   },
   {
    "duration": 24,
    "start_time": "2022-11-22T08:23:15.952Z"
   },
   {
    "duration": 16,
    "start_time": "2022-11-22T08:23:16.013Z"
   },
   {
    "duration": 1276,
    "start_time": "2022-11-22T08:25:31.753Z"
   },
   {
    "duration": 39,
    "start_time": "2022-11-22T08:25:33.031Z"
   },
   {
    "duration": 12,
    "start_time": "2022-11-22T08:25:33.072Z"
   },
   {
    "duration": 21,
    "start_time": "2022-11-22T08:25:33.087Z"
   },
   {
    "duration": 15,
    "start_time": "2022-11-22T08:25:33.110Z"
   },
   {
    "duration": 73,
    "start_time": "2022-11-22T08:25:33.127Z"
   },
   {
    "duration": 9,
    "start_time": "2022-11-22T08:25:33.202Z"
   },
   {
    "duration": 13,
    "start_time": "2022-11-22T08:25:33.213Z"
   },
   {
    "duration": 9,
    "start_time": "2022-11-22T08:25:33.228Z"
   },
   {
    "duration": 21,
    "start_time": "2022-11-22T08:25:33.241Z"
   },
   {
    "duration": 127,
    "start_time": "2022-11-22T08:25:33.263Z"
   },
   {
    "duration": 0,
    "start_time": "2022-11-22T08:25:33.393Z"
   },
   {
    "duration": 0,
    "start_time": "2022-11-22T08:25:33.395Z"
   },
   {
    "duration": 0,
    "start_time": "2022-11-22T08:25:33.395Z"
   },
   {
    "duration": 0,
    "start_time": "2022-11-22T08:25:33.397Z"
   },
   {
    "duration": 0,
    "start_time": "2022-11-22T08:25:33.398Z"
   },
   {
    "duration": 0,
    "start_time": "2022-11-22T08:25:33.412Z"
   },
   {
    "duration": 0,
    "start_time": "2022-11-22T08:25:33.413Z"
   },
   {
    "duration": 0,
    "start_time": "2022-11-22T08:25:33.414Z"
   },
   {
    "duration": 0,
    "start_time": "2022-11-22T08:25:33.416Z"
   },
   {
    "duration": 0,
    "start_time": "2022-11-22T08:25:33.417Z"
   },
   {
    "duration": 0,
    "start_time": "2022-11-22T08:25:33.418Z"
   },
   {
    "duration": 0,
    "start_time": "2022-11-22T08:25:33.419Z"
   },
   {
    "duration": 0,
    "start_time": "2022-11-22T08:25:33.420Z"
   },
   {
    "duration": 1,
    "start_time": "2022-11-22T08:25:33.421Z"
   },
   {
    "duration": 0,
    "start_time": "2022-11-22T08:25:33.423Z"
   },
   {
    "duration": 0,
    "start_time": "2022-11-22T08:25:33.424Z"
   },
   {
    "duration": 0,
    "start_time": "2022-11-22T08:25:33.425Z"
   },
   {
    "duration": 0,
    "start_time": "2022-11-22T08:25:33.426Z"
   },
   {
    "duration": 0,
    "start_time": "2022-11-22T08:25:33.427Z"
   },
   {
    "duration": 0,
    "start_time": "2022-11-22T08:25:33.428Z"
   },
   {
    "duration": 0,
    "start_time": "2022-11-22T08:25:33.430Z"
   },
   {
    "duration": 0,
    "start_time": "2022-11-22T08:25:33.431Z"
   },
   {
    "duration": 0,
    "start_time": "2022-11-22T08:25:33.432Z"
   },
   {
    "duration": 0,
    "start_time": "2022-11-22T08:25:33.433Z"
   },
   {
    "duration": 0,
    "start_time": "2022-11-22T08:25:33.434Z"
   },
   {
    "duration": 0,
    "start_time": "2022-11-22T08:25:33.435Z"
   },
   {
    "duration": 1209,
    "start_time": "2022-11-22T08:25:53.923Z"
   },
   {
    "duration": 37,
    "start_time": "2022-11-22T08:25:55.134Z"
   },
   {
    "duration": 8,
    "start_time": "2022-11-22T08:25:55.173Z"
   },
   {
    "duration": 22,
    "start_time": "2022-11-22T08:25:55.182Z"
   },
   {
    "duration": 11,
    "start_time": "2022-11-22T08:25:55.206Z"
   },
   {
    "duration": 76,
    "start_time": "2022-11-22T08:25:55.219Z"
   },
   {
    "duration": 8,
    "start_time": "2022-11-22T08:25:55.296Z"
   },
   {
    "duration": 35,
    "start_time": "2022-11-22T08:25:55.306Z"
   },
   {
    "duration": 19,
    "start_time": "2022-11-22T08:25:55.343Z"
   },
   {
    "duration": 21,
    "start_time": "2022-11-22T08:25:55.364Z"
   },
   {
    "duration": 36,
    "start_time": "2022-11-22T08:25:55.387Z"
   },
   {
    "duration": 15,
    "start_time": "2022-11-22T08:25:55.425Z"
   },
   {
    "duration": 21,
    "start_time": "2022-11-22T08:25:55.442Z"
   },
   {
    "duration": 184,
    "start_time": "2022-11-22T08:25:55.467Z"
   },
   {
    "duration": 134,
    "start_time": "2022-11-22T08:25:55.653Z"
   },
   {
    "duration": 7,
    "start_time": "2022-11-22T08:25:55.789Z"
   },
   {
    "duration": 30,
    "start_time": "2022-11-22T08:25:55.798Z"
   },
   {
    "duration": 289,
    "start_time": "2022-11-22T08:25:55.829Z"
   },
   {
    "duration": 238,
    "start_time": "2022-11-22T08:25:56.120Z"
   },
   {
    "duration": 340,
    "start_time": "2022-11-22T08:25:56.360Z"
   },
   {
    "duration": 214,
    "start_time": "2022-11-22T08:25:56.702Z"
   },
   {
    "duration": 309,
    "start_time": "2022-11-22T08:25:56.918Z"
   },
   {
    "duration": 145,
    "start_time": "2022-11-22T08:25:57.229Z"
   },
   {
    "duration": 5,
    "start_time": "2022-11-22T08:25:57.376Z"
   },
   {
    "duration": 382,
    "start_time": "2022-11-22T08:25:57.383Z"
   },
   {
    "duration": 4,
    "start_time": "2022-11-22T08:25:57.767Z"
   },
   {
    "duration": 122,
    "start_time": "2022-11-22T08:25:57.773Z"
   },
   {
    "duration": 144,
    "start_time": "2022-11-22T08:25:57.897Z"
   },
   {
    "duration": 25,
    "start_time": "2022-11-22T08:25:58.043Z"
   },
   {
    "duration": 146,
    "start_time": "2022-11-22T08:25:58.070Z"
   },
   {
    "duration": 8,
    "start_time": "2022-11-22T08:25:58.218Z"
   },
   {
    "duration": 26,
    "start_time": "2022-11-22T08:25:58.227Z"
   },
   {
    "duration": 11,
    "start_time": "2022-11-22T08:25:58.254Z"
   },
   {
    "duration": 9,
    "start_time": "2022-11-22T08:25:58.267Z"
   },
   {
    "duration": 37,
    "start_time": "2022-11-22T08:25:58.278Z"
   },
   {
    "duration": 24,
    "start_time": "2022-11-22T08:25:58.317Z"
   },
   {
    "duration": 15,
    "start_time": "2022-11-22T08:25:58.343Z"
   },
   {
    "duration": 1207,
    "start_time": "2022-11-22T08:27:18.352Z"
   },
   {
    "duration": 38,
    "start_time": "2022-11-22T08:27:19.561Z"
   },
   {
    "duration": 9,
    "start_time": "2022-11-22T08:27:19.600Z"
   },
   {
    "duration": 45,
    "start_time": "2022-11-22T08:27:19.611Z"
   },
   {
    "duration": 14,
    "start_time": "2022-11-22T08:27:19.658Z"
   },
   {
    "duration": 81,
    "start_time": "2022-11-22T08:27:19.673Z"
   },
   {
    "duration": 9,
    "start_time": "2022-11-22T08:27:19.756Z"
   },
   {
    "duration": 16,
    "start_time": "2022-11-22T08:27:19.766Z"
   },
   {
    "duration": 9,
    "start_time": "2022-11-22T08:27:19.784Z"
   },
   {
    "duration": 17,
    "start_time": "2022-11-22T08:27:19.795Z"
   },
   {
    "duration": 25,
    "start_time": "2022-11-22T08:27:19.814Z"
   },
   {
    "duration": 12,
    "start_time": "2022-11-22T08:27:19.841Z"
   },
   {
    "duration": 11,
    "start_time": "2022-11-22T08:27:19.855Z"
   },
   {
    "duration": 201,
    "start_time": "2022-11-22T08:27:19.869Z"
   },
   {
    "duration": 149,
    "start_time": "2022-11-22T08:27:20.072Z"
   },
   {
    "duration": 7,
    "start_time": "2022-11-22T08:27:20.223Z"
   },
   {
    "duration": 18,
    "start_time": "2022-11-22T08:27:20.231Z"
   },
   {
    "duration": 309,
    "start_time": "2022-11-22T08:27:20.251Z"
   },
   {
    "duration": 222,
    "start_time": "2022-11-22T08:27:20.562Z"
   },
   {
    "duration": 335,
    "start_time": "2022-11-22T08:27:20.786Z"
   },
   {
    "duration": 217,
    "start_time": "2022-11-22T08:27:21.122Z"
   },
   {
    "duration": 312,
    "start_time": "2022-11-22T08:27:21.341Z"
   },
   {
    "duration": 150,
    "start_time": "2022-11-22T08:27:21.655Z"
   },
   {
    "duration": 5,
    "start_time": "2022-11-22T08:27:21.812Z"
   },
   {
    "duration": 383,
    "start_time": "2022-11-22T08:27:21.818Z"
   },
   {
    "duration": 11,
    "start_time": "2022-11-22T08:27:22.203Z"
   },
   {
    "duration": 106,
    "start_time": "2022-11-22T08:27:22.216Z"
   },
   {
    "duration": 133,
    "start_time": "2022-11-22T08:27:22.324Z"
   },
   {
    "duration": 23,
    "start_time": "2022-11-22T08:27:22.459Z"
   },
   {
    "duration": 154,
    "start_time": "2022-11-22T08:27:22.484Z"
   },
   {
    "duration": 7,
    "start_time": "2022-11-22T08:27:22.640Z"
   },
   {
    "duration": 32,
    "start_time": "2022-11-22T08:27:22.649Z"
   },
   {
    "duration": 11,
    "start_time": "2022-11-22T08:27:22.683Z"
   },
   {
    "duration": 24,
    "start_time": "2022-11-22T08:27:22.696Z"
   },
   {
    "duration": 12,
    "start_time": "2022-11-22T08:27:22.722Z"
   },
   {
    "duration": 30,
    "start_time": "2022-11-22T08:27:22.735Z"
   },
   {
    "duration": 14,
    "start_time": "2022-11-22T08:27:22.767Z"
   },
   {
    "duration": 1261,
    "start_time": "2022-11-22T08:28:06.975Z"
   },
   {
    "duration": 40,
    "start_time": "2022-11-22T08:28:08.239Z"
   },
   {
    "duration": 8,
    "start_time": "2022-11-22T08:28:08.281Z"
   },
   {
    "duration": 40,
    "start_time": "2022-11-22T08:28:08.291Z"
   },
   {
    "duration": 22,
    "start_time": "2022-11-22T08:28:08.333Z"
   },
   {
    "duration": 71,
    "start_time": "2022-11-22T08:28:08.357Z"
   },
   {
    "duration": 9,
    "start_time": "2022-11-22T08:28:08.430Z"
   },
   {
    "duration": 12,
    "start_time": "2022-11-22T08:28:08.441Z"
   },
   {
    "duration": 28,
    "start_time": "2022-11-22T08:28:08.454Z"
   },
   {
    "duration": 25,
    "start_time": "2022-11-22T08:28:08.483Z"
   },
   {
    "duration": 25,
    "start_time": "2022-11-22T08:28:08.510Z"
   },
   {
    "duration": 14,
    "start_time": "2022-11-22T08:28:08.536Z"
   },
   {
    "duration": 14,
    "start_time": "2022-11-22T08:28:08.552Z"
   },
   {
    "duration": 197,
    "start_time": "2022-11-22T08:28:08.569Z"
   },
   {
    "duration": 126,
    "start_time": "2022-11-22T08:28:08.768Z"
   },
   {
    "duration": 17,
    "start_time": "2022-11-22T08:28:08.896Z"
   },
   {
    "duration": 27,
    "start_time": "2022-11-22T08:28:08.915Z"
   },
   {
    "duration": 314,
    "start_time": "2022-11-22T08:28:08.944Z"
   },
   {
    "duration": 231,
    "start_time": "2022-11-22T08:28:09.261Z"
   },
   {
    "duration": 334,
    "start_time": "2022-11-22T08:28:09.494Z"
   },
   {
    "duration": 210,
    "start_time": "2022-11-22T08:28:09.830Z"
   },
   {
    "duration": 306,
    "start_time": "2022-11-22T08:28:10.042Z"
   },
   {
    "duration": 147,
    "start_time": "2022-11-22T08:28:10.349Z"
   },
   {
    "duration": 4,
    "start_time": "2022-11-22T08:28:10.498Z"
   },
   {
    "duration": 387,
    "start_time": "2022-11-22T08:28:10.512Z"
   },
   {
    "duration": 14,
    "start_time": "2022-11-22T08:28:10.901Z"
   },
   {
    "duration": 108,
    "start_time": "2022-11-22T08:28:10.916Z"
   },
   {
    "duration": 129,
    "start_time": "2022-11-22T08:28:11.026Z"
   },
   {
    "duration": 22,
    "start_time": "2022-11-22T08:28:11.157Z"
   },
   {
    "duration": 155,
    "start_time": "2022-11-22T08:28:11.180Z"
   },
   {
    "duration": 6,
    "start_time": "2022-11-22T08:28:11.338Z"
   },
   {
    "duration": 27,
    "start_time": "2022-11-22T08:28:11.345Z"
   },
   {
    "duration": 10,
    "start_time": "2022-11-22T08:28:11.374Z"
   },
   {
    "duration": 33,
    "start_time": "2022-11-22T08:28:11.386Z"
   },
   {
    "duration": 16,
    "start_time": "2022-11-22T08:28:11.421Z"
   },
   {
    "duration": 27,
    "start_time": "2022-11-22T08:28:11.439Z"
   },
   {
    "duration": 15,
    "start_time": "2022-11-22T08:28:11.468Z"
   },
   {
    "duration": 1254,
    "start_time": "2022-11-22T08:28:24.085Z"
   },
   {
    "duration": 38,
    "start_time": "2022-11-22T08:28:25.341Z"
   },
   {
    "duration": 8,
    "start_time": "2022-11-22T08:28:25.381Z"
   },
   {
    "duration": 14,
    "start_time": "2022-11-22T08:28:25.391Z"
   },
   {
    "duration": 13,
    "start_time": "2022-11-22T08:28:25.408Z"
   },
   {
    "duration": 67,
    "start_time": "2022-11-22T08:28:25.423Z"
   },
   {
    "duration": 8,
    "start_time": "2022-11-22T08:28:25.492Z"
   },
   {
    "duration": 9,
    "start_time": "2022-11-22T08:28:25.501Z"
   },
   {
    "duration": 8,
    "start_time": "2022-11-22T08:28:25.512Z"
   },
   {
    "duration": 21,
    "start_time": "2022-11-22T08:28:25.522Z"
   },
   {
    "duration": 24,
    "start_time": "2022-11-22T08:28:25.545Z"
   },
   {
    "duration": 40,
    "start_time": "2022-11-22T08:28:25.572Z"
   },
   {
    "duration": 18,
    "start_time": "2022-11-22T08:28:25.614Z"
   },
   {
    "duration": 179,
    "start_time": "2022-11-22T08:28:25.637Z"
   },
   {
    "duration": 133,
    "start_time": "2022-11-22T08:28:25.817Z"
   },
   {
    "duration": 8,
    "start_time": "2022-11-22T08:28:25.952Z"
   },
   {
    "duration": 53,
    "start_time": "2022-11-22T08:28:25.962Z"
   },
   {
    "duration": 304,
    "start_time": "2022-11-22T08:28:26.017Z"
   },
   {
    "duration": 265,
    "start_time": "2022-11-22T08:28:26.322Z"
   },
   {
    "duration": 353,
    "start_time": "2022-11-22T08:28:26.590Z"
   },
   {
    "duration": 224,
    "start_time": "2022-11-22T08:28:26.945Z"
   },
   {
    "duration": 299,
    "start_time": "2022-11-22T08:28:27.171Z"
   },
   {
    "duration": 150,
    "start_time": "2022-11-22T08:28:27.472Z"
   },
   {
    "duration": 4,
    "start_time": "2022-11-22T08:28:27.624Z"
   },
   {
    "duration": 372,
    "start_time": "2022-11-22T08:28:27.630Z"
   },
   {
    "duration": 11,
    "start_time": "2022-11-22T08:28:28.003Z"
   },
   {
    "duration": 102,
    "start_time": "2022-11-22T08:28:28.016Z"
   },
   {
    "duration": 121,
    "start_time": "2022-11-22T08:28:28.120Z"
   },
   {
    "duration": 21,
    "start_time": "2022-11-22T08:28:28.243Z"
   },
   {
    "duration": 169,
    "start_time": "2022-11-22T08:28:28.266Z"
   },
   {
    "duration": 7,
    "start_time": "2022-11-22T08:28:28.437Z"
   },
   {
    "duration": 26,
    "start_time": "2022-11-22T08:28:28.445Z"
   },
   {
    "duration": 12,
    "start_time": "2022-11-22T08:28:28.472Z"
   },
   {
    "duration": 34,
    "start_time": "2022-11-22T08:28:28.485Z"
   },
   {
    "duration": 11,
    "start_time": "2022-11-22T08:28:28.521Z"
   },
   {
    "duration": 25,
    "start_time": "2022-11-22T08:28:28.534Z"
   },
   {
    "duration": 15,
    "start_time": "2022-11-22T08:28:28.561Z"
   },
   {
    "duration": 1242,
    "start_time": "2022-11-22T08:28:49.596Z"
   },
   {
    "duration": 46,
    "start_time": "2022-11-22T08:28:50.840Z"
   },
   {
    "duration": 8,
    "start_time": "2022-11-22T08:28:50.888Z"
   },
   {
    "duration": 18,
    "start_time": "2022-11-22T08:28:50.898Z"
   },
   {
    "duration": 12,
    "start_time": "2022-11-22T08:28:50.919Z"
   },
   {
    "duration": 75,
    "start_time": "2022-11-22T08:28:50.932Z"
   },
   {
    "duration": 9,
    "start_time": "2022-11-22T08:28:51.009Z"
   },
   {
    "duration": 15,
    "start_time": "2022-11-22T08:28:51.019Z"
   },
   {
    "duration": 11,
    "start_time": "2022-11-22T08:28:51.035Z"
   },
   {
    "duration": 14,
    "start_time": "2022-11-22T08:28:51.048Z"
   },
   {
    "duration": 24,
    "start_time": "2022-11-22T08:28:51.063Z"
   },
   {
    "duration": 14,
    "start_time": "2022-11-22T08:28:51.111Z"
   },
   {
    "duration": 12,
    "start_time": "2022-11-22T08:28:51.126Z"
   },
   {
    "duration": 184,
    "start_time": "2022-11-22T08:28:51.141Z"
   },
   {
    "duration": 143,
    "start_time": "2022-11-22T08:28:51.327Z"
   },
   {
    "duration": 7,
    "start_time": "2022-11-22T08:28:51.472Z"
   },
   {
    "duration": 8,
    "start_time": "2022-11-22T08:28:51.481Z"
   },
   {
    "duration": 301,
    "start_time": "2022-11-22T08:28:51.491Z"
   },
   {
    "duration": 218,
    "start_time": "2022-11-22T08:28:51.794Z"
   },
   {
    "duration": 313,
    "start_time": "2022-11-22T08:28:52.014Z"
   },
   {
    "duration": 215,
    "start_time": "2022-11-22T08:28:52.329Z"
   },
   {
    "duration": 296,
    "start_time": "2022-11-22T08:28:52.546Z"
   },
   {
    "duration": 151,
    "start_time": "2022-11-22T08:28:52.843Z"
   },
   {
    "duration": 5,
    "start_time": "2022-11-22T08:28:52.995Z"
   },
   {
    "duration": 395,
    "start_time": "2022-11-22T08:28:53.001Z"
   },
   {
    "duration": 4,
    "start_time": "2022-11-22T08:28:53.397Z"
   },
   {
    "duration": 108,
    "start_time": "2022-11-22T08:28:53.411Z"
   },
   {
    "duration": 131,
    "start_time": "2022-11-22T08:28:53.521Z"
   },
   {
    "duration": 23,
    "start_time": "2022-11-22T08:28:53.654Z"
   },
   {
    "duration": 154,
    "start_time": "2022-11-22T08:28:53.678Z"
   },
   {
    "duration": 7,
    "start_time": "2022-11-22T08:28:53.833Z"
   },
   {
    "duration": 30,
    "start_time": "2022-11-22T08:28:53.842Z"
   },
   {
    "duration": 10,
    "start_time": "2022-11-22T08:28:53.874Z"
   },
   {
    "duration": 31,
    "start_time": "2022-11-22T08:28:53.885Z"
   },
   {
    "duration": 23,
    "start_time": "2022-11-22T08:28:53.918Z"
   },
   {
    "duration": 27,
    "start_time": "2022-11-22T08:28:53.943Z"
   },
   {
    "duration": 16,
    "start_time": "2022-11-22T08:28:53.972Z"
   },
   {
    "duration": 1199,
    "start_time": "2022-11-22T08:29:35.932Z"
   },
   {
    "duration": 37,
    "start_time": "2022-11-22T08:29:37.134Z"
   },
   {
    "duration": 8,
    "start_time": "2022-11-22T08:29:37.173Z"
   },
   {
    "duration": 16,
    "start_time": "2022-11-22T08:29:37.183Z"
   },
   {
    "duration": 11,
    "start_time": "2022-11-22T08:29:37.202Z"
   },
   {
    "duration": 69,
    "start_time": "2022-11-22T08:29:37.215Z"
   },
   {
    "duration": 9,
    "start_time": "2022-11-22T08:29:37.286Z"
   },
   {
    "duration": 11,
    "start_time": "2022-11-22T08:29:37.297Z"
   },
   {
    "duration": 8,
    "start_time": "2022-11-22T08:29:37.310Z"
   },
   {
    "duration": 16,
    "start_time": "2022-11-22T08:29:37.319Z"
   },
   {
    "duration": 26,
    "start_time": "2022-11-22T08:29:37.337Z"
   },
   {
    "duration": 14,
    "start_time": "2022-11-22T08:29:37.365Z"
   },
   {
    "duration": 32,
    "start_time": "2022-11-22T08:29:37.380Z"
   },
   {
    "duration": 179,
    "start_time": "2022-11-22T08:29:37.416Z"
   },
   {
    "duration": 151,
    "start_time": "2022-11-22T08:29:37.597Z"
   },
   {
    "duration": 8,
    "start_time": "2022-11-22T08:29:37.750Z"
   },
   {
    "duration": 12,
    "start_time": "2022-11-22T08:29:37.759Z"
   },
   {
    "duration": 295,
    "start_time": "2022-11-22T08:29:37.773Z"
   },
   {
    "duration": 218,
    "start_time": "2022-11-22T08:29:38.069Z"
   },
   {
    "duration": 351,
    "start_time": "2022-11-22T08:29:38.289Z"
   },
   {
    "duration": 217,
    "start_time": "2022-11-22T08:29:38.642Z"
   },
   {
    "duration": 319,
    "start_time": "2022-11-22T08:29:38.861Z"
   },
   {
    "duration": 163,
    "start_time": "2022-11-22T08:29:39.182Z"
   },
   {
    "duration": 6,
    "start_time": "2022-11-22T08:29:39.347Z"
   },
   {
    "duration": 412,
    "start_time": "2022-11-22T08:29:39.356Z"
   },
   {
    "duration": 4,
    "start_time": "2022-11-22T08:29:39.770Z"
   },
   {
    "duration": 112,
    "start_time": "2022-11-22T08:29:39.776Z"
   },
   {
    "duration": 127,
    "start_time": "2022-11-22T08:29:39.890Z"
   },
   {
    "duration": 25,
    "start_time": "2022-11-22T08:29:40.019Z"
   },
   {
    "duration": 174,
    "start_time": "2022-11-22T08:29:40.046Z"
   },
   {
    "duration": 8,
    "start_time": "2022-11-22T08:29:40.222Z"
   },
   {
    "duration": 24,
    "start_time": "2022-11-22T08:29:40.232Z"
   },
   {
    "duration": 12,
    "start_time": "2022-11-22T08:29:40.259Z"
   },
   {
    "duration": 13,
    "start_time": "2022-11-22T08:29:40.273Z"
   },
   {
    "duration": 12,
    "start_time": "2022-11-22T08:29:40.311Z"
   },
   {
    "duration": 32,
    "start_time": "2022-11-22T08:29:40.325Z"
   },
   {
    "duration": 22,
    "start_time": "2022-11-22T08:29:40.359Z"
   },
   {
    "duration": 1211,
    "start_time": "2022-11-22T08:30:51.226Z"
   },
   {
    "duration": 38,
    "start_time": "2022-11-22T08:30:52.439Z"
   },
   {
    "duration": 7,
    "start_time": "2022-11-22T08:30:52.479Z"
   },
   {
    "duration": 48,
    "start_time": "2022-11-22T08:30:52.488Z"
   },
   {
    "duration": 30,
    "start_time": "2022-11-22T08:30:52.537Z"
   },
   {
    "duration": 88,
    "start_time": "2022-11-22T08:30:52.569Z"
   },
   {
    "duration": 9,
    "start_time": "2022-11-22T08:30:52.659Z"
   },
   {
    "duration": 23,
    "start_time": "2022-11-22T08:30:52.669Z"
   },
   {
    "duration": 36,
    "start_time": "2022-11-22T08:30:52.694Z"
   },
   {
    "duration": 40,
    "start_time": "2022-11-22T08:30:52.732Z"
   },
   {
    "duration": 124,
    "start_time": "2022-11-22T08:30:52.773Z"
   },
   {
    "duration": 0,
    "start_time": "2022-11-22T08:30:52.899Z"
   },
   {
    "duration": 0,
    "start_time": "2022-11-22T08:30:52.900Z"
   },
   {
    "duration": 0,
    "start_time": "2022-11-22T08:30:52.902Z"
   },
   {
    "duration": 0,
    "start_time": "2022-11-22T08:30:52.903Z"
   },
   {
    "duration": 0,
    "start_time": "2022-11-22T08:30:52.904Z"
   },
   {
    "duration": 0,
    "start_time": "2022-11-22T08:30:52.912Z"
   },
   {
    "duration": 0,
    "start_time": "2022-11-22T08:30:52.913Z"
   },
   {
    "duration": 0,
    "start_time": "2022-11-22T08:30:52.915Z"
   },
   {
    "duration": 0,
    "start_time": "2022-11-22T08:30:52.916Z"
   },
   {
    "duration": 0,
    "start_time": "2022-11-22T08:30:52.917Z"
   },
   {
    "duration": 0,
    "start_time": "2022-11-22T08:30:52.918Z"
   },
   {
    "duration": 0,
    "start_time": "2022-11-22T08:30:52.919Z"
   },
   {
    "duration": 0,
    "start_time": "2022-11-22T08:30:52.920Z"
   },
   {
    "duration": 0,
    "start_time": "2022-11-22T08:30:52.921Z"
   },
   {
    "duration": 0,
    "start_time": "2022-11-22T08:30:52.923Z"
   },
   {
    "duration": 0,
    "start_time": "2022-11-22T08:30:52.924Z"
   },
   {
    "duration": 0,
    "start_time": "2022-11-22T08:30:52.925Z"
   },
   {
    "duration": 0,
    "start_time": "2022-11-22T08:30:52.926Z"
   },
   {
    "duration": 0,
    "start_time": "2022-11-22T08:30:52.927Z"
   },
   {
    "duration": 0,
    "start_time": "2022-11-22T08:30:52.928Z"
   },
   {
    "duration": 0,
    "start_time": "2022-11-22T08:30:52.929Z"
   },
   {
    "duration": 0,
    "start_time": "2022-11-22T08:30:52.931Z"
   },
   {
    "duration": 0,
    "start_time": "2022-11-22T08:30:52.931Z"
   },
   {
    "duration": 0,
    "start_time": "2022-11-22T08:30:52.933Z"
   },
   {
    "duration": 0,
    "start_time": "2022-11-22T08:30:52.933Z"
   },
   {
    "duration": 0,
    "start_time": "2022-11-22T08:30:52.934Z"
   },
   {
    "duration": 1190,
    "start_time": "2022-11-22T08:31:09.248Z"
   },
   {
    "duration": 38,
    "start_time": "2022-11-22T08:31:10.440Z"
   },
   {
    "duration": 8,
    "start_time": "2022-11-22T08:31:10.480Z"
   },
   {
    "duration": 25,
    "start_time": "2022-11-22T08:31:10.490Z"
   },
   {
    "duration": 17,
    "start_time": "2022-11-22T08:31:10.517Z"
   },
   {
    "duration": 74,
    "start_time": "2022-11-22T08:31:10.536Z"
   },
   {
    "duration": 8,
    "start_time": "2022-11-22T08:31:10.612Z"
   },
   {
    "duration": 16,
    "start_time": "2022-11-22T08:31:10.622Z"
   },
   {
    "duration": 10,
    "start_time": "2022-11-22T08:31:10.640Z"
   },
   {
    "duration": 15,
    "start_time": "2022-11-22T08:31:10.652Z"
   },
   {
    "duration": 124,
    "start_time": "2022-11-22T08:31:10.668Z"
   },
   {
    "duration": 0,
    "start_time": "2022-11-22T08:31:10.794Z"
   },
   {
    "duration": 0,
    "start_time": "2022-11-22T08:31:10.795Z"
   },
   {
    "duration": 0,
    "start_time": "2022-11-22T08:31:10.797Z"
   },
   {
    "duration": 0,
    "start_time": "2022-11-22T08:31:10.798Z"
   },
   {
    "duration": 0,
    "start_time": "2022-11-22T08:31:10.799Z"
   },
   {
    "duration": 0,
    "start_time": "2022-11-22T08:31:10.800Z"
   },
   {
    "duration": 0,
    "start_time": "2022-11-22T08:31:10.801Z"
   },
   {
    "duration": 0,
    "start_time": "2022-11-22T08:31:10.811Z"
   },
   {
    "duration": 0,
    "start_time": "2022-11-22T08:31:10.813Z"
   },
   {
    "duration": 0,
    "start_time": "2022-11-22T08:31:10.815Z"
   },
   {
    "duration": 0,
    "start_time": "2022-11-22T08:31:10.816Z"
   },
   {
    "duration": 0,
    "start_time": "2022-11-22T08:31:10.818Z"
   },
   {
    "duration": 0,
    "start_time": "2022-11-22T08:31:10.819Z"
   },
   {
    "duration": 0,
    "start_time": "2022-11-22T08:31:10.821Z"
   },
   {
    "duration": 0,
    "start_time": "2022-11-22T08:31:10.822Z"
   },
   {
    "duration": 0,
    "start_time": "2022-11-22T08:31:10.823Z"
   },
   {
    "duration": 0,
    "start_time": "2022-11-22T08:31:10.825Z"
   },
   {
    "duration": 0,
    "start_time": "2022-11-22T08:31:10.826Z"
   },
   {
    "duration": 0,
    "start_time": "2022-11-22T08:31:10.828Z"
   },
   {
    "duration": 0,
    "start_time": "2022-11-22T08:31:10.829Z"
   },
   {
    "duration": 0,
    "start_time": "2022-11-22T08:31:10.831Z"
   },
   {
    "duration": 0,
    "start_time": "2022-11-22T08:31:10.832Z"
   },
   {
    "duration": 0,
    "start_time": "2022-11-22T08:31:10.833Z"
   },
   {
    "duration": 0,
    "start_time": "2022-11-22T08:31:10.834Z"
   },
   {
    "duration": 0,
    "start_time": "2022-11-22T08:31:10.835Z"
   },
   {
    "duration": 0,
    "start_time": "2022-11-22T08:31:10.836Z"
   },
   {
    "duration": 1186,
    "start_time": "2022-11-22T08:31:48.166Z"
   },
   {
    "duration": 39,
    "start_time": "2022-11-22T08:31:49.354Z"
   },
   {
    "duration": 8,
    "start_time": "2022-11-22T08:31:49.395Z"
   },
   {
    "duration": 18,
    "start_time": "2022-11-22T08:31:49.405Z"
   },
   {
    "duration": 12,
    "start_time": "2022-11-22T08:31:49.425Z"
   },
   {
    "duration": 72,
    "start_time": "2022-11-22T08:31:49.438Z"
   },
   {
    "duration": 10,
    "start_time": "2022-11-22T08:31:49.512Z"
   },
   {
    "duration": 52,
    "start_time": "2022-11-22T08:31:49.524Z"
   },
   {
    "duration": 41,
    "start_time": "2022-11-22T08:31:49.578Z"
   },
   {
    "duration": 40,
    "start_time": "2022-11-22T08:31:49.622Z"
   },
   {
    "duration": 29,
    "start_time": "2022-11-22T08:31:49.664Z"
   },
   {
    "duration": 139,
    "start_time": "2022-11-22T08:31:49.695Z"
   },
   {
    "duration": 0,
    "start_time": "2022-11-22T08:31:49.836Z"
   },
   {
    "duration": 0,
    "start_time": "2022-11-22T08:31:49.841Z"
   },
   {
    "duration": 0,
    "start_time": "2022-11-22T08:31:49.843Z"
   },
   {
    "duration": 0,
    "start_time": "2022-11-22T08:31:49.845Z"
   },
   {
    "duration": 0,
    "start_time": "2022-11-22T08:31:49.846Z"
   },
   {
    "duration": 0,
    "start_time": "2022-11-22T08:31:49.847Z"
   },
   {
    "duration": 1,
    "start_time": "2022-11-22T08:31:49.848Z"
   },
   {
    "duration": 0,
    "start_time": "2022-11-22T08:31:49.850Z"
   },
   {
    "duration": 0,
    "start_time": "2022-11-22T08:31:49.851Z"
   },
   {
    "duration": 0,
    "start_time": "2022-11-22T08:31:49.853Z"
   },
   {
    "duration": 0,
    "start_time": "2022-11-22T08:31:49.854Z"
   },
   {
    "duration": 0,
    "start_time": "2022-11-22T08:31:49.856Z"
   },
   {
    "duration": 0,
    "start_time": "2022-11-22T08:31:49.857Z"
   },
   {
    "duration": 0,
    "start_time": "2022-11-22T08:31:49.858Z"
   },
   {
    "duration": 0,
    "start_time": "2022-11-22T08:31:49.859Z"
   },
   {
    "duration": 0,
    "start_time": "2022-11-22T08:31:49.860Z"
   },
   {
    "duration": 0,
    "start_time": "2022-11-22T08:31:49.862Z"
   },
   {
    "duration": 0,
    "start_time": "2022-11-22T08:31:49.863Z"
   },
   {
    "duration": 0,
    "start_time": "2022-11-22T08:31:49.864Z"
   },
   {
    "duration": 0,
    "start_time": "2022-11-22T08:31:49.865Z"
   },
   {
    "duration": 0,
    "start_time": "2022-11-22T08:31:49.866Z"
   },
   {
    "duration": 0,
    "start_time": "2022-11-22T08:31:49.867Z"
   },
   {
    "duration": 0,
    "start_time": "2022-11-22T08:31:49.868Z"
   },
   {
    "duration": 0,
    "start_time": "2022-11-22T08:31:49.869Z"
   },
   {
    "duration": 0,
    "start_time": "2022-11-22T08:31:49.912Z"
   },
   {
    "duration": 1180,
    "start_time": "2022-11-22T08:32:16.337Z"
   },
   {
    "duration": 37,
    "start_time": "2022-11-22T08:32:17.519Z"
   },
   {
    "duration": 8,
    "start_time": "2022-11-22T08:32:17.557Z"
   },
   {
    "duration": 13,
    "start_time": "2022-11-22T08:32:17.567Z"
   },
   {
    "duration": 10,
    "start_time": "2022-11-22T08:32:17.583Z"
   },
   {
    "duration": 67,
    "start_time": "2022-11-22T08:32:17.595Z"
   },
   {
    "duration": 9,
    "start_time": "2022-11-22T08:32:17.663Z"
   },
   {
    "duration": 10,
    "start_time": "2022-11-22T08:32:17.673Z"
   },
   {
    "duration": 9,
    "start_time": "2022-11-22T08:32:17.684Z"
   },
   {
    "duration": 14,
    "start_time": "2022-11-22T08:32:17.695Z"
   },
   {
    "duration": 22,
    "start_time": "2022-11-22T08:32:17.711Z"
   },
   {
    "duration": 12,
    "start_time": "2022-11-22T08:32:17.735Z"
   },
   {
    "duration": 18,
    "start_time": "2022-11-22T08:32:17.748Z"
   },
   {
    "duration": 165,
    "start_time": "2022-11-22T08:32:17.769Z"
   },
   {
    "duration": 124,
    "start_time": "2022-11-22T08:32:17.936Z"
   },
   {
    "duration": 6,
    "start_time": "2022-11-22T08:32:18.061Z"
   },
   {
    "duration": 10,
    "start_time": "2022-11-22T08:32:18.068Z"
   },
   {
    "duration": 277,
    "start_time": "2022-11-22T08:32:18.079Z"
   },
   {
    "duration": 191,
    "start_time": "2022-11-22T08:32:18.358Z"
   },
   {
    "duration": 264,
    "start_time": "2022-11-22T08:32:18.551Z"
   },
   {
    "duration": 198,
    "start_time": "2022-11-22T08:32:18.816Z"
   },
   {
    "duration": 317,
    "start_time": "2022-11-22T08:32:19.015Z"
   },
   {
    "duration": 154,
    "start_time": "2022-11-22T08:32:19.335Z"
   },
   {
    "duration": 5,
    "start_time": "2022-11-22T08:32:19.491Z"
   },
   {
    "duration": 380,
    "start_time": "2022-11-22T08:32:19.497Z"
   },
   {
    "duration": 4,
    "start_time": "2022-11-22T08:32:19.879Z"
   },
   {
    "duration": 100,
    "start_time": "2022-11-22T08:32:19.885Z"
   },
   {
    "duration": 127,
    "start_time": "2022-11-22T08:32:19.987Z"
   },
   {
    "duration": 22,
    "start_time": "2022-11-22T08:32:20.116Z"
   },
   {
    "duration": 154,
    "start_time": "2022-11-22T08:32:20.140Z"
   },
   {
    "duration": 5,
    "start_time": "2022-11-22T08:32:20.296Z"
   },
   {
    "duration": 23,
    "start_time": "2022-11-22T08:32:20.311Z"
   },
   {
    "duration": 10,
    "start_time": "2022-11-22T08:32:20.336Z"
   },
   {
    "duration": 10,
    "start_time": "2022-11-22T08:32:20.347Z"
   },
   {
    "duration": 11,
    "start_time": "2022-11-22T08:32:20.358Z"
   },
   {
    "duration": 49,
    "start_time": "2022-11-22T08:32:20.371Z"
   },
   {
    "duration": 14,
    "start_time": "2022-11-22T08:32:20.422Z"
   },
   {
    "duration": 1141,
    "start_time": "2022-11-22T09:17:12.771Z"
   },
   {
    "duration": 38,
    "start_time": "2022-11-22T09:17:13.914Z"
   },
   {
    "duration": 9,
    "start_time": "2022-11-22T09:17:13.954Z"
   },
   {
    "duration": 23,
    "start_time": "2022-11-22T09:17:13.965Z"
   },
   {
    "duration": 13,
    "start_time": "2022-11-22T09:17:13.991Z"
   },
   {
    "duration": 67,
    "start_time": "2022-11-22T09:17:14.006Z"
   },
   {
    "duration": 8,
    "start_time": "2022-11-22T09:17:14.075Z"
   },
   {
    "duration": 9,
    "start_time": "2022-11-22T09:17:14.085Z"
   },
   {
    "duration": 8,
    "start_time": "2022-11-22T09:17:14.095Z"
   },
   {
    "duration": 15,
    "start_time": "2022-11-22T09:17:14.104Z"
   },
   {
    "duration": 22,
    "start_time": "2022-11-22T09:17:14.120Z"
   },
   {
    "duration": 14,
    "start_time": "2022-11-22T09:17:14.143Z"
   },
   {
    "duration": 8,
    "start_time": "2022-11-22T09:17:14.158Z"
   },
   {
    "duration": 197,
    "start_time": "2022-11-22T09:17:14.170Z"
   },
   {
    "duration": 144,
    "start_time": "2022-11-22T09:17:14.368Z"
   },
   {
    "duration": 8,
    "start_time": "2022-11-22T09:17:14.514Z"
   },
   {
    "duration": 7,
    "start_time": "2022-11-22T09:17:14.524Z"
   },
   {
    "duration": 300,
    "start_time": "2022-11-22T09:17:14.533Z"
   },
   {
    "duration": 241,
    "start_time": "2022-11-22T09:17:14.836Z"
   },
   {
    "duration": 325,
    "start_time": "2022-11-22T09:17:15.079Z"
   },
   {
    "duration": 210,
    "start_time": "2022-11-22T09:17:15.412Z"
   },
   {
    "duration": 297,
    "start_time": "2022-11-22T09:17:15.623Z"
   },
   {
    "duration": 152,
    "start_time": "2022-11-22T09:17:15.922Z"
   },
   {
    "duration": 5,
    "start_time": "2022-11-22T09:17:16.076Z"
   },
   {
    "duration": 444,
    "start_time": "2022-11-22T09:17:16.083Z"
   },
   {
    "duration": 5,
    "start_time": "2022-11-22T09:17:16.529Z"
   },
   {
    "duration": 112,
    "start_time": "2022-11-22T09:17:16.536Z"
   },
   {
    "duration": 130,
    "start_time": "2022-11-22T09:17:16.650Z"
   },
   {
    "duration": 37,
    "start_time": "2022-11-22T09:17:16.782Z"
   },
   {
    "duration": 149,
    "start_time": "2022-11-22T09:17:16.821Z"
   },
   {
    "duration": 8,
    "start_time": "2022-11-22T09:17:16.972Z"
   },
   {
    "duration": 39,
    "start_time": "2022-11-22T09:17:16.982Z"
   },
   {
    "duration": 13,
    "start_time": "2022-11-22T09:17:17.023Z"
   },
   {
    "duration": 11,
    "start_time": "2022-11-22T09:17:17.038Z"
   },
   {
    "duration": 15,
    "start_time": "2022-11-22T09:17:17.051Z"
   },
   {
    "duration": 47,
    "start_time": "2022-11-22T09:17:17.068Z"
   },
   {
    "duration": 17,
    "start_time": "2022-11-22T09:17:17.117Z"
   },
   {
    "duration": 18,
    "start_time": "2022-11-22T09:19:03.480Z"
   },
   {
    "duration": 20,
    "start_time": "2022-11-22T09:19:17.118Z"
   },
   {
    "duration": 1183,
    "start_time": "2022-11-22T09:19:33.252Z"
   },
   {
    "duration": 37,
    "start_time": "2022-11-22T09:19:34.436Z"
   },
   {
    "duration": 8,
    "start_time": "2022-11-22T09:19:34.475Z"
   },
   {
    "duration": 13,
    "start_time": "2022-11-22T09:19:34.484Z"
   },
   {
    "duration": 14,
    "start_time": "2022-11-22T09:19:34.499Z"
   },
   {
    "duration": 64,
    "start_time": "2022-11-22T09:19:34.514Z"
   },
   {
    "duration": 8,
    "start_time": "2022-11-22T09:19:34.579Z"
   },
   {
    "duration": 9,
    "start_time": "2022-11-22T09:19:34.588Z"
   },
   {
    "duration": 9,
    "start_time": "2022-11-22T09:19:34.598Z"
   },
   {
    "duration": 18,
    "start_time": "2022-11-22T09:19:34.608Z"
   },
   {
    "duration": 23,
    "start_time": "2022-11-22T09:19:34.628Z"
   },
   {
    "duration": 13,
    "start_time": "2022-11-22T09:19:34.652Z"
   },
   {
    "duration": 8,
    "start_time": "2022-11-22T09:19:34.667Z"
   },
   {
    "duration": 189,
    "start_time": "2022-11-22T09:19:34.678Z"
   },
   {
    "duration": 143,
    "start_time": "2022-11-22T09:19:34.869Z"
   },
   {
    "duration": 7,
    "start_time": "2022-11-22T09:19:35.014Z"
   },
   {
    "duration": 8,
    "start_time": "2022-11-22T09:19:35.023Z"
   },
   {
    "duration": 297,
    "start_time": "2022-11-22T09:19:35.033Z"
   },
   {
    "duration": 214,
    "start_time": "2022-11-22T09:19:35.332Z"
   },
   {
    "duration": 286,
    "start_time": "2022-11-22T09:19:35.548Z"
   },
   {
    "duration": 222,
    "start_time": "2022-11-22T09:19:35.836Z"
   },
   {
    "duration": 284,
    "start_time": "2022-11-22T09:19:36.059Z"
   },
   {
    "duration": 147,
    "start_time": "2022-11-22T09:19:36.344Z"
   },
   {
    "duration": 4,
    "start_time": "2022-11-22T09:19:36.492Z"
   },
   {
    "duration": 453,
    "start_time": "2022-11-22T09:19:36.498Z"
   },
   {
    "duration": 4,
    "start_time": "2022-11-22T09:19:36.952Z"
   },
   {
    "duration": 124,
    "start_time": "2022-11-22T09:19:36.958Z"
   },
   {
    "duration": 140,
    "start_time": "2022-11-22T09:19:37.083Z"
   },
   {
    "duration": 22,
    "start_time": "2022-11-22T09:19:37.224Z"
   },
   {
    "duration": 157,
    "start_time": "2022-11-22T09:19:37.247Z"
   },
   {
    "duration": 9,
    "start_time": "2022-11-22T09:19:37.406Z"
   },
   {
    "duration": 43,
    "start_time": "2022-11-22T09:19:37.417Z"
   },
   {
    "duration": 31,
    "start_time": "2022-11-22T09:19:37.462Z"
   },
   {
    "duration": 25,
    "start_time": "2022-11-22T09:19:37.494Z"
   },
   {
    "duration": 24,
    "start_time": "2022-11-22T09:19:37.521Z"
   },
   {
    "duration": 46,
    "start_time": "2022-11-22T09:19:37.547Z"
   },
   {
    "duration": 29,
    "start_time": "2022-11-22T09:19:37.594Z"
   },
   {
    "duration": 1180,
    "start_time": "2022-11-22T09:21:49.753Z"
   },
   {
    "duration": 37,
    "start_time": "2022-11-22T09:21:50.935Z"
   },
   {
    "duration": 7,
    "start_time": "2022-11-22T09:21:50.974Z"
   },
   {
    "duration": 14,
    "start_time": "2022-11-22T09:21:50.983Z"
   },
   {
    "duration": 12,
    "start_time": "2022-11-22T09:21:50.999Z"
   },
   {
    "duration": 64,
    "start_time": "2022-11-22T09:21:51.012Z"
   },
   {
    "duration": 8,
    "start_time": "2022-11-22T09:21:51.078Z"
   },
   {
    "duration": 9,
    "start_time": "2022-11-22T09:21:51.087Z"
   },
   {
    "duration": 14,
    "start_time": "2022-11-22T09:21:51.098Z"
   },
   {
    "duration": 18,
    "start_time": "2022-11-22T09:21:51.114Z"
   },
   {
    "duration": 17,
    "start_time": "2022-11-22T09:21:51.134Z"
   },
   {
    "duration": 12,
    "start_time": "2022-11-22T09:21:51.154Z"
   },
   {
    "duration": 10,
    "start_time": "2022-11-22T09:21:51.167Z"
   },
   {
    "duration": 186,
    "start_time": "2022-11-22T09:21:51.180Z"
   },
   {
    "duration": 146,
    "start_time": "2022-11-22T09:21:51.368Z"
   },
   {
    "duration": 6,
    "start_time": "2022-11-22T09:21:51.516Z"
   },
   {
    "duration": 17,
    "start_time": "2022-11-22T09:21:51.523Z"
   },
   {
    "duration": 279,
    "start_time": "2022-11-22T09:21:51.542Z"
   },
   {
    "duration": 214,
    "start_time": "2022-11-22T09:21:51.822Z"
   },
   {
    "duration": 293,
    "start_time": "2022-11-22T09:21:52.038Z"
   },
   {
    "duration": 205,
    "start_time": "2022-11-22T09:21:52.332Z"
   },
   {
    "duration": 289,
    "start_time": "2022-11-22T09:21:52.538Z"
   },
   {
    "duration": 171,
    "start_time": "2022-11-22T09:21:52.828Z"
   },
   {
    "duration": 11,
    "start_time": "2022-11-22T09:21:53.001Z"
   },
   {
    "duration": 384,
    "start_time": "2022-11-22T09:21:53.014Z"
   },
   {
    "duration": 14,
    "start_time": "2022-11-22T09:21:53.400Z"
   },
   {
    "duration": 114,
    "start_time": "2022-11-22T09:21:53.416Z"
   },
   {
    "duration": 142,
    "start_time": "2022-11-22T09:21:53.532Z"
   },
   {
    "duration": 21,
    "start_time": "2022-11-22T09:21:53.676Z"
   },
   {
    "duration": 151,
    "start_time": "2022-11-22T09:21:53.698Z"
   },
   {
    "duration": 6,
    "start_time": "2022-11-22T09:21:53.851Z"
   },
   {
    "duration": 46,
    "start_time": "2022-11-22T09:21:53.858Z"
   },
   {
    "duration": 14,
    "start_time": "2022-11-22T09:21:53.906Z"
   },
   {
    "duration": 12,
    "start_time": "2022-11-22T09:21:53.921Z"
   },
   {
    "duration": 26,
    "start_time": "2022-11-22T09:21:53.935Z"
   },
   {
    "duration": 41,
    "start_time": "2022-11-22T09:21:53.963Z"
   },
   {
    "duration": 14,
    "start_time": "2022-11-22T09:21:54.006Z"
   },
   {
    "duration": 11,
    "start_time": "2022-11-22T09:31:44.312Z"
   },
   {
    "duration": 1172,
    "start_time": "2022-11-22T09:32:28.373Z"
   },
   {
    "duration": 37,
    "start_time": "2022-11-22T09:32:29.547Z"
   },
   {
    "duration": 7,
    "start_time": "2022-11-22T09:32:29.586Z"
   },
   {
    "duration": 13,
    "start_time": "2022-11-22T09:32:29.595Z"
   },
   {
    "duration": 11,
    "start_time": "2022-11-22T09:32:29.611Z"
   },
   {
    "duration": 64,
    "start_time": "2022-11-22T09:32:29.624Z"
   },
   {
    "duration": 7,
    "start_time": "2022-11-22T09:32:29.690Z"
   },
   {
    "duration": 9,
    "start_time": "2022-11-22T09:32:29.699Z"
   },
   {
    "duration": 8,
    "start_time": "2022-11-22T09:32:29.710Z"
   },
   {
    "duration": 12,
    "start_time": "2022-11-22T09:32:29.720Z"
   },
   {
    "duration": 14,
    "start_time": "2022-11-22T09:32:29.734Z"
   },
   {
    "duration": 13,
    "start_time": "2022-11-22T09:32:29.749Z"
   },
   {
    "duration": 8,
    "start_time": "2022-11-22T09:32:29.763Z"
   },
   {
    "duration": 195,
    "start_time": "2022-11-22T09:32:29.774Z"
   },
   {
    "duration": 128,
    "start_time": "2022-11-22T09:32:29.971Z"
   },
   {
    "duration": 6,
    "start_time": "2022-11-22T09:32:30.101Z"
   },
   {
    "duration": 17,
    "start_time": "2022-11-22T09:32:30.112Z"
   },
   {
    "duration": 323,
    "start_time": "2022-11-22T09:32:30.130Z"
   },
   {
    "duration": 218,
    "start_time": "2022-11-22T09:32:30.454Z"
   },
   {
    "duration": 321,
    "start_time": "2022-11-22T09:32:30.673Z"
   },
   {
    "duration": 216,
    "start_time": "2022-11-22T09:32:30.996Z"
   },
   {
    "duration": 306,
    "start_time": "2022-11-22T09:32:31.214Z"
   },
   {
    "duration": 142,
    "start_time": "2022-11-22T09:32:31.522Z"
   },
   {
    "duration": 4,
    "start_time": "2022-11-22T09:32:31.667Z"
   },
   {
    "duration": 397,
    "start_time": "2022-11-22T09:32:31.673Z"
   },
   {
    "duration": 4,
    "start_time": "2022-11-22T09:32:32.071Z"
   },
   {
    "duration": 109,
    "start_time": "2022-11-22T09:32:32.077Z"
   },
   {
    "duration": 136,
    "start_time": "2022-11-22T09:32:32.188Z"
   },
   {
    "duration": 23,
    "start_time": "2022-11-22T09:32:32.325Z"
   },
   {
    "duration": 152,
    "start_time": "2022-11-22T09:32:32.349Z"
   },
   {
    "duration": 9,
    "start_time": "2022-11-22T09:32:32.503Z"
   },
   {
    "duration": 23,
    "start_time": "2022-11-22T09:32:32.514Z"
   },
   {
    "duration": 11,
    "start_time": "2022-11-22T09:32:32.539Z"
   },
   {
    "duration": 10,
    "start_time": "2022-11-22T09:32:32.552Z"
   },
   {
    "duration": 12,
    "start_time": "2022-11-22T09:32:32.563Z"
   },
   {
    "duration": 56,
    "start_time": "2022-11-22T09:32:32.577Z"
   },
   {
    "duration": 15,
    "start_time": "2022-11-22T09:32:32.635Z"
   },
   {
    "duration": 1154,
    "start_time": "2022-11-22T09:41:44.975Z"
   },
   {
    "duration": 38,
    "start_time": "2022-11-22T09:41:46.131Z"
   },
   {
    "duration": 8,
    "start_time": "2022-11-22T09:41:46.171Z"
   },
   {
    "duration": 16,
    "start_time": "2022-11-22T09:41:46.180Z"
   },
   {
    "duration": 11,
    "start_time": "2022-11-22T09:41:46.199Z"
   },
   {
    "duration": 67,
    "start_time": "2022-11-22T09:41:46.212Z"
   },
   {
    "duration": 8,
    "start_time": "2022-11-22T09:41:46.281Z"
   },
   {
    "duration": 9,
    "start_time": "2022-11-22T09:41:46.290Z"
   },
   {
    "duration": 7,
    "start_time": "2022-11-22T09:41:46.300Z"
   },
   {
    "duration": 15,
    "start_time": "2022-11-22T09:41:46.308Z"
   },
   {
    "duration": 16,
    "start_time": "2022-11-22T09:41:46.325Z"
   },
   {
    "duration": 14,
    "start_time": "2022-11-22T09:41:46.342Z"
   },
   {
    "duration": 8,
    "start_time": "2022-11-22T09:41:46.357Z"
   },
   {
    "duration": 222,
    "start_time": "2022-11-22T09:41:46.369Z"
   },
   {
    "duration": 168,
    "start_time": "2022-11-22T09:41:46.593Z"
   },
   {
    "duration": 7,
    "start_time": "2022-11-22T09:41:46.763Z"
   },
   {
    "duration": 8,
    "start_time": "2022-11-22T09:41:46.772Z"
   },
   {
    "duration": 305,
    "start_time": "2022-11-22T09:41:46.782Z"
   },
   {
    "duration": 216,
    "start_time": "2022-11-22T09:41:47.089Z"
   },
   {
    "duration": 302,
    "start_time": "2022-11-22T09:41:47.312Z"
   },
   {
    "duration": 204,
    "start_time": "2022-11-22T09:41:47.616Z"
   },
   {
    "duration": 298,
    "start_time": "2022-11-22T09:41:47.822Z"
   },
   {
    "duration": 145,
    "start_time": "2022-11-22T09:41:48.122Z"
   },
   {
    "duration": 4,
    "start_time": "2022-11-22T09:41:48.268Z"
   },
   {
    "duration": 370,
    "start_time": "2022-11-22T09:41:48.274Z"
   },
   {
    "duration": 4,
    "start_time": "2022-11-22T09:41:48.646Z"
   },
   {
    "duration": 110,
    "start_time": "2022-11-22T09:41:48.652Z"
   },
   {
    "duration": 127,
    "start_time": "2022-11-22T09:41:48.764Z"
   },
   {
    "duration": 32,
    "start_time": "2022-11-22T09:41:48.893Z"
   },
   {
    "duration": 177,
    "start_time": "2022-11-22T09:41:48.927Z"
   },
   {
    "duration": 10,
    "start_time": "2022-11-22T09:41:49.106Z"
   },
   {
    "duration": 27,
    "start_time": "2022-11-22T09:41:49.117Z"
   },
   {
    "duration": 11,
    "start_time": "2022-11-22T09:41:49.145Z"
   },
   {
    "duration": 10,
    "start_time": "2022-11-22T09:41:49.158Z"
   },
   {
    "duration": 10,
    "start_time": "2022-11-22T09:41:49.170Z"
   },
   {
    "duration": 22,
    "start_time": "2022-11-22T09:41:49.212Z"
   },
   {
    "duration": 14,
    "start_time": "2022-11-22T09:41:49.236Z"
   },
   {
    "duration": 1301,
    "start_time": "2022-11-22T12:01:27.820Z"
   },
   {
    "duration": 68,
    "start_time": "2022-11-22T12:01:29.123Z"
   },
   {
    "duration": 8,
    "start_time": "2022-11-22T12:01:29.192Z"
   },
   {
    "duration": 28,
    "start_time": "2022-11-22T12:01:29.202Z"
   },
   {
    "duration": 13,
    "start_time": "2022-11-22T12:01:29.232Z"
   },
   {
    "duration": 153,
    "start_time": "2022-11-22T12:01:29.246Z"
   },
   {
    "duration": 8,
    "start_time": "2022-11-22T12:01:29.401Z"
   },
   {
    "duration": 12,
    "start_time": "2022-11-22T12:01:29.410Z"
   },
   {
    "duration": 10,
    "start_time": "2022-11-22T12:01:29.424Z"
   },
   {
    "duration": 23,
    "start_time": "2022-11-22T12:01:29.435Z"
   },
   {
    "duration": 18,
    "start_time": "2022-11-22T12:01:29.459Z"
   },
   {
    "duration": 27,
    "start_time": "2022-11-22T12:01:29.479Z"
   },
   {
    "duration": 14,
    "start_time": "2022-11-22T12:01:29.508Z"
   },
   {
    "duration": 177,
    "start_time": "2022-11-22T12:01:29.524Z"
   },
   {
    "duration": 123,
    "start_time": "2022-11-22T12:01:29.702Z"
   },
   {
    "duration": 7,
    "start_time": "2022-11-22T12:01:29.827Z"
   },
   {
    "duration": 18,
    "start_time": "2022-11-22T12:01:29.835Z"
   },
   {
    "duration": 278,
    "start_time": "2022-11-22T12:01:29.855Z"
   },
   {
    "duration": 197,
    "start_time": "2022-11-22T12:01:30.135Z"
   },
   {
    "duration": 368,
    "start_time": "2022-11-22T12:01:30.334Z"
   },
   {
    "duration": 213,
    "start_time": "2022-11-22T12:01:30.703Z"
   },
   {
    "duration": 306,
    "start_time": "2022-11-22T12:01:30.918Z"
   },
   {
    "duration": 144,
    "start_time": "2022-11-22T12:01:31.226Z"
   },
   {
    "duration": 5,
    "start_time": "2022-11-22T12:01:31.377Z"
   },
   {
    "duration": 482,
    "start_time": "2022-11-22T12:01:31.384Z"
   },
   {
    "duration": 9,
    "start_time": "2022-11-22T12:01:31.868Z"
   },
   {
    "duration": 115,
    "start_time": "2022-11-22T12:01:31.879Z"
   },
   {
    "duration": 155,
    "start_time": "2022-11-22T12:01:31.996Z"
   },
   {
    "duration": 30,
    "start_time": "2022-11-22T12:01:32.153Z"
   },
   {
    "duration": 140,
    "start_time": "2022-11-22T12:01:32.184Z"
   },
   {
    "duration": 6,
    "start_time": "2022-11-22T12:01:32.326Z"
   },
   {
    "duration": 28,
    "start_time": "2022-11-22T12:01:32.333Z"
   },
   {
    "duration": 13,
    "start_time": "2022-11-22T12:01:32.378Z"
   },
   {
    "duration": 17,
    "start_time": "2022-11-22T12:01:32.393Z"
   },
   {
    "duration": 52,
    "start_time": "2022-11-22T12:01:32.412Z"
   },
   {
    "duration": 42,
    "start_time": "2022-11-22T12:01:32.466Z"
   },
   {
    "duration": 15,
    "start_time": "2022-11-22T12:01:32.510Z"
   },
   {
    "duration": 1141,
    "start_time": "2022-11-22T12:02:18.116Z"
   },
   {
    "duration": 35,
    "start_time": "2022-11-22T12:02:19.259Z"
   },
   {
    "duration": 8,
    "start_time": "2022-11-22T12:02:19.296Z"
   },
   {
    "duration": 24,
    "start_time": "2022-11-22T12:02:19.305Z"
   },
   {
    "duration": 12,
    "start_time": "2022-11-22T12:02:19.332Z"
   },
   {
    "duration": 70,
    "start_time": "2022-11-22T12:02:19.346Z"
   },
   {
    "duration": 8,
    "start_time": "2022-11-22T12:02:19.418Z"
   },
   {
    "duration": 9,
    "start_time": "2022-11-22T12:02:19.428Z"
   },
   {
    "duration": 13,
    "start_time": "2022-11-22T12:02:19.439Z"
   },
   {
    "duration": 19,
    "start_time": "2022-11-22T12:02:19.454Z"
   },
   {
    "duration": 20,
    "start_time": "2022-11-22T12:02:19.474Z"
   },
   {
    "duration": 15,
    "start_time": "2022-11-22T12:02:19.497Z"
   },
   {
    "duration": 170,
    "start_time": "2022-11-22T12:02:19.514Z"
   },
   {
    "duration": 131,
    "start_time": "2022-11-22T12:02:19.687Z"
   },
   {
    "duration": 8,
    "start_time": "2022-11-22T12:02:19.819Z"
   },
   {
    "duration": 9,
    "start_time": "2022-11-22T12:02:19.828Z"
   },
   {
    "duration": 300,
    "start_time": "2022-11-22T12:02:19.838Z"
   },
   {
    "duration": 208,
    "start_time": "2022-11-22T12:02:20.139Z"
   },
   {
    "duration": 346,
    "start_time": "2022-11-22T12:02:20.348Z"
   },
   {
    "duration": 219,
    "start_time": "2022-11-22T12:02:20.696Z"
   },
   {
    "duration": 298,
    "start_time": "2022-11-22T12:02:20.917Z"
   },
   {
    "duration": 138,
    "start_time": "2022-11-22T12:02:21.217Z"
   },
   {
    "duration": 4,
    "start_time": "2022-11-22T12:02:21.357Z"
   },
   {
    "duration": 390,
    "start_time": "2022-11-22T12:02:21.377Z"
   },
   {
    "duration": 11,
    "start_time": "2022-11-22T12:02:21.769Z"
   },
   {
    "duration": 107,
    "start_time": "2022-11-22T12:02:21.782Z"
   },
   {
    "duration": 120,
    "start_time": "2022-11-22T12:02:21.891Z"
   },
   {
    "duration": 22,
    "start_time": "2022-11-22T12:02:22.013Z"
   },
   {
    "duration": 146,
    "start_time": "2022-11-22T12:02:22.036Z"
   },
   {
    "duration": 8,
    "start_time": "2022-11-22T12:02:22.184Z"
   },
   {
    "duration": 35,
    "start_time": "2022-11-22T12:02:22.194Z"
   },
   {
    "duration": 16,
    "start_time": "2022-11-22T12:02:22.231Z"
   },
   {
    "duration": 10,
    "start_time": "2022-11-22T12:02:22.249Z"
   },
   {
    "duration": 29,
    "start_time": "2022-11-22T12:02:22.260Z"
   },
   {
    "duration": 33,
    "start_time": "2022-11-22T12:02:22.290Z"
   },
   {
    "duration": 15,
    "start_time": "2022-11-22T12:02:22.325Z"
   },
   {
    "duration": 1145,
    "start_time": "2022-11-22T12:08:24.163Z"
   },
   {
    "duration": 36,
    "start_time": "2022-11-22T12:08:25.310Z"
   },
   {
    "duration": 8,
    "start_time": "2022-11-22T12:08:25.348Z"
   },
   {
    "duration": 27,
    "start_time": "2022-11-22T12:08:25.358Z"
   },
   {
    "duration": 11,
    "start_time": "2022-11-22T12:08:25.388Z"
   },
   {
    "duration": 67,
    "start_time": "2022-11-22T12:08:25.401Z"
   },
   {
    "duration": 8,
    "start_time": "2022-11-22T12:08:25.470Z"
   },
   {
    "duration": 10,
    "start_time": "2022-11-22T12:08:25.480Z"
   },
   {
    "duration": 10,
    "start_time": "2022-11-22T12:08:25.493Z"
   },
   {
    "duration": 15,
    "start_time": "2022-11-22T12:08:25.505Z"
   },
   {
    "duration": 20,
    "start_time": "2022-11-22T12:08:25.522Z"
   },
   {
    "duration": 20,
    "start_time": "2022-11-22T12:08:25.544Z"
   },
   {
    "duration": 175,
    "start_time": "2022-11-22T12:08:25.566Z"
   },
   {
    "duration": 133,
    "start_time": "2022-11-22T12:08:25.745Z"
   },
   {
    "duration": 11,
    "start_time": "2022-11-22T12:08:25.880Z"
   },
   {
    "duration": 13,
    "start_time": "2022-11-22T12:08:25.893Z"
   },
   {
    "duration": 290,
    "start_time": "2022-11-22T12:08:25.908Z"
   },
   {
    "duration": 207,
    "start_time": "2022-11-22T12:08:26.200Z"
   },
   {
    "duration": 294,
    "start_time": "2022-11-22T12:08:26.408Z"
   },
   {
    "duration": 209,
    "start_time": "2022-11-22T12:08:26.703Z"
   },
   {
    "duration": 283,
    "start_time": "2022-11-22T12:08:26.914Z"
   },
   {
    "duration": 139,
    "start_time": "2022-11-22T12:08:27.199Z"
   },
   {
    "duration": 5,
    "start_time": "2022-11-22T12:08:27.340Z"
   },
   {
    "duration": 400,
    "start_time": "2022-11-22T12:08:27.346Z"
   },
   {
    "duration": 5,
    "start_time": "2022-11-22T12:08:27.748Z"
   },
   {
    "duration": 105,
    "start_time": "2022-11-22T12:08:27.755Z"
   },
   {
    "duration": 127,
    "start_time": "2022-11-22T12:08:27.861Z"
   },
   {
    "duration": 21,
    "start_time": "2022-11-22T12:08:27.990Z"
   },
   {
    "duration": 153,
    "start_time": "2022-11-22T12:08:28.013Z"
   },
   {
    "duration": 9,
    "start_time": "2022-11-22T12:08:28.168Z"
   },
   {
    "duration": 23,
    "start_time": "2022-11-22T12:08:28.179Z"
   },
   {
    "duration": 11,
    "start_time": "2022-11-22T12:08:28.204Z"
   },
   {
    "duration": 11,
    "start_time": "2022-11-22T12:08:28.216Z"
   },
   {
    "duration": 18,
    "start_time": "2022-11-22T12:08:28.229Z"
   },
   {
    "duration": 54,
    "start_time": "2022-11-22T12:08:28.250Z"
   },
   {
    "duration": 18,
    "start_time": "2022-11-22T12:08:28.306Z"
   },
   {
    "duration": 1249,
    "start_time": "2022-11-23T06:19:23.358Z"
   },
   {
    "duration": 92,
    "start_time": "2022-11-23T06:19:24.609Z"
   },
   {
    "duration": 7,
    "start_time": "2022-11-23T06:19:24.703Z"
   },
   {
    "duration": 12,
    "start_time": "2022-11-23T06:19:24.712Z"
   },
   {
    "duration": 11,
    "start_time": "2022-11-23T06:19:24.725Z"
   },
   {
    "duration": 140,
    "start_time": "2022-11-23T06:19:24.737Z"
   },
   {
    "duration": 7,
    "start_time": "2022-11-23T06:19:24.878Z"
   },
   {
    "duration": 8,
    "start_time": "2022-11-23T06:19:24.886Z"
   },
   {
    "duration": 8,
    "start_time": "2022-11-23T06:19:24.896Z"
   },
   {
    "duration": 13,
    "start_time": "2022-11-23T06:19:24.906Z"
   },
   {
    "duration": 18,
    "start_time": "2022-11-23T06:19:24.921Z"
   },
   {
    "duration": 9,
    "start_time": "2022-11-23T06:19:24.941Z"
   },
   {
    "duration": 171,
    "start_time": "2022-11-23T06:19:24.952Z"
   },
   {
    "duration": 109,
    "start_time": "2022-11-23T06:19:25.124Z"
   },
   {
    "duration": 6,
    "start_time": "2022-11-23T06:19:25.235Z"
   },
   {
    "duration": 6,
    "start_time": "2022-11-23T06:19:25.251Z"
   },
   {
    "duration": 262,
    "start_time": "2022-11-23T06:19:25.259Z"
   },
   {
    "duration": 189,
    "start_time": "2022-11-23T06:19:25.523Z"
   },
   {
    "duration": 361,
    "start_time": "2022-11-23T06:19:25.714Z"
   },
   {
    "duration": 192,
    "start_time": "2022-11-23T06:19:26.076Z"
   },
   {
    "duration": 273,
    "start_time": "2022-11-23T06:19:26.270Z"
   },
   {
    "duration": 133,
    "start_time": "2022-11-23T06:19:26.545Z"
   },
   {
    "duration": 5,
    "start_time": "2022-11-23T06:19:26.679Z"
   },
   {
    "duration": 346,
    "start_time": "2022-11-23T06:19:26.685Z"
   },
   {
    "duration": 4,
    "start_time": "2022-11-23T06:19:27.033Z"
   },
   {
    "duration": 85,
    "start_time": "2022-11-23T06:19:27.053Z"
   },
   {
    "duration": 136,
    "start_time": "2022-11-23T06:19:27.140Z"
   },
   {
    "duration": 21,
    "start_time": "2022-11-23T06:19:27.279Z"
   },
   {
    "duration": 151,
    "start_time": "2022-11-23T06:19:27.301Z"
   },
   {
    "duration": 7,
    "start_time": "2022-11-23T06:19:27.454Z"
   },
   {
    "duration": 27,
    "start_time": "2022-11-23T06:19:27.462Z"
   },
   {
    "duration": 11,
    "start_time": "2022-11-23T06:19:27.491Z"
   },
   {
    "duration": 11,
    "start_time": "2022-11-23T06:19:27.504Z"
   },
   {
    "duration": 40,
    "start_time": "2022-11-23T06:19:27.516Z"
   },
   {
    "duration": 22,
    "start_time": "2022-11-23T06:19:27.558Z"
   },
   {
    "duration": 14,
    "start_time": "2022-11-23T06:19:27.582Z"
   },
   {
    "duration": 1290,
    "start_time": "2022-12-23T08:55:39.487Z"
   },
   {
    "duration": 86,
    "start_time": "2022-12-23T08:55:40.778Z"
   },
   {
    "duration": 8,
    "start_time": "2022-12-23T08:55:40.866Z"
   },
   {
    "duration": 16,
    "start_time": "2022-12-23T08:55:40.876Z"
   },
   {
    "duration": 11,
    "start_time": "2022-12-23T08:55:40.893Z"
   },
   {
    "duration": 151,
    "start_time": "2022-12-23T08:55:40.906Z"
   },
   {
    "duration": 8,
    "start_time": "2022-12-23T08:55:41.059Z"
   },
   {
    "duration": 11,
    "start_time": "2022-12-23T08:55:41.068Z"
   },
   {
    "duration": 10,
    "start_time": "2022-12-23T08:55:41.080Z"
   },
   {
    "duration": 27,
    "start_time": "2022-12-23T08:55:41.093Z"
   },
   {
    "duration": 26,
    "start_time": "2022-12-23T08:55:41.122Z"
   },
   {
    "duration": 9,
    "start_time": "2022-12-23T08:55:41.151Z"
   },
   {
    "duration": 203,
    "start_time": "2022-12-23T08:55:41.162Z"
   },
   {
    "duration": 144,
    "start_time": "2022-12-23T08:55:41.367Z"
   },
   {
    "duration": 7,
    "start_time": "2022-12-23T08:55:41.513Z"
   },
   {
    "duration": 40,
    "start_time": "2022-12-23T08:55:41.521Z"
   },
   {
    "duration": 339,
    "start_time": "2022-12-23T08:55:41.563Z"
   },
   {
    "duration": 195,
    "start_time": "2022-12-23T08:55:41.903Z"
   },
   {
    "duration": 362,
    "start_time": "2022-12-23T08:55:42.100Z"
   },
   {
    "duration": 191,
    "start_time": "2022-12-23T08:55:42.464Z"
   },
   {
    "duration": 280,
    "start_time": "2022-12-23T08:55:42.657Z"
   },
   {
    "duration": 136,
    "start_time": "2022-12-23T08:55:42.939Z"
   },
   {
    "duration": 5,
    "start_time": "2022-12-23T08:55:43.077Z"
   },
   {
    "duration": 363,
    "start_time": "2022-12-23T08:55:43.084Z"
   },
   {
    "duration": 4,
    "start_time": "2022-12-23T08:55:43.449Z"
   },
   {
    "duration": 107,
    "start_time": "2022-12-23T08:55:43.455Z"
   },
   {
    "duration": 120,
    "start_time": "2022-12-23T08:55:43.564Z"
   },
   {
    "duration": 19,
    "start_time": "2022-12-23T08:55:43.687Z"
   },
   {
    "duration": 143,
    "start_time": "2022-12-23T08:55:43.708Z"
   },
   {
    "duration": 7,
    "start_time": "2022-12-23T08:55:43.853Z"
   },
   {
    "duration": 39,
    "start_time": "2022-12-23T08:55:43.861Z"
   },
   {
    "duration": 21,
    "start_time": "2022-12-23T08:55:43.901Z"
   },
   {
    "duration": 27,
    "start_time": "2022-12-23T08:55:43.923Z"
   },
   {
    "duration": 60,
    "start_time": "2022-12-23T08:55:43.952Z"
   },
   {
    "duration": 82,
    "start_time": "2022-12-23T08:55:44.014Z"
   },
   {
    "duration": 28,
    "start_time": "2022-12-23T08:55:44.098Z"
   },
   {
    "duration": 7,
    "start_time": "2022-12-23T08:59:34.838Z"
   },
   {
    "duration": 89,
    "start_time": "2022-12-23T08:59:59.477Z"
   },
   {
    "duration": 12,
    "start_time": "2022-12-23T09:00:29.672Z"
   },
   {
    "duration": 13,
    "start_time": "2022-12-23T09:00:41.067Z"
   },
   {
    "duration": 5,
    "start_time": "2022-12-23T09:01:18.101Z"
   },
   {
    "duration": 10,
    "start_time": "2022-12-23T09:01:24.940Z"
   },
   {
    "duration": 8,
    "start_time": "2022-12-23T09:01:28.993Z"
   },
   {
    "duration": 4,
    "start_time": "2022-12-23T09:01:46.624Z"
   },
   {
    "duration": 3,
    "start_time": "2022-12-23T09:01:55.304Z"
   },
   {
    "duration": 11,
    "start_time": "2022-12-23T09:03:11.123Z"
   },
   {
    "duration": 18,
    "start_time": "2022-12-23T09:05:26.591Z"
   },
   {
    "duration": 17,
    "start_time": "2022-12-23T09:05:30.498Z"
   },
   {
    "duration": 7,
    "start_time": "2022-12-23T09:05:50.020Z"
   },
   {
    "duration": 6,
    "start_time": "2022-12-23T09:05:53.819Z"
   },
   {
    "duration": 6,
    "start_time": "2022-12-23T09:06:01.018Z"
   },
   {
    "duration": 11,
    "start_time": "2022-12-23T09:06:12.700Z"
   },
   {
    "duration": 13,
    "start_time": "2022-12-23T09:06:45.017Z"
   },
   {
    "duration": 22,
    "start_time": "2022-12-23T09:06:57.777Z"
   },
   {
    "duration": 18,
    "start_time": "2022-12-23T09:09:10.360Z"
   },
   {
    "duration": 9,
    "start_time": "2022-12-23T09:09:26.085Z"
   },
   {
    "duration": 16,
    "start_time": "2022-12-23T09:09:31.542Z"
   },
   {
    "duration": 11,
    "start_time": "2022-12-23T09:09:57.027Z"
   },
   {
    "duration": 90,
    "start_time": "2022-12-23T09:10:44.360Z"
   },
   {
    "duration": 20,
    "start_time": "2022-12-23T09:10:50.013Z"
   },
   {
    "duration": 16,
    "start_time": "2022-12-23T09:11:34.908Z"
   },
   {
    "duration": 16,
    "start_time": "2022-12-23T09:12:08.477Z"
   },
   {
    "duration": 1199,
    "start_time": "2023-01-12T10:21:01.793Z"
   },
   {
    "duration": 79,
    "start_time": "2023-01-12T10:21:02.994Z"
   },
   {
    "duration": 9,
    "start_time": "2023-01-12T10:21:03.075Z"
   },
   {
    "duration": 20,
    "start_time": "2023-01-12T10:21:03.085Z"
   },
   {
    "duration": 12,
    "start_time": "2023-01-12T10:21:03.107Z"
   },
   {
    "duration": 170,
    "start_time": "2023-01-12T10:21:03.121Z"
   },
   {
    "duration": 11,
    "start_time": "2023-01-12T10:21:03.292Z"
   },
   {
    "duration": 14,
    "start_time": "2023-01-12T10:21:03.304Z"
   },
   {
    "duration": 12,
    "start_time": "2023-01-12T10:21:03.320Z"
   },
   {
    "duration": 20,
    "start_time": "2023-01-12T10:21:03.334Z"
   },
   {
    "duration": 25,
    "start_time": "2023-01-12T10:21:03.356Z"
   },
   {
    "duration": 37,
    "start_time": "2023-01-12T10:21:03.383Z"
   },
   {
    "duration": 26,
    "start_time": "2023-01-12T10:21:03.422Z"
   },
   {
    "duration": 183,
    "start_time": "2023-01-12T10:21:03.451Z"
   },
   {
    "duration": 129,
    "start_time": "2023-01-12T10:21:03.635Z"
   },
   {
    "duration": 14,
    "start_time": "2023-01-12T10:21:03.766Z"
   },
   {
    "duration": 23,
    "start_time": "2023-01-12T10:21:03.782Z"
   },
   {
    "duration": 303,
    "start_time": "2023-01-12T10:21:03.807Z"
   },
   {
    "duration": 221,
    "start_time": "2023-01-12T10:21:04.112Z"
   },
   {
    "duration": 294,
    "start_time": "2023-01-12T10:21:04.334Z"
   },
   {
    "duration": 213,
    "start_time": "2023-01-12T10:21:04.629Z"
   },
   {
    "duration": 324,
    "start_time": "2023-01-12T10:21:04.844Z"
   },
   {
    "duration": 167,
    "start_time": "2023-01-12T10:21:05.169Z"
   },
   {
    "duration": 4,
    "start_time": "2023-01-12T10:21:05.338Z"
   },
   {
    "duration": 393,
    "start_time": "2023-01-12T10:21:05.345Z"
   },
   {
    "duration": 4,
    "start_time": "2023-01-12T10:21:05.740Z"
   },
   {
    "duration": 115,
    "start_time": "2023-01-12T10:21:05.745Z"
   },
   {
    "duration": 146,
    "start_time": "2023-01-12T10:21:05.862Z"
   },
   {
    "duration": 22,
    "start_time": "2023-01-12T10:21:06.010Z"
   },
   {
    "duration": 157,
    "start_time": "2023-01-12T10:21:06.034Z"
   },
   {
    "duration": 6,
    "start_time": "2023-01-12T10:21:06.193Z"
   },
   {
    "duration": 25,
    "start_time": "2023-01-12T10:21:06.201Z"
   },
   {
    "duration": 12,
    "start_time": "2023-01-12T10:21:06.227Z"
   },
   {
    "duration": 37,
    "start_time": "2023-01-12T10:21:06.241Z"
   },
   {
    "duration": 10,
    "start_time": "2023-01-12T10:21:06.279Z"
   },
   {
    "duration": 32,
    "start_time": "2023-01-12T10:21:06.290Z"
   },
   {
    "duration": 16,
    "start_time": "2023-01-12T10:21:06.324Z"
   },
   {
    "duration": 1314,
    "start_time": "2023-01-12T12:24:48.575Z"
   },
   {
    "duration": 95,
    "start_time": "2023-01-12T12:24:49.891Z"
   },
   {
    "duration": 7,
    "start_time": "2023-01-12T12:24:49.988Z"
   },
   {
    "duration": 16,
    "start_time": "2023-01-12T12:24:49.996Z"
   },
   {
    "duration": 16,
    "start_time": "2023-01-12T12:24:50.014Z"
   },
   {
    "duration": 245,
    "start_time": "2023-01-12T12:24:50.031Z"
   },
   {
    "duration": 10,
    "start_time": "2023-01-12T12:24:50.278Z"
   },
   {
    "duration": 13,
    "start_time": "2023-01-12T12:24:50.290Z"
   },
   {
    "duration": 19,
    "start_time": "2023-01-12T12:24:50.305Z"
   },
   {
    "duration": 29,
    "start_time": "2023-01-12T12:24:50.326Z"
   },
   {
    "duration": 26,
    "start_time": "2023-01-12T12:24:50.356Z"
   },
   {
    "duration": 58,
    "start_time": "2023-01-12T12:24:50.384Z"
   },
   {
    "duration": 5,
    "start_time": "2023-01-12T12:24:50.443Z"
   },
   {
    "duration": 151,
    "start_time": "2023-01-12T12:24:50.451Z"
   },
   {
    "duration": 158,
    "start_time": "2023-01-12T12:24:50.604Z"
   },
   {
    "duration": 7,
    "start_time": "2023-01-12T12:24:50.764Z"
   },
   {
    "duration": 23,
    "start_time": "2023-01-12T12:24:50.773Z"
   },
   {
    "duration": 292,
    "start_time": "2023-01-12T12:24:50.797Z"
   },
   {
    "duration": 209,
    "start_time": "2023-01-12T12:24:51.091Z"
   },
   {
    "duration": 311,
    "start_time": "2023-01-12T12:24:51.302Z"
   },
   {
    "duration": 222,
    "start_time": "2023-01-12T12:24:51.615Z"
   },
   {
    "duration": 270,
    "start_time": "2023-01-12T12:24:51.838Z"
   },
   {
    "duration": 158,
    "start_time": "2023-01-12T12:24:52.110Z"
   },
   {
    "duration": 5,
    "start_time": "2023-01-12T12:24:52.270Z"
   },
   {
    "duration": 348,
    "start_time": "2023-01-12T12:24:52.276Z"
   },
   {
    "duration": 5,
    "start_time": "2023-01-12T12:24:52.626Z"
   },
   {
    "duration": 113,
    "start_time": "2023-01-12T12:24:52.633Z"
   },
   {
    "duration": 125,
    "start_time": "2023-01-12T12:24:52.748Z"
   },
   {
    "duration": 32,
    "start_time": "2023-01-12T12:24:52.875Z"
   },
   {
    "duration": 118,
    "start_time": "2023-01-12T12:24:52.909Z"
   },
   {
    "duration": 6,
    "start_time": "2023-01-12T12:24:53.028Z"
   },
   {
    "duration": 43,
    "start_time": "2023-01-12T12:24:53.036Z"
   },
   {
    "duration": 11,
    "start_time": "2023-01-12T12:24:53.081Z"
   },
   {
    "duration": 9,
    "start_time": "2023-01-12T12:24:53.097Z"
   },
   {
    "duration": 28,
    "start_time": "2023-01-12T12:24:53.109Z"
   },
   {
    "duration": 39,
    "start_time": "2023-01-12T12:24:53.139Z"
   },
   {
    "duration": 14,
    "start_time": "2023-01-12T12:24:53.180Z"
   }
  ],
  "kernelspec": {
   "display_name": "Python 3 (ipykernel)",
   "language": "python",
   "name": "python3"
  },
  "language_info": {
   "codemirror_mode": {
    "name": "ipython",
    "version": 3
   },
   "file_extension": ".py",
   "mimetype": "text/x-python",
   "name": "python",
   "nbconvert_exporter": "python",
   "pygments_lexer": "ipython3",
   "version": "3.9.5"
  },
  "toc": {
   "base_numbering": 1,
   "nav_menu": {},
   "number_sections": true,
   "sideBar": true,
   "skip_h1_title": true,
   "title_cell": "Table of Contents",
   "title_sidebar": "Contents",
   "toc_cell": false,
   "toc_position": {},
   "toc_section_display": true,
   "toc_window_display": true
  }
 },
 "nbformat": 4,
 "nbformat_minor": 2
}
